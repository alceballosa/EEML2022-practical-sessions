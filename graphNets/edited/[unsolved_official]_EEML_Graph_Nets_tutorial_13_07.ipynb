{
  "cells": [
    {
      "cell_type": "markdown",
      "metadata": {
        "colab_type": "text",
        "id": "view-in-github"
      },
      "source": [
        "<a href=\"https://colab.research.google.com/github/eemlcommunity/PracticalSessions2022/blob/main/graphNets/%5Bunsolved_official%5D_EEML_Graph_Nets_tutorial_13_07.ipynb\" target=\"_parent\"><img src=\"https://colab.research.google.com/assets/colab-badge.svg\" alt=\"Open In Colab\"/></a>"
      ]
    },
    {
      "cell_type": "markdown",
      "metadata": {
        "id": "EAsDW2v2yPNE"
      },
      "source": [
        "# Dynamics modelling using MPNNs\n",
        "\n",
        "\n",
        "**Authors:** [Iulia Duță](https://iuliaduta.github.io/) and [Cătălina Cangea](https://catalinacangea.netlify.app/)\n",
        "\n",
        "**Abstract:** This tutorial covers basic concepts from the field of Graph Representation Learning, such as:\n",
        "* representing a graph structure in an ML setup;\n",
        "* implementing Graph Neural Network (GNN) variants: [Graph Convolutional Network](https://arxiv.org/abs/1609.02907) (GCN), [Message Passing Neural Network](https://arxiv.org/pdf/1704.01212v2.pdf) (MPNN);\n",
        "* learning to infer the structure of a graph.\n",
        "\n",
        "**Outline of the tutorial:**\n",
        "1. Create a dataset to simulate the movement of a set of particles.\n",
        "2. Show how to represent graphs in memory.\n",
        "3. Implement a GNN to predict the trajectories of the particles, given the _ground-truth graph connectivity_ (i.e. the edges of the graph).\n",
        "4.  Implement a GNN to predict these trajectories, this time _assuming the graph is fully-connected_ (i.e. each node links to all others).\n",
        "5. Learn to predict the connectivity using an encoder similar to the one used in the NRI ([Neural Relational Inference](https://arxiv.org/abs/1802.04687)) model."
      ]
    },
    {
      "cell_type": "markdown",
      "metadata": {
        "id": "n775s3pmKcwK"
      },
      "source": [
        "# 😩 **Preliminaries:** Install and import modules"
      ]
    },
    {
      "cell_type": "code",
      "execution_count": null,
      "metadata": {
        "id": "QTwW_Wokzumn"
      },
      "outputs": [],
      "source": [
        "import torch\n",
        "!pip install torch-geometric torch-scatter torch-sparse -f https://data.pyg.org/whl/torch-{torch.__version__}.html"
      ]
    },
    {
      "cell_type": "code",
      "execution_count": 1,
      "metadata": {
        "cellView": "form",
        "id": "X4LmlOImKgrR"
      },
      "outputs": [],
      "source": [
        "# @title [RUN] Imports\n",
        "\n",
        "import torch\n",
        "import torch.nn.functional as F\n",
        "import torch.nn as nn\n",
        "from torch_geometric.data import Data\n",
        "\n",
        "import networkx as nx\n",
        "\n",
        "from numpy import linspace\n",
        "import random\n",
        "\n",
        "from matplotlib import cm\n",
        "from matplotlib.lines import Line2D \n",
        "   \n",
        "import scipy.linalg\n",
        "from scipy.linalg import block_diag\n",
        "\n",
        "import pdb"
      ]
    },
    {
      "cell_type": "code",
      "execution_count": 2,
      "metadata": {
        "cellView": "form",
        "id": "5uP55p4OpzpF"
      },
      "outputs": [],
      "source": [
        "# @title [RUN] Helper functions for plots and visualisations\n",
        "\n",
        "global_train_stats = {}\n",
        "####### Helper functions for plots #######\n",
        "def update_stats(training_stats, epoch_stats):\n",
        "    \"\"\" Store metrics along the training\n",
        "    Args:\n",
        "        epoch_stats: dict containg metrics about one epoch\n",
        "        training_stats: dict containing lists of metrics along training\n",
        "    Returns:\n",
        "        updated training_stats\n",
        "    \"\"\"\n",
        "    if training_stats is None:\n",
        "        training_stats = {}\n",
        "        for key in epoch_stats.keys():\n",
        "            training_stats[key] = []\n",
        "    for key,val in epoch_stats.items():\n",
        "        training_stats[key].append(val)\n",
        "    return training_stats\n",
        "\n",
        "def plot_cumulate_stats(global_training_stats, training_stats, figsize=(5, 5), name=\"\"):\n",
        "    \"\"\" Create one plot for each metric stored in training_stats\n",
        "    \"\"\"\n",
        "    for key,val in training_stats.items():\n",
        "      global_training_stats.update({f'{key}_{name}': val})\n",
        "    stats_names = [key[6:] for key in global_training_stats.keys() if key.startswith('train_')]\n",
        "    f, ax = plt.subplots(len(stats_names), 1, figsize=figsize)\n",
        "    if len(stats_names)==1:\n",
        "        ax = np.array([ax])\n",
        "    for key, axx in zip(stats_names, ax.reshape(-1,)):\n",
        "        axx.plot(\n",
        "            global_training_stats[f'epoch_{name}'],\n",
        "            global_training_stats[f'train_{key}'],\n",
        "            label=f\"Training {key}\")\n",
        "        axx.plot(\n",
        "            global_training_stats[f'epoch_{name}'],\n",
        "            global_training_stats[f'val_{key}'],\n",
        "            label=f\"Validation {key}\")\n",
        "        axx.set_xlabel(\"Training epoch\")\n",
        "        axx.set_ylabel(key)\n",
        "        axx.legend()\n",
        "    plt.title(name)\n",
        "    return global_training_stats\n",
        "    \n",
        "def plot_stats(training_stats, figsize=(5, 5), name=\"\"):\n",
        "    \"\"\" Create one plot for each metric stored in training_stats\n",
        "    \"\"\"\n",
        "    stats_names = [key[6:] for key in training_stats.keys() if key.startswith('train_')]\n",
        "    f, ax = plt.subplots(len(stats_names), 1, figsize=figsize)\n",
        "    if len(stats_names)==1:\n",
        "        ax = np.array([ax])\n",
        "    for key, axx in zip(stats_names, ax.reshape(-1,)):\n",
        "        axx.plot(\n",
        "            training_stats['epoch'],\n",
        "            training_stats[f'train_{key}'],\n",
        "            label=f\"Training {key}\")\n",
        "        axx.plot(\n",
        "            training_stats['epoch'],\n",
        "            training_stats[f'val_{key}'],\n",
        "            label=f\"Validation {key}\")\n",
        "        axx.set_xlabel(\"Training epoch\")\n",
        "        axx.set_ylabel(key)\n",
        "        axx.legend()\n",
        "    plt.title(name)\n",
        "\n",
        "def get_color_coded_str(i, color):\n",
        "    return \"\\033[3{}m{}\\033[0m\".format(int(color), int(i))\n",
        "\n",
        "def print_color_numpy(map, list_graphs):\n",
        "    \"\"\" print matrix map in color according to list_graphs\n",
        "    \"\"\"\n",
        "    list_blocks = []\n",
        "    for i,graph in enumerate(list_graphs):\n",
        "        block_i = (i+1)*np.ones((graph.num_nodes,graph.num_nodes))\n",
        "        list_blocks += [block_i]\n",
        "    block_color = block_diag(*list_blocks)\n",
        "    \n",
        "    map_modified = np.vectorize(get_color_coded_str)(map, block_color)\n",
        "    print(\"\\n\".join([\" \".join([\"{}\"]*map.shape[0])]*map.shape[1]).format(*[x for y in map_modified.tolist() for x in y]))\n"
      ]
    },
    {
      "cell_type": "markdown",
      "metadata": {
        "id": "-2TCR8mIAK8N"
      },
      "source": [
        "# 🚀 **Part 1:** Dataset of simulated particle movements\n",
        "\n",
        "\n",
        "The tutorial focuses on solving a physics-inspired task: simulating the movement of a set of particles connected by strings. There are `n_balls` moving; these may or may not interact with equal probability, which determines the trajectories of the balls.\n",
        "\n",
        "Our goal is to **use an observed part of the trajectory** to **predict what will happen in the future** and **recover the interactions**."
      ]
    },
    {
      "cell_type": "markdown",
      "metadata": {
        "id": "NYSd1nOjOh3n"
      },
      "source": [
        "<!-- ![image](https://drive.google.com/uc?export=view&id=1pCoFuLCISrbL59DS--KHcwBagANFYjPy){ width=5% } -->\n",
        "\n",
        "<img src=\"https://drive.google.com/uc?export=view&id=1pCoFuLCISrbL59DS--KHcwBagANFYjPy\"  width=\"200\" height=\"200\">"
      ]
    },
    {
      "cell_type": "markdown",
      "metadata": {
        "id": "TNlXSTffR3DV"
      },
      "source": [
        "During this tutorial, we will vary the amount of information that we receive about particle interactions, process this information using Graph Neural Networks and analyse how the trajectory prediction is influenced by this choices.\n",
        "\n",
        "In turn, we will:\n",
        "\n",
        "* use the **ground-truth connectivity**;\n",
        "* assume interactions take place between all pairs of particles (**fully-connected interaction graph**);\n",
        "* **predict** the interactions (NRI-like).\n",
        "\n"
      ]
    },
    {
      "cell_type": "code",
      "execution_count": 3,
      "metadata": {
        "cellView": "form",
        "id": "pv5JgVCyZsLC"
      },
      "outputs": [],
      "source": [
        "#@title [RUN] A springs trajectory simulator class\n",
        "\n",
        "import numpy as np\n",
        "import matplotlib.pyplot as plt\n",
        "import time\n",
        "\n",
        "\n",
        "class SpringSim(object):\n",
        "    def __init__(self, n_balls=5, box_size=5., loc_std=.5, vel_norm=.5,\n",
        "                 interaction_strength=.1, noise_var=0.):\n",
        "        self.n_balls = n_balls\n",
        "        self.box_size = box_size\n",
        "        self.loc_std = loc_std\n",
        "        self.vel_norm = vel_norm\n",
        "        self.interaction_strength = interaction_strength\n",
        "        self.noise_var = noise_var\n",
        "\n",
        "        self._spring_types = np.array([0., 0.5, 1.])\n",
        "        self._delta_T = 0.001\n",
        "        self._max_F = 0.1 / self._delta_T\n",
        "\n",
        "    def _energy(self, loc, vel, edges):\n",
        "        # disables division by zero warning, since I fix it with fill_diagonal\n",
        "        with np.errstate(divide='ignore'):\n",
        "\n",
        "            K = 0.5 * (vel ** 2).sum()\n",
        "            U = 0\n",
        "            for i in range(loc.shape[1]):\n",
        "                for j in range(loc.shape[1]):\n",
        "                    if i != j:\n",
        "                        r = loc[:, i] - loc[:, j]\n",
        "                        dist = np.sqrt((r ** 2).sum())\n",
        "                        U += 0.5 * self.interaction_strength * edges[\n",
        "                            i, j] * (dist ** 2) / 2\n",
        "            return U + K\n",
        "\n",
        "    def _clamp(self, loc, vel):\n",
        "        '''\n",
        "        :param loc: 2xN location at one time stamp\n",
        "        :param vel: 2xN velocity at one time stamp\n",
        "        :return: location and velocity after hiting walls and returning after\n",
        "            elastically colliding with walls\n",
        "        '''\n",
        "        assert (np.all(loc < self.box_size * 3))\n",
        "        assert (np.all(loc > -self.box_size * 3))\n",
        "\n",
        "        over = loc > self.box_size\n",
        "        loc[over] = 2 * self.box_size - loc[over]\n",
        "        assert (np.all(loc <= self.box_size))\n",
        "\n",
        "        # assert(np.all(vel[over]>0))\n",
        "        vel[over] = -np.abs(vel[over])\n",
        "\n",
        "        under = loc < -self.box_size\n",
        "        loc[under] = -2 * self.box_size - loc[under]\n",
        "        # assert (np.all(vel[under] < 0))\n",
        "        assert (np.all(loc >= -self.box_size))\n",
        "        vel[under] = np.abs(vel[under])\n",
        "\n",
        "        return loc, vel\n",
        "\n",
        "    def _l2(self, A, B):\n",
        "        \"\"\"\n",
        "        Input: A is a Nxd matrix\n",
        "               B is a Mxd matirx\n",
        "        Output: dist is a NxM matrix where dist[i,j] is the square norm\n",
        "            between A[i,:] and B[j,:]\n",
        "        i.e. dist[i,j] = ||A[i,:]-B[j,:]||^2\n",
        "        \"\"\"\n",
        "        A_norm = (A ** 2).sum(axis=1).reshape(A.shape[0], 1)\n",
        "        B_norm = (B ** 2).sum(axis=1).reshape(1, B.shape[0])\n",
        "        dist = A_norm + B_norm - 2 * A.dot(B.transpose())\n",
        "        return dist\n",
        "\n",
        "    def sample_trajectory(self, T=10000, sample_freq=10,\n",
        "                          spring_prob=[1. / 2, 0, 1. / 2]):\n",
        "        n = self.n_balls\n",
        "        assert (T % sample_freq == 0)\n",
        "        T_save = int(T / sample_freq - 1)\n",
        "        diag_mask = np.ones((n, n), dtype=bool)\n",
        "        np.fill_diagonal(diag_mask, 0)\n",
        "        counter = 0\n",
        "        # Sample edges\n",
        "        edges = np.random.choice(self._spring_types,\n",
        "                                 size=(self.n_balls, self.n_balls),\n",
        "                                 p=spring_prob)\n",
        "        edges = np.tril(edges) + np.tril(edges, -1).T\n",
        "        np.fill_diagonal(edges, 0)\n",
        "        # Initialize location and velocity\n",
        "        loc = np.zeros((T_save, 2, n))\n",
        "        vel = np.zeros((T_save, 2, n))\n",
        "        loc_next = np.random.randn(2, n) * self.loc_std\n",
        "        vel_next = np.random.randn(2, n)\n",
        "        v_norm = np.sqrt((vel_next ** 2).sum(axis=0)).reshape(1, -1)\n",
        "        vel_next = vel_next * self.vel_norm / v_norm\n",
        "        loc[0, :, :], vel[0, :, :] = self._clamp(loc_next, vel_next)\n",
        "\n",
        "        # disables division by zero warning, since I fix it with fill_diagonal\n",
        "        with np.errstate(divide='ignore'):\n",
        "\n",
        "            forces_size = - self.interaction_strength * edges\n",
        "            np.fill_diagonal(forces_size,\n",
        "                             0)  # self forces are zero (fixes division by zero)\n",
        "            F = (forces_size.reshape(1, n, n) *\n",
        "                 np.concatenate((\n",
        "                     np.subtract.outer(loc_next[0, :],\n",
        "                                       loc_next[0, :]).reshape(1, n, n),\n",
        "                     np.subtract.outer(loc_next[1, :],\n",
        "                                       loc_next[1, :]).reshape(1, n, n)))).sum(\n",
        "                axis=-1)\n",
        "            F[F > self._max_F] = self._max_F\n",
        "            F[F < -self._max_F] = -self._max_F\n",
        "\n",
        "            vel_next += self._delta_T * F\n",
        "            # run leapfrog\n",
        "            for i in range(1, T):\n",
        "                loc_next += self._delta_T * vel_next\n",
        "                loc_next, vel_next = self._clamp(loc_next, vel_next)\n",
        "\n",
        "                if i % sample_freq == 0:\n",
        "                    loc[counter, :, :], vel[counter, :, :] = loc_next, vel_next\n",
        "                    counter += 1\n",
        "\n",
        "                forces_size = - self.interaction_strength * edges\n",
        "                np.fill_diagonal(forces_size, 0)\n",
        "                # assert (np.abs(forces_size[diag_mask]).min() > 1e-10)\n",
        "\n",
        "                F = (forces_size.reshape(1, n, n) *\n",
        "                     np.concatenate((\n",
        "                         np.subtract.outer(loc_next[0, :],\n",
        "                                           loc_next[0, :]).reshape(1, n, n),\n",
        "                         np.subtract.outer(loc_next[1, :],\n",
        "                                           loc_next[1, :]).reshape(1, n,\n",
        "                                                                   n)))).sum(\n",
        "                    axis=-1)\n",
        "                F[F > self._max_F] = self._max_F\n",
        "                F[F < -self._max_F] = -self._max_F\n",
        "                vel_next += self._delta_T * F\n",
        "            # Add noise to observations\n",
        "            loc += np.random.randn(T_save, 2, self.n_balls) * self.noise_var\n",
        "            vel += np.random.randn(T_save, 2, self.n_balls) * self.noise_var\n",
        "            return loc, vel, edges\n"
      ]
    },
    {
      "cell_type": "markdown",
      "metadata": {
        "id": "L73fLR5jS4T6"
      },
      "source": [
        "Above, we provide the class that implements a particle trajectory simulator. \n",
        "\n",
        "For training, we generate `num_train_sims` trajectories, each one containing `n_balls` objects, observed for a `trajectory_length` seconds, and we record the position (_x,y_ coordinates) after every `sample_every_n_steps` seconds.\n",
        "\n",
        "For validation, we will generate the data similarly, but restricting the generation to only `num_valid_sims` trajectories.\n",
        "\n",
        "For test, we generate `num_test_sims`; here, each trajectory is observed instead for `test_trajectory_length` (which should be at least 2 $\\times$ `trajectory_length`)."
      ]
    },
    {
      "cell_type": "markdown",
      "metadata": {
        "id": "V0NQEbdqUNp1"
      },
      "source": [
        "Let's now generate datasets containing these trajectories. Depending on the parameters, running this code might take some time... ⏳⌛️\n",
        "\n",
        "⚠️ NOTE: we have already provided a generated dataset containing 45,000 trajectories for training and 200 validation/test trajectories. In order to use that dataset instead, you should:\n",
        "\n",
        "1. Download the `.pkl` file from `github`.\n",
        "2. Upload the file into your Google Drive.\n",
        "3. Change the file path `save_data_file_name` in the following script to point to the location in your Google Drive where you saved the file.\n",
        "4. Run the script with `load_existing_dataset=True` (running the script will require you to give access rights to your Google Drive account)."
      ]
    },
    {
      "cell_type": "code",
      "execution_count": 5,
      "metadata": {
        "cellView": "form",
        "id": "dlvyJzOoaeFM"
      },
      "outputs": [],
      "source": [
        "#@title Create a simulated spring trajectory dataset\n",
        "\n",
        "# This flag set to true will disable all the other params\n",
        "# and load the existing dataset stored in path instead\n",
        "load_existing_dataset = True#@param {type:\"boolean\"}\n",
        "save_data_file_name = '../local/'+ f'dataset_combined.pkl'\n",
        "\n",
        "# Parameters for generating the dataset\n",
        "n_balls = 4 #@param {type:\"integer\"}\n",
        "num_train_sims =  1000#@param {type:\"integer\"}\n",
        "num_valid_sims =  200#@param {type:\"integer\"}\n",
        "num_test_sims =  200#@param {type:\"integer\"}\n",
        "trajectory_length = 5000 #@param {type:\"integer\"}\n",
        "test_trajectory_length = 10000 #@param {type:\"integer\"}\n",
        "sample_every_n_steps = 100 #@param {type:\"integer\"}\n",
        "\n",
        "\n",
        "assert trajectory_length % sample_every_n_steps == 0, \\\n",
        "    \"`trajectory_length` needs to be divisible by `sample_every_n_steps`\"\n",
        "assert test_trajectory_length % sample_every_n_steps == 0, \\\n",
        "    \"`test_trajectory_length` needs to be divisible by `sample_every_n_steps`\"\n",
        "\n",
        "sim = SpringSim(noise_var=0.0, n_balls=n_balls)\n",
        "\n",
        "def generate_dataset(num_sims, length, sample_freq):\n",
        "    loc_all = list()\n",
        "    vel_all = list()\n",
        "    edges_all = list()\n",
        "\n",
        "    for i in range(num_sims):\n",
        "        t = time.time()\n",
        "        loc, vel, edges = sim.sample_trajectory(T=length,\n",
        "                                                sample_freq=sample_freq)\n",
        "        if i % 100 == 0:\n",
        "            print(\"Iter: {}, Simulation time: {}\".format(i, time.time() - t))\n",
        "        loc_all.append(loc)\n",
        "        vel_all.append(vel)\n",
        "        edges_all.append(edges)\n",
        "\n",
        "    loc_all = np.stack(loc_all)\n",
        "    vel_all = np.stack(vel_all)\n",
        "    edges_all = np.stack(edges_all)\n",
        "\n",
        "    return loc_all, vel_all, edges_all\n",
        "\n",
        "if load_existing_dataset == False:\n",
        "    print(\"Generating {} training simulations\".format(num_train_sims))\n",
        "    loc_train, vel_train, edges_train = generate_dataset(num_train_sims,\n",
        "                                                        trajectory_length,\n",
        "                                                        sample_every_n_steps)\n",
        "\n",
        "    print(\"Generating {} validation simulations\".format(num_valid_sims))\n",
        "    loc_valid, vel_valid, edges_valid = generate_dataset(num_valid_sims,\n",
        "                                                        trajectory_length,\n",
        "                                                        sample_every_n_steps)\n",
        "\n",
        "    print(\"Generating {} test simulations\".format(num_test_sims))\n",
        "    loc_test, vel_test, edges_test = generate_dataset(num_test_sims,\n",
        "                                                      test_trajectory_length,\n",
        "                                                      sample_every_n_steps)\n",
        "\n",
        "    for (loc, vel, edges, num_sims) in [\n",
        "        (loc_train, vel_train, edges_train, num_train_sims),\n",
        "        (loc_valid, vel_valid, edges_valid, num_valid_sims),\n",
        "        (loc_test, vel_test, edges_test, num_test_sims),\n",
        "    ]:\n",
        "      ls = loc.shape\n",
        "      assert (ls[0] == num_sims and\n",
        "              ls[1] == trajectory_length // sample_every_n_steps - 1 and\n",
        "              ls[-1] == n_balls)\n",
        "      vs = vel.shape\n",
        "      assert ls == vs\n",
        "      es = edges.shape\n",
        "      assert es[0] == num_sims and es[1] == n_balls and es[2] == n_balls\n",
        "else:\n",
        "    import pickle\n",
        "\n",
        "    with open(save_data_file_name, 'rb') as fo:\n",
        "        saved_data = pickle.load(fo)\n",
        "        loc_train = saved_data['loc_train']\n",
        "        vel_train = saved_data['vel_train']\n",
        "        edges_train = saved_data['edges_train']\n",
        "        loc_valid = saved_data['loc_valid']\n",
        "        vel_valid = saved_data['vel_valid']\n",
        "        edges_valid = saved_data['edges_valid']\n",
        "        loc_test = saved_data['loc_test']\n",
        "        vel_test = saved_data['vel_test']\n",
        "        edges_test = saved_data['edges_test']"
      ]
    },
    {
      "cell_type": "code",
      "execution_count": 6,
      "metadata": {
        "cellView": "form",
        "id": "EqNk9sWHSkrA"
      },
      "outputs": [
        {
          "name": "stdout",
          "output_type": "stream",
          "text": [
            "training data shape:  (45001, 48, 2, 4) (45001, 48, 2, 4) (45001, 4, 4)\n",
            "valid data shape:  (200, 48, 2, 4) (200, 48, 2, 4) (200, 4, 4)\n",
            "test data shape: (200, 98, 2, 4) (200, 98, 2, 4) (200, 4, 4)\n"
          ]
        }
      ],
      "source": [
        "#@title Create the train-val-test splits\n",
        "\n",
        "# Split the trajectories (x,y coordinates) \n",
        "# into inputs and targets. Target is the same as \n",
        "# the input, but shifted with 1 (temporal) position\n",
        "\n",
        "loc_train_inputs, loc_train_targets = (\n",
        "    loc_train[:, :-1, :, :], loc_train[:, 1:, :, :])\n",
        "loc_valid_inputs, loc_valid_targets = (\n",
        "    loc_valid[:, :-1, :, :], loc_valid[:, 1:, :, :])\n",
        "loc_test_inputs, loc_test_targets = (\n",
        "    loc_test[:, :-1, :, :], loc_test[:, 1:, :, :])\n",
        "\n",
        "# loc_{split}_inputs.shape: \n",
        "# n_samples x n_timesteps x 2(x,y coords) x n_balls\n",
        "print(\"training data shape: \", loc_train_inputs.shape, loc_train_targets.shape, edges_train.shape)\n",
        "print(\"valid data shape: \", loc_valid_inputs.shape, loc_valid_targets.shape, edges_valid.shape)\n",
        "print(\"test data shape:\", loc_test_inputs.shape, loc_test_targets.shape, edges_valid.shape)"
      ]
    },
    {
      "cell_type": "code",
      "execution_count": 9,
      "metadata": {},
      "outputs": [
        {
          "data": {
            "text/plain": [
              "array([[-0.95412305,  0.06793728, -0.07917435,  1.08826027],\n",
              "       [-0.32836449, -0.61301437,  0.75940702,  0.07864181]])"
            ]
          },
          "execution_count": 9,
          "metadata": {},
          "output_type": "execute_result"
        }
      ],
      "source": [
        "# x, y locations of 4 nodes at timestep 1...\n",
        "loc_train_inputs[0][0] "
      ]
    },
    {
      "cell_type": "markdown",
      "metadata": {
        "id": "qw3V2lj1Ubd8"
      },
      "source": [
        "👀 Let's see what the trajectories look like. \n"
      ]
    },
    {
      "cell_type": "code",
      "execution_count": 10,
      "metadata": {
        "cellView": "form",
        "id": "d4P5F30ULUPG"
      },
      "outputs": [
        {
          "data": {
            "image/png": "[encoded data removed]",
            "image/svg+xml": "<?xml version=\"1.0\" encoding=\"utf-8\" standalone=\"no\"?>\n<!DOCTYPE svg PUBLIC \"-//W3C//DTD SVG 1.1//EN\"\n  \"http://www.w3.org/Graphics/SVG/1.1/DTD/svg11.dtd\">\n<svg xmlns:xlink=\"http://www.w3.org/1999/xlink\" width=\"272.064062pt\" height=\"252.317344pt\" viewBox=\"0 0 272.064062 252.317344\" xmlns=\"http://www.w3.org/2000/svg\" version=\"1.1\">\n <metadata>\n  <rdf:RDF xmlns:dc=\"http://purl.org/dc/elements/1.1/\" xmlns:cc=\"http://creativecommons.org/ns#\" xmlns:rdf=\"http://www.w3.org/1999/02/22-rdf-syntax-ns#\">\n   <cc:Work>\n    <dc:type rdf:resource=\"http://purl.org/dc/dcmitype/StillImage\"/>\n    <dc:date>2022-07-13T13:19:36.614661</dc:date>\n    <dc:format>image/svg+xml</dc:format>\n    <dc:creator>\n     <cc:Agent>\n      <dc:title>Matplotlib v3.5.2, https://matplotlib.org/</dc:title>\n     </cc:Agent>\n    </dc:creator>\n   </cc:Work>\n  </rdf:RDF>\n </metadata>\n <defs>\n  <style type=\"text/css\">*{stroke-linejoin: round; stroke-linecap: butt}</style>\n </defs>\n <g id=\"figure_1\">\n  <g id=\"patch_1\">\n   <path d=\"M 0 252.317344 \nL 272.064062 252.317344 \nL 272.064062 0 \nL 0 0 \nL 0 252.317344 \nz\n\" style=\"fill: none\"/>\n  </g>\n  <g id=\"axes_1\">\n   <g id=\"patch_2\">\n    <path d=\"M 38.482813 228.439219 \nL 261.682813 228.439219 \nL 261.682813 10.999219 \nL 38.482813 10.999219 \nz\n\" style=\"fill: #ffffff\"/>\n   </g>\n   <g id=\"matplotlib.axis_1\">\n    <g id=\"xtick_1\">\n     <g id=\"line2d_1\">\n      <defs>\n       <path id=\"m0755666075\" d=\"M 0 0 \nL 0 3.5 \n\" style=\"stroke: #000000; stroke-width: 0.8\"/>\n      </defs>\n      <g>\n       <use xlink:href=\"#m0755666075\" x=\"38.482813\" y=\"228.439219\" style=\"stroke: #000000; stroke-width: 0.8\"/>\n      </g>\n     </g>\n     <g id=\"text_1\">\n      <!-- −2 -->\n      <g transform=\"translate(31.111719 243.037656)scale(0.1 -0.1)\">\n       <defs>\n        <path id=\"DejaVuSans-2212\" d=\"M 678 2272 \nL 4684 2272 \nL 4684 1741 \nL 678 1741 \nL 678 2272 \nz\n\" transform=\"scale(0.015625)\"/>\n        <path id=\"DejaVuSans-32\" d=\"M 1228 531 \nL 3431 531 \nL 3431 0 \nL 469 0 \nL 469 531 \nQ 828 903 1448 1529 \nQ 2069 2156 2228 2338 \nQ 2531 2678 2651 2914 \nQ 2772 3150 2772 3378 \nQ 2772 3750 2511 3984 \nQ 2250 4219 1831 4219 \nQ 1534 4219 1204 4116 \nQ 875 4013 500 3803 \nL 500 4441 \nQ 881 4594 1212 4672 \nQ 1544 4750 1819 4750 \nQ 2544 4750 2975 4387 \nQ 3406 4025 3406 3419 \nQ 3406 3131 3298 2873 \nQ 3191 2616 2906 2266 \nQ 2828 2175 2409 1742 \nQ 1991 1309 1228 531 \nz\n\" transform=\"scale(0.015625)\"/>\n       </defs>\n       <use xlink:href=\"#DejaVuSans-2212\"/>\n       <use xlink:href=\"#DejaVuSans-32\" x=\"83.789062\"/>\n      </g>\n     </g>\n    </g>\n    <g id=\"xtick_2\">\n     <g id=\"line2d_2\">\n      <g>\n       <use xlink:href=\"#m0755666075\" x=\"94.282813\" y=\"228.439219\" style=\"stroke: #000000; stroke-width: 0.8\"/>\n      </g>\n     </g>\n     <g id=\"text_2\">\n      <!-- −1 -->\n      <g transform=\"translate(86.911719 243.037656)scale(0.1 -0.1)\">\n       <defs>\n        <path id=\"DejaVuSans-31\" d=\"M 794 531 \nL 1825 531 \nL 1825 4091 \nL 703 3866 \nL 703 4441 \nL 1819 4666 \nL 2450 4666 \nL 2450 531 \nL 3481 531 \nL 3481 0 \nL 794 0 \nL 794 531 \nz\n\" transform=\"scale(0.015625)\"/>\n       </defs>\n       <use xlink:href=\"#DejaVuSans-2212\"/>\n       <use xlink:href=\"#DejaVuSans-31\" x=\"83.789062\"/>\n      </g>\n     </g>\n    </g>\n    <g id=\"xtick_3\">\n     <g id=\"line2d_3\">\n      <g>\n       <use xlink:href=\"#m0755666075\" x=\"150.082813\" y=\"228.439219\" style=\"stroke: #000000; stroke-width: 0.8\"/>\n      </g>\n     </g>\n     <g id=\"text_3\">\n      <!-- 0 -->\n      <g transform=\"translate(146.901563 243.037656)scale(0.1 -0.1)\">\n       <defs>\n        <path id=\"DejaVuSans-30\" d=\"M 2034 4250 \nQ 1547 4250 1301 3770 \nQ 1056 3291 1056 2328 \nQ 1056 1369 1301 889 \nQ 1547 409 2034 409 \nQ 2525 409 2770 889 \nQ 3016 1369 3016 2328 \nQ 3016 3291 2770 3770 \nQ 2525 4250 2034 4250 \nz\nM 2034 4750 \nQ 2819 4750 3233 4129 \nQ 3647 3509 3647 2328 \nQ 3647 1150 3233 529 \nQ 2819 -91 2034 -91 \nQ 1250 -91 836 529 \nQ 422 1150 422 2328 \nQ 422 3509 836 4129 \nQ 1250 4750 2034 4750 \nz\n\" transform=\"scale(0.015625)\"/>\n       </defs>\n       <use xlink:href=\"#DejaVuSans-30\"/>\n      </g>\n     </g>\n    </g>\n    <g id=\"xtick_4\">\n     <g id=\"line2d_4\">\n      <g>\n       <use xlink:href=\"#m0755666075\" x=\"205.882813\" y=\"228.439219\" style=\"stroke: #000000; stroke-width: 0.8\"/>\n      </g>\n     </g>\n     <g id=\"text_4\">\n      <!-- 1 -->\n      <g transform=\"translate(202.701563 243.037656)scale(0.1 -0.1)\">\n       <use xlink:href=\"#DejaVuSans-31\"/>\n      </g>\n     </g>\n    </g>\n    <g id=\"xtick_5\">\n     <g id=\"line2d_5\">\n      <g>\n       <use xlink:href=\"#m0755666075\" x=\"261.682813\" y=\"228.439219\" style=\"stroke: #000000; stroke-width: 0.8\"/>\n      </g>\n     </g>\n     <g id=\"text_5\">\n      <!-- 2 -->\n      <g transform=\"translate(258.501563 243.037656)scale(0.1 -0.1)\">\n       <use xlink:href=\"#DejaVuSans-32\"/>\n      </g>\n     </g>\n    </g>\n   </g>\n   <g id=\"matplotlib.axis_2\">\n    <g id=\"ytick_1\">\n     <g id=\"line2d_6\">\n      <defs>\n       <path id=\"m11078b1ed7\" d=\"M 0 0 \nL -3.5 0 \n\" style=\"stroke: #000000; stroke-width: 0.8\"/>\n      </defs>\n      <g>\n       <use xlink:href=\"#m11078b1ed7\" x=\"38.482813\" y=\"228.439219\" style=\"stroke: #000000; stroke-width: 0.8\"/>\n      </g>\n     </g>\n     <g id=\"text_6\">\n      <!-- −1.5 -->\n      <g transform=\"translate(7.2 232.238437)scale(0.1 -0.1)\">\n       <defs>\n        <path id=\"DejaVuSans-2e\" d=\"M 684 794 \nL 1344 794 \nL 1344 0 \nL 684 0 \nL 684 794 \nz\n\" transform=\"scale(0.015625)\"/>\n        <path id=\"DejaVuSans-35\" d=\"M 691 4666 \nL 3169 4666 \nL 3169 4134 \nL 1269 4134 \nL 1269 2991 \nQ 1406 3038 1543 3061 \nQ 1681 3084 1819 3084 \nQ 2600 3084 3056 2656 \nQ 3513 2228 3513 1497 \nQ 3513 744 3044 326 \nQ 2575 -91 1722 -91 \nQ 1428 -91 1123 -41 \nQ 819 9 494 109 \nL 494 744 \nQ 775 591 1075 516 \nQ 1375 441 1709 441 \nQ 2250 441 2565 725 \nQ 2881 1009 2881 1497 \nQ 2881 1984 2565 2268 \nQ 2250 2553 1709 2553 \nQ 1456 2553 1204 2497 \nQ 953 2441 691 2322 \nL 691 4666 \nz\n\" transform=\"scale(0.015625)\"/>\n       </defs>\n       <use xlink:href=\"#DejaVuSans-2212\"/>\n       <use xlink:href=\"#DejaVuSans-31\" x=\"83.789062\"/>\n       <use xlink:href=\"#DejaVuSans-2e\" x=\"147.412109\"/>\n       <use xlink:href=\"#DejaVuSans-35\" x=\"179.199219\"/>\n      </g>\n     </g>\n    </g>\n    <g id=\"ytick_2\">\n     <g id=\"line2d_7\">\n      <g>\n       <use xlink:href=\"#m11078b1ed7\" x=\"38.482813\" y=\"192.199219\" style=\"stroke: #000000; stroke-width: 0.8\"/>\n      </g>\n     </g>\n     <g id=\"text_7\">\n      <!-- −1.0 -->\n      <g transform=\"translate(7.2 195.998437)scale(0.1 -0.1)\">\n       <use xlink:href=\"#DejaVuSans-2212\"/>\n       <use xlink:href=\"#DejaVuSans-31\" x=\"83.789062\"/>\n       <use xlink:href=\"#DejaVuSans-2e\" x=\"147.412109\"/>\n       <use xlink:href=\"#DejaVuSans-30\" x=\"179.199219\"/>\n      </g>\n     </g>\n    </g>\n    <g id=\"ytick_3\">\n     <g id=\"line2d_8\">\n      <g>\n       <use xlink:href=\"#m11078b1ed7\" x=\"38.482813\" y=\"155.959219\" style=\"stroke: #000000; stroke-width: 0.8\"/>\n      </g>\n     </g>\n     <g id=\"text_8\">\n      <!-- −0.5 -->\n      <g transform=\"translate(7.2 159.758437)scale(0.1 -0.1)\">\n       <use xlink:href=\"#DejaVuSans-2212\"/>\n       <use xlink:href=\"#DejaVuSans-30\" x=\"83.789062\"/>\n       <use xlink:href=\"#DejaVuSans-2e\" x=\"147.412109\"/>\n       <use xlink:href=\"#DejaVuSans-35\" x=\"179.199219\"/>\n      </g>\n     </g>\n    </g>\n    <g id=\"ytick_4\">\n     <g id=\"line2d_9\">\n      <g>\n       <use xlink:href=\"#m11078b1ed7\" x=\"38.482813\" y=\"119.719219\" style=\"stroke: #000000; stroke-width: 0.8\"/>\n      </g>\n     </g>\n     <g id=\"text_9\">\n      <!-- 0.0 -->\n      <g transform=\"translate(15.579688 123.518437)scale(0.1 -0.1)\">\n       <use xlink:href=\"#DejaVuSans-30\"/>\n       <use xlink:href=\"#DejaVuSans-2e\" x=\"63.623047\"/>\n       <use xlink:href=\"#DejaVuSans-30\" x=\"95.410156\"/>\n      </g>\n     </g>\n    </g>\n    <g id=\"ytick_5\">\n     <g id=\"line2d_10\">\n      <g>\n       <use xlink:href=\"#m11078b1ed7\" x=\"38.482813\" y=\"83.479219\" style=\"stroke: #000000; stroke-width: 0.8\"/>\n      </g>\n     </g>\n     <g id=\"text_10\">\n      <!-- 0.5 -->\n      <g transform=\"translate(15.579688 87.278437)scale(0.1 -0.1)\">\n       <use xlink:href=\"#DejaVuSans-30\"/>\n       <use xlink:href=\"#DejaVuSans-2e\" x=\"63.623047\"/>\n       <use xlink:href=\"#DejaVuSans-35\" x=\"95.410156\"/>\n      </g>\n     </g>\n    </g>\n    <g id=\"ytick_6\">\n     <g id=\"line2d_11\">\n      <g>\n       <use xlink:href=\"#m11078b1ed7\" x=\"38.482813\" y=\"47.239219\" style=\"stroke: #000000; stroke-width: 0.8\"/>\n      </g>\n     </g>\n     <g id=\"text_11\">\n      <!-- 1.0 -->\n      <g transform=\"translate(15.579688 51.038437)scale(0.1 -0.1)\">\n       <use xlink:href=\"#DejaVuSans-31\"/>\n       <use xlink:href=\"#DejaVuSans-2e\" x=\"63.623047\"/>\n       <use xlink:href=\"#DejaVuSans-30\" x=\"95.410156\"/>\n      </g>\n     </g>\n    </g>\n    <g id=\"ytick_7\">\n     <g id=\"line2d_12\">\n      <g>\n       <use xlink:href=\"#m11078b1ed7\" x=\"38.482813\" y=\"10.999219\" style=\"stroke: #000000; stroke-width: 0.8\"/>\n      </g>\n     </g>\n     <g id=\"text_12\">\n      <!-- 1.5 -->\n      <g transform=\"translate(15.579688 14.798437)scale(0.1 -0.1)\">\n       <use xlink:href=\"#DejaVuSans-31\"/>\n       <use xlink:href=\"#DejaVuSans-2e\" x=\"63.623047\"/>\n       <use xlink:href=\"#DejaVuSans-35\" x=\"95.410156\"/>\n      </g>\n     </g>\n    </g>\n   </g>\n   <g id=\"line2d_13\">\n    <defs>\n     <path id=\"m06a017aa06\" d=\"M 0 1.5 \nC 0.397805 1.5 0.77937 1.341951 1.06066 1.06066 \nC 1.341951 0.77937 1.5 0.397805 1.5 0 \nC 1.5 -0.397805 1.341951 -0.77937 1.06066 -1.06066 \nC 0.77937 -1.341951 0.397805 -1.5 0 -1.5 \nC -0.397805 -1.5 -0.77937 -1.341951 -1.06066 -1.06066 \nC -1.341951 -0.77937 -1.5 -0.397805 -1.5 0 \nC -1.5 0.397805 -1.341951 0.77937 -1.06066 1.06066 \nC -0.77937 1.341951 -0.397805 1.5 0 1.5 \nz\n\" style=\"stroke: #e41a1c\"/>\n    </defs>\n    <g clip-path=\"url(#pd4cd23df7d)\">\n     <use xlink:href=\"#m06a017aa06\" x=\"193.815324\" y=\"111.286109\" style=\"fill: #e41a1c; stroke: #e41a1c\"/>\n    </g>\n   </g>\n   <g id=\"line2d_14\">\n    <defs>\n     <path id=\"ma26b5fd8e0\" d=\"M 0 1.5 \nC 0.397805 1.5 0.77937 1.341951 1.06066 1.06066 \nC 1.341951 0.77937 1.5 0.397805 1.5 0 \nC 1.5 -0.397805 1.341951 -0.77937 1.06066 -1.06066 \nC 0.77937 -1.341951 0.397805 -1.5 0 -1.5 \nC -0.397805 -1.5 -0.77937 -1.341951 -1.06066 -1.06066 \nC -1.341951 -0.77937 -1.5 -0.397805 -1.5 0 \nC -1.5 0.397805 -1.341951 0.77937 -1.06066 1.06066 \nC -0.77937 1.341951 -0.397805 1.5 0 1.5 \nz\n\" style=\"stroke: #e41a1c; stroke-opacity: 0.989899\"/>\n    </defs>\n    <g clip-path=\"url(#pd4cd23df7d)\">\n     <use xlink:href=\"#ma26b5fd8e0\" x=\"196.591299\" y=\"111.593711\" style=\"fill: #e41a1c; fill-opacity: 0.989899; stroke: #e41a1c; stroke-opacity: 0.989899\"/>\n    </g>\n   </g>\n   <g id=\"line2d_15\">\n    <defs>\n     <path id=\"m3b27fb827d\" d=\"M 0 1.5 \nC 0.397805 1.5 0.77937 1.341951 1.06066 1.06066 \nC 1.341951 0.77937 1.5 0.397805 1.5 0 \nC 1.5 -0.397805 1.341951 -0.77937 1.06066 -1.06066 \nC 0.77937 -1.341951 0.397805 -1.5 0 -1.5 \nC -0.397805 -1.5 -0.77937 -1.341951 -1.06066 -1.06066 \nC -1.341951 -0.77937 -1.5 -0.397805 -1.5 0 \nC -1.5 0.397805 -1.341951 0.77937 -1.06066 1.06066 \nC -0.77937 1.341951 -0.397805 1.5 0 1.5 \nz\n\" style=\"stroke: #e41a1c; stroke-opacity: 0.979798\"/>\n    </defs>\n    <g clip-path=\"url(#pd4cd23df7d)\">\n     <use xlink:href=\"#m3b27fb827d\" x=\"199.36262\" y=\"111.927051\" style=\"fill: #e41a1c; fill-opacity: 0.979798; stroke: #e41a1c; stroke-opacity: 0.979798\"/>\n    </g>\n   </g>\n   <g id=\"line2d_16\">\n    <defs>\n     <path id=\"m36e90e20c0\" d=\"M 0 1.5 \nC 0.397805 1.5 0.77937 1.341951 1.06066 1.06066 \nC 1.341951 0.77937 1.5 0.397805 1.5 0 \nC 1.5 -0.397805 1.341951 -0.77937 1.06066 -1.06066 \nC 0.77937 -1.341951 0.397805 -1.5 0 -1.5 \nC -0.397805 -1.5 -0.77937 -1.341951 -1.06066 -1.06066 \nC -1.341951 -0.77937 -1.5 -0.397805 -1.5 0 \nC -1.5 0.397805 -1.341951 0.77937 -1.06066 1.06066 \nC -0.77937 1.341951 -0.397805 1.5 0 1.5 \nz\n\" style=\"stroke: #e41a1c; stroke-opacity: 0.969697\"/>\n    </defs>\n    <g clip-path=\"url(#pd4cd23df7d)\">\n     <use xlink:href=\"#m36e90e20c0\" x=\"202.128923\" y=\"112.284543\" style=\"fill: #e41a1c; fill-opacity: 0.969697; stroke: #e41a1c; stroke-opacity: 0.969697\"/>\n    </g>\n   </g>\n   <g id=\"line2d_17\">\n    <defs>\n     <path id=\"m3ed6537f5e\" d=\"M 0 1.5 \nC 0.397805 1.5 0.77937 1.341951 1.06066 1.06066 \nC 1.341951 0.77937 1.5 0.397805 1.5 0 \nC 1.5 -0.397805 1.341951 -0.77937 1.06066 -1.06066 \nC 0.77937 -1.341951 0.397805 -1.5 0 -1.5 \nC -0.397805 -1.5 -0.77937 -1.341951 -1.06066 -1.06066 \nC -1.341951 -0.77937 -1.5 -0.397805 -1.5 0 \nC -1.5 0.397805 -1.341951 0.77937 -1.06066 1.06066 \nC -0.77937 1.341951 -0.397805 1.5 0 1.5 \nz\n\" style=\"stroke: #e41a1c; stroke-opacity: 0.959596\"/>\n    </defs>\n    <g clip-path=\"url(#pd4cd23df7d)\">\n     <use xlink:href=\"#m3ed6537f5e\" x=\"204.889767\" y=\"112.664584\" style=\"fill: #e41a1c; fill-opacity: 0.959596; stroke: #e41a1c; stroke-opacity: 0.959596\"/>\n    </g>\n   </g>\n   <g id=\"line2d_18\">\n    <defs>\n     <path id=\"m8d1aaf6c92\" d=\"M 0 1.5 \nC 0.397805 1.5 0.77937 1.341951 1.06066 1.06066 \nC 1.341951 0.77937 1.5 0.397805 1.5 0 \nC 1.5 -0.397805 1.341951 -0.77937 1.06066 -1.06066 \nC 0.77937 -1.341951 0.397805 -1.5 0 -1.5 \nC -0.397805 -1.5 -0.77937 -1.341951 -1.06066 -1.06066 \nC -1.341951 -0.77937 -1.5 -0.397805 -1.5 0 \nC -1.5 0.397805 -1.341951 0.77937 -1.06066 1.06066 \nC -0.77937 1.341951 -0.397805 1.5 0 1.5 \nz\n\" style=\"stroke: #e41a1c; stroke-opacity: 0.949495\"/>\n    </defs>\n    <g clip-path=\"url(#pd4cd23df7d)\">\n     <use xlink:href=\"#m8d1aaf6c92\" x=\"207.644637\" y=\"113.065568\" style=\"fill: #e41a1c; fill-opacity: 0.949495; stroke: #e41a1c; stroke-opacity: 0.949495\"/>\n    </g>\n   </g>\n   <g id=\"line2d_19\">\n    <defs>\n     <path id=\"mb1dd36ab04\" d=\"M 0 1.5 \nC 0.397805 1.5 0.77937 1.341951 1.06066 1.06066 \nC 1.341951 0.77937 1.5 0.397805 1.5 0 \nC 1.5 -0.397805 1.341951 -0.77937 1.06066 -1.06066 \nC 0.77937 -1.341951 0.397805 -1.5 0 -1.5 \nC -0.397805 -1.5 -0.77937 -1.341951 -1.06066 -1.06066 \nC -1.341951 -0.77937 -1.5 -0.397805 -1.5 0 \nC -1.5 0.397805 -1.341951 0.77937 -1.06066 1.06066 \nC -0.77937 1.341951 -0.397805 1.5 0 1.5 \nz\n\" style=\"stroke: #e41a1c; stroke-opacity: 0.939394\"/>\n    </defs>\n    <g clip-path=\"url(#pd4cd23df7d)\">\n     <use xlink:href=\"#mb1dd36ab04\" x=\"210.392944\" y=\"113.485886\" style=\"fill: #e41a1c; fill-opacity: 0.939394; stroke: #e41a1c; stroke-opacity: 0.939394\"/>\n    </g>\n   </g>\n   <g id=\"line2d_20\">\n    <defs>\n     <path id=\"ma0afda862e\" d=\"M 0 1.5 \nC 0.397805 1.5 0.77937 1.341951 1.06066 1.06066 \nC 1.341951 0.77937 1.5 0.397805 1.5 0 \nC 1.5 -0.397805 1.341951 -0.77937 1.06066 -1.06066 \nC 0.77937 -1.341951 0.397805 -1.5 0 -1.5 \nC -0.397805 -1.5 -0.77937 -1.341951 -1.06066 -1.06066 \nC -1.341951 -0.77937 -1.5 -0.397805 -1.5 0 \nC -1.5 0.397805 -1.341951 0.77937 -1.06066 1.06066 \nC -0.77937 1.341951 -0.397805 1.5 0 1.5 \nz\n\" style=\"stroke: #e41a1c; stroke-opacity: 0.929293\"/>\n    </defs>\n    <g clip-path=\"url(#pd4cd23df7d)\">\n     <use xlink:href=\"#ma0afda862e\" x=\"213.134024\" y=\"113.923934\" style=\"fill: #e41a1c; fill-opacity: 0.929293; stroke: #e41a1c; stroke-opacity: 0.929293\"/>\n    </g>\n   </g>\n   <g id=\"line2d_21\">\n    <defs>\n     <path id=\"mc741a6c4a7\" d=\"M 0 1.5 \nC 0.397805 1.5 0.77937 1.341951 1.06066 1.06066 \nC 1.341951 0.77937 1.5 0.397805 1.5 0 \nC 1.5 -0.397805 1.341951 -0.77937 1.06066 -1.06066 \nC 0.77937 -1.341951 0.397805 -1.5 0 -1.5 \nC -0.397805 -1.5 -0.77937 -1.341951 -1.06066 -1.06066 \nC -1.341951 -0.77937 -1.5 -0.397805 -1.5 0 \nC -1.5 0.397805 -1.341951 0.77937 -1.06066 1.06066 \nC -0.77937 1.341951 -0.397805 1.5 0 1.5 \nz\n\" style=\"stroke: #e41a1c; stroke-opacity: 0.919192\"/>\n    </defs>\n    <g clip-path=\"url(#pd4cd23df7d)\">\n     <use xlink:href=\"#mc741a6c4a7\" x=\"215.867147\" y=\"114.378118\" style=\"fill: #e41a1c; fill-opacity: 0.919192; stroke: #e41a1c; stroke-opacity: 0.919192\"/>\n    </g>\n   </g>\n   <g id=\"line2d_22\">\n    <defs>\n     <path id=\"mac2f939a71\" d=\"M 0 1.5 \nC 0.397805 1.5 0.77937 1.341951 1.06066 1.06066 \nC 1.341951 0.77937 1.5 0.397805 1.5 0 \nC 1.5 -0.397805 1.341951 -0.77937 1.06066 -1.06066 \nC 0.77937 -1.341951 0.397805 -1.5 0 -1.5 \nC -0.397805 -1.5 -0.77937 -1.341951 -1.06066 -1.06066 \nC -1.341951 -0.77937 -1.5 -0.397805 -1.5 0 \nC -1.5 0.397805 -1.341951 0.77937 -1.06066 1.06066 \nC -0.77937 1.341951 -0.397805 1.5 0 1.5 \nz\n\" style=\"stroke: #e41a1c; stroke-opacity: 0.909091\"/>\n    </defs>\n    <g clip-path=\"url(#pd4cd23df7d)\">\n     <use xlink:href=\"#mac2f939a71\" x=\"218.591512\" y=\"114.846861\" style=\"fill: #e41a1c; fill-opacity: 0.909091; stroke: #e41a1c; stroke-opacity: 0.909091\"/>\n    </g>\n   </g>\n   <g id=\"line2d_23\">\n    <defs>\n     <path id=\"mce64a9773c\" d=\"M 0 1.5 \nC 0.397805 1.5 0.77937 1.341951 1.06066 1.06066 \nC 1.341951 0.77937 1.5 0.397805 1.5 0 \nC 1.5 -0.397805 1.341951 -0.77937 1.06066 -1.06066 \nC 0.77937 -1.341951 0.397805 -1.5 0 -1.5 \nC -0.397805 -1.5 -0.77937 -1.341951 -1.06066 -1.06066 \nC -1.341951 -0.77937 -1.5 -0.397805 -1.5 0 \nC -1.5 0.397805 -1.341951 0.77937 -1.06066 1.06066 \nC -0.77937 1.341951 -0.397805 1.5 0 1.5 \nz\n\" style=\"stroke: #e41a1c; stroke-opacity: 0.89899\"/>\n    </defs>\n    <g clip-path=\"url(#pd4cd23df7d)\">\n     <use xlink:href=\"#mce64a9773c\" x=\"221.306257\" y=\"115.328606\" style=\"fill: #e41a1c; fill-opacity: 0.89899; stroke: #e41a1c; stroke-opacity: 0.89899\"/>\n    </g>\n   </g>\n   <g id=\"line2d_24\">\n    <defs>\n     <path id=\"m1bdb62ed66\" d=\"M 0 1.5 \nC 0.397805 1.5 0.77937 1.341951 1.06066 1.06066 \nC 1.341951 0.77937 1.5 0.397805 1.5 0 \nC 1.5 -0.397805 1.341951 -0.77937 1.06066 -1.06066 \nC 0.77937 -1.341951 0.397805 -1.5 0 -1.5 \nC -0.397805 -1.5 -0.77937 -1.341951 -1.06066 -1.06066 \nC -1.341951 -0.77937 -1.5 -0.397805 -1.5 0 \nC -1.5 0.397805 -1.341951 0.77937 -1.06066 1.06066 \nC -0.77937 1.341951 -0.397805 1.5 0 1.5 \nz\n\" style=\"stroke: #e41a1c; stroke-opacity: 0.888889\"/>\n    </defs>\n    <g clip-path=\"url(#pd4cd23df7d)\">\n     <use xlink:href=\"#m1bdb62ed66\" x=\"224.010454\" y=\"115.821822\" style=\"fill: #e41a1c; fill-opacity: 0.888889; stroke: #e41a1c; stroke-opacity: 0.888889\"/>\n    </g>\n   </g>\n   <g id=\"line2d_25\">\n    <defs>\n     <path id=\"m78e73e7d87\" d=\"M 0 1.5 \nC 0.397805 1.5 0.77937 1.341951 1.06066 1.06066 \nC 1.341951 0.77937 1.5 0.397805 1.5 0 \nC 1.5 -0.397805 1.341951 -0.77937 1.06066 -1.06066 \nC 0.77937 -1.341951 0.397805 -1.5 0 -1.5 \nC -0.397805 -1.5 -0.77937 -1.341951 -1.06066 -1.06066 \nC -1.341951 -0.77937 -1.5 -0.397805 -1.5 0 \nC -1.5 0.397805 -1.341951 0.77937 -1.06066 1.06066 \nC -0.77937 1.341951 -0.397805 1.5 0 1.5 \nz\n\" style=\"stroke: #e41a1c; stroke-opacity: 0.878788\"/>\n    </defs>\n    <g clip-path=\"url(#pd4cd23df7d)\">\n     <use xlink:href=\"#m78e73e7d87\" x=\"226.70312\" y=\"116.32501\" style=\"fill: #e41a1c; fill-opacity: 0.878788; stroke: #e41a1c; stroke-opacity: 0.878788\"/>\n    </g>\n   </g>\n   <g id=\"line2d_26\">\n    <defs>\n     <path id=\"m09b78510b7\" d=\"M 0 1.5 \nC 0.397805 1.5 0.77937 1.341951 1.06066 1.06066 \nC 1.341951 0.77937 1.5 0.397805 1.5 0 \nC 1.5 -0.397805 1.341951 -0.77937 1.06066 -1.06066 \nC 0.77937 -1.341951 0.397805 -1.5 0 -1.5 \nC -0.397805 -1.5 -0.77937 -1.341951 -1.06066 -1.06066 \nC -1.341951 -0.77937 -1.5 -0.397805 -1.5 0 \nC -1.5 0.397805 -1.341951 0.77937 -1.06066 1.06066 \nC -0.77937 1.341951 -0.397805 1.5 0 1.5 \nz\n\" style=\"stroke: #e41a1c; stroke-opacity: 0.868687\"/>\n    </defs>\n    <g clip-path=\"url(#pd4cd23df7d)\">\n     <use xlink:href=\"#m09b78510b7\" x=\"229.383217\" y=\"116.836703\" style=\"fill: #e41a1c; fill-opacity: 0.868687; stroke: #e41a1c; stroke-opacity: 0.868687\"/>\n    </g>\n   </g>\n   <g id=\"line2d_27\">\n    <defs>\n     <path id=\"mce84a77c2f\" d=\"M 0 1.5 \nC 0.397805 1.5 0.77937 1.341951 1.06066 1.06066 \nC 1.341951 0.77937 1.5 0.397805 1.5 0 \nC 1.5 -0.397805 1.341951 -0.77937 1.06066 -1.06066 \nC 0.77937 -1.341951 0.397805 -1.5 0 -1.5 \nC -0.397805 -1.5 -0.77937 -1.341951 -1.06066 -1.06066 \nC -1.341951 -0.77937 -1.5 -0.397805 -1.5 0 \nC -1.5 0.397805 -1.341951 0.77937 -1.06066 1.06066 \nC -0.77937 1.341951 -0.397805 1.5 0 1.5 \nz\n\" style=\"stroke: #e41a1c; stroke-opacity: 0.858586\"/>\n    </defs>\n    <g clip-path=\"url(#pd4cd23df7d)\">\n     <use xlink:href=\"#mce84a77c2f\" x=\"232.049652\" y=\"117.355476\" style=\"fill: #e41a1c; fill-opacity: 0.858586; stroke: #e41a1c; stroke-opacity: 0.858586\"/>\n    </g>\n   </g>\n   <g id=\"line2d_28\">\n    <defs>\n     <path id=\"mf5722dc7cb\" d=\"M 0 1.5 \nC 0.397805 1.5 0.77937 1.341951 1.06066 1.06066 \nC 1.341951 0.77937 1.5 0.397805 1.5 0 \nC 1.5 -0.397805 1.341951 -0.77937 1.06066 -1.06066 \nC 0.77937 -1.341951 0.397805 -1.5 0 -1.5 \nC -0.397805 -1.5 -0.77937 -1.341951 -1.06066 -1.06066 \nC -1.341951 -0.77937 -1.5 -0.397805 -1.5 0 \nC -1.5 0.397805 -1.341951 0.77937 -1.06066 1.06066 \nC -0.77937 1.341951 -0.397805 1.5 0 1.5 \nz\n\" style=\"stroke: #e41a1c; stroke-opacity: 0.848485\"/>\n    </defs>\n    <g clip-path=\"url(#pd4cd23df7d)\">\n     <use xlink:href=\"#mf5722dc7cb\" x=\"234.70129\" y=\"117.879947\" style=\"fill: #e41a1c; fill-opacity: 0.848485; stroke: #e41a1c; stroke-opacity: 0.848485\"/>\n    </g>\n   </g>\n   <g id=\"line2d_29\">\n    <defs>\n     <path id=\"m33e696f380\" d=\"M 0 1.5 \nC 0.397805 1.5 0.77937 1.341951 1.06066 1.06066 \nC 1.341951 0.77937 1.5 0.397805 1.5 0 \nC 1.5 -0.397805 1.341951 -0.77937 1.06066 -1.06066 \nC 0.77937 -1.341951 0.397805 -1.5 0 -1.5 \nC -0.397805 -1.5 -0.77937 -1.341951 -1.06066 -1.06066 \nC -1.341951 -0.77937 -1.5 -0.397805 -1.5 0 \nC -1.5 0.397805 -1.341951 0.77937 -1.06066 1.06066 \nC -0.77937 1.341951 -0.397805 1.5 0 1.5 \nz\n\" style=\"stroke: #e41a1c; stroke-opacity: 0.838384\"/>\n    </defs>\n    <g clip-path=\"url(#pd4cd23df7d)\">\n     <use xlink:href=\"#m33e696f380\" x=\"237.33695\" y=\"118.40878\" style=\"fill: #e41a1c; fill-opacity: 0.838384; stroke: #e41a1c; stroke-opacity: 0.838384\"/>\n    </g>\n   </g>\n   <g id=\"line2d_30\">\n    <defs>\n     <path id=\"m144c883cdb\" d=\"M 0 1.5 \nC 0.397805 1.5 0.77937 1.341951 1.06066 1.06066 \nC 1.341951 0.77937 1.5 0.397805 1.5 0 \nC 1.5 -0.397805 1.341951 -0.77937 1.06066 -1.06066 \nC 0.77937 -1.341951 0.397805 -1.5 0 -1.5 \nC -0.397805 -1.5 -0.77937 -1.341951 -1.06066 -1.06066 \nC -1.341951 -0.77937 -1.5 -0.397805 -1.5 0 \nC -1.5 0.397805 -1.341951 0.77937 -1.06066 1.06066 \nC -0.77937 1.341951 -0.397805 1.5 0 1.5 \nz\n\" style=\"stroke: #e41a1c; stroke-opacity: 0.828283\"/>\n    </defs>\n    <g clip-path=\"url(#pd4cd23df7d)\">\n     <use xlink:href=\"#m144c883cdb\" x=\"239.955412\" y=\"118.940689\" style=\"fill: #e41a1c; fill-opacity: 0.828283; stroke: #e41a1c; stroke-opacity: 0.828283\"/>\n    </g>\n   </g>\n   <g id=\"line2d_31\">\n    <defs>\n     <path id=\"m5826b8d596\" d=\"M 0 1.5 \nC 0.397805 1.5 0.77937 1.341951 1.06066 1.06066 \nC 1.341951 0.77937 1.5 0.397805 1.5 0 \nC 1.5 -0.397805 1.341951 -0.77937 1.06066 -1.06066 \nC 0.77937 -1.341951 0.397805 -1.5 0 -1.5 \nC -0.397805 -1.5 -0.77937 -1.341951 -1.06066 -1.06066 \nC -1.341951 -0.77937 -1.5 -0.397805 -1.5 0 \nC -1.5 0.397805 -1.341951 0.77937 -1.06066 1.06066 \nC -0.77937 1.341951 -0.397805 1.5 0 1.5 \nz\n\" style=\"stroke: #e41a1c; stroke-opacity: 0.818182\"/>\n    </defs>\n    <g clip-path=\"url(#pd4cd23df7d)\">\n     <use xlink:href=\"#m5826b8d596\" x=\"242.555422\" y=\"119.474442\" style=\"fill: #e41a1c; fill-opacity: 0.818182; stroke: #e41a1c; stroke-opacity: 0.818182\"/>\n    </g>\n   </g>\n   <g id=\"line2d_32\">\n    <defs>\n     <path id=\"m794583345d\" d=\"M 0 1.5 \nC 0.397805 1.5 0.77937 1.341951 1.06066 1.06066 \nC 1.341951 0.77937 1.5 0.397805 1.5 0 \nC 1.5 -0.397805 1.341951 -0.77937 1.06066 -1.06066 \nC 0.77937 -1.341951 0.397805 -1.5 0 -1.5 \nC -0.397805 -1.5 -0.77937 -1.341951 -1.06066 -1.06066 \nC -1.341951 -0.77937 -1.5 -0.397805 -1.5 0 \nC -1.5 0.397805 -1.341951 0.77937 -1.06066 1.06066 \nC -0.77937 1.341951 -0.397805 1.5 0 1.5 \nz\n\" style=\"stroke: #e41a1c; stroke-opacity: 0.808081\"/>\n    </defs>\n    <g clip-path=\"url(#pd4cd23df7d)\">\n     <use xlink:href=\"#m794583345d\" x=\"245.135696\" y=\"120.008862\" style=\"fill: #e41a1c; fill-opacity: 0.808081; stroke: #e41a1c; stroke-opacity: 0.808081\"/>\n    </g>\n   </g>\n   <g id=\"line2d_33\">\n    <defs>\n     <path id=\"m6d104cca9d\" d=\"M 0 1.5 \nC 0.397805 1.5 0.77937 1.341951 1.06066 1.06066 \nC 1.341951 0.77937 1.5 0.397805 1.5 0 \nC 1.5 -0.397805 1.341951 -0.77937 1.06066 -1.06066 \nC 0.77937 -1.341951 0.397805 -1.5 0 -1.5 \nC -0.397805 -1.5 -0.77937 -1.341951 -1.06066 -1.06066 \nC -1.341951 -0.77937 -1.5 -0.397805 -1.5 0 \nC -1.5 0.397805 -1.341951 0.77937 -1.06066 1.06066 \nC -0.77937 1.341951 -0.397805 1.5 0 1.5 \nz\n\" style=\"stroke: #e41a1c; stroke-opacity: 0.79798\"/>\n    </defs>\n    <g clip-path=\"url(#pd4cd23df7d)\">\n     <use xlink:href=\"#m6d104cca9d\" x=\"247.694925\" y=\"120.54283\" style=\"fill: #e41a1c; fill-opacity: 0.79798; stroke: #e41a1c; stroke-opacity: 0.79798\"/>\n    </g>\n   </g>\n   <g id=\"line2d_34\">\n    <defs>\n     <path id=\"mdc6ff4660c\" d=\"M 0 1.5 \nC 0.397805 1.5 0.77937 1.341951 1.06066 1.06066 \nC 1.341951 0.77937 1.5 0.397805 1.5 0 \nC 1.5 -0.397805 1.341951 -0.77937 1.06066 -1.06066 \nC 0.77937 -1.341951 0.397805 -1.5 0 -1.5 \nC -0.397805 -1.5 -0.77937 -1.341951 -1.06066 -1.06066 \nC -1.341951 -0.77937 -1.5 -0.397805 -1.5 0 \nC -1.5 0.397805 -1.341951 0.77937 -1.06066 1.06066 \nC -0.77937 1.341951 -0.397805 1.5 0 1.5 \nz\n\" style=\"stroke: #e41a1c; stroke-opacity: 0.787879\"/>\n    </defs>\n    <g clip-path=\"url(#pd4cd23df7d)\">\n     <use xlink:href=\"#mdc6ff4660c\" x=\"250.23178\" y=\"121.075287\" style=\"fill: #e41a1c; fill-opacity: 0.787879; stroke: #e41a1c; stroke-opacity: 0.787879\"/>\n    </g>\n   </g>\n   <g id=\"line2d_35\">\n    <defs>\n     <path id=\"mc0f312e8d5\" d=\"M 0 1.5 \nC 0.397805 1.5 0.77937 1.341951 1.06066 1.06066 \nC 1.341951 0.77937 1.5 0.397805 1.5 0 \nC 1.5 -0.397805 1.341951 -0.77937 1.06066 -1.06066 \nC 0.77937 -1.341951 0.397805 -1.5 0 -1.5 \nC -0.397805 -1.5 -0.77937 -1.341951 -1.06066 -1.06066 \nC -1.341951 -0.77937 -1.5 -0.397805 -1.5 0 \nC -1.5 0.397805 -1.341951 0.77937 -1.06066 1.06066 \nC -0.77937 1.341951 -0.397805 1.5 0 1.5 \nz\n\" style=\"stroke: #e41a1c; stroke-opacity: 0.777778\"/>\n    </defs>\n    <g clip-path=\"url(#pd4cd23df7d)\">\n     <use xlink:href=\"#mc0f312e8d5\" x=\"252.744914\" y=\"121.605238\" style=\"fill: #e41a1c; fill-opacity: 0.777778; stroke: #e41a1c; stroke-opacity: 0.777778\"/>\n    </g>\n   </g>\n   <g id=\"line2d_36\">\n    <defs>\n     <path id=\"m6d51347139\" d=\"M 0 1.5 \nC 0.397805 1.5 0.77937 1.341951 1.06066 1.06066 \nC 1.341951 0.77937 1.5 0.397805 1.5 0 \nC 1.5 -0.397805 1.341951 -0.77937 1.06066 -1.06066 \nC 0.77937 -1.341951 0.397805 -1.5 0 -1.5 \nC -0.397805 -1.5 -0.77937 -1.341951 -1.06066 -1.06066 \nC -1.341951 -0.77937 -1.5 -0.397805 -1.5 0 \nC -1.5 0.397805 -1.341951 0.77937 -1.06066 1.06066 \nC -0.77937 1.341951 -0.397805 1.5 0 1.5 \nz\n\" style=\"stroke: #e41a1c; stroke-opacity: 0.767677\"/>\n    </defs>\n    <g clip-path=\"url(#pd4cd23df7d)\">\n     <use xlink:href=\"#m6d51347139\" x=\"255.232971\" y=\"122.131748\" style=\"fill: #e41a1c; fill-opacity: 0.767677; stroke: #e41a1c; stroke-opacity: 0.767677\"/>\n    </g>\n   </g>\n   <g id=\"line2d_37\">\n    <defs>\n     <path id=\"m265e783180\" d=\"M 0 1.5 \nC 0.397805 1.5 0.77937 1.341951 1.06066 1.06066 \nC 1.341951 0.77937 1.5 0.397805 1.5 0 \nC 1.5 -0.397805 1.341951 -0.77937 1.06066 -1.06066 \nC 0.77937 -1.341951 0.397805 -1.5 0 -1.5 \nC -0.397805 -1.5 -0.77937 -1.341951 -1.06066 -1.06066 \nC -1.341951 -0.77937 -1.5 -0.397805 -1.5 0 \nC -1.5 0.397805 -1.341951 0.77937 -1.06066 1.06066 \nC -0.77937 1.341951 -0.397805 1.5 0 1.5 \nz\n\" style=\"stroke: #e41a1c; stroke-opacity: 0.757576\"/>\n    </defs>\n    <g clip-path=\"url(#pd4cd23df7d)\">\n     <use xlink:href=\"#m265e783180\" x=\"257.694588\" y=\"122.653948\" style=\"fill: #e41a1c; fill-opacity: 0.757576; stroke: #e41a1c; stroke-opacity: 0.757576\"/>\n    </g>\n   </g>\n   <g id=\"line2d_38\">\n    <defs>\n     <path id=\"m5d708666ae\" d=\"M 0 1.5 \nC 0.397805 1.5 0.77937 1.341951 1.06066 1.06066 \nC 1.341951 0.77937 1.5 0.397805 1.5 0 \nC 1.5 -0.397805 1.341951 -0.77937 1.06066 -1.06066 \nC 0.77937 -1.341951 0.397805 -1.5 0 -1.5 \nC -0.397805 -1.5 -0.77937 -1.341951 -1.06066 -1.06066 \nC -1.341951 -0.77937 -1.5 -0.397805 -1.5 0 \nC -1.5 0.397805 -1.341951 0.77937 -1.06066 1.06066 \nC -0.77937 1.341951 -0.397805 1.5 0 1.5 \nz\n\" style=\"stroke: #e41a1c; stroke-opacity: 0.747475\"/>\n    </defs>\n    <g clip-path=\"url(#pd4cd23df7d)\">\n     <use xlink:href=\"#m5d708666ae\" x=\"260.128401\" y=\"123.171032\" style=\"fill: #e41a1c; fill-opacity: 0.747475; stroke: #e41a1c; stroke-opacity: 0.747475\"/>\n    </g>\n   </g>\n   <g id=\"line2d_39\">\n    <defs>\n     <path id=\"ma8f1e0e8ff\" d=\"M 0 1.5 \nC 0.397805 1.5 0.77937 1.341951 1.06066 1.06066 \nC 1.341951 0.77937 1.5 0.397805 1.5 0 \nC 1.5 -0.397805 1.341951 -0.77937 1.06066 -1.06066 \nC 0.77937 -1.341951 0.397805 -1.5 0 -1.5 \nC -0.397805 -1.5 -0.77937 -1.341951 -1.06066 -1.06066 \nC -1.341951 -0.77937 -1.5 -0.397805 -1.5 0 \nC -1.5 0.397805 -1.341951 0.77937 -1.06066 1.06066 \nC -0.77937 1.341951 -0.397805 1.5 0 1.5 \nz\n\" style=\"stroke: #e41a1c; stroke-opacity: 0.737374\"/>\n    </defs>\n    <g clip-path=\"url(#pd4cd23df7d)\">\n     <use xlink:href=\"#ma8f1e0e8ff\" x=\"262.533048\" y=\"123.682262\" style=\"fill: #e41a1c; fill-opacity: 0.737374; stroke: #e41a1c; stroke-opacity: 0.737374\"/>\n    </g>\n   </g>\n   <g id=\"line2d_40\">\n    <defs>\n     <path id=\"m50e79dde7f\" d=\"M 0 1.5 \nC 0.397805 1.5 0.77937 1.341951 1.06066 1.06066 \nC 1.341951 0.77937 1.5 0.397805 1.5 0 \nC 1.5 -0.397805 1.341951 -0.77937 1.06066 -1.06066 \nC 0.77937 -1.341951 0.397805 -1.5 0 -1.5 \nC -0.397805 -1.5 -0.77937 -1.341951 -1.06066 -1.06066 \nC -1.341951 -0.77937 -1.5 -0.397805 -1.5 0 \nC -1.5 0.397805 -1.341951 0.77937 -1.06066 1.06066 \nC -0.77937 1.341951 -0.397805 1.5 0 1.5 \nz\n\" style=\"stroke: #e41a1c; stroke-opacity: 0.727273\"/>\n    </defs>\n    <g clip-path=\"url(#pd4cd23df7d)\">\n     <use xlink:href=\"#m50e79dde7f\" x=\"264.907179\" y=\"124.186963\" style=\"fill: #e41a1c; fill-opacity: 0.727273; stroke: #e41a1c; stroke-opacity: 0.727273\"/>\n    </g>\n   </g>\n   <g id=\"line2d_41\">\n    <defs>\n     <path id=\"m9a4ba5fb0a\" d=\"M 0 1.5 \nC 0.397805 1.5 0.77937 1.341951 1.06066 1.06066 \nC 1.341951 0.77937 1.5 0.397805 1.5 0 \nC 1.5 -0.397805 1.341951 -0.77937 1.06066 -1.06066 \nC 0.77937 -1.341951 0.397805 -1.5 0 -1.5 \nC -0.397805 -1.5 -0.77937 -1.341951 -1.06066 -1.06066 \nC -1.341951 -0.77937 -1.5 -0.397805 -1.5 0 \nC -1.5 0.397805 -1.341951 0.77937 -1.06066 1.06066 \nC -0.77937 1.341951 -0.397805 1.5 0 1.5 \nz\n\" style=\"stroke: #e41a1c; stroke-opacity: 0.717172\"/>\n    </defs>\n    <g clip-path=\"url(#pd4cd23df7d)\">\n     <use xlink:href=\"#m9a4ba5fb0a\" x=\"267.249452\" y=\"124.684524\" style=\"fill: #e41a1c; fill-opacity: 0.717172; stroke: #e41a1c; stroke-opacity: 0.717172\"/>\n    </g>\n   </g>\n   <g id=\"line2d_42\">\n    <defs>\n     <path id=\"mf584c749fb\" d=\"M 0 1.5 \nC 0.397805 1.5 0.77937 1.341951 1.06066 1.06066 \nC 1.341951 0.77937 1.5 0.397805 1.5 0 \nC 1.5 -0.397805 1.341951 -0.77937 1.06066 -1.06066 \nC 0.77937 -1.341951 0.397805 -1.5 0 -1.5 \nC -0.397805 -1.5 -0.77937 -1.341951 -1.06066 -1.06066 \nC -1.341951 -0.77937 -1.5 -0.397805 -1.5 0 \nC -1.5 0.397805 -1.341951 0.77937 -1.06066 1.06066 \nC -0.77937 1.341951 -0.397805 1.5 0 1.5 \nz\n\" style=\"stroke: #e41a1c; stroke-opacity: 0.707071\"/>\n    </defs>\n    <g clip-path=\"url(#pd4cd23df7d)\">\n     <use xlink:href=\"#mf584c749fb\" x=\"269.558546\" y=\"125.174399\" style=\"fill: #e41a1c; fill-opacity: 0.707071; stroke: #e41a1c; stroke-opacity: 0.707071\"/>\n    </g>\n   </g>\n   <g id=\"line2d_43\">\n    <defs>\n     <path id=\"m4bb9c3b537\" d=\"M 0 1.5 \nC 0.397805 1.5 0.77937 1.341951 1.06066 1.06066 \nC 1.341951 0.77937 1.5 0.397805 1.5 0 \nC 1.5 -0.397805 1.341951 -0.77937 1.06066 -1.06066 \nC 0.77937 -1.341951 0.397805 -1.5 0 -1.5 \nC -0.397805 -1.5 -0.77937 -1.341951 -1.06066 -1.06066 \nC -1.341951 -0.77937 -1.5 -0.397805 -1.5 0 \nC -1.5 0.397805 -1.341951 0.77937 -1.06066 1.06066 \nC -0.77937 1.341951 -0.397805 1.5 0 1.5 \nz\n\" style=\"stroke: #e41a1c; stroke-opacity: 0.69697\"/>\n    </defs>\n    <g clip-path=\"url(#pd4cd23df7d)\">\n     <use xlink:href=\"#m4bb9c3b537\" x=\"271.833161\" y=\"125.656106\" style=\"fill: #e41a1c; fill-opacity: 0.69697; stroke: #e41a1c; stroke-opacity: 0.69697\"/>\n    </g>\n   </g>\n   <g id=\"line2d_44\">\n    <defs>\n     <path id=\"m571cf6d02d\" d=\"M 0 1.5 \nC 0.397805 1.5 0.77937 1.341951 1.06066 1.06066 \nC 1.341951 0.77937 1.5 0.397805 1.5 0 \nC 1.5 -0.397805 1.341951 -0.77937 1.06066 -1.06066 \nC 0.77937 -1.341951 0.397805 -1.5 0 -1.5 \nC -0.397805 -1.5 -0.77937 -1.341951 -1.06066 -1.06066 \nC -1.341951 -0.77937 -1.5 -0.397805 -1.5 0 \nC -1.5 0.397805 -1.341951 0.77937 -1.06066 1.06066 \nC -0.77937 1.341951 -0.397805 1.5 0 1.5 \nz\n\" style=\"stroke: #e41a1c; stroke-opacity: 0.686869\"/>\n    </defs>\n    <g clip-path=\"url(#pd4cd23df7d)\">\n     <use xlink:href=\"#m571cf6d02d\" x=\"274.072023\" y=\"126.129223\" style=\"fill: #e41a1c; fill-opacity: 0.686869; stroke: #e41a1c; stroke-opacity: 0.686869\"/>\n    </g>\n   </g>\n   <g id=\"line2d_45\">\n    <defs>\n     <path id=\"me5d57aeb04\" d=\"M 0 1.5 \nC 0.397805 1.5 0.77937 1.341951 1.06066 1.06066 \nC 1.341951 0.77937 1.5 0.397805 1.5 0 \nC 1.5 -0.397805 1.341951 -0.77937 1.06066 -1.06066 \nC 0.77937 -1.341951 0.397805 -1.5 0 -1.5 \nC -0.397805 -1.5 -0.77937 -1.341951 -1.06066 -1.06066 \nC -1.341951 -0.77937 -1.5 -0.397805 -1.5 0 \nC -1.5 0.397805 -1.341951 0.77937 -1.06066 1.06066 \nC -0.77937 1.341951 -0.397805 1.5 0 1.5 \nz\n\" style=\"stroke: #e41a1c; stroke-opacity: 0.676768\"/>\n    </defs>\n    <g clip-path=\"url(#pd4cd23df7d)\">\n     <use xlink:href=\"#me5d57aeb04\" x=\"276.273891\" y=\"126.59339\" style=\"fill: #e41a1c; fill-opacity: 0.676768; stroke: #e41a1c; stroke-opacity: 0.676768\"/>\n    </g>\n   </g>\n   <g id=\"line2d_46\">\n    <defs>\n     <path id=\"m15b85964bc\" d=\"M 0 1.5 \nC 0.397805 1.5 0.77937 1.341951 1.06066 1.06066 \nC 1.341951 0.77937 1.5 0.397805 1.5 0 \nC 1.5 -0.397805 1.341951 -0.77937 1.06066 -1.06066 \nC 0.77937 -1.341951 0.397805 -1.5 0 -1.5 \nC -0.397805 -1.5 -0.77937 -1.341951 -1.06066 -1.06066 \nC -1.341951 -0.77937 -1.5 -0.397805 -1.5 0 \nC -1.5 0.397805 -1.341951 0.77937 -1.06066 1.06066 \nC -0.77937 1.341951 -0.397805 1.5 0 1.5 \nz\n\" style=\"stroke: #e41a1c; stroke-opacity: 0.666667\"/>\n    </defs>\n    <g clip-path=\"url(#pd4cd23df7d)\">\n     <use xlink:href=\"#m15b85964bc\" x=\"278.437555\" y=\"127.048303\" style=\"fill: #e41a1c; fill-opacity: 0.666667; stroke: #e41a1c; stroke-opacity: 0.666667\"/>\n    </g>\n   </g>\n   <g id=\"line2d_47\">\n    <defs>\n     <path id=\"m445f9ac935\" d=\"M 0 1.5 \nC 0.397805 1.5 0.77937 1.341951 1.06066 1.06066 \nC 1.341951 0.77937 1.5 0.397805 1.5 0 \nC 1.5 -0.397805 1.341951 -0.77937 1.06066 -1.06066 \nC 0.77937 -1.341951 0.397805 -1.5 0 -1.5 \nC -0.397805 -1.5 -0.77937 -1.341951 -1.06066 -1.06066 \nC -1.341951 -0.77937 -1.5 -0.397805 -1.5 0 \nC -1.5 0.397805 -1.341951 0.77937 -1.06066 1.06066 \nC -0.77937 1.341951 -0.397805 1.5 0 1.5 \nz\n\" style=\"stroke: #e41a1c; stroke-opacity: 0.656566\"/>\n    </defs>\n    <g clip-path=\"url(#pd4cd23df7d)\">\n     <use xlink:href=\"#m445f9ac935\" x=\"280.561849\" y=\"127.493716\" style=\"fill: #e41a1c; fill-opacity: 0.656566; stroke: #e41a1c; stroke-opacity: 0.656566\"/>\n    </g>\n   </g>\n   <g id=\"line2d_48\">\n    <defs>\n     <path id=\"ma1921e95c4\" d=\"M 0 1.5 \nC 0.397805 1.5 0.77937 1.341951 1.06066 1.06066 \nC 1.341951 0.77937 1.5 0.397805 1.5 0 \nC 1.5 -0.397805 1.341951 -0.77937 1.06066 -1.06066 \nC 0.77937 -1.341951 0.397805 -1.5 0 -1.5 \nC -0.397805 -1.5 -0.77937 -1.341951 -1.06066 -1.06066 \nC -1.341951 -0.77937 -1.5 -0.397805 -1.5 0 \nC -1.5 0.397805 -1.341951 0.77937 -1.06066 1.06066 \nC -0.77937 1.341951 -0.397805 1.5 0 1.5 \nz\n\" style=\"stroke: #e41a1c; stroke-opacity: 0.646465\"/>\n    </defs>\n    <g clip-path=\"url(#pd4cd23df7d)\">\n     <use xlink:href=\"#ma1921e95c4\" x=\"282.645645\" y=\"127.929436\" style=\"fill: #e41a1c; fill-opacity: 0.646465; stroke: #e41a1c; stroke-opacity: 0.646465\"/>\n    </g>\n   </g>\n   <g id=\"line2d_49\">\n    <defs>\n     <path id=\"m763d6945d6\" d=\"M 0 1.5 \nC 0.397805 1.5 0.77937 1.341951 1.06066 1.06066 \nC 1.341951 0.77937 1.5 0.397805 1.5 0 \nC 1.5 -0.397805 1.341951 -0.77937 1.06066 -1.06066 \nC 0.77937 -1.341951 0.397805 -1.5 0 -1.5 \nC -0.397805 -1.5 -0.77937 -1.341951 -1.06066 -1.06066 \nC -1.341951 -0.77937 -1.5 -0.397805 -1.5 0 \nC -1.5 0.397805 -1.341951 0.77937 -1.06066 1.06066 \nC -0.77937 1.341951 -0.397805 1.5 0 1.5 \nz\n\" style=\"stroke: #e41a1c; stroke-opacity: 0.636364\"/>\n    </defs>\n    <g clip-path=\"url(#pd4cd23df7d)\">\n     <use xlink:href=\"#m763d6945d6\" x=\"284.687864\" y=\"128.355322\" style=\"fill: #e41a1c; fill-opacity: 0.636364; stroke: #e41a1c; stroke-opacity: 0.636364\"/>\n    </g>\n   </g>\n   <g id=\"line2d_50\">\n    <defs>\n     <path id=\"mb4b7630c70\" d=\"M 0 1.5 \nC 0.397805 1.5 0.77937 1.341951 1.06066 1.06066 \nC 1.341951 0.77937 1.5 0.397805 1.5 0 \nC 1.5 -0.397805 1.341951 -0.77937 1.06066 -1.06066 \nC 0.77937 -1.341951 0.397805 -1.5 0 -1.5 \nC -0.397805 -1.5 -0.77937 -1.341951 -1.06066 -1.06066 \nC -1.341951 -0.77937 -1.5 -0.397805 -1.5 0 \nC -1.5 0.397805 -1.341951 0.77937 -1.06066 1.06066 \nC -0.77937 1.341951 -0.397805 1.5 0 1.5 \nz\n\" style=\"stroke: #e41a1c; stroke-opacity: 0.626263\"/>\n    </defs>\n    <g clip-path=\"url(#pd4cd23df7d)\">\n     <use xlink:href=\"#mb4b7630c70\" x=\"286.687476\" y=\"128.77128\" style=\"fill: #e41a1c; fill-opacity: 0.626263; stroke: #e41a1c; stroke-opacity: 0.626263\"/>\n    </g>\n   </g>\n   <g id=\"line2d_51\">\n    <defs>\n     <path id=\"m891684bc0b\" d=\"M 0 1.5 \nC 0.397805 1.5 0.77937 1.341951 1.06066 1.06066 \nC 1.341951 0.77937 1.5 0.397805 1.5 0 \nC 1.5 -0.397805 1.341951 -0.77937 1.06066 -1.06066 \nC 0.77937 -1.341951 0.397805 -1.5 0 -1.5 \nC -0.397805 -1.5 -0.77937 -1.341951 -1.06066 -1.06066 \nC -1.341951 -0.77937 -1.5 -0.397805 -1.5 0 \nC -1.5 0.397805 -1.341951 0.77937 -1.06066 1.06066 \nC -0.77937 1.341951 -0.397805 1.5 0 1.5 \nz\n\" style=\"stroke: #e41a1c; stroke-opacity: 0.616162\"/>\n    </defs>\n    <g clip-path=\"url(#pd4cd23df7d)\">\n     <use xlink:href=\"#m891684bc0b\" x=\"288.643503\" y=\"129.177263\" style=\"fill: #e41a1c; fill-opacity: 0.616162; stroke: #e41a1c; stroke-opacity: 0.616162\"/>\n    </g>\n   </g>\n   <g id=\"line2d_52\">\n    <defs>\n     <path id=\"mb06c282bc6\" d=\"M 0 1.5 \nC 0.397805 1.5 0.77937 1.341951 1.06066 1.06066 \nC 1.341951 0.77937 1.5 0.397805 1.5 0 \nC 1.5 -0.397805 1.341951 -0.77937 1.06066 -1.06066 \nC 0.77937 -1.341951 0.397805 -1.5 0 -1.5 \nC -0.397805 -1.5 -0.77937 -1.341951 -1.06066 -1.06066 \nC -1.341951 -0.77937 -1.5 -0.397805 -1.5 0 \nC -1.5 0.397805 -1.341951 0.77937 -1.06066 1.06066 \nC -0.77937 1.341951 -0.397805 1.5 0 1.5 \nz\n\" style=\"stroke: #e41a1c; stroke-opacity: 0.606061\"/>\n    </defs>\n    <g clip-path=\"url(#pd4cd23df7d)\">\n     <use xlink:href=\"#mb06c282bc6\" x=\"290.555026\" y=\"129.573264\" style=\"fill: #e41a1c; fill-opacity: 0.606061; stroke: #e41a1c; stroke-opacity: 0.606061\"/>\n    </g>\n   </g>\n   <g id=\"line2d_53\">\n    <defs>\n     <path id=\"m0d290d0580\" d=\"M 0 1.5 \nC 0.397805 1.5 0.77937 1.341951 1.06066 1.06066 \nC 1.341951 0.77937 1.5 0.397805 1.5 0 \nC 1.5 -0.397805 1.341951 -0.77937 1.06066 -1.06066 \nC 0.77937 -1.341951 0.397805 -1.5 0 -1.5 \nC -0.397805 -1.5 -0.77937 -1.341951 -1.06066 -1.06066 \nC -1.341951 -0.77937 -1.5 -0.397805 -1.5 0 \nC -1.5 0.397805 -1.341951 0.77937 -1.06066 1.06066 \nC -0.77937 1.341951 -0.397805 1.5 0 1.5 \nz\n\" style=\"stroke: #e41a1c; stroke-opacity: 0.59596\"/>\n    </defs>\n    <g clip-path=\"url(#pd4cd23df7d)\">\n     <use xlink:href=\"#m0d290d0580\" x=\"292.42118\" y=\"129.959316\" style=\"fill: #e41a1c; fill-opacity: 0.59596; stroke: #e41a1c; stroke-opacity: 0.59596\"/>\n    </g>\n   </g>\n   <g id=\"line2d_54\">\n    <defs>\n     <path id=\"m574101ad8b\" d=\"M 0 1.5 \nC 0.397805 1.5 0.77937 1.341951 1.06066 1.06066 \nC 1.341951 0.77937 1.5 0.397805 1.5 0 \nC 1.5 -0.397805 1.341951 -0.77937 1.06066 -1.06066 \nC 0.77937 -1.341951 0.397805 -1.5 0 -1.5 \nC -0.397805 -1.5 -0.77937 -1.341951 -1.06066 -1.06066 \nC -1.341951 -0.77937 -1.5 -0.397805 -1.5 0 \nC -1.5 0.397805 -1.341951 0.77937 -1.06066 1.06066 \nC -0.77937 1.341951 -0.397805 1.5 0 1.5 \nz\n\" style=\"stroke: #e41a1c; stroke-opacity: 0.585859\"/>\n    </defs>\n    <g clip-path=\"url(#pd4cd23df7d)\">\n     <use xlink:href=\"#m574101ad8b\" x=\"294.241164\" y=\"130.335486\" style=\"fill: #e41a1c; fill-opacity: 0.585859; stroke: #e41a1c; stroke-opacity: 0.585859\"/>\n    </g>\n   </g>\n   <g id=\"line2d_55\">\n    <defs>\n     <path id=\"med43b4f594\" d=\"M 0 1.5 \nC 0.397805 1.5 0.77937 1.341951 1.06066 1.06066 \nC 1.341951 0.77937 1.5 0.397805 1.5 0 \nC 1.5 -0.397805 1.341951 -0.77937 1.06066 -1.06066 \nC 0.77937 -1.341951 0.397805 -1.5 0 -1.5 \nC -0.397805 -1.5 -0.77937 -1.341951 -1.06066 -1.06066 \nC -1.341951 -0.77937 -1.5 -0.397805 -1.5 0 \nC -1.5 0.397805 -1.341951 0.77937 -1.06066 1.06066 \nC -0.77937 1.341951 -0.397805 1.5 0 1.5 \nz\n\" style=\"stroke: #e41a1c; stroke-opacity: 0.575758\"/>\n    </defs>\n    <g clip-path=\"url(#pd4cd23df7d)\">\n     <use xlink:href=\"#med43b4f594\" x=\"296.014238\" y=\"130.701873\" style=\"fill: #e41a1c; fill-opacity: 0.575758; stroke: #e41a1c; stroke-opacity: 0.575758\"/>\n    </g>\n   </g>\n   <g id=\"line2d_56\">\n    <defs>\n     <path id=\"mc51c155efa\" d=\"M 0 1.5 \nC 0.397805 1.5 0.77937 1.341951 1.06066 1.06066 \nC 1.341951 0.77937 1.5 0.397805 1.5 0 \nC 1.5 -0.397805 1.341951 -0.77937 1.06066 -1.06066 \nC 0.77937 -1.341951 0.397805 -1.5 0 -1.5 \nC -0.397805 -1.5 -0.77937 -1.341951 -1.06066 -1.06066 \nC -1.341951 -0.77937 -1.5 -0.397805 -1.5 0 \nC -1.5 0.397805 -1.341951 0.77937 -1.06066 1.06066 \nC -0.77937 1.341951 -0.397805 1.5 0 1.5 \nz\n\" style=\"stroke: #e41a1c; stroke-opacity: 0.565657\"/>\n    </defs>\n    <g clip-path=\"url(#pd4cd23df7d)\">\n     <use xlink:href=\"#mc51c155efa\" x=\"297.739729\" y=\"131.058603\" style=\"fill: #e41a1c; fill-opacity: 0.565657; stroke: #e41a1c; stroke-opacity: 0.565657\"/>\n    </g>\n   </g>\n   <g id=\"line2d_57\">\n    <defs>\n     <path id=\"m0f4cfdc33d\" d=\"M 0 1.5 \nC 0.397805 1.5 0.77937 1.341951 1.06066 1.06066 \nC 1.341951 0.77937 1.5 0.397805 1.5 0 \nC 1.5 -0.397805 1.341951 -0.77937 1.06066 -1.06066 \nC 0.77937 -1.341951 0.397805 -1.5 0 -1.5 \nC -0.397805 -1.5 -0.77937 -1.341951 -1.06066 -1.06066 \nC -1.341951 -0.77937 -1.5 -0.397805 -1.5 0 \nC -1.5 0.397805 -1.341951 0.77937 -1.06066 1.06066 \nC -0.77937 1.341951 -0.397805 1.5 0 1.5 \nz\n\" style=\"stroke: #e41a1c; stroke-opacity: 0.555556\"/>\n    </defs>\n    <g clip-path=\"url(#pd4cd23df7d)\">\n     <use xlink:href=\"#m0f4cfdc33d\" x=\"299.41703\" y=\"131.405826\" style=\"fill: #e41a1c; fill-opacity: 0.555556; stroke: #e41a1c; stroke-opacity: 0.555556\"/>\n    </g>\n   </g>\n   <g id=\"line2d_58\">\n    <defs>\n     <path id=\"m0d3c70c30b\" d=\"M 0 1.5 \nC 0.397805 1.5 0.77937 1.341951 1.06066 1.06066 \nC 1.341951 0.77937 1.5 0.397805 1.5 0 \nC 1.5 -0.397805 1.341951 -0.77937 1.06066 -1.06066 \nC 0.77937 -1.341951 0.397805 -1.5 0 -1.5 \nC -0.397805 -1.5 -0.77937 -1.341951 -1.06066 -1.06066 \nC -1.341951 -0.77937 -1.5 -0.397805 -1.5 0 \nC -1.5 0.397805 -1.341951 0.77937 -1.06066 1.06066 \nC -0.77937 1.341951 -0.397805 1.5 0 1.5 \nz\n\" style=\"stroke: #e41a1c; stroke-opacity: 0.545455\"/>\n    </defs>\n    <g clip-path=\"url(#pd4cd23df7d)\">\n     <use xlink:href=\"#m0d3c70c30b\" x=\"301.045599\" y=\"131.74371\" style=\"fill: #e41a1c; fill-opacity: 0.545455; stroke: #e41a1c; stroke-opacity: 0.545455\"/>\n    </g>\n   </g>\n   <g id=\"line2d_59\">\n    <defs>\n     <path id=\"m09718096d3\" d=\"M 0 1.5 \nC 0.397805 1.5 0.77937 1.341951 1.06066 1.06066 \nC 1.341951 0.77937 1.5 0.397805 1.5 0 \nC 1.5 -0.397805 1.341951 -0.77937 1.06066 -1.06066 \nC 0.77937 -1.341951 0.397805 -1.5 0 -1.5 \nC -0.397805 -1.5 -0.77937 -1.341951 -1.06066 -1.06066 \nC -1.341951 -0.77937 -1.5 -0.397805 -1.5 0 \nC -1.5 0.397805 -1.341951 0.77937 -1.06066 1.06066 \nC -0.77937 1.341951 -0.397805 1.5 0 1.5 \nz\n\" style=\"stroke: #e41a1c; stroke-opacity: 0.535354\"/>\n    </defs>\n    <g clip-path=\"url(#pd4cd23df7d)\">\n     <use xlink:href=\"#m09718096d3\" x=\"302.624967\" y=\"132.07244\" style=\"fill: #e41a1c; fill-opacity: 0.535354; stroke: #e41a1c; stroke-opacity: 0.535354\"/>\n    </g>\n   </g>\n   <g id=\"line2d_60\">\n    <defs>\n     <path id=\"m2e5a9263e0\" d=\"M 0 1.5 \nC 0.397805 1.5 0.77937 1.341951 1.06066 1.06066 \nC 1.341951 0.77937 1.5 0.397805 1.5 0 \nC 1.5 -0.397805 1.341951 -0.77937 1.06066 -1.06066 \nC 0.77937 -1.341951 0.397805 -1.5 0 -1.5 \nC -0.397805 -1.5 -0.77937 -1.341951 -1.06066 -1.06066 \nC -1.341951 -0.77937 -1.5 -0.397805 -1.5 0 \nC -1.5 0.397805 -1.341951 0.77937 -1.06066 1.06066 \nC -0.77937 1.341951 -0.397805 1.5 0 1.5 \nz\n\" style=\"stroke: #e41a1c; stroke-opacity: 0.525253\"/>\n    </defs>\n    <g clip-path=\"url(#pd4cd23df7d)\">\n     <use xlink:href=\"#m2e5a9263e0\" x=\"304.154733\" y=\"132.392212\" style=\"fill: #e41a1c; fill-opacity: 0.525253; stroke: #e41a1c; stroke-opacity: 0.525253\"/>\n    </g>\n   </g>\n   <g id=\"line2d_61\">\n    <defs>\n     <path id=\"m266e8a7363\" d=\"M 0 1.5 \nC 0.397805 1.5 0.77937 1.341951 1.06066 1.06066 \nC 1.341951 0.77937 1.5 0.397805 1.5 0 \nC 1.5 -0.397805 1.341951 -0.77937 1.06066 -1.06066 \nC 0.77937 -1.341951 0.397805 -1.5 0 -1.5 \nC -0.397805 -1.5 -0.77937 -1.341951 -1.06066 -1.06066 \nC -1.341951 -0.77937 -1.5 -0.397805 -1.5 0 \nC -1.5 0.397805 -1.341951 0.77937 -1.06066 1.06066 \nC -0.77937 1.341951 -0.397805 1.5 0 1.5 \nz\n\" style=\"stroke: #e41a1c; stroke-opacity: 0.515152\"/>\n    </defs>\n    <g clip-path=\"url(#pd4cd23df7d)\">\n     <use xlink:href=\"#m266e8a7363\" x=\"305.634566\" y=\"132.703229\" style=\"fill: #e41a1c; fill-opacity: 0.515152; stroke: #e41a1c; stroke-opacity: 0.515152\"/>\n    </g>\n   </g>\n   <g id=\"line2d_62\">\n    <defs>\n     <path id=\"m58828ecd06\" d=\"M 0 1.5 \nC 0.397805 1.5 0.77937 1.341951 1.06066 1.06066 \nC 1.341951 0.77937 1.5 0.397805 1.5 0 \nC 1.5 -0.397805 1.341951 -0.77937 1.06066 -1.06066 \nC 0.77937 -1.341951 0.397805 -1.5 0 -1.5 \nC -0.397805 -1.5 -0.77937 -1.341951 -1.06066 -1.06066 \nC -1.341951 -0.77937 -1.5 -0.397805 -1.5 0 \nC -1.5 0.397805 -1.341951 0.77937 -1.06066 1.06066 \nC -0.77937 1.341951 -0.397805 1.5 0 1.5 \nz\n\" style=\"stroke: #e41a1c; stroke-opacity: 0.505051\"/>\n    </defs>\n    <g clip-path=\"url(#pd4cd23df7d)\">\n     <use xlink:href=\"#m58828ecd06\" x=\"307.064205\" y=\"133.005696\" style=\"fill: #e41a1c; fill-opacity: 0.505051; stroke: #e41a1c; stroke-opacity: 0.505051\"/>\n    </g>\n   </g>\n   <g id=\"line2d_63\">\n    <defs>\n     <path id=\"md787ef7401\" d=\"M 0 1.5 \nC 0.397805 1.5 0.77937 1.341951 1.06066 1.06066 \nC 1.341951 0.77937 1.5 0.397805 1.5 0 \nC 1.5 -0.397805 1.341951 -0.77937 1.06066 -1.06066 \nC 0.77937 -1.341951 0.397805 -1.5 0 -1.5 \nC -0.397805 -1.5 -0.77937 -1.341951 -1.06066 -1.06066 \nC -1.341951 -0.77937 -1.5 -0.397805 -1.5 0 \nC -1.5 0.397805 -1.341951 0.77937 -1.06066 1.06066 \nC -0.77937 1.341951 -0.397805 1.5 0 1.5 \nz\n\" style=\"stroke: #e41a1c; stroke-opacity: 0.494949\"/>\n    </defs>\n    <g clip-path=\"url(#pd4cd23df7d)\">\n     <use xlink:href=\"#md787ef7401\" x=\"308.44346\" y=\"133.299819\" style=\"fill: #e41a1c; fill-opacity: 0.494949; stroke: #e41a1c; stroke-opacity: 0.494949\"/>\n    </g>\n   </g>\n   <g id=\"line2d_64\">\n    <defs>\n     <path id=\"m58a42d31d8\" d=\"M 0 1.5 \nC 0.397805 1.5 0.77937 1.341951 1.06066 1.06066 \nC 1.341951 0.77937 1.5 0.397805 1.5 0 \nC 1.5 -0.397805 1.341951 -0.77937 1.06066 -1.06066 \nC 0.77937 -1.341951 0.397805 -1.5 0 -1.5 \nC -0.397805 -1.5 -0.77937 -1.341951 -1.06066 -1.06066 \nC -1.341951 -0.77937 -1.5 -0.397805 -1.5 0 \nC -1.5 0.397805 -1.341951 0.77937 -1.06066 1.06066 \nC -0.77937 1.341951 -0.397805 1.5 0 1.5 \nz\n\" style=\"stroke: #e41a1c; stroke-opacity: 0.484848\"/>\n    </defs>\n    <g clip-path=\"url(#pd4cd23df7d)\">\n     <use xlink:href=\"#m58a42d31d8\" x=\"309.77221\" y=\"133.585797\" style=\"fill: #e41a1c; fill-opacity: 0.484848; stroke: #e41a1c; stroke-opacity: 0.484848\"/>\n    </g>\n   </g>\n   <g id=\"line2d_65\">\n    <defs>\n     <path id=\"mae21f3b764\" d=\"M 0 1.5 \nC 0.397805 1.5 0.77937 1.341951 1.06066 1.06066 \nC 1.341951 0.77937 1.5 0.397805 1.5 0 \nC 1.5 -0.397805 1.341951 -0.77937 1.06066 -1.06066 \nC 0.77937 -1.341951 0.397805 -1.5 0 -1.5 \nC -0.397805 -1.5 -0.77937 -1.341951 -1.06066 -1.06066 \nC -1.341951 -0.77937 -1.5 -0.397805 -1.5 0 \nC -1.5 0.397805 -1.341951 0.77937 -1.06066 1.06066 \nC -0.77937 1.341951 -0.397805 1.5 0 1.5 \nz\n\" style=\"stroke: #e41a1c; stroke-opacity: 0.474747\"/>\n    </defs>\n    <g clip-path=\"url(#pd4cd23df7d)\">\n     <use xlink:href=\"#mae21f3b764\" x=\"311.050403\" y=\"133.863821\" style=\"fill: #e41a1c; fill-opacity: 0.474747; stroke: #e41a1c; stroke-opacity: 0.474747\"/>\n    </g>\n   </g>\n   <g id=\"line2d_66\">\n    <defs>\n     <path id=\"m7477c7ab14\" d=\"M 0 1.5 \nC 0.397805 1.5 0.77937 1.341951 1.06066 1.06066 \nC 1.341951 0.77937 1.5 0.397805 1.5 0 \nC 1.5 -0.397805 1.341951 -0.77937 1.06066 -1.06066 \nC 0.77937 -1.341951 0.397805 -1.5 0 -1.5 \nC -0.397805 -1.5 -0.77937 -1.341951 -1.06066 -1.06066 \nC -1.341951 -0.77937 -1.5 -0.397805 -1.5 0 \nC -1.5 0.397805 -1.341951 0.77937 -1.06066 1.06066 \nC -0.77937 1.341951 -0.397805 1.5 0 1.5 \nz\n\" style=\"stroke: #e41a1c; stroke-opacity: 0.464646\"/>\n    </defs>\n    <g clip-path=\"url(#pd4cd23df7d)\">\n     <use xlink:href=\"#m7477c7ab14\" x=\"312.278058\" y=\"134.134069\" style=\"fill: #e41a1c; fill-opacity: 0.464646; stroke: #e41a1c; stroke-opacity: 0.464646\"/>\n    </g>\n   </g>\n   <g id=\"line2d_67\">\n    <defs>\n     <path id=\"m78a178595d\" d=\"M 0 1.5 \nC 0.397805 1.5 0.77937 1.341951 1.06066 1.06066 \nC 1.341951 0.77937 1.5 0.397805 1.5 0 \nC 1.5 -0.397805 1.341951 -0.77937 1.06066 -1.06066 \nC 0.77937 -1.341951 0.397805 -1.5 0 -1.5 \nC -0.397805 -1.5 -0.77937 -1.341951 -1.06066 -1.06066 \nC -1.341951 -0.77937 -1.5 -0.397805 -1.5 0 \nC -1.5 0.397805 -1.341951 0.77937 -1.06066 1.06066 \nC -0.77937 1.341951 -0.397805 1.5 0 1.5 \nz\n\" style=\"stroke: #e41a1c; stroke-opacity: 0.454545\"/>\n    </defs>\n    <g clip-path=\"url(#pd4cd23df7d)\">\n     <use xlink:href=\"#m78a178595d\" x=\"313.455257\" y=\"134.396702\" style=\"fill: #e41a1c; fill-opacity: 0.454545; stroke: #e41a1c; stroke-opacity: 0.454545\"/>\n    </g>\n   </g>\n   <g id=\"line2d_68\">\n    <defs>\n     <path id=\"mb6db4d644f\" d=\"M 0 1.5 \nC 0.397805 1.5 0.77937 1.341951 1.06066 1.06066 \nC 1.341951 0.77937 1.5 0.397805 1.5 0 \nC 1.5 -0.397805 1.341951 -0.77937 1.06066 -1.06066 \nC 0.77937 -1.341951 0.397805 -1.5 0 -1.5 \nC -0.397805 -1.5 -0.77937 -1.341951 -1.06066 -1.06066 \nC -1.341951 -0.77937 -1.5 -0.397805 -1.5 0 \nC -1.5 0.397805 -1.341951 0.77937 -1.06066 1.06066 \nC -0.77937 1.341951 -0.397805 1.5 0 1.5 \nz\n\" style=\"stroke: #e41a1c; stroke-opacity: 0.444444\"/>\n    </defs>\n    <g clip-path=\"url(#pd4cd23df7d)\">\n     <use xlink:href=\"#mb6db4d644f\" x=\"314.58215\" y=\"134.651863\" style=\"fill: #e41a1c; fill-opacity: 0.444444; stroke: #e41a1c; stroke-opacity: 0.444444\"/>\n    </g>\n   </g>\n   <g id=\"line2d_69\">\n    <defs>\n     <path id=\"m482b9be21c\" d=\"M 0 1.5 \nC 0.397805 1.5 0.77937 1.341951 1.06066 1.06066 \nC 1.341951 0.77937 1.5 0.397805 1.5 0 \nC 1.5 -0.397805 1.341951 -0.77937 1.06066 -1.06066 \nC 0.77937 -1.341951 0.397805 -1.5 0 -1.5 \nC -0.397805 -1.5 -0.77937 -1.341951 -1.06066 -1.06066 \nC -1.341951 -0.77937 -1.5 -0.397805 -1.5 0 \nC -1.5 0.397805 -1.341951 0.77937 -1.06066 1.06066 \nC -0.77937 1.341951 -0.397805 1.5 0 1.5 \nz\n\" style=\"stroke: #e41a1c; stroke-opacity: 0.434343\"/>\n    </defs>\n    <g clip-path=\"url(#pd4cd23df7d)\">\n     <use xlink:href=\"#m482b9be21c\" x=\"315.65895\" y=\"134.899667\" style=\"fill: #e41a1c; fill-opacity: 0.434343; stroke: #e41a1c; stroke-opacity: 0.434343\"/>\n    </g>\n   </g>\n   <g id=\"line2d_70\">\n    <defs>\n     <path id=\"mb5a467e39c\" d=\"M 0 1.5 \nC 0.397805 1.5 0.77937 1.341951 1.06066 1.06066 \nC 1.341951 0.77937 1.5 0.397805 1.5 0 \nC 1.5 -0.397805 1.341951 -0.77937 1.06066 -1.06066 \nC 0.77937 -1.341951 0.397805 -1.5 0 -1.5 \nC -0.397805 -1.5 -0.77937 -1.341951 -1.06066 -1.06066 \nC -1.341951 -0.77937 -1.5 -0.397805 -1.5 0 \nC -1.5 0.397805 -1.341951 0.77937 -1.06066 1.06066 \nC -0.77937 1.341951 -0.397805 1.5 0 1.5 \nz\n\" style=\"stroke: #e41a1c; stroke-opacity: 0.424242\"/>\n    </defs>\n    <g clip-path=\"url(#pd4cd23df7d)\">\n     <use xlink:href=\"#mb5a467e39c\" x=\"316.685932\" y=\"135.140206\" style=\"fill: #e41a1c; fill-opacity: 0.424242; stroke: #e41a1c; stroke-opacity: 0.424242\"/>\n    </g>\n   </g>\n   <g id=\"line2d_71\">\n    <defs>\n     <path id=\"mf7680057b8\" d=\"M 0 1.5 \nC 0.397805 1.5 0.77937 1.341951 1.06066 1.06066 \nC 1.341951 0.77937 1.5 0.397805 1.5 0 \nC 1.5 -0.397805 1.341951 -0.77937 1.06066 -1.06066 \nC 0.77937 -1.341951 0.397805 -1.5 0 -1.5 \nC -0.397805 -1.5 -0.77937 -1.341951 -1.06066 -1.06066 \nC -1.341951 -0.77937 -1.5 -0.397805 -1.5 0 \nC -1.5 0.397805 -1.341951 0.77937 -1.06066 1.06066 \nC -0.77937 1.341951 -0.397805 1.5 0 1.5 \nz\n\" style=\"stroke: #e41a1c; stroke-opacity: 0.414141\"/>\n    </defs>\n    <g clip-path=\"url(#pd4cd23df7d)\">\n     <use xlink:href=\"#mf7680057b8\" x=\"317.66343\" y=\"135.37354\" style=\"fill: #e41a1c; fill-opacity: 0.414141; stroke: #e41a1c; stroke-opacity: 0.414141\"/>\n    </g>\n   </g>\n   <g id=\"line2d_72\">\n    <defs>\n     <path id=\"m0789bd2d17\" d=\"M 0 1.5 \nC 0.397805 1.5 0.77937 1.341951 1.06066 1.06066 \nC 1.341951 0.77937 1.5 0.397805 1.5 0 \nC 1.5 -0.397805 1.341951 -0.77937 1.06066 -1.06066 \nC 0.77937 -1.341951 0.397805 -1.5 0 -1.5 \nC -0.397805 -1.5 -0.77937 -1.341951 -1.06066 -1.06066 \nC -1.341951 -0.77937 -1.5 -0.397805 -1.5 0 \nC -1.5 0.397805 -1.341951 0.77937 -1.06066 1.06066 \nC -0.77937 1.341951 -0.397805 1.5 0 1.5 \nz\n\" style=\"stroke: #e41a1c; stroke-opacity: 0.40404\"/>\n    </defs>\n    <g clip-path=\"url(#pd4cd23df7d)\">\n     <use xlink:href=\"#m0789bd2d17\" x=\"318.591836\" y=\"135.599695\" style=\"fill: #e41a1c; fill-opacity: 0.40404; stroke: #e41a1c; stroke-opacity: 0.40404\"/>\n    </g>\n   </g>\n   <g id=\"line2d_73\">\n    <defs>\n     <path id=\"mc32ef4b1e5\" d=\"M 0 1.5 \nC 0.397805 1.5 0.77937 1.341951 1.06066 1.06066 \nC 1.341951 0.77937 1.5 0.397805 1.5 0 \nC 1.5 -0.397805 1.341951 -0.77937 1.06066 -1.06066 \nC 0.77937 -1.341951 0.397805 -1.5 0 -1.5 \nC -0.397805 -1.5 -0.77937 -1.341951 -1.06066 -1.06066 \nC -1.341951 -0.77937 -1.5 -0.397805 -1.5 0 \nC -1.5 0.397805 -1.341951 0.77937 -1.06066 1.06066 \nC -0.77937 1.341951 -0.397805 1.5 0 1.5 \nz\n\" style=\"stroke: #e41a1c; stroke-opacity: 0.393939\"/>\n    </defs>\n    <g clip-path=\"url(#pd4cd23df7d)\">\n     <use xlink:href=\"#mc32ef4b1e5\" x=\"319.471596\" y=\"135.818664\" style=\"fill: #e41a1c; fill-opacity: 0.393939; stroke: #e41a1c; stroke-opacity: 0.393939\"/>\n    </g>\n   </g>\n   <g id=\"line2d_74\">\n    <defs>\n     <path id=\"m65ee913c63\" d=\"M 0 1.5 \nC 0.397805 1.5 0.77937 1.341951 1.06066 1.06066 \nC 1.341951 0.77937 1.5 0.397805 1.5 0 \nC 1.5 -0.397805 1.341951 -0.77937 1.06066 -1.06066 \nC 0.77937 -1.341951 0.397805 -1.5 0 -1.5 \nC -0.397805 -1.5 -0.77937 -1.341951 -1.06066 -1.06066 \nC -1.341951 -0.77937 -1.5 -0.397805 -1.5 0 \nC -1.5 0.397805 -1.341951 0.77937 -1.06066 1.06066 \nC -0.77937 1.341951 -0.397805 1.5 0 1.5 \nz\n\" style=\"stroke: #e41a1c; stroke-opacity: 0.383838\"/>\n    </defs>\n    <g clip-path=\"url(#pd4cd23df7d)\">\n     <use xlink:href=\"#m65ee913c63\" x=\"320.303206\" y=\"136.030398\" style=\"fill: #e41a1c; fill-opacity: 0.383838; stroke: #e41a1c; stroke-opacity: 0.383838\"/>\n    </g>\n   </g>\n   <g id=\"line2d_75\">\n    <defs>\n     <path id=\"mc1e7813bca\" d=\"M 0 1.5 \nC 0.397805 1.5 0.77937 1.341951 1.06066 1.06066 \nC 1.341951 0.77937 1.5 0.397805 1.5 0 \nC 1.5 -0.397805 1.341951 -0.77937 1.06066 -1.06066 \nC 0.77937 -1.341951 0.397805 -1.5 0 -1.5 \nC -0.397805 -1.5 -0.77937 -1.341951 -1.06066 -1.06066 \nC -1.341951 -0.77937 -1.5 -0.397805 -1.5 0 \nC -1.5 0.397805 -1.341951 0.77937 -1.06066 1.06066 \nC -0.77937 1.341951 -0.397805 1.5 0 1.5 \nz\n\" style=\"stroke: #e41a1c; stroke-opacity: 0.373737\"/>\n    </defs>\n    <g clip-path=\"url(#pd4cd23df7d)\">\n     <use xlink:href=\"#mc1e7813bca\" x=\"321.087215\" y=\"136.234812\" style=\"fill: #e41a1c; fill-opacity: 0.373737; stroke: #e41a1c; stroke-opacity: 0.373737\"/>\n    </g>\n   </g>\n   <g id=\"line2d_76\">\n    <defs>\n     <path id=\"mf524a963cd\" d=\"M 0 1.5 \nC 0.397805 1.5 0.77937 1.341951 1.06066 1.06066 \nC 1.341951 0.77937 1.5 0.397805 1.5 0 \nC 1.5 -0.397805 1.341951 -0.77937 1.06066 -1.06066 \nC 0.77937 -1.341951 0.397805 -1.5 0 -1.5 \nC -0.397805 -1.5 -0.77937 -1.341951 -1.06066 -1.06066 \nC -1.341951 -0.77937 -1.5 -0.397805 -1.5 0 \nC -1.5 0.397805 -1.341951 0.77937 -1.06066 1.06066 \nC -0.77937 1.341951 -0.397805 1.5 0 1.5 \nz\n\" style=\"stroke: #e41a1c; stroke-opacity: 0.363636\"/>\n    </defs>\n    <g clip-path=\"url(#pd4cd23df7d)\">\n     <use xlink:href=\"#mf524a963cd\" x=\"321.824212\" y=\"136.431775\" style=\"fill: #e41a1c; fill-opacity: 0.363636; stroke: #e41a1c; stroke-opacity: 0.363636\"/>\n    </g>\n   </g>\n   <g id=\"line2d_77\">\n    <defs>\n     <path id=\"m9976651f58\" d=\"M 0 1.5 \nC 0.397805 1.5 0.77937 1.341951 1.06066 1.06066 \nC 1.341951 0.77937 1.5 0.397805 1.5 0 \nC 1.5 -0.397805 1.341951 -0.77937 1.06066 -1.06066 \nC 0.77937 -1.341951 0.397805 -1.5 0 -1.5 \nC -0.397805 -1.5 -0.77937 -1.341951 -1.06066 -1.06066 \nC -1.341951 -0.77937 -1.5 -0.397805 -1.5 0 \nC -1.5 0.397805 -1.341951 0.77937 -1.06066 1.06066 \nC -0.77937 1.341951 -0.397805 1.5 0 1.5 \nz\n\" style=\"stroke: #e41a1c; stroke-opacity: 0.353535\"/>\n    </defs>\n    <g clip-path=\"url(#pd4cd23df7d)\">\n     <use xlink:href=\"#m9976651f58\" x=\"322.514831\" y=\"136.621113\" style=\"fill: #e41a1c; fill-opacity: 0.353535; stroke: #e41a1c; stroke-opacity: 0.353535\"/>\n    </g>\n   </g>\n   <g id=\"line2d_78\">\n    <defs>\n     <path id=\"mccfdf31df7\" d=\"M 0 1.5 \nC 0.397805 1.5 0.77937 1.341951 1.06066 1.06066 \nC 1.341951 0.77937 1.5 0.397805 1.5 0 \nC 1.5 -0.397805 1.341951 -0.77937 1.06066 -1.06066 \nC 0.77937 -1.341951 0.397805 -1.5 0 -1.5 \nC -0.397805 -1.5 -0.77937 -1.341951 -1.06066 -1.06066 \nC -1.341951 -0.77937 -1.5 -0.397805 -1.5 0 \nC -1.5 0.397805 -1.341951 0.77937 -1.06066 1.06066 \nC -0.77937 1.341951 -0.397805 1.5 0 1.5 \nz\n\" style=\"stroke: #e41a1c; stroke-opacity: 0.343434\"/>\n    </defs>\n    <g clip-path=\"url(#pd4cd23df7d)\">\n     <use xlink:href=\"#mccfdf31df7\" x=\"323.159745\" y=\"136.802605\" style=\"fill: #e41a1c; fill-opacity: 0.343434; stroke: #e41a1c; stroke-opacity: 0.343434\"/>\n    </g>\n   </g>\n   <g id=\"line2d_79\">\n    <defs>\n     <path id=\"m5b4f58d990\" d=\"M 0 1.5 \nC 0.397805 1.5 0.77937 1.341951 1.06066 1.06066 \nC 1.341951 0.77937 1.5 0.397805 1.5 0 \nC 1.5 -0.397805 1.341951 -0.77937 1.06066 -1.06066 \nC 0.77937 -1.341951 0.397805 -1.5 0 -1.5 \nC -0.397805 -1.5 -0.77937 -1.341951 -1.06066 -1.06066 \nC -1.341951 -0.77937 -1.5 -0.397805 -1.5 0 \nC -1.5 0.397805 -1.341951 0.77937 -1.06066 1.06066 \nC -0.77937 1.341951 -0.397805 1.5 0 1.5 \nz\n\" style=\"stroke: #e41a1c; stroke-opacity: 0.333333\"/>\n    </defs>\n    <g clip-path=\"url(#pd4cd23df7d)\">\n     <use xlink:href=\"#m5b4f58d990\" x=\"323.75966\" y=\"136.975987\" style=\"fill: #e41a1c; fill-opacity: 0.333333; stroke: #e41a1c; stroke-opacity: 0.333333\"/>\n    </g>\n   </g>\n   <g id=\"line2d_80\">\n    <defs>\n     <path id=\"m8d2ecd0d99\" d=\"M 0 1.5 \nC 0.397805 1.5 0.77937 1.341951 1.06066 1.06066 \nC 1.341951 0.77937 1.5 0.397805 1.5 0 \nC 1.5 -0.397805 1.341951 -0.77937 1.06066 -1.06066 \nC 0.77937 -1.341951 0.397805 -1.5 0 -1.5 \nC -0.397805 -1.5 -0.77937 -1.341951 -1.06066 -1.06066 \nC -1.341951 -0.77937 -1.5 -0.397805 -1.5 0 \nC -1.5 0.397805 -1.341951 0.77937 -1.06066 1.06066 \nC -0.77937 1.341951 -0.397805 1.5 0 1.5 \nz\n\" style=\"stroke: #e41a1c; stroke-opacity: 0.323232\"/>\n    </defs>\n    <g clip-path=\"url(#pd4cd23df7d)\">\n     <use xlink:href=\"#m8d2ecd0d99\" x=\"324.315314\" y=\"137.140943\" style=\"fill: #e41a1c; fill-opacity: 0.323232; stroke: #e41a1c; stroke-opacity: 0.323232\"/>\n    </g>\n   </g>\n   <g id=\"line2d_81\">\n    <defs>\n     <path id=\"mfe57cc6810\" d=\"M 0 1.5 \nC 0.397805 1.5 0.77937 1.341951 1.06066 1.06066 \nC 1.341951 0.77937 1.5 0.397805 1.5 0 \nC 1.5 -0.397805 1.341951 -0.77937 1.06066 -1.06066 \nC 0.77937 -1.341951 0.397805 -1.5 0 -1.5 \nC -0.397805 -1.5 -0.77937 -1.341951 -1.06066 -1.06066 \nC -1.341951 -0.77937 -1.5 -0.397805 -1.5 0 \nC -1.5 0.397805 -1.341951 0.77937 -1.06066 1.06066 \nC -0.77937 1.341951 -0.397805 1.5 0 1.5 \nz\n\" style=\"stroke: #e41a1c; stroke-opacity: 0.313131\"/>\n    </defs>\n    <g clip-path=\"url(#pd4cd23df7d)\">\n     <use xlink:href=\"#mfe57cc6810\" x=\"324.827473\" y=\"137.297112\" style=\"fill: #e41a1c; fill-opacity: 0.313131; stroke: #e41a1c; stroke-opacity: 0.313131\"/>\n    </g>\n   </g>\n   <g id=\"line2d_82\">\n    <defs>\n     <path id=\"mbc8abdc26d\" d=\"M 0 1.5 \nC 0.397805 1.5 0.77937 1.341951 1.06066 1.06066 \nC 1.341951 0.77937 1.5 0.397805 1.5 0 \nC 1.5 -0.397805 1.341951 -0.77937 1.06066 -1.06066 \nC 0.77937 -1.341951 0.397805 -1.5 0 -1.5 \nC -0.397805 -1.5 -0.77937 -1.341951 -1.06066 -1.06066 \nC -1.341951 -0.77937 -1.5 -0.397805 -1.5 0 \nC -1.5 0.397805 -1.341951 0.77937 -1.06066 1.06066 \nC -0.77937 1.341951 -0.397805 1.5 0 1.5 \nz\n\" style=\"stroke: #e41a1c; stroke-opacity: 0.30303\"/>\n    </defs>\n    <g clip-path=\"url(#pd4cd23df7d)\">\n     <use xlink:href=\"#mbc8abdc26d\" x=\"325.296924\" y=\"137.444082\" style=\"fill: #e41a1c; fill-opacity: 0.30303; stroke: #e41a1c; stroke-opacity: 0.30303\"/>\n    </g>\n   </g>\n   <g id=\"line2d_83\">\n    <defs>\n     <path id=\"meab30a48c0\" d=\"M 0 1.5 \nC 0.397805 1.5 0.77937 1.341951 1.06066 1.06066 \nC 1.341951 0.77937 1.5 0.397805 1.5 0 \nC 1.5 -0.397805 1.341951 -0.77937 1.06066 -1.06066 \nC 0.77937 -1.341951 0.397805 -1.5 0 -1.5 \nC -0.397805 -1.5 -0.77937 -1.341951 -1.06066 -1.06066 \nC -1.341951 -0.77937 -1.5 -0.397805 -1.5 0 \nC -1.5 0.397805 -1.341951 0.77937 -1.06066 1.06066 \nC -0.77937 1.341951 -0.397805 1.5 0 1.5 \nz\n\" style=\"stroke: #e41a1c; stroke-opacity: 0.292929\"/>\n    </defs>\n    <g clip-path=\"url(#pd4cd23df7d)\">\n     <use xlink:href=\"#meab30a48c0\" x=\"325.724477\" y=\"137.581396\" style=\"fill: #e41a1c; fill-opacity: 0.292929; stroke: #e41a1c; stroke-opacity: 0.292929\"/>\n    </g>\n   </g>\n   <g id=\"line2d_84\">\n    <defs>\n     <path id=\"m913e6b5edb\" d=\"M 0 1.5 \nC 0.397805 1.5 0.77937 1.341951 1.06066 1.06066 \nC 1.341951 0.77937 1.5 0.397805 1.5 0 \nC 1.5 -0.397805 1.341951 -0.77937 1.06066 -1.06066 \nC 0.77937 -1.341951 0.397805 -1.5 0 -1.5 \nC -0.397805 -1.5 -0.77937 -1.341951 -1.06066 -1.06066 \nC -1.341951 -0.77937 -1.5 -0.397805 -1.5 0 \nC -1.5 0.397805 -1.341951 0.77937 -1.06066 1.06066 \nC -0.77937 1.341951 -0.397805 1.5 0 1.5 \nz\n\" style=\"stroke: #e41a1c; stroke-opacity: 0.282828\"/>\n    </defs>\n    <g clip-path=\"url(#pd4cd23df7d)\">\n     <use xlink:href=\"#m913e6b5edb\" x=\"326.110956\" y=\"137.708546\" style=\"fill: #e41a1c; fill-opacity: 0.282828; stroke: #e41a1c; stroke-opacity: 0.282828\"/>\n    </g>\n   </g>\n   <g id=\"line2d_85\">\n    <defs>\n     <path id=\"m0ad663a6cd\" d=\"M 0 1.5 \nC 0.397805 1.5 0.77937 1.341951 1.06066 1.06066 \nC 1.341951 0.77937 1.5 0.397805 1.5 0 \nC 1.5 -0.397805 1.341951 -0.77937 1.06066 -1.06066 \nC 0.77937 -1.341951 0.397805 -1.5 0 -1.5 \nC -0.397805 -1.5 -0.77937 -1.341951 -1.06066 -1.06066 \nC -1.341951 -0.77937 -1.5 -0.397805 -1.5 0 \nC -1.5 0.397805 -1.341951 0.77937 -1.06066 1.06066 \nC -0.77937 1.341951 -0.397805 1.5 0 1.5 \nz\n\" style=\"stroke: #e41a1c; stroke-opacity: 0.272727\"/>\n    </defs>\n    <g clip-path=\"url(#pd4cd23df7d)\">\n     <use xlink:href=\"#m0ad663a6cd\" x=\"326.457195\" y=\"137.824978\" style=\"fill: #e41a1c; fill-opacity: 0.272727; stroke: #e41a1c; stroke-opacity: 0.272727\"/>\n    </g>\n   </g>\n   <g id=\"line2d_86\">\n    <defs>\n     <path id=\"mf481ccbe1e\" d=\"M 0 1.5 \nC 0.397805 1.5 0.77937 1.341951 1.06066 1.06066 \nC 1.341951 0.77937 1.5 0.397805 1.5 0 \nC 1.5 -0.397805 1.341951 -0.77937 1.06066 -1.06066 \nC 0.77937 -1.341951 0.397805 -1.5 0 -1.5 \nC -0.397805 -1.5 -0.77937 -1.341951 -1.06066 -1.06066 \nC -1.341951 -0.77937 -1.5 -0.397805 -1.5 0 \nC -1.5 0.397805 -1.341951 0.77937 -1.06066 1.06066 \nC -0.77937 1.341951 -0.397805 1.5 0 1.5 \nz\n\" style=\"stroke: #e41a1c; stroke-opacity: 0.262626\"/>\n    </defs>\n    <g clip-path=\"url(#pd4cd23df7d)\">\n     <use xlink:href=\"#mf481ccbe1e\" x=\"326.764038\" y=\"137.930092\" style=\"fill: #e41a1c; fill-opacity: 0.262626; stroke: #e41a1c; stroke-opacity: 0.262626\"/>\n    </g>\n   </g>\n   <g id=\"line2d_87\">\n    <defs>\n     <path id=\"md4bfde3932\" d=\"M 0 1.5 \nC 0.397805 1.5 0.77937 1.341951 1.06066 1.06066 \nC 1.341951 0.77937 1.5 0.397805 1.5 0 \nC 1.5 -0.397805 1.341951 -0.77937 1.06066 -1.06066 \nC 0.77937 -1.341951 0.397805 -1.5 0 -1.5 \nC -0.397805 -1.5 -0.77937 -1.341951 -1.06066 -1.06066 \nC -1.341951 -0.77937 -1.5 -0.397805 -1.5 0 \nC -1.5 0.397805 -1.341951 0.77937 -1.06066 1.06066 \nC -0.77937 1.341951 -0.397805 1.5 0 1.5 \nz\n\" style=\"stroke: #e41a1c; stroke-opacity: 0.252525\"/>\n    </defs>\n    <g clip-path=\"url(#pd4cd23df7d)\">\n     <use xlink:href=\"#md4bfde3932\" x=\"327.032332\" y=\"138.023243\" style=\"fill: #e41a1c; fill-opacity: 0.252525; stroke: #e41a1c; stroke-opacity: 0.252525\"/>\n    </g>\n   </g>\n   <g id=\"line2d_88\">\n    <defs>\n     <path id=\"m27b65baa7a\" d=\"M 0 1.5 \nC 0.397805 1.5 0.77937 1.341951 1.06066 1.06066 \nC 1.341951 0.77937 1.5 0.397805 1.5 0 \nC 1.5 -0.397805 1.341951 -0.77937 1.06066 -1.06066 \nC 0.77937 -1.341951 0.397805 -1.5 0 -1.5 \nC -0.397805 -1.5 -0.77937 -1.341951 -1.06066 -1.06066 \nC -1.341951 -0.77937 -1.5 -0.397805 -1.5 0 \nC -1.5 0.397805 -1.341951 0.77937 -1.06066 1.06066 \nC -0.77937 1.341951 -0.397805 1.5 0 1.5 \nz\n\" style=\"stroke: #e41a1c; stroke-opacity: 0.242424\"/>\n    </defs>\n    <g clip-path=\"url(#pd4cd23df7d)\">\n     <use xlink:href=\"#m27b65baa7a\" x=\"327.262923\" y=\"138.103743\" style=\"fill: #e41a1c; fill-opacity: 0.242424; stroke: #e41a1c; stroke-opacity: 0.242424\"/>\n    </g>\n   </g>\n   <g id=\"line2d_89\">\n    <defs>\n     <path id=\"mfe300341b4\" d=\"M 0 1.5 \nC 0.397805 1.5 0.77937 1.341951 1.06066 1.06066 \nC 1.341951 0.77937 1.5 0.397805 1.5 0 \nC 1.5 -0.397805 1.341951 -0.77937 1.06066 -1.06066 \nC 0.77937 -1.341951 0.397805 -1.5 0 -1.5 \nC -0.397805 -1.5 -0.77937 -1.341951 -1.06066 -1.06066 \nC -1.341951 -0.77937 -1.5 -0.397805 -1.5 0 \nC -1.5 0.397805 -1.341951 0.77937 -1.06066 1.06066 \nC -0.77937 1.341951 -0.397805 1.5 0 1.5 \nz\n\" style=\"stroke: #e41a1c; stroke-opacity: 0.232323\"/>\n    </defs>\n    <g clip-path=\"url(#pd4cd23df7d)\">\n     <use xlink:href=\"#mfe300341b4\" x=\"327.456654\" y=\"138.170863\" style=\"fill: #e41a1c; fill-opacity: 0.232323; stroke: #e41a1c; stroke-opacity: 0.232323\"/>\n    </g>\n   </g>\n   <g id=\"line2d_90\">\n    <defs>\n     <path id=\"m6b20fb80b4\" d=\"M 0 1.5 \nC 0.397805 1.5 0.77937 1.341951 1.06066 1.06066 \nC 1.341951 0.77937 1.5 0.397805 1.5 0 \nC 1.5 -0.397805 1.341951 -0.77937 1.06066 -1.06066 \nC 0.77937 -1.341951 0.397805 -1.5 0 -1.5 \nC -0.397805 -1.5 -0.77937 -1.341951 -1.06066 -1.06066 \nC -1.341951 -0.77937 -1.5 -0.397805 -1.5 0 \nC -1.5 0.397805 -1.341951 0.77937 -1.06066 1.06066 \nC -0.77937 1.341951 -0.397805 1.5 0 1.5 \nz\n\" style=\"stroke: #e41a1c; stroke-opacity: 0.222222\"/>\n    </defs>\n    <g clip-path=\"url(#pd4cd23df7d)\">\n     <use xlink:href=\"#m6b20fb80b4\" x=\"327.614359\" y=\"138.223835\" style=\"fill: #e41a1c; fill-opacity: 0.222222; stroke: #e41a1c; stroke-opacity: 0.222222\"/>\n    </g>\n   </g>\n   <g id=\"line2d_91\">\n    <defs>\n     <path id=\"m38050a408c\" d=\"M 0 1.5 \nC 0.397805 1.5 0.77937 1.341951 1.06066 1.06066 \nC 1.341951 0.77937 1.5 0.397805 1.5 0 \nC 1.5 -0.397805 1.341951 -0.77937 1.06066 -1.06066 \nC 0.77937 -1.341951 0.397805 -1.5 0 -1.5 \nC -0.397805 -1.5 -0.77937 -1.341951 -1.06066 -1.06066 \nC -1.341951 -0.77937 -1.5 -0.397805 -1.5 0 \nC -1.5 0.397805 -1.341951 0.77937 -1.06066 1.06066 \nC -0.77937 1.341951 -0.397805 1.5 0 1.5 \nz\n\" style=\"stroke: #e41a1c; stroke-opacity: 0.212121\"/>\n    </defs>\n    <g clip-path=\"url(#pd4cd23df7d)\">\n     <use xlink:href=\"#m38050a408c\" x=\"327.736864\" y=\"138.261853\" style=\"fill: #e41a1c; fill-opacity: 0.212121; stroke: #e41a1c; stroke-opacity: 0.212121\"/>\n    </g>\n   </g>\n   <g id=\"line2d_92\">\n    <defs>\n     <path id=\"m1ab545cd85\" d=\"M 0 1.5 \nC 0.397805 1.5 0.77937 1.341951 1.06066 1.06066 \nC 1.341951 0.77937 1.5 0.397805 1.5 0 \nC 1.5 -0.397805 1.341951 -0.77937 1.06066 -1.06066 \nC 0.77937 -1.341951 0.397805 -1.5 0 -1.5 \nC -0.397805 -1.5 -0.77937 -1.341951 -1.06066 -1.06066 \nC -1.341951 -0.77937 -1.5 -0.397805 -1.5 0 \nC -1.5 0.397805 -1.341951 0.77937 -1.06066 1.06066 \nC -0.77937 1.341951 -0.397805 1.5 0 1.5 \nz\n\" style=\"stroke: #e41a1c; stroke-opacity: 0.20202\"/>\n    </defs>\n    <g clip-path=\"url(#pd4cd23df7d)\">\n     <use xlink:href=\"#m1ab545cd85\" x=\"327.824975\" y=\"138.28408\" style=\"fill: #e41a1c; fill-opacity: 0.20202; stroke: #e41a1c; stroke-opacity: 0.20202\"/>\n    </g>\n   </g>\n   <g id=\"line2d_93\">\n    <defs>\n     <path id=\"mea93900559\" d=\"M 0 1.5 \nC 0.397805 1.5 0.77937 1.341951 1.06066 1.06066 \nC 1.341951 0.77937 1.5 0.397805 1.5 0 \nC 1.5 -0.397805 1.341951 -0.77937 1.06066 -1.06066 \nC 0.77937 -1.341951 0.397805 -1.5 0 -1.5 \nC -0.397805 -1.5 -0.77937 -1.341951 -1.06066 -1.06066 \nC -1.341951 -0.77937 -1.5 -0.397805 -1.5 0 \nC -1.5 0.397805 -1.341951 0.77937 -1.06066 1.06066 \nC -0.77937 1.341951 -0.397805 1.5 0 1.5 \nz\n\" style=\"stroke: #e41a1c; stroke-opacity: 0.191919\"/>\n    </defs>\n    <g clip-path=\"url(#pd4cd23df7d)\">\n     <use xlink:href=\"#mea93900559\" x=\"327.879483\" y=\"138.289646\" style=\"fill: #e41a1c; fill-opacity: 0.191919; stroke: #e41a1c; stroke-opacity: 0.191919\"/>\n    </g>\n   </g>\n   <g id=\"line2d_94\">\n    <defs>\n     <path id=\"m1c403b214b\" d=\"M 0 1.5 \nC 0.397805 1.5 0.77937 1.341951 1.06066 1.06066 \nC 1.341951 0.77937 1.5 0.397805 1.5 0 \nC 1.5 -0.397805 1.341951 -0.77937 1.06066 -1.06066 \nC 0.77937 -1.341951 0.397805 -1.5 0 -1.5 \nC -0.397805 -1.5 -0.77937 -1.341951 -1.06066 -1.06066 \nC -1.341951 -0.77937 -1.5 -0.397805 -1.5 0 \nC -1.5 0.397805 -1.341951 0.77937 -1.06066 1.06066 \nC -0.77937 1.341951 -0.397805 1.5 0 1.5 \nz\n\" style=\"stroke: #e41a1c; stroke-opacity: 0.181818\"/>\n    </defs>\n    <g clip-path=\"url(#pd4cd23df7d)\">\n     <use xlink:href=\"#m1c403b214b\" x=\"327.901157\" y=\"138.277657\" style=\"fill: #e41a1c; fill-opacity: 0.181818; stroke: #e41a1c; stroke-opacity: 0.181818\"/>\n    </g>\n   </g>\n   <g id=\"line2d_95\">\n    <defs>\n     <path id=\"m0d28dfeb19\" d=\"M 0 1.5 \nC 0.397805 1.5 0.77937 1.341951 1.06066 1.06066 \nC 1.341951 0.77937 1.5 0.397805 1.5 0 \nC 1.5 -0.397805 1.341951 -0.77937 1.06066 -1.06066 \nC 0.77937 -1.341951 0.397805 -1.5 0 -1.5 \nC -0.397805 -1.5 -0.77937 -1.341951 -1.06066 -1.06066 \nC -1.341951 -0.77937 -1.5 -0.397805 -1.5 0 \nC -1.5 0.397805 -1.341951 0.77937 -1.06066 1.06066 \nC -0.77937 1.341951 -0.397805 1.5 0 1.5 \nz\n\" style=\"stroke: #e41a1c; stroke-opacity: 0.171717\"/>\n    </defs>\n    <g clip-path=\"url(#pd4cd23df7d)\">\n     <use xlink:href=\"#m0d28dfeb19\" x=\"327.890742\" y=\"138.247194\" style=\"fill: #e41a1c; fill-opacity: 0.171717; stroke: #e41a1c; stroke-opacity: 0.171717\"/>\n    </g>\n   </g>\n   <g id=\"line2d_96\">\n    <defs>\n     <path id=\"m26bcf63d5d\" d=\"M 0 1.5 \nC 0.397805 1.5 0.77937 1.341951 1.06066 1.06066 \nC 1.341951 0.77937 1.5 0.397805 1.5 0 \nC 1.5 -0.397805 1.341951 -0.77937 1.06066 -1.06066 \nC 0.77937 -1.341951 0.397805 -1.5 0 -1.5 \nC -0.397805 -1.5 -0.77937 -1.341951 -1.06066 -1.06066 \nC -1.341951 -0.77937 -1.5 -0.397805 -1.5 0 \nC -1.5 0.397805 -1.341951 0.77937 -1.06066 1.06066 \nC -0.77937 1.341951 -0.397805 1.5 0 1.5 \nz\n\" style=\"stroke: #e41a1c; stroke-opacity: 0.161616\"/>\n    </defs>\n    <g clip-path=\"url(#pd4cd23df7d)\">\n     <use xlink:href=\"#m26bcf63d5d\" x=\"327.848954\" y=\"138.197317\" style=\"fill: #e41a1c; fill-opacity: 0.161616; stroke: #e41a1c; stroke-opacity: 0.161616\"/>\n    </g>\n   </g>\n   <g id=\"line2d_97\">\n    <defs>\n     <path id=\"mcd141893d0\" d=\"M 0 1.5 \nC 0.397805 1.5 0.77937 1.341951 1.06066 1.06066 \nC 1.341951 0.77937 1.5 0.397805 1.5 0 \nC 1.5 -0.397805 1.341951 -0.77937 1.06066 -1.06066 \nC 0.77937 -1.341951 0.397805 -1.5 0 -1.5 \nC -0.397805 -1.5 -0.77937 -1.341951 -1.06066 -1.06066 \nC -1.341951 -0.77937 -1.5 -0.397805 -1.5 0 \nC -1.5 0.397805 -1.341951 0.77937 -1.06066 1.06066 \nC -0.77937 1.341951 -0.397805 1.5 0 1.5 \nz\n\" style=\"stroke: #e41a1c; stroke-opacity: 0.151515\"/>\n    </defs>\n    <g clip-path=\"url(#pd4cd23df7d)\">\n     <use xlink:href=\"#mcd141893d0\" x=\"327.77648\" y=\"138.127073\" style=\"fill: #e41a1c; fill-opacity: 0.151515; stroke: #e41a1c; stroke-opacity: 0.151515\"/>\n    </g>\n   </g>\n   <g id=\"line2d_98\">\n    <defs>\n     <path id=\"m68a87a6b0d\" d=\"M 0 1.5 \nC 0.397805 1.5 0.77937 1.341951 1.06066 1.06066 \nC 1.341951 0.77937 1.5 0.397805 1.5 0 \nC 1.5 -0.397805 1.341951 -0.77937 1.06066 -1.06066 \nC 0.77937 -1.341951 0.397805 -1.5 0 -1.5 \nC -0.397805 -1.5 -0.77937 -1.341951 -1.06066 -1.06066 \nC -1.341951 -0.77937 -1.5 -0.397805 -1.5 0 \nC -1.5 0.397805 -1.341951 0.77937 -1.06066 1.06066 \nC -0.77937 1.341951 -0.397805 1.5 0 1.5 \nz\n\" style=\"stroke: #e41a1c; stroke-opacity: 0.141414\"/>\n    </defs>\n    <g clip-path=\"url(#pd4cd23df7d)\">\n     <use xlink:href=\"#m68a87a6b0d\" x=\"327.673974\" y=\"138.035497\" style=\"fill: #e41a1c; fill-opacity: 0.141414; stroke: #e41a1c; stroke-opacity: 0.141414\"/>\n    </g>\n   </g>\n   <g id=\"line2d_99\">\n    <defs>\n     <path id=\"m694dd8df96\" d=\"M 0 1.5 \nC 0.397805 1.5 0.77937 1.341951 1.06066 1.06066 \nC 1.341951 0.77937 1.5 0.397805 1.5 0 \nC 1.5 -0.397805 1.341951 -0.77937 1.06066 -1.06066 \nC 0.77937 -1.341951 0.397805 -1.5 0 -1.5 \nC -0.397805 -1.5 -0.77937 -1.341951 -1.06066 -1.06066 \nC -1.341951 -0.77937 -1.5 -0.397805 -1.5 0 \nC -1.5 0.397805 -1.341951 0.77937 -1.06066 1.06066 \nC -0.77937 1.341951 -0.397805 1.5 0 1.5 \nz\n\" style=\"stroke: #e41a1c; stroke-opacity: 0.131313\"/>\n    </defs>\n    <g clip-path=\"url(#pd4cd23df7d)\">\n     <use xlink:href=\"#m694dd8df96\" x=\"327.542055\" y=\"137.921617\" style=\"fill: #e41a1c; fill-opacity: 0.131313; stroke: #e41a1c; stroke-opacity: 0.131313\"/>\n    </g>\n   </g>\n   <g id=\"line2d_100\">\n    <defs>\n     <path id=\"m95008575d6\" d=\"M 0 1.5 \nC 0.397805 1.5 0.77937 1.341951 1.06066 1.06066 \nC 1.341951 0.77937 1.5 0.397805 1.5 0 \nC 1.5 -0.397805 1.341951 -0.77937 1.06066 -1.06066 \nC 0.77937 -1.341951 0.397805 -1.5 0 -1.5 \nC -0.397805 -1.5 -0.77937 -1.341951 -1.06066 -1.06066 \nC -1.341951 -0.77937 -1.5 -0.397805 -1.5 0 \nC -1.5 0.397805 -1.341951 0.77937 -1.06066 1.06066 \nC -0.77937 1.341951 -0.397805 1.5 0 1.5 \nz\n\" style=\"stroke: #e41a1c; stroke-opacity: 0.121212\"/>\n    </defs>\n    <g clip-path=\"url(#pd4cd23df7d)\">\n     <use xlink:href=\"#m95008575d6\" x=\"327.381305\" y=\"137.78446\" style=\"fill: #e41a1c; fill-opacity: 0.121212; stroke: #e41a1c; stroke-opacity: 0.121212\"/>\n    </g>\n   </g>\n   <g id=\"line2d_101\">\n    <defs>\n     <path id=\"m02b20bd2b2\" d=\"M 0 1.5 \nC 0.397805 1.5 0.77937 1.341951 1.06066 1.06066 \nC 1.341951 0.77937 1.5 0.397805 1.5 0 \nC 1.5 -0.397805 1.341951 -0.77937 1.06066 -1.06066 \nC 0.77937 -1.341951 0.397805 -1.5 0 -1.5 \nC -0.397805 -1.5 -0.77937 -1.341951 -1.06066 -1.06066 \nC -1.341951 -0.77937 -1.5 -0.397805 -1.5 0 \nC -1.5 0.397805 -1.341951 0.77937 -1.06066 1.06066 \nC -0.77937 1.341951 -0.397805 1.5 0 1.5 \nz\n\" style=\"stroke: #e41a1c; stroke-opacity: 0.111111\"/>\n    </defs>\n    <g clip-path=\"url(#pd4cd23df7d)\">\n     <use xlink:href=\"#m02b20bd2b2\" x=\"327.19227\" y=\"137.623055\" style=\"fill: #e41a1c; fill-opacity: 0.111111; stroke: #e41a1c; stroke-opacity: 0.111111\"/>\n    </g>\n   </g>\n   <g id=\"line2d_102\">\n    <defs>\n     <path id=\"m45dbfedee3\" d=\"M 0 1.5 \nC 0.397805 1.5 0.77937 1.341951 1.06066 1.06066 \nC 1.341951 0.77937 1.5 0.397805 1.5 0 \nC 1.5 -0.397805 1.341951 -0.77937 1.06066 -1.06066 \nC 0.77937 -1.341951 0.397805 -1.5 0 -1.5 \nC -0.397805 -1.5 -0.77937 -1.341951 -1.06066 -1.06066 \nC -1.341951 -0.77937 -1.5 -0.397805 -1.5 0 \nC -1.5 0.397805 -1.341951 0.77937 -1.06066 1.06066 \nC -0.77937 1.341951 -0.397805 1.5 0 1.5 \nz\n\" style=\"stroke: #e41a1c; stroke-opacity: 0.10101\"/>\n    </defs>\n    <g clip-path=\"url(#pd4cd23df7d)\">\n     <use xlink:href=\"#m45dbfedee3\" x=\"326.975451\" y=\"137.436441\" style=\"fill: #e41a1c; fill-opacity: 0.10101; stroke: #e41a1c; stroke-opacity: 0.10101\"/>\n    </g>\n   </g>\n   <g id=\"line2d_103\">\n    <defs>\n     <path id=\"m97eaccf837\" d=\"M 0 1.5 \nC 0.397805 1.5 0.77937 1.341951 1.06066 1.06066 \nC 1.341951 0.77937 1.5 0.397805 1.5 0 \nC 1.5 -0.397805 1.341951 -0.77937 1.06066 -1.06066 \nC 0.77937 -1.341951 0.397805 -1.5 0 -1.5 \nC -0.397805 -1.5 -0.77937 -1.341951 -1.06066 -1.06066 \nC -1.341951 -0.77937 -1.5 -0.397805 -1.5 0 \nC -1.5 0.397805 -1.341951 0.77937 -1.06066 1.06066 \nC -0.77937 1.341951 -0.397805 1.5 0 1.5 \nz\n\" style=\"stroke: #e41a1c; stroke-opacity: 0.090909\"/>\n    </defs>\n    <g clip-path=\"url(#pd4cd23df7d)\">\n     <use xlink:href=\"#m97eaccf837\" x=\"326.731313\" y=\"137.223668\" style=\"fill: #e41a1c; fill-opacity: 0.090909; stroke: #e41a1c; stroke-opacity: 0.090909\"/>\n    </g>\n   </g>\n   <g id=\"line2d_104\">\n    <defs>\n     <path id=\"m6018eed147\" d=\"M 0 1.5 \nC 0.397805 1.5 0.77937 1.341951 1.06066 1.06066 \nC 1.341951 0.77937 1.5 0.397805 1.5 0 \nC 1.5 -0.397805 1.341951 -0.77937 1.06066 -1.06066 \nC 0.77937 -1.341951 0.397805 -1.5 0 -1.5 \nC -0.397805 -1.5 -0.77937 -1.341951 -1.06066 -1.06066 \nC -1.341951 -0.77937 -1.5 -0.397805 -1.5 0 \nC -1.5 0.397805 -1.341951 0.77937 -1.06066 1.06066 \nC -0.77937 1.341951 -0.397805 1.5 0 1.5 \nz\n\" style=\"stroke: #e41a1c; stroke-opacity: 0.080808\"/>\n    </defs>\n    <g clip-path=\"url(#pd4cd23df7d)\">\n     <use xlink:href=\"#m6018eed147\" x=\"326.460275\" y=\"136.983805\" style=\"fill: #e41a1c; fill-opacity: 0.080808; stroke: #e41a1c; stroke-opacity: 0.080808\"/>\n    </g>\n   </g>\n   <g id=\"line2d_105\">\n    <defs>\n     <path id=\"mee19e3a276\" d=\"M 0 1.5 \nC 0.397805 1.5 0.77937 1.341951 1.06066 1.06066 \nC 1.341951 0.77937 1.5 0.397805 1.5 0 \nC 1.5 -0.397805 1.341951 -0.77937 1.06066 -1.06066 \nC 0.77937 -1.341951 0.397805 -1.5 0 -1.5 \nC -0.397805 -1.5 -0.77937 -1.341951 -1.06066 -1.06066 \nC -1.341951 -0.77937 -1.5 -0.397805 -1.5 0 \nC -1.5 0.397805 -1.341951 0.77937 -1.06066 1.06066 \nC -0.77937 1.341951 -0.397805 1.5 0 1.5 \nz\n\" style=\"stroke: #e41a1c; stroke-opacity: 0.070707\"/>\n    </defs>\n    <g clip-path=\"url(#pd4cd23df7d)\">\n     <use xlink:href=\"#mee19e3a276\" x=\"326.162715\" y=\"136.715944\" style=\"fill: #e41a1c; fill-opacity: 0.070707; stroke: #e41a1c; stroke-opacity: 0.070707\"/>\n    </g>\n   </g>\n   <g id=\"line2d_106\">\n    <defs>\n     <path id=\"me3001ce380\" d=\"M 0 1.5 \nC 0.397805 1.5 0.77937 1.341951 1.06066 1.06066 \nC 1.341951 0.77937 1.5 0.397805 1.5 0 \nC 1.5 -0.397805 1.341951 -0.77937 1.06066 -1.06066 \nC 0.77937 -1.341951 0.397805 -1.5 0 -1.5 \nC -0.397805 -1.5 -0.77937 -1.341951 -1.06066 -1.06066 \nC -1.341951 -0.77937 -1.5 -0.397805 -1.5 0 \nC -1.5 0.397805 -1.341951 0.77937 -1.06066 1.06066 \nC -0.77937 1.341951 -0.397805 1.5 0 1.5 \nz\n\" style=\"stroke: #e41a1c; stroke-opacity: 0.060606\"/>\n    </defs>\n    <g clip-path=\"url(#pd4cd23df7d)\">\n     <use xlink:href=\"#me3001ce380\" x=\"325.838967\" y=\"136.419208\" style=\"fill: #e41a1c; fill-opacity: 0.060606; stroke: #e41a1c; stroke-opacity: 0.060606\"/>\n    </g>\n   </g>\n   <g id=\"line2d_107\">\n    <defs>\n     <path id=\"m4195b16c45\" d=\"M 0 1.5 \nC 0.397805 1.5 0.77937 1.341951 1.06066 1.06066 \nC 1.341951 0.77937 1.5 0.397805 1.5 0 \nC 1.5 -0.397805 1.341951 -0.77937 1.06066 -1.06066 \nC 0.77937 -1.341951 0.397805 -1.5 0 -1.5 \nC -0.397805 -1.5 -0.77937 -1.341951 -1.06066 -1.06066 \nC -1.341951 -0.77937 -1.5 -0.397805 -1.5 0 \nC -1.5 0.397805 -1.341951 0.77937 -1.06066 1.06066 \nC -0.77937 1.341951 -0.397805 1.5 0 1.5 \nz\n\" style=\"stroke: #e41a1c; stroke-opacity: 0.050505\"/>\n    </defs>\n    <g clip-path=\"url(#pd4cd23df7d)\">\n     <use xlink:href=\"#m4195b16c45\" x=\"325.489323\" y=\"136.092752\" style=\"fill: #e41a1c; fill-opacity: 0.050505; stroke: #e41a1c; stroke-opacity: 0.050505\"/>\n    </g>\n   </g>\n   <g id=\"line2d_108\">\n    <defs>\n     <path id=\"ma51a44ae16\" d=\"M 0 1.5 \nC 0.397805 1.5 0.77937 1.341951 1.06066 1.06066 \nC 1.341951 0.77937 1.5 0.397805 1.5 0 \nC 1.5 -0.397805 1.341951 -0.77937 1.06066 -1.06066 \nC 0.77937 -1.341951 0.397805 -1.5 0 -1.5 \nC -0.397805 -1.5 -0.77937 -1.341951 -1.06066 -1.06066 \nC -1.341951 -0.77937 -1.5 -0.397805 -1.5 0 \nC -1.5 0.397805 -1.341951 0.77937 -1.06066 1.06066 \nC -0.77937 1.341951 -0.397805 1.5 0 1.5 \nz\n\" style=\"stroke: #e41a1c; stroke-opacity: 0.040404\"/>\n    </defs>\n    <g clip-path=\"url(#pd4cd23df7d)\">\n     <use xlink:href=\"#ma51a44ae16\" x=\"325.114031\" y=\"135.735771\" style=\"fill: #e41a1c; fill-opacity: 0.040404; stroke: #e41a1c; stroke-opacity: 0.040404\"/>\n    </g>\n   </g>\n   <g id=\"line2d_109\">\n    <defs>\n     <path id=\"m4120ed040a\" d=\"M 0 1.5 \nC 0.397805 1.5 0.77937 1.341951 1.06066 1.06066 \nC 1.341951 0.77937 1.5 0.397805 1.5 0 \nC 1.5 -0.397805 1.341951 -0.77937 1.06066 -1.06066 \nC 0.77937 -1.341951 0.397805 -1.5 0 -1.5 \nC -0.397805 -1.5 -0.77937 -1.341951 -1.06066 -1.06066 \nC -1.341951 -0.77937 -1.5 -0.397805 -1.5 0 \nC -1.5 0.397805 -1.341951 0.77937 -1.06066 1.06066 \nC -0.77937 1.341951 -0.397805 1.5 0 1.5 \nz\n\" style=\"stroke: #e41a1c; stroke-opacity: 0.030303\"/>\n    </defs>\n    <g clip-path=\"url(#pd4cd23df7d)\">\n     <use xlink:href=\"#m4120ed040a\" x=\"324.713296\" y=\"135.347507\" style=\"fill: #e41a1c; fill-opacity: 0.030303; stroke: #e41a1c; stroke-opacity: 0.030303\"/>\n    </g>\n   </g>\n   <g id=\"line2d_110\">\n    <defs>\n     <path id=\"m213fb8e523\" d=\"M 0 1.5 \nC 0.397805 1.5 0.77937 1.341951 1.06066 1.06066 \nC 1.341951 0.77937 1.5 0.397805 1.5 0 \nC 1.5 -0.397805 1.341951 -0.77937 1.06066 -1.06066 \nC 0.77937 -1.341951 0.397805 -1.5 0 -1.5 \nC -0.397805 -1.5 -0.77937 -1.341951 -1.06066 -1.06066 \nC -1.341951 -0.77937 -1.5 -0.397805 -1.5 0 \nC -1.5 0.397805 -1.341951 0.77937 -1.06066 1.06066 \nC -0.77937 1.341951 -0.397805 1.5 0 1.5 \nz\n\" style=\"stroke: #e41a1c; stroke-opacity: 0.020202\"/>\n    </defs>\n    <g clip-path=\"url(#pd4cd23df7d)\">\n     <use xlink:href=\"#m213fb8e523\" x=\"324.287282\" y=\"134.92725\" style=\"fill: #e41a1c; fill-opacity: 0.020202; stroke: #e41a1c; stroke-opacity: 0.020202\"/>\n    </g>\n   </g>\n   <g id=\"line2d_111\">\n    <defs>\n     <path id=\"m1ef8790bda\" d=\"M 0 1.5 \nC 0.397805 1.5 0.77937 1.341951 1.06066 1.06066 \nC 1.341951 0.77937 1.5 0.397805 1.5 0 \nC 1.5 -0.397805 1.341951 -0.77937 1.06066 -1.06066 \nC 0.77937 -1.341951 0.397805 -1.5 0 -1.5 \nC -0.397805 -1.5 -0.77937 -1.341951 -1.06066 -1.06066 \nC -1.341951 -0.77937 -1.5 -0.397805 -1.5 0 \nC -1.5 0.397805 -1.341951 0.77937 -1.06066 1.06066 \nC -0.77937 1.341951 -0.397805 1.5 0 1.5 \nz\n\" style=\"stroke: #e41a1c; stroke-opacity: 0.010101\"/>\n    </defs>\n    <g clip-path=\"url(#pd4cd23df7d)\">\n     <use xlink:href=\"#m1ef8790bda\" x=\"323.836112\" y=\"134.474348\" style=\"fill: #e41a1c; fill-opacity: 0.010101; stroke: #e41a1c; stroke-opacity: 0.010101\"/>\n    </g>\n   </g>\n   <g id=\"line2d_112\">\n    <defs>\n     <path id=\"mb7fb23d2f9\" d=\"M 0 3 \nC 0.795609 3 1.55874 2.683901 2.12132 2.12132 \nC 2.683901 1.55874 3 0.795609 3 0 \nC 3 -0.795609 2.683901 -1.55874 2.12132 -2.12132 \nC 1.55874 -2.683901 0.795609 -3 0 -3 \nC -0.795609 -3 -1.55874 -2.683901 -2.12132 -2.12132 \nC -2.683901 -1.55874 -3 -0.795609 -3 0 \nC -3 0.795609 -2.683901 1.55874 -2.12132 2.12132 \nC -1.55874 2.683901 -0.795609 3 0 3 \nz\n\" style=\"stroke: #e41a1c\"/>\n    </defs>\n    <g clip-path=\"url(#pd4cd23df7d)\">\n     <use xlink:href=\"#mb7fb23d2f9\" x=\"193.815324\" y=\"111.286109\" style=\"fill: #e41a1c; stroke: #e41a1c\"/>\n    </g>\n   </g>\n   <g id=\"line2d_113\">\n    <defs>\n     <path id=\"m3e1391769d\" d=\"M 0 1.5 \nC 0.397805 1.5 0.77937 1.341951 1.06066 1.06066 \nC 1.341951 0.77937 1.5 0.397805 1.5 0 \nC 1.5 -0.397805 1.341951 -0.77937 1.06066 -1.06066 \nC 0.77937 -1.341951 0.397805 -1.5 0 -1.5 \nC -0.397805 -1.5 -0.77937 -1.341951 -1.06066 -1.06066 \nC -1.341951 -0.77937 -1.5 -0.397805 -1.5 0 \nC -1.5 0.397805 -1.341951 0.77937 -1.06066 1.06066 \nC -0.77937 1.341951 -0.397805 1.5 0 1.5 \nz\n\" style=\"stroke: #377eb8\"/>\n    </defs>\n    <g clip-path=\"url(#pd4cd23df7d)\">\n     <use xlink:href=\"#m3e1391769d\" x=\"124.708167\" y=\"87.546847\" style=\"fill: #377eb8; stroke: #377eb8\"/>\n    </g>\n   </g>\n   <g id=\"line2d_114\">\n    <defs>\n     <path id=\"mc7f2e848a2\" d=\"M 0 1.5 \nC 0.397805 1.5 0.77937 1.341951 1.06066 1.06066 \nC 1.341951 0.77937 1.5 0.397805 1.5 0 \nC 1.5 -0.397805 1.341951 -0.77937 1.06066 -1.06066 \nC 0.77937 -1.341951 0.397805 -1.5 0 -1.5 \nC -0.397805 -1.5 -0.77937 -1.341951 -1.06066 -1.06066 \nC -1.341951 -0.77937 -1.5 -0.397805 -1.5 0 \nC -1.5 0.397805 -1.341951 0.77937 -1.06066 1.06066 \nC -0.77937 1.341951 -0.397805 1.5 0 1.5 \nz\n\" style=\"stroke: #377eb8; stroke-opacity: 0.989899\"/>\n    </defs>\n    <g clip-path=\"url(#pd4cd23df7d)\">\n     <use xlink:href=\"#mc7f2e848a2\" x=\"122.079028\" y=\"86.331496\" style=\"fill: #377eb8; fill-opacity: 0.989899; stroke: #377eb8; stroke-opacity: 0.989899\"/>\n    </g>\n   </g>\n   <g id=\"line2d_115\">\n    <defs>\n     <path id=\"m76bec70fdd\" d=\"M 0 1.5 \nC 0.397805 1.5 0.77937 1.341951 1.06066 1.06066 \nC 1.341951 0.77937 1.5 0.397805 1.5 0 \nC 1.5 -0.397805 1.341951 -0.77937 1.06066 -1.06066 \nC 0.77937 -1.341951 0.397805 -1.5 0 -1.5 \nC -0.397805 -1.5 -0.77937 -1.341951 -1.06066 -1.06066 \nC -1.341951 -0.77937 -1.5 -0.397805 -1.5 0 \nC -1.5 0.397805 -1.341951 0.77937 -1.06066 1.06066 \nC -0.77937 1.341951 -0.397805 1.5 0 1.5 \nz\n\" style=\"stroke: #377eb8; stroke-opacity: 0.979798\"/>\n    </defs>\n    <g clip-path=\"url(#pd4cd23df7d)\">\n     <use xlink:href=\"#m76bec70fdd\" x=\"119.432619\" y=\"85.199547\" style=\"fill: #377eb8; fill-opacity: 0.979798; stroke: #377eb8; stroke-opacity: 0.979798\"/>\n    </g>\n   </g>\n   <g id=\"line2d_116\">\n    <defs>\n     <path id=\"mf93d67c37c\" d=\"M 0 1.5 \nC 0.397805 1.5 0.77937 1.341951 1.06066 1.06066 \nC 1.341951 0.77937 1.5 0.397805 1.5 0 \nC 1.5 -0.397805 1.341951 -0.77937 1.06066 -1.06066 \nC 0.77937 -1.341951 0.397805 -1.5 0 -1.5 \nC -0.397805 -1.5 -0.77937 -1.341951 -1.06066 -1.06066 \nC -1.341951 -0.77937 -1.5 -0.397805 -1.5 0 \nC -1.5 0.397805 -1.341951 0.77937 -1.06066 1.06066 \nC -0.77937 1.341951 -0.397805 1.5 0 1.5 \nz\n\" style=\"stroke: #377eb8; stroke-opacity: 0.969697\"/>\n    </defs>\n    <g clip-path=\"url(#pd4cd23df7d)\">\n     <use xlink:href=\"#mf93d67c37c\" x=\"116.774184\" y=\"84.153851\" style=\"fill: #377eb8; fill-opacity: 0.969697; stroke: #377eb8; stroke-opacity: 0.969697\"/>\n    </g>\n   </g>\n   <g id=\"line2d_117\">\n    <defs>\n     <path id=\"m277be60293\" d=\"M 0 1.5 \nC 0.397805 1.5 0.77937 1.341951 1.06066 1.06066 \nC 1.341951 0.77937 1.5 0.397805 1.5 0 \nC 1.5 -0.397805 1.341951 -0.77937 1.06066 -1.06066 \nC 0.77937 -1.341951 0.397805 -1.5 0 -1.5 \nC -0.397805 -1.5 -0.77937 -1.341951 -1.06066 -1.06066 \nC -1.341951 -0.77937 -1.5 -0.397805 -1.5 0 \nC -1.5 0.397805 -1.341951 0.77937 -1.06066 1.06066 \nC -0.77937 1.341951 -0.397805 1.5 0 1.5 \nz\n\" style=\"stroke: #377eb8; stroke-opacity: 0.959596\"/>\n    </defs>\n    <g clip-path=\"url(#pd4cd23df7d)\">\n     <use xlink:href=\"#m277be60293\" x=\"114.109078\" y=\"83.197047\" style=\"fill: #377eb8; fill-opacity: 0.959596; stroke: #377eb8; stroke-opacity: 0.959596\"/>\n    </g>\n   </g>\n   <g id=\"line2d_118\">\n    <defs>\n     <path id=\"mb084f8e29d\" d=\"M 0 1.5 \nC 0.397805 1.5 0.77937 1.341951 1.06066 1.06066 \nC 1.341951 0.77937 1.5 0.397805 1.5 0 \nC 1.5 -0.397805 1.341951 -0.77937 1.06066 -1.06066 \nC 0.77937 -1.341951 0.397805 -1.5 0 -1.5 \nC -0.397805 -1.5 -0.77937 -1.341951 -1.06066 -1.06066 \nC -1.341951 -0.77937 -1.5 -0.397805 -1.5 0 \nC -1.5 0.397805 -1.341951 0.77937 -1.06066 1.06066 \nC -0.77937 1.341951 -0.397805 1.5 0 1.5 \nz\n\" style=\"stroke: #377eb8; stroke-opacity: 0.949495\"/>\n    </defs>\n    <g clip-path=\"url(#pd4cd23df7d)\">\n     <use xlink:href=\"#mb084f8e29d\" x=\"111.442757\" y=\"82.331562\" style=\"fill: #377eb8; fill-opacity: 0.949495; stroke: #377eb8; stroke-opacity: 0.949495\"/>\n    </g>\n   </g>\n   <g id=\"line2d_119\">\n    <defs>\n     <path id=\"mddac656bb1\" d=\"M 0 1.5 \nC 0.397805 1.5 0.77937 1.341951 1.06066 1.06066 \nC 1.341951 0.77937 1.5 0.397805 1.5 0 \nC 1.5 -0.397805 1.341951 -0.77937 1.06066 -1.06066 \nC 0.77937 -1.341951 0.397805 -1.5 0 -1.5 \nC -0.397805 -1.5 -0.77937 -1.341951 -1.06066 -1.06066 \nC -1.341951 -0.77937 -1.5 -0.397805 -1.5 0 \nC -1.5 0.397805 -1.341951 0.77937 -1.06066 1.06066 \nC -0.77937 1.341951 -0.397805 1.5 0 1.5 \nz\n\" style=\"stroke: #377eb8; stroke-opacity: 0.939394\"/>\n    </defs>\n    <g clip-path=\"url(#pd4cd23df7d)\">\n     <use xlink:href=\"#mddac656bb1\" x=\"108.780766\" y=\"81.559597\" style=\"fill: #377eb8; fill-opacity: 0.939394; stroke: #377eb8; stroke-opacity: 0.939394\"/>\n    </g>\n   </g>\n   <g id=\"line2d_120\">\n    <defs>\n     <path id=\"ma31a3fea24\" d=\"M 0 1.5 \nC 0.397805 1.5 0.77937 1.341951 1.06066 1.06066 \nC 1.341951 0.77937 1.5 0.397805 1.5 0 \nC 1.5 -0.397805 1.341951 -0.77937 1.06066 -1.06066 \nC 0.77937 -1.341951 0.397805 -1.5 0 -1.5 \nC -0.397805 -1.5 -0.77937 -1.341951 -1.06066 -1.06066 \nC -1.341951 -0.77937 -1.5 -0.397805 -1.5 0 \nC -1.5 0.397805 -1.341951 0.77937 -1.06066 1.06066 \nC -0.77937 1.341951 -0.397805 1.5 0 1.5 \nz\n\" style=\"stroke: #377eb8; stroke-opacity: 0.929293\"/>\n    </defs>\n    <g clip-path=\"url(#pd4cd23df7d)\">\n     <use xlink:href=\"#ma31a3fea24\" x=\"106.128725\" y=\"80.883123\" style=\"fill: #377eb8; fill-opacity: 0.929293; stroke: #377eb8; stroke-opacity: 0.929293\"/>\n    </g>\n   </g>\n   <g id=\"line2d_121\">\n    <defs>\n     <path id=\"m910891f868\" d=\"M 0 1.5 \nC 0.397805 1.5 0.77937 1.341951 1.06066 1.06066 \nC 1.341951 0.77937 1.5 0.397805 1.5 0 \nC 1.5 -0.397805 1.341951 -0.77937 1.06066 -1.06066 \nC 0.77937 -1.341951 0.397805 -1.5 0 -1.5 \nC -0.397805 -1.5 -0.77937 -1.341951 -1.06066 -1.06066 \nC -1.341951 -0.77937 -1.5 -0.397805 -1.5 0 \nC -1.5 0.397805 -1.341951 0.77937 -1.06066 1.06066 \nC -0.77937 1.341951 -0.397805 1.5 0 1.5 \nz\n\" style=\"stroke: #377eb8; stroke-opacity: 0.919192\"/>\n    </defs>\n    <g clip-path=\"url(#pd4cd23df7d)\">\n     <use xlink:href=\"#m910891f868\" x=\"103.492319\" y=\"80.303874\" style=\"fill: #377eb8; fill-opacity: 0.919192; stroke: #377eb8; stroke-opacity: 0.919192\"/>\n    </g>\n   </g>\n   <g id=\"line2d_122\">\n    <defs>\n     <path id=\"m786f7b7d03\" d=\"M 0 1.5 \nC 0.397805 1.5 0.77937 1.341951 1.06066 1.06066 \nC 1.341951 0.77937 1.5 0.397805 1.5 0 \nC 1.5 -0.397805 1.341951 -0.77937 1.06066 -1.06066 \nC 0.77937 -1.341951 0.397805 -1.5 0 -1.5 \nC -0.397805 -1.5 -0.77937 -1.341951 -1.06066 -1.06066 \nC -1.341951 -0.77937 -1.5 -0.397805 -1.5 0 \nC -1.5 0.397805 -1.341951 0.77937 -1.06066 1.06066 \nC -0.77937 1.341951 -0.397805 1.5 0 1.5 \nz\n\" style=\"stroke: #377eb8; stroke-opacity: 0.909091\"/>\n    </defs>\n    <g clip-path=\"url(#pd4cd23df7d)\">\n     <use xlink:href=\"#m786f7b7d03\" x=\"100.877286\" y=\"79.823343\" style=\"fill: #377eb8; fill-opacity: 0.909091; stroke: #377eb8; stroke-opacity: 0.909091\"/>\n    </g>\n   </g>\n   <g id=\"line2d_123\">\n    <defs>\n     <path id=\"m5d4e8b96db\" d=\"M 0 1.5 \nC 0.397805 1.5 0.77937 1.341951 1.06066 1.06066 \nC 1.341951 0.77937 1.5 0.397805 1.5 0 \nC 1.5 -0.397805 1.341951 -0.77937 1.06066 -1.06066 \nC 0.77937 -1.341951 0.397805 -1.5 0 -1.5 \nC -0.397805 -1.5 -0.77937 -1.341951 -1.06066 -1.06066 \nC -1.341951 -0.77937 -1.5 -0.397805 -1.5 0 \nC -1.5 0.397805 -1.341951 0.77937 -1.06066 1.06066 \nC -0.77937 1.341951 -0.397805 1.5 0 1.5 \nz\n\" style=\"stroke: #377eb8; stroke-opacity: 0.89899\"/>\n    </defs>\n    <g clip-path=\"url(#pd4cd23df7d)\">\n     <use xlink:href=\"#m5d4e8b96db\" x=\"98.289403\" y=\"79.442775\" style=\"fill: #377eb8; fill-opacity: 0.89899; stroke: #377eb8; stroke-opacity: 0.89899\"/>\n    </g>\n   </g>\n   <g id=\"line2d_124\">\n    <defs>\n     <path id=\"m41a7740f78\" d=\"M 0 1.5 \nC 0.397805 1.5 0.77937 1.341951 1.06066 1.06066 \nC 1.341951 0.77937 1.5 0.397805 1.5 0 \nC 1.5 -0.397805 1.341951 -0.77937 1.06066 -1.06066 \nC 0.77937 -1.341951 0.397805 -1.5 0 -1.5 \nC -0.397805 -1.5 -0.77937 -1.341951 -1.06066 -1.06066 \nC -1.341951 -0.77937 -1.5 -0.397805 -1.5 0 \nC -1.5 0.397805 -1.341951 0.77937 -1.06066 1.06066 \nC -0.77937 1.341951 -0.397805 1.5 0 1.5 \nz\n\" style=\"stroke: #377eb8; stroke-opacity: 0.888889\"/>\n    </defs>\n    <g clip-path=\"url(#pd4cd23df7d)\">\n     <use xlink:href=\"#m41a7740f78\" x=\"95.734473\" y=\"79.163161\" style=\"fill: #377eb8; fill-opacity: 0.888889; stroke: #377eb8; stroke-opacity: 0.888889\"/>\n    </g>\n   </g>\n   <g id=\"line2d_125\">\n    <defs>\n     <path id=\"me9627442d5\" d=\"M 0 1.5 \nC 0.397805 1.5 0.77937 1.341951 1.06066 1.06066 \nC 1.341951 0.77937 1.5 0.397805 1.5 0 \nC 1.5 -0.397805 1.341951 -0.77937 1.06066 -1.06066 \nC 0.77937 -1.341951 0.397805 -1.5 0 -1.5 \nC -0.397805 -1.5 -0.77937 -1.341951 -1.06066 -1.06066 \nC -1.341951 -0.77937 -1.5 -0.397805 -1.5 0 \nC -1.5 0.397805 -1.341951 0.77937 -1.06066 1.06066 \nC -0.77937 1.341951 -0.397805 1.5 0 1.5 \nz\n\" style=\"stroke: #377eb8; stroke-opacity: 0.878788\"/>\n    </defs>\n    <g clip-path=\"url(#pd4cd23df7d)\">\n     <use xlink:href=\"#me9627442d5\" x=\"93.218313\" y=\"78.98524\" style=\"fill: #377eb8; fill-opacity: 0.878788; stroke: #377eb8; stroke-opacity: 0.878788\"/>\n    </g>\n   </g>\n   <g id=\"line2d_126\">\n    <defs>\n     <path id=\"mc1c76606bb\" d=\"M 0 1.5 \nC 0.397805 1.5 0.77937 1.341951 1.06066 1.06066 \nC 1.341951 0.77937 1.5 0.397805 1.5 0 \nC 1.5 -0.397805 1.341951 -0.77937 1.06066 -1.06066 \nC 0.77937 -1.341951 0.397805 -1.5 0 -1.5 \nC -0.397805 -1.5 -0.77937 -1.341951 -1.06066 -1.06066 \nC -1.341951 -0.77937 -1.5 -0.397805 -1.5 0 \nC -1.5 0.397805 -1.341951 0.77937 -1.06066 1.06066 \nC -0.77937 1.341951 -0.397805 1.5 0 1.5 \nz\n\" style=\"stroke: #377eb8; stroke-opacity: 0.868687\"/>\n    </defs>\n    <g clip-path=\"url(#pd4cd23df7d)\">\n     <use xlink:href=\"#mc1c76606bb\" x=\"90.746741\" y=\"78.90949\" style=\"fill: #377eb8; fill-opacity: 0.868687; stroke: #377eb8; stroke-opacity: 0.868687\"/>\n    </g>\n   </g>\n   <g id=\"line2d_127\">\n    <defs>\n     <path id=\"me0952dba57\" d=\"M 0 1.5 \nC 0.397805 1.5 0.77937 1.341951 1.06066 1.06066 \nC 1.341951 0.77937 1.5 0.397805 1.5 0 \nC 1.5 -0.397805 1.341951 -0.77937 1.06066 -1.06066 \nC 0.77937 -1.341951 0.397805 -1.5 0 -1.5 \nC -0.397805 -1.5 -0.77937 -1.341951 -1.06066 -1.06066 \nC -1.341951 -0.77937 -1.5 -0.397805 -1.5 0 \nC -1.5 0.397805 -1.341951 0.77937 -1.06066 1.06066 \nC -0.77937 1.341951 -0.397805 1.5 0 1.5 \nz\n\" style=\"stroke: #377eb8; stroke-opacity: 0.858586\"/>\n    </defs>\n    <g clip-path=\"url(#pd4cd23df7d)\">\n     <use xlink:href=\"#me0952dba57\" x=\"88.325561\" y=\"78.936129\" style=\"fill: #377eb8; fill-opacity: 0.858586; stroke: #377eb8; stroke-opacity: 0.858586\"/>\n    </g>\n   </g>\n   <g id=\"line2d_128\">\n    <defs>\n     <path id=\"mdf26c8b468\" d=\"M 0 1.5 \nC 0.397805 1.5 0.77937 1.341951 1.06066 1.06066 \nC 1.341951 0.77937 1.5 0.397805 1.5 0 \nC 1.5 -0.397805 1.341951 -0.77937 1.06066 -1.06066 \nC 0.77937 -1.341951 0.397805 -1.5 0 -1.5 \nC -0.397805 -1.5 -0.77937 -1.341951 -1.06066 -1.06066 \nC -1.341951 -0.77937 -1.5 -0.397805 -1.5 0 \nC -1.5 0.397805 -1.341951 0.77937 -1.06066 1.06066 \nC -0.77937 1.341951 -0.397805 1.5 0 1.5 \nz\n\" style=\"stroke: #377eb8; stroke-opacity: 0.848485\"/>\n    </defs>\n    <g clip-path=\"url(#pd4cd23df7d)\">\n     <use xlink:href=\"#mdf26c8b468\" x=\"85.960552\" y=\"79.065114\" style=\"fill: #377eb8; fill-opacity: 0.848485; stroke: #377eb8; stroke-opacity: 0.848485\"/>\n    </g>\n   </g>\n   <g id=\"line2d_129\">\n    <defs>\n     <path id=\"m5de531deb1\" d=\"M 0 1.5 \nC 0.397805 1.5 0.77937 1.341951 1.06066 1.06066 \nC 1.341951 0.77937 1.5 0.397805 1.5 0 \nC 1.5 -0.397805 1.341951 -0.77937 1.06066 -1.06066 \nC 0.77937 -1.341951 0.397805 -1.5 0 -1.5 \nC -0.397805 -1.5 -0.77937 -1.341951 -1.06066 -1.06066 \nC -1.341951 -0.77937 -1.5 -0.397805 -1.5 0 \nC -1.5 0.397805 -1.341951 0.77937 -1.06066 1.06066 \nC -0.77937 1.341951 -0.397805 1.5 0 1.5 \nz\n\" style=\"stroke: #377eb8; stroke-opacity: 0.838384\"/>\n    </defs>\n    <g clip-path=\"url(#pd4cd23df7d)\">\n     <use xlink:href=\"#m5de531deb1\" x=\"83.657452\" y=\"79.296138\" style=\"fill: #377eb8; fill-opacity: 0.838384; stroke: #377eb8; stroke-opacity: 0.838384\"/>\n    </g>\n   </g>\n   <g id=\"line2d_130\">\n    <defs>\n     <path id=\"mfe3f5d1fd0\" d=\"M 0 1.5 \nC 0.397805 1.5 0.77937 1.341951 1.06066 1.06066 \nC 1.341951 0.77937 1.5 0.397805 1.5 0 \nC 1.5 -0.397805 1.341951 -0.77937 1.06066 -1.06066 \nC 0.77937 -1.341951 0.397805 -1.5 0 -1.5 \nC -0.397805 -1.5 -0.77937 -1.341951 -1.06066 -1.06066 \nC -1.341951 -0.77937 -1.5 -0.397805 -1.5 0 \nC -1.5 0.397805 -1.341951 0.77937 -1.06066 1.06066 \nC -0.77937 1.341951 -0.397805 1.5 0 1.5 \nz\n\" style=\"stroke: #377eb8; stroke-opacity: 0.828283\"/>\n    </defs>\n    <g clip-path=\"url(#pd4cd23df7d)\">\n     <use xlink:href=\"#mfe3f5d1fd0\" x=\"81.421948\" y=\"79.628631\" style=\"fill: #377eb8; fill-opacity: 0.828283; stroke: #377eb8; stroke-opacity: 0.828283\"/>\n    </g>\n   </g>\n   <g id=\"line2d_131\">\n    <defs>\n     <path id=\"md41226fcbd\" d=\"M 0 1.5 \nC 0.397805 1.5 0.77937 1.341951 1.06066 1.06066 \nC 1.341951 0.77937 1.5 0.397805 1.5 0 \nC 1.5 -0.397805 1.341951 -0.77937 1.06066 -1.06066 \nC 0.77937 -1.341951 0.397805 -1.5 0 -1.5 \nC -0.397805 -1.5 -0.77937 -1.341951 -1.06066 -1.06066 \nC -1.341951 -0.77937 -1.5 -0.397805 -1.5 0 \nC -1.5 0.397805 -1.341951 0.77937 -1.06066 1.06066 \nC -0.77937 1.341951 -0.397805 1.5 0 1.5 \nz\n\" style=\"stroke: #377eb8; stroke-opacity: 0.818182\"/>\n    </defs>\n    <g clip-path=\"url(#pd4cd23df7d)\">\n     <use xlink:href=\"#md41226fcbd\" x=\"79.259658\" y=\"80.061762\" style=\"fill: #377eb8; fill-opacity: 0.818182; stroke: #377eb8; stroke-opacity: 0.818182\"/>\n    </g>\n   </g>\n   <g id=\"line2d_132\">\n    <defs>\n     <path id=\"mf2093e6eca\" d=\"M 0 1.5 \nC 0.397805 1.5 0.77937 1.341951 1.06066 1.06066 \nC 1.341951 0.77937 1.5 0.397805 1.5 0 \nC 1.5 -0.397805 1.341951 -0.77937 1.06066 -1.06066 \nC 0.77937 -1.341951 0.397805 -1.5 0 -1.5 \nC -0.397805 -1.5 -0.77937 -1.341951 -1.06066 -1.06066 \nC -1.341951 -0.77937 -1.5 -0.397805 -1.5 0 \nC -1.5 0.397805 -1.341951 0.77937 -1.06066 1.06066 \nC -0.77937 1.341951 -0.397805 1.5 0 1.5 \nz\n\" style=\"stroke: #377eb8; stroke-opacity: 0.808081\"/>\n    </defs>\n    <g clip-path=\"url(#pd4cd23df7d)\">\n     <use xlink:href=\"#mf2093e6eca\" x=\"77.176124\" y=\"80.594438\" style=\"fill: #377eb8; fill-opacity: 0.808081; stroke: #377eb8; stroke-opacity: 0.808081\"/>\n    </g>\n   </g>\n   <g id=\"line2d_133\">\n    <defs>\n     <path id=\"mbe36887108\" d=\"M 0 1.5 \nC 0.397805 1.5 0.77937 1.341951 1.06066 1.06066 \nC 1.341951 0.77937 1.5 0.397805 1.5 0 \nC 1.5 -0.397805 1.341951 -0.77937 1.06066 -1.06066 \nC 0.77937 -1.341951 0.397805 -1.5 0 -1.5 \nC -0.397805 -1.5 -0.77937 -1.341951 -1.06066 -1.06066 \nC -1.341951 -0.77937 -1.5 -0.397805 -1.5 0 \nC -1.5 0.397805 -1.341951 0.77937 -1.06066 1.06066 \nC -0.77937 1.341951 -0.397805 1.5 0 1.5 \nz\n\" style=\"stroke: #377eb8; stroke-opacity: 0.79798\"/>\n    </defs>\n    <g clip-path=\"url(#pd4cd23df7d)\">\n     <use xlink:href=\"#mbe36887108\" x=\"75.176792\" y=\"81.225308\" style=\"fill: #377eb8; fill-opacity: 0.79798; stroke: #377eb8; stroke-opacity: 0.79798\"/>\n    </g>\n   </g>\n   <g id=\"line2d_134\">\n    <defs>\n     <path id=\"m6000ae8dda\" d=\"M 0 1.5 \nC 0.397805 1.5 0.77937 1.341951 1.06066 1.06066 \nC 1.341951 0.77937 1.5 0.397805 1.5 0 \nC 1.5 -0.397805 1.341951 -0.77937 1.06066 -1.06066 \nC 0.77937 -1.341951 0.397805 -1.5 0 -1.5 \nC -0.397805 -1.5 -0.77937 -1.341951 -1.06066 -1.06066 \nC -1.341951 -0.77937 -1.5 -0.397805 -1.5 0 \nC -1.5 0.397805 -1.341951 0.77937 -1.06066 1.06066 \nC -0.77937 1.341951 -0.397805 1.5 0 1.5 \nz\n\" style=\"stroke: #377eb8; stroke-opacity: 0.787879\"/>\n    </defs>\n    <g clip-path=\"url(#pd4cd23df7d)\">\n     <use xlink:href=\"#m6000ae8dda\" x=\"73.267004\" y=\"81.952767\" style=\"fill: #377eb8; fill-opacity: 0.787879; stroke: #377eb8; stroke-opacity: 0.787879\"/>\n    </g>\n   </g>\n   <g id=\"line2d_135\">\n    <defs>\n     <path id=\"m2afdce5d11\" d=\"M 0 1.5 \nC 0.397805 1.5 0.77937 1.341951 1.06066 1.06066 \nC 1.341951 0.77937 1.5 0.397805 1.5 0 \nC 1.5 -0.397805 1.341951 -0.77937 1.06066 -1.06066 \nC 0.77937 -1.341951 0.397805 -1.5 0 -1.5 \nC -0.397805 -1.5 -0.77937 -1.341951 -1.06066 -1.06066 \nC -1.341951 -0.77937 -1.5 -0.397805 -1.5 0 \nC -1.5 0.397805 -1.341951 0.77937 -1.06066 1.06066 \nC -0.77937 1.341951 -0.397805 1.5 0 1.5 \nz\n\" style=\"stroke: #377eb8; stroke-opacity: 0.777778\"/>\n    </defs>\n    <g clip-path=\"url(#pd4cd23df7d)\">\n     <use xlink:href=\"#m2afdce5d11\" x=\"71.451982\" y=\"82.774954\" style=\"fill: #377eb8; fill-opacity: 0.777778; stroke: #377eb8; stroke-opacity: 0.777778\"/>\n    </g>\n   </g>\n   <g id=\"line2d_136\">\n    <defs>\n     <path id=\"md6b86c72fc\" d=\"M 0 1.5 \nC 0.397805 1.5 0.77937 1.341951 1.06066 1.06066 \nC 1.341951 0.77937 1.5 0.397805 1.5 0 \nC 1.5 -0.397805 1.341951 -0.77937 1.06066 -1.06066 \nC 0.77937 -1.341951 0.397805 -1.5 0 -1.5 \nC -0.397805 -1.5 -0.77937 -1.341951 -1.06066 -1.06066 \nC -1.341951 -0.77937 -1.5 -0.397805 -1.5 0 \nC -1.5 0.397805 -1.341951 0.77937 -1.06066 1.06066 \nC -0.77937 1.341951 -0.397805 1.5 0 1.5 \nz\n\" style=\"stroke: #377eb8; stroke-opacity: 0.767677\"/>\n    </defs>\n    <g clip-path=\"url(#pd4cd23df7d)\">\n     <use xlink:href=\"#md6b86c72fc\" x=\"69.73682\" y=\"83.689765\" style=\"fill: #377eb8; fill-opacity: 0.767677; stroke: #377eb8; stroke-opacity: 0.767677\"/>\n    </g>\n   </g>\n   <g id=\"line2d_137\">\n    <defs>\n     <path id=\"m77015518a9\" d=\"M 0 1.5 \nC 0.397805 1.5 0.77937 1.341951 1.06066 1.06066 \nC 1.341951 0.77937 1.5 0.397805 1.5 0 \nC 1.5 -0.397805 1.341951 -0.77937 1.06066 -1.06066 \nC 0.77937 -1.341951 0.397805 -1.5 0 -1.5 \nC -0.397805 -1.5 -0.77937 -1.341951 -1.06066 -1.06066 \nC -1.341951 -0.77937 -1.5 -0.397805 -1.5 0 \nC -1.5 0.397805 -1.341951 0.77937 -1.06066 1.06066 \nC -0.77937 1.341951 -0.397805 1.5 0 1.5 \nz\n\" style=\"stroke: #377eb8; stroke-opacity: 0.757576\"/>\n    </defs>\n    <g clip-path=\"url(#pd4cd23df7d)\">\n     <use xlink:href=\"#m77015518a9\" x=\"68.126466\" y=\"84.69485\" style=\"fill: #377eb8; fill-opacity: 0.757576; stroke: #377eb8; stroke-opacity: 0.757576\"/>\n    </g>\n   </g>\n   <g id=\"line2d_138\">\n    <defs>\n     <path id=\"me6ce0a2694\" d=\"M 0 1.5 \nC 0.397805 1.5 0.77937 1.341951 1.06066 1.06066 \nC 1.341951 0.77937 1.5 0.397805 1.5 0 \nC 1.5 -0.397805 1.341951 -0.77937 1.06066 -1.06066 \nC 0.77937 -1.341951 0.397805 -1.5 0 -1.5 \nC -0.397805 -1.5 -0.77937 -1.341951 -1.06066 -1.06066 \nC -1.341951 -0.77937 -1.5 -0.397805 -1.5 0 \nC -1.5 0.397805 -1.341951 0.77937 -1.06066 1.06066 \nC -0.77937 1.341951 -0.397805 1.5 0 1.5 \nz\n\" style=\"stroke: #377eb8; stroke-opacity: 0.747475\"/>\n    </defs>\n    <g clip-path=\"url(#pd4cd23df7d)\">\n     <use xlink:href=\"#me6ce0a2694\" x=\"66.625713\" y=\"85.787626\" style=\"fill: #377eb8; fill-opacity: 0.747475; stroke: #377eb8; stroke-opacity: 0.747475\"/>\n    </g>\n   </g>\n   <g id=\"line2d_139\">\n    <defs>\n     <path id=\"m53de64522a\" d=\"M 0 1.5 \nC 0.397805 1.5 0.77937 1.341951 1.06066 1.06066 \nC 1.341951 0.77937 1.5 0.397805 1.5 0 \nC 1.5 -0.397805 1.341951 -0.77937 1.06066 -1.06066 \nC 0.77937 -1.341951 0.397805 -1.5 0 -1.5 \nC -0.397805 -1.5 -0.77937 -1.341951 -1.06066 -1.06066 \nC -1.341951 -0.77937 -1.5 -0.397805 -1.5 0 \nC -1.5 0.397805 -1.341951 0.77937 -1.06066 1.06066 \nC -0.77937 1.341951 -0.397805 1.5 0 1.5 \nz\n\" style=\"stroke: #377eb8; stroke-opacity: 0.737374\"/>\n    </defs>\n    <g clip-path=\"url(#pd4cd23df7d)\">\n     <use xlink:href=\"#m53de64522a\" x=\"65.239188\" y=\"86.965276\" style=\"fill: #377eb8; fill-opacity: 0.737374; stroke: #377eb8; stroke-opacity: 0.737374\"/>\n    </g>\n   </g>\n   <g id=\"line2d_140\">\n    <defs>\n     <path id=\"mec3aa80daf\" d=\"M 0 1.5 \nC 0.397805 1.5 0.77937 1.341951 1.06066 1.06066 \nC 1.341951 0.77937 1.5 0.397805 1.5 0 \nC 1.5 -0.397805 1.341951 -0.77937 1.06066 -1.06066 \nC 0.77937 -1.341951 0.397805 -1.5 0 -1.5 \nC -0.397805 -1.5 -0.77937 -1.341951 -1.06066 -1.06066 \nC -1.341951 -0.77937 -1.5 -0.397805 -1.5 0 \nC -1.5 0.397805 -1.341951 0.77937 -1.06066 1.06066 \nC -0.77937 1.341951 -0.397805 1.5 0 1.5 \nz\n\" style=\"stroke: #377eb8; stroke-opacity: 0.727273\"/>\n    </defs>\n    <g clip-path=\"url(#pd4cd23df7d)\">\n     <use xlink:href=\"#mec3aa80daf\" x=\"63.971338\" y=\"88.224763\" style=\"fill: #377eb8; fill-opacity: 0.727273; stroke: #377eb8; stroke-opacity: 0.727273\"/>\n    </g>\n   </g>\n   <g id=\"line2d_141\">\n    <defs>\n     <path id=\"m9869a5834c\" d=\"M 0 1.5 \nC 0.397805 1.5 0.77937 1.341951 1.06066 1.06066 \nC 1.341951 0.77937 1.5 0.397805 1.5 0 \nC 1.5 -0.397805 1.341951 -0.77937 1.06066 -1.06066 \nC 0.77937 -1.341951 0.397805 -1.5 0 -1.5 \nC -0.397805 -1.5 -0.77937 -1.341951 -1.06066 -1.06066 \nC -1.341951 -0.77937 -1.5 -0.397805 -1.5 0 \nC -1.5 0.397805 -1.341951 0.77937 -1.06066 1.06066 \nC -0.77937 1.341951 -0.397805 1.5 0 1.5 \nz\n\" style=\"stroke: #377eb8; stroke-opacity: 0.717172\"/>\n    </defs>\n    <g clip-path=\"url(#pd4cd23df7d)\">\n     <use xlink:href=\"#m9869a5834c\" x=\"62.826423\" y=\"89.562833\" style=\"fill: #377eb8; fill-opacity: 0.717172; stroke: #377eb8; stroke-opacity: 0.717172\"/>\n    </g>\n   </g>\n   <g id=\"line2d_142\">\n    <defs>\n     <path id=\"m083f76b615\" d=\"M 0 1.5 \nC 0.397805 1.5 0.77937 1.341951 1.06066 1.06066 \nC 1.341951 0.77937 1.5 0.397805 1.5 0 \nC 1.5 -0.397805 1.341951 -0.77937 1.06066 -1.06066 \nC 0.77937 -1.341951 0.397805 -1.5 0 -1.5 \nC -0.397805 -1.5 -0.77937 -1.341951 -1.06066 -1.06066 \nC -1.341951 -0.77937 -1.5 -0.397805 -1.5 0 \nC -1.5 0.397805 -1.341951 0.77937 -1.06066 1.06066 \nC -0.77937 1.341951 -0.397805 1.5 0 1.5 \nz\n\" style=\"stroke: #377eb8; stroke-opacity: 0.707071\"/>\n    </defs>\n    <g clip-path=\"url(#pd4cd23df7d)\">\n     <use xlink:href=\"#m083f76b615\" x=\"61.808501\" y=\"90.976026\" style=\"fill: #377eb8; fill-opacity: 0.707071; stroke: #377eb8; stroke-opacity: 0.707071\"/>\n    </g>\n   </g>\n   <g id=\"line2d_143\">\n    <defs>\n     <path id=\"m1ed3578a15\" d=\"M 0 1.5 \nC 0.397805 1.5 0.77937 1.341951 1.06066 1.06066 \nC 1.341951 0.77937 1.5 0.397805 1.5 0 \nC 1.5 -0.397805 1.341951 -0.77937 1.06066 -1.06066 \nC 0.77937 -1.341951 0.397805 -1.5 0 -1.5 \nC -0.397805 -1.5 -0.77937 -1.341951 -1.06066 -1.06066 \nC -1.341951 -0.77937 -1.5 -0.397805 -1.5 0 \nC -1.5 0.397805 -1.341951 0.77937 -1.06066 1.06066 \nC -0.77937 1.341951 -0.397805 1.5 0 1.5 \nz\n\" style=\"stroke: #377eb8; stroke-opacity: 0.69697\"/>\n    </defs>\n    <g clip-path=\"url(#pd4cd23df7d)\">\n     <use xlink:href=\"#m1ed3578a15\" x=\"60.921422\" y=\"92.460683\" style=\"fill: #377eb8; fill-opacity: 0.69697; stroke: #377eb8; stroke-opacity: 0.69697\"/>\n    </g>\n   </g>\n   <g id=\"line2d_144\">\n    <defs>\n     <path id=\"me823dbd225\" d=\"M 0 1.5 \nC 0.397805 1.5 0.77937 1.341951 1.06066 1.06066 \nC 1.341951 0.77937 1.5 0.397805 1.5 0 \nC 1.5 -0.397805 1.341951 -0.77937 1.06066 -1.06066 \nC 0.77937 -1.341951 0.397805 -1.5 0 -1.5 \nC -0.397805 -1.5 -0.77937 -1.341951 -1.06066 -1.06066 \nC -1.341951 -0.77937 -1.5 -0.397805 -1.5 0 \nC -1.5 0.397805 -1.341951 0.77937 -1.06066 1.06066 \nC -0.77937 1.341951 -0.397805 1.5 0 1.5 \nz\n\" style=\"stroke: #377eb8; stroke-opacity: 0.686869\"/>\n    </defs>\n    <g clip-path=\"url(#pd4cd23df7d)\">\n     <use xlink:href=\"#me823dbd225\" x=\"60.168817\" y=\"94.012957\" style=\"fill: #377eb8; fill-opacity: 0.686869; stroke: #377eb8; stroke-opacity: 0.686869\"/>\n    </g>\n   </g>\n   <g id=\"line2d_145\">\n    <defs>\n     <path id=\"m7b8bad5d6c\" d=\"M 0 1.5 \nC 0.397805 1.5 0.77937 1.341951 1.06066 1.06066 \nC 1.341951 0.77937 1.5 0.397805 1.5 0 \nC 1.5 -0.397805 1.341951 -0.77937 1.06066 -1.06066 \nC 0.77937 -1.341951 0.397805 -1.5 0 -1.5 \nC -0.397805 -1.5 -0.77937 -1.341951 -1.06066 -1.06066 \nC -1.341951 -0.77937 -1.5 -0.397805 -1.5 0 \nC -1.5 0.397805 -1.341951 0.77937 -1.06066 1.06066 \nC -0.77937 1.341951 -0.397805 1.5 0 1.5 \nz\n\" style=\"stroke: #377eb8; stroke-opacity: 0.676768\"/>\n    </defs>\n    <g clip-path=\"url(#pd4cd23df7d)\">\n     <use xlink:href=\"#m7b8bad5d6c\" x=\"59.554087\" y=\"95.628824\" style=\"fill: #377eb8; fill-opacity: 0.676768; stroke: #377eb8; stroke-opacity: 0.676768\"/>\n    </g>\n   </g>\n   <g id=\"line2d_146\">\n    <defs>\n     <path id=\"m44d0f0bc64\" d=\"M 0 1.5 \nC 0.397805 1.5 0.77937 1.341951 1.06066 1.06066 \nC 1.341951 0.77937 1.5 0.397805 1.5 0 \nC 1.5 -0.397805 1.341951 -0.77937 1.06066 -1.06066 \nC 0.77937 -1.341951 0.397805 -1.5 0 -1.5 \nC -0.397805 -1.5 -0.77937 -1.341951 -1.06066 -1.06066 \nC -1.341951 -0.77937 -1.5 -0.397805 -1.5 0 \nC -1.5 0.397805 -1.341951 0.77937 -1.06066 1.06066 \nC -0.77937 1.341951 -0.397805 1.5 0 1.5 \nz\n\" style=\"stroke: #377eb8; stroke-opacity: 0.666667\"/>\n    </defs>\n    <g clip-path=\"url(#pd4cd23df7d)\">\n     <use xlink:href=\"#m44d0f0bc64\" x=\"59.080397\" y=\"97.304092\" style=\"fill: #377eb8; fill-opacity: 0.666667; stroke: #377eb8; stroke-opacity: 0.666667\"/>\n    </g>\n   </g>\n   <g id=\"line2d_147\">\n    <defs>\n     <path id=\"m64a60bf78d\" d=\"M 0 1.5 \nC 0.397805 1.5 0.77937 1.341951 1.06066 1.06066 \nC 1.341951 0.77937 1.5 0.397805 1.5 0 \nC 1.5 -0.397805 1.341951 -0.77937 1.06066 -1.06066 \nC 0.77937 -1.341951 0.397805 -1.5 0 -1.5 \nC -0.397805 -1.5 -0.77937 -1.341951 -1.06066 -1.06066 \nC -1.341951 -0.77937 -1.5 -0.397805 -1.5 0 \nC -1.5 0.397805 -1.341951 0.77937 -1.06066 1.06066 \nC -0.77937 1.341951 -0.397805 1.5 0 1.5 \nz\n\" style=\"stroke: #377eb8; stroke-opacity: 0.656566\"/>\n    </defs>\n    <g clip-path=\"url(#pd4cd23df7d)\">\n     <use xlink:href=\"#m64a60bf78d\" x=\"58.750668\" y=\"99.034412\" style=\"fill: #377eb8; fill-opacity: 0.656566; stroke: #377eb8; stroke-opacity: 0.656566\"/>\n    </g>\n   </g>\n   <g id=\"line2d_148\">\n    <defs>\n     <path id=\"m6fc7817b77\" d=\"M 0 1.5 \nC 0.397805 1.5 0.77937 1.341951 1.06066 1.06066 \nC 1.341951 0.77937 1.5 0.397805 1.5 0 \nC 1.5 -0.397805 1.341951 -0.77937 1.06066 -1.06066 \nC 0.77937 -1.341951 0.397805 -1.5 0 -1.5 \nC -0.397805 -1.5 -0.77937 -1.341951 -1.06066 -1.06066 \nC -1.341951 -0.77937 -1.5 -0.397805 -1.5 0 \nC -1.5 0.397805 -1.341951 0.77937 -1.06066 1.06066 \nC -0.77937 1.341951 -0.397805 1.5 0 1.5 \nz\n\" style=\"stroke: #377eb8; stroke-opacity: 0.646465\"/>\n    </defs>\n    <g clip-path=\"url(#pd4cd23df7d)\">\n     <use xlink:href=\"#m6fc7817b77\" x=\"58.567569\" y=\"100.815289\" style=\"fill: #377eb8; fill-opacity: 0.646465; stroke: #377eb8; stroke-opacity: 0.646465\"/>\n    </g>\n   </g>\n   <g id=\"line2d_149\">\n    <defs>\n     <path id=\"m466ef113c5\" d=\"M 0 1.5 \nC 0.397805 1.5 0.77937 1.341951 1.06066 1.06066 \nC 1.341951 0.77937 1.5 0.397805 1.5 0 \nC 1.5 -0.397805 1.341951 -0.77937 1.06066 -1.06066 \nC 0.77937 -1.341951 0.397805 -1.5 0 -1.5 \nC -0.397805 -1.5 -0.77937 -1.341951 -1.06066 -1.06066 \nC -1.341951 -0.77937 -1.5 -0.397805 -1.5 0 \nC -1.5 0.397805 -1.341951 0.77937 -1.06066 1.06066 \nC -0.77937 1.341951 -0.397805 1.5 0 1.5 \nz\n\" style=\"stroke: #377eb8; stroke-opacity: 0.636364\"/>\n    </defs>\n    <g clip-path=\"url(#pd4cd23df7d)\">\n     <use xlink:href=\"#m466ef113c5\" x=\"58.53351\" y=\"102.642097\" style=\"fill: #377eb8; fill-opacity: 0.636364; stroke: #377eb8; stroke-opacity: 0.636364\"/>\n    </g>\n   </g>\n   <g id=\"line2d_150\">\n    <defs>\n     <path id=\"m90334bd325\" d=\"M 0 1.5 \nC 0.397805 1.5 0.77937 1.341951 1.06066 1.06066 \nC 1.341951 0.77937 1.5 0.397805 1.5 0 \nC 1.5 -0.397805 1.341951 -0.77937 1.06066 -1.06066 \nC 0.77937 -1.341951 0.397805 -1.5 0 -1.5 \nC -0.397805 -1.5 -0.77937 -1.341951 -1.06066 -1.06066 \nC -1.341951 -0.77937 -1.5 -0.397805 -1.5 0 \nC -1.5 0.397805 -1.341951 0.77937 -1.06066 1.06066 \nC -0.77937 1.341951 -0.397805 1.5 0 1.5 \nz\n\" style=\"stroke: #377eb8; stroke-opacity: 0.626263\"/>\n    </defs>\n    <g clip-path=\"url(#pd4cd23df7d)\">\n     <use xlink:href=\"#m90334bd325\" x=\"58.650638\" y=\"104.51009\" style=\"fill: #377eb8; fill-opacity: 0.626263; stroke: #377eb8; stroke-opacity: 0.626263\"/>\n    </g>\n   </g>\n   <g id=\"line2d_151\">\n    <defs>\n     <path id=\"mcf248c0ca3\" d=\"M 0 1.5 \nC 0.397805 1.5 0.77937 1.341951 1.06066 1.06066 \nC 1.341951 0.77937 1.5 0.397805 1.5 0 \nC 1.5 -0.397805 1.341951 -0.77937 1.06066 -1.06066 \nC 0.77937 -1.341951 0.397805 -1.5 0 -1.5 \nC -0.397805 -1.5 -0.77937 -1.341951 -1.06066 -1.06066 \nC -1.341951 -0.77937 -1.5 -0.397805 -1.5 0 \nC -1.5 0.397805 -1.341951 0.77937 -1.06066 1.06066 \nC -0.77937 1.341951 -0.397805 1.5 0 1.5 \nz\n\" style=\"stroke: #377eb8; stroke-opacity: 0.616162\"/>\n    </defs>\n    <g clip-path=\"url(#pd4cd23df7d)\">\n     <use xlink:href=\"#mcf248c0ca3\" x=\"58.920827\" y=\"106.414411\" style=\"fill: #377eb8; fill-opacity: 0.616162; stroke: #377eb8; stroke-opacity: 0.616162\"/>\n    </g>\n   </g>\n   <g id=\"line2d_152\">\n    <defs>\n     <path id=\"mc0c8c80ba3\" d=\"M 0 1.5 \nC 0.397805 1.5 0.77937 1.341951 1.06066 1.06066 \nC 1.341951 0.77937 1.5 0.397805 1.5 0 \nC 1.5 -0.397805 1.341951 -0.77937 1.06066 -1.06066 \nC 0.77937 -1.341951 0.397805 -1.5 0 -1.5 \nC -0.397805 -1.5 -0.77937 -1.341951 -1.06066 -1.06066 \nC -1.341951 -0.77937 -1.5 -0.397805 -1.5 0 \nC -1.5 0.397805 -1.341951 0.77937 -1.06066 1.06066 \nC -0.77937 1.341951 -0.397805 1.5 0 1.5 \nz\n\" style=\"stroke: #377eb8; stroke-opacity: 0.606061\"/>\n    </defs>\n    <g clip-path=\"url(#pd4cd23df7d)\">\n     <use xlink:href=\"#mc0c8c80ba3\" x=\"59.345679\" y=\"108.350112\" style=\"fill: #377eb8; fill-opacity: 0.606061; stroke: #377eb8; stroke-opacity: 0.606061\"/>\n    </g>\n   </g>\n   <g id=\"line2d_153\">\n    <defs>\n     <path id=\"m24872f51db\" d=\"M 0 1.5 \nC 0.397805 1.5 0.77937 1.341951 1.06066 1.06066 \nC 1.341951 0.77937 1.5 0.397805 1.5 0 \nC 1.5 -0.397805 1.341951 -0.77937 1.06066 -1.06066 \nC 0.77937 -1.341951 0.397805 -1.5 0 -1.5 \nC -0.397805 -1.5 -0.77937 -1.341951 -1.06066 -1.06066 \nC -1.341951 -0.77937 -1.5 -0.397805 -1.5 0 \nC -1.5 0.397805 -1.341951 0.77937 -1.06066 1.06066 \nC -0.77937 1.341951 -0.397805 1.5 0 1.5 \nz\n\" style=\"stroke: #377eb8; stroke-opacity: 0.59596\"/>\n    </defs>\n    <g clip-path=\"url(#pd4cd23df7d)\">\n     <use xlink:href=\"#m24872f51db\" x=\"59.926515\" y=\"110.312163\" style=\"fill: #377eb8; fill-opacity: 0.59596; stroke: #377eb8; stroke-opacity: 0.59596\"/>\n    </g>\n   </g>\n   <g id=\"line2d_154\">\n    <defs>\n     <path id=\"m597e912cf4\" d=\"M 0 1.5 \nC 0.397805 1.5 0.77937 1.341951 1.06066 1.06066 \nC 1.341951 0.77937 1.5 0.397805 1.5 0 \nC 1.5 -0.397805 1.341951 -0.77937 1.06066 -1.06066 \nC 0.77937 -1.341951 0.397805 -1.5 0 -1.5 \nC -0.397805 -1.5 -0.77937 -1.341951 -1.06066 -1.06066 \nC -1.341951 -0.77937 -1.5 -0.397805 -1.5 0 \nC -1.5 0.397805 -1.341951 0.77937 -1.06066 1.06066 \nC -0.77937 1.341951 -0.397805 1.5 0 1.5 \nz\n\" style=\"stroke: #377eb8; stroke-opacity: 0.585859\"/>\n    </defs>\n    <g clip-path=\"url(#pd4cd23df7d)\">\n     <use xlink:href=\"#m597e912cf4\" x=\"60.664378\" y=\"112.295463\" style=\"fill: #377eb8; fill-opacity: 0.585859; stroke: #377eb8; stroke-opacity: 0.585859\"/>\n    </g>\n   </g>\n   <g id=\"line2d_155\">\n    <defs>\n     <path id=\"mbbd71d439d\" d=\"M 0 1.5 \nC 0.397805 1.5 0.77937 1.341951 1.06066 1.06066 \nC 1.341951 0.77937 1.5 0.397805 1.5 0 \nC 1.5 -0.397805 1.341951 -0.77937 1.06066 -1.06066 \nC 0.77937 -1.341951 0.397805 -1.5 0 -1.5 \nC -0.397805 -1.5 -0.77937 -1.341951 -1.06066 -1.06066 \nC -1.341951 -0.77937 -1.5 -0.397805 -1.5 0 \nC -1.5 0.397805 -1.341951 0.77937 -1.06066 1.06066 \nC -0.77937 1.341951 -0.397805 1.5 0 1.5 \nz\n\" style=\"stroke: #377eb8; stroke-opacity: 0.575758\"/>\n    </defs>\n    <g clip-path=\"url(#pd4cd23df7d)\">\n     <use xlink:href=\"#mbbd71d439d\" x=\"61.560021\" y=\"114.294861\" style=\"fill: #377eb8; fill-opacity: 0.575758; stroke: #377eb8; stroke-opacity: 0.575758\"/>\n    </g>\n   </g>\n   <g id=\"line2d_156\">\n    <defs>\n     <path id=\"md5553cd3f4\" d=\"M 0 1.5 \nC 0.397805 1.5 0.77937 1.341951 1.06066 1.06066 \nC 1.341951 0.77937 1.5 0.397805 1.5 0 \nC 1.5 -0.397805 1.341951 -0.77937 1.06066 -1.06066 \nC 0.77937 -1.341951 0.397805 -1.5 0 -1.5 \nC -0.397805 -1.5 -0.77937 -1.341951 -1.06066 -1.06066 \nC -1.341951 -0.77937 -1.5 -0.397805 -1.5 0 \nC -1.5 0.397805 -1.341951 0.77937 -1.06066 1.06066 \nC -0.77937 1.341951 -0.397805 1.5 0 1.5 \nz\n\" style=\"stroke: #377eb8; stroke-opacity: 0.565657\"/>\n    </defs>\n    <g clip-path=\"url(#pd4cd23df7d)\">\n     <use xlink:href=\"#md5553cd3f4\" x=\"62.613914\" y=\"116.305163\" style=\"fill: #377eb8; fill-opacity: 0.565657; stroke: #377eb8; stroke-opacity: 0.565657\"/>\n    </g>\n   </g>\n   <g id=\"line2d_157\">\n    <defs>\n     <path id=\"md3fda01cc3\" d=\"M 0 1.5 \nC 0.397805 1.5 0.77937 1.341951 1.06066 1.06066 \nC 1.341951 0.77937 1.5 0.397805 1.5 0 \nC 1.5 -0.397805 1.341951 -0.77937 1.06066 -1.06066 \nC 0.77937 -1.341951 0.397805 -1.5 0 -1.5 \nC -0.397805 -1.5 -0.77937 -1.341951 -1.06066 -1.06066 \nC -1.341951 -0.77937 -1.5 -0.397805 -1.5 0 \nC -1.5 0.397805 -1.341951 0.77937 -1.06066 1.06066 \nC -0.77937 1.341951 -0.397805 1.5 0 1.5 \nz\n\" style=\"stroke: #377eb8; stroke-opacity: 0.555556\"/>\n    </defs>\n    <g clip-path=\"url(#pd4cd23df7d)\">\n     <use xlink:href=\"#md3fda01cc3\" x=\"63.826238\" y=\"118.321152\" style=\"fill: #377eb8; fill-opacity: 0.555556; stroke: #377eb8; stroke-opacity: 0.555556\"/>\n    </g>\n   </g>\n   <g id=\"line2d_158\">\n    <defs>\n     <path id=\"m73a4b75f03\" d=\"M 0 1.5 \nC 0.397805 1.5 0.77937 1.341951 1.06066 1.06066 \nC 1.341951 0.77937 1.5 0.397805 1.5 0 \nC 1.5 -0.397805 1.341951 -0.77937 1.06066 -1.06066 \nC 0.77937 -1.341951 0.397805 -1.5 0 -1.5 \nC -0.397805 -1.5 -0.77937 -1.341951 -1.06066 -1.06066 \nC -1.341951 -0.77937 -1.5 -0.397805 -1.5 0 \nC -1.5 0.397805 -1.341951 0.77937 -1.06066 1.06066 \nC -0.77937 1.341951 -0.397805 1.5 0 1.5 \nz\n\" style=\"stroke: #377eb8; stroke-opacity: 0.545455\"/>\n    </defs>\n    <g clip-path=\"url(#pd4cd23df7d)\">\n     <use xlink:href=\"#m73a4b75f03\" x=\"65.196885\" y=\"120.337597\" style=\"fill: #377eb8; fill-opacity: 0.545455; stroke: #377eb8; stroke-opacity: 0.545455\"/>\n    </g>\n   </g>\n   <g id=\"line2d_159\">\n    <defs>\n     <path id=\"mbcdaf21293\" d=\"M 0 1.5 \nC 0.397805 1.5 0.77937 1.341951 1.06066 1.06066 \nC 1.341951 0.77937 1.5 0.397805 1.5 0 \nC 1.5 -0.397805 1.341951 -0.77937 1.06066 -1.06066 \nC 0.77937 -1.341951 0.397805 -1.5 0 -1.5 \nC -0.397805 -1.5 -0.77937 -1.341951 -1.06066 -1.06066 \nC -1.341951 -0.77937 -1.5 -0.397805 -1.5 0 \nC -1.5 0.397805 -1.341951 0.77937 -1.06066 1.06066 \nC -0.77937 1.341951 -0.397805 1.5 0 1.5 \nz\n\" style=\"stroke: #377eb8; stroke-opacity: 0.535354\"/>\n    </defs>\n    <g clip-path=\"url(#pd4cd23df7d)\">\n     <use xlink:href=\"#mbcdaf21293\" x=\"66.725461\" y=\"122.349269\" style=\"fill: #377eb8; fill-opacity: 0.535354; stroke: #377eb8; stroke-opacity: 0.535354\"/>\n    </g>\n   </g>\n   <g id=\"line2d_160\">\n    <defs>\n     <path id=\"mbfbbb0ea82\" d=\"M 0 1.5 \nC 0.397805 1.5 0.77937 1.341951 1.06066 1.06066 \nC 1.341951 0.77937 1.5 0.397805 1.5 0 \nC 1.5 -0.397805 1.341951 -0.77937 1.06066 -1.06066 \nC 0.77937 -1.341951 0.397805 -1.5 0 -1.5 \nC -0.397805 -1.5 -0.77937 -1.341951 -1.06066 -1.06066 \nC -1.341951 -0.77937 -1.5 -0.397805 -1.5 0 \nC -1.5 0.397805 -1.341951 0.77937 -1.06066 1.06066 \nC -0.77937 1.341951 -0.397805 1.5 0 1.5 \nz\n\" style=\"stroke: #377eb8; stroke-opacity: 0.525253\"/>\n    </defs>\n    <g clip-path=\"url(#pd4cd23df7d)\">\n     <use xlink:href=\"#mbfbbb0ea82\" x=\"68.411283\" y=\"124.350958\" style=\"fill: #377eb8; fill-opacity: 0.525253; stroke: #377eb8; stroke-opacity: 0.525253\"/>\n    </g>\n   </g>\n   <g id=\"line2d_161\">\n    <defs>\n     <path id=\"mfccca7a94e\" d=\"M 0 1.5 \nC 0.397805 1.5 0.77937 1.341951 1.06066 1.06066 \nC 1.341951 0.77937 1.5 0.397805 1.5 0 \nC 1.5 -0.397805 1.341951 -0.77937 1.06066 -1.06066 \nC 0.77937 -1.341951 0.397805 -1.5 0 -1.5 \nC -0.397805 -1.5 -0.77937 -1.341951 -1.06066 -1.06066 \nC -1.341951 -0.77937 -1.5 -0.397805 -1.5 0 \nC -1.5 0.397805 -1.341951 0.77937 -1.06066 1.06066 \nC -0.77937 1.341951 -0.397805 1.5 0 1.5 \nz\n\" style=\"stroke: #377eb8; stroke-opacity: 0.515152\"/>\n    </defs>\n    <g clip-path=\"url(#pd4cd23df7d)\">\n     <use xlink:href=\"#mfccca7a94e\" x=\"70.253383\" y=\"126.337483\" style=\"fill: #377eb8; fill-opacity: 0.515152; stroke: #377eb8; stroke-opacity: 0.515152\"/>\n    </g>\n   </g>\n   <g id=\"line2d_162\">\n    <defs>\n     <path id=\"m219dad1c0e\" d=\"M 0 1.5 \nC 0.397805 1.5 0.77937 1.341951 1.06066 1.06066 \nC 1.341951 0.77937 1.5 0.397805 1.5 0 \nC 1.5 -0.397805 1.341951 -0.77937 1.06066 -1.06066 \nC 0.77937 -1.341951 0.397805 -1.5 0 -1.5 \nC -0.397805 -1.5 -0.77937 -1.341951 -1.06066 -1.06066 \nC -1.341951 -0.77937 -1.5 -0.397805 -1.5 0 \nC -1.5 0.397805 -1.341951 0.77937 -1.06066 1.06066 \nC -0.77937 1.341951 -0.397805 1.5 0 1.5 \nz\n\" style=\"stroke: #377eb8; stroke-opacity: 0.505051\"/>\n    </defs>\n    <g clip-path=\"url(#pd4cd23df7d)\">\n     <use xlink:href=\"#m219dad1c0e\" x=\"72.25051\" y=\"128.303707\" style=\"fill: #377eb8; fill-opacity: 0.505051; stroke: #377eb8; stroke-opacity: 0.505051\"/>\n    </g>\n   </g>\n   <g id=\"line2d_163\">\n    <defs>\n     <path id=\"mb523b8a027\" d=\"M 0 1.5 \nC 0.397805 1.5 0.77937 1.341951 1.06066 1.06066 \nC 1.341951 0.77937 1.5 0.397805 1.5 0 \nC 1.5 -0.397805 1.341951 -0.77937 1.06066 -1.06066 \nC 0.77937 -1.341951 0.397805 -1.5 0 -1.5 \nC -0.397805 -1.5 -0.77937 -1.341951 -1.06066 -1.06066 \nC -1.341951 -0.77937 -1.5 -0.397805 -1.5 0 \nC -1.5 0.397805 -1.341951 0.77937 -1.06066 1.06066 \nC -0.77937 1.341951 -0.397805 1.5 0 1.5 \nz\n\" style=\"stroke: #377eb8; stroke-opacity: 0.494949\"/>\n    </defs>\n    <g clip-path=\"url(#pd4cd23df7d)\">\n     <use xlink:href=\"#mb523b8a027\" x=\"74.401134\" y=\"130.244553\" style=\"fill: #377eb8; fill-opacity: 0.494949; stroke: #377eb8; stroke-opacity: 0.494949\"/>\n    </g>\n   </g>\n   <g id=\"line2d_164\">\n    <defs>\n     <path id=\"m219f4ddd35\" d=\"M 0 1.5 \nC 0.397805 1.5 0.77937 1.341951 1.06066 1.06066 \nC 1.341951 0.77937 1.5 0.397805 1.5 0 \nC 1.5 -0.397805 1.341951 -0.77937 1.06066 -1.06066 \nC 0.77937 -1.341951 0.397805 -1.5 0 -1.5 \nC -0.397805 -1.5 -0.77937 -1.341951 -1.06066 -1.06066 \nC -1.341951 -0.77937 -1.5 -0.397805 -1.5 0 \nC -1.5 0.397805 -1.341951 0.77937 -1.06066 1.06066 \nC -0.77937 1.341951 -0.397805 1.5 0 1.5 \nz\n\" style=\"stroke: #377eb8; stroke-opacity: 0.484848\"/>\n    </defs>\n    <g clip-path=\"url(#pd4cd23df7d)\">\n     <use xlink:href=\"#m219f4ddd35\" x=\"76.703448\" y=\"132.155017\" style=\"fill: #377eb8; fill-opacity: 0.484848; stroke: #377eb8; stroke-opacity: 0.484848\"/>\n    </g>\n   </g>\n   <g id=\"line2d_165\">\n    <defs>\n     <path id=\"m1cda1a6bb4\" d=\"M 0 1.5 \nC 0.397805 1.5 0.77937 1.341951 1.06066 1.06066 \nC 1.341951 0.77937 1.5 0.397805 1.5 0 \nC 1.5 -0.397805 1.341951 -0.77937 1.06066 -1.06066 \nC 0.77937 -1.341951 0.397805 -1.5 0 -1.5 \nC -0.397805 -1.5 -0.77937 -1.341951 -1.06066 -1.06066 \nC -1.341951 -0.77937 -1.5 -0.397805 -1.5 0 \nC -1.5 0.397805 -1.341951 0.77937 -1.06066 1.06066 \nC -0.77937 1.341951 -0.397805 1.5 0 1.5 \nz\n\" style=\"stroke: #377eb8; stroke-opacity: 0.474747\"/>\n    </defs>\n    <g clip-path=\"url(#pd4cd23df7d)\">\n     <use xlink:href=\"#m1cda1a6bb4\" x=\"79.155374\" y=\"134.03018\" style=\"fill: #377eb8; fill-opacity: 0.474747; stroke: #377eb8; stroke-opacity: 0.474747\"/>\n    </g>\n   </g>\n   <g id=\"line2d_166\">\n    <defs>\n     <path id=\"m181416b4c3\" d=\"M 0 1.5 \nC 0.397805 1.5 0.77937 1.341951 1.06066 1.06066 \nC 1.341951 0.77937 1.5 0.397805 1.5 0 \nC 1.5 -0.397805 1.341951 -0.77937 1.06066 -1.06066 \nC 0.77937 -1.341951 0.397805 -1.5 0 -1.5 \nC -0.397805 -1.5 -0.77937 -1.341951 -1.06066 -1.06066 \nC -1.341951 -0.77937 -1.5 -0.397805 -1.5 0 \nC -1.5 0.397805 -1.341951 0.77937 -1.06066 1.06066 \nC -0.77937 1.341951 -0.397805 1.5 0 1.5 \nz\n\" style=\"stroke: #377eb8; stroke-opacity: 0.464646\"/>\n    </defs>\n    <g clip-path=\"url(#pd4cd23df7d)\">\n     <use xlink:href=\"#m181416b4c3\" x=\"81.754568\" y=\"135.865222\" style=\"fill: #377eb8; fill-opacity: 0.464646; stroke: #377eb8; stroke-opacity: 0.464646\"/>\n    </g>\n   </g>\n   <g id=\"line2d_167\">\n    <defs>\n     <path id=\"mdb1acf4673\" d=\"M 0 1.5 \nC 0.397805 1.5 0.77937 1.341951 1.06066 1.06066 \nC 1.341951 0.77937 1.5 0.397805 1.5 0 \nC 1.5 -0.397805 1.341951 -0.77937 1.06066 -1.06066 \nC 0.77937 -1.341951 0.397805 -1.5 0 -1.5 \nC -0.397805 -1.5 -0.77937 -1.341951 -1.06066 -1.06066 \nC -1.341951 -0.77937 -1.5 -0.397805 -1.5 0 \nC -1.5 0.397805 -1.341951 0.77937 -1.06066 1.06066 \nC -0.77937 1.341951 -0.397805 1.5 0 1.5 \nz\n\" style=\"stroke: #377eb8; stroke-opacity: 0.454545\"/>\n    </defs>\n    <g clip-path=\"url(#pd4cd23df7d)\">\n     <use xlink:href=\"#mdb1acf4673\" x=\"84.498424\" y=\"137.655436\" style=\"fill: #377eb8; fill-opacity: 0.454545; stroke: #377eb8; stroke-opacity: 0.454545\"/>\n    </g>\n   </g>\n   <g id=\"line2d_168\">\n    <defs>\n     <path id=\"m8cb52aac05\" d=\"M 0 1.5 \nC 0.397805 1.5 0.77937 1.341951 1.06066 1.06066 \nC 1.341951 0.77937 1.5 0.397805 1.5 0 \nC 1.5 -0.397805 1.341951 -0.77937 1.06066 -1.06066 \nC 0.77937 -1.341951 0.397805 -1.5 0 -1.5 \nC -0.397805 -1.5 -0.77937 -1.341951 -1.06066 -1.06066 \nC -1.341951 -0.77937 -1.5 -0.397805 -1.5 0 \nC -1.5 0.397805 -1.341951 0.77937 -1.06066 1.06066 \nC -0.77937 1.341951 -0.397805 1.5 0 1.5 \nz\n\" style=\"stroke: #377eb8; stroke-opacity: 0.444444\"/>\n    </defs>\n    <g clip-path=\"url(#pd4cd23df7d)\">\n     <use xlink:href=\"#m8cb52aac05\" x=\"87.384084\" y=\"139.39624\" style=\"fill: #377eb8; fill-opacity: 0.444444; stroke: #377eb8; stroke-opacity: 0.444444\"/>\n    </g>\n   </g>\n   <g id=\"line2d_169\">\n    <defs>\n     <path id=\"m9db27b536c\" d=\"M 0 1.5 \nC 0.397805 1.5 0.77937 1.341951 1.06066 1.06066 \nC 1.341951 0.77937 1.5 0.397805 1.5 0 \nC 1.5 -0.397805 1.341951 -0.77937 1.06066 -1.06066 \nC 0.77937 -1.341951 0.397805 -1.5 0 -1.5 \nC -0.397805 -1.5 -0.77937 -1.341951 -1.06066 -1.06066 \nC -1.341951 -0.77937 -1.5 -0.397805 -1.5 0 \nC -1.5 0.397805 -1.341951 0.77937 -1.06066 1.06066 \nC -0.77937 1.341951 -0.397805 1.5 0 1.5 \nz\n\" style=\"stroke: #377eb8; stroke-opacity: 0.434343\"/>\n    </defs>\n    <g clip-path=\"url(#pd4cd23df7d)\">\n     <use xlink:href=\"#m9db27b536c\" x=\"90.408443\" y=\"141.083191\" style=\"fill: #377eb8; fill-opacity: 0.434343; stroke: #377eb8; stroke-opacity: 0.434343\"/>\n    </g>\n   </g>\n   <g id=\"line2d_170\">\n    <defs>\n     <path id=\"mc04d1e9174\" d=\"M 0 1.5 \nC 0.397805 1.5 0.77937 1.341951 1.06066 1.06066 \nC 1.341951 0.77937 1.5 0.397805 1.5 0 \nC 1.5 -0.397805 1.341951 -0.77937 1.06066 -1.06066 \nC 0.77937 -1.341951 0.397805 -1.5 0 -1.5 \nC -0.397805 -1.5 -0.77937 -1.341951 -1.06066 -1.06066 \nC -1.341951 -0.77937 -1.5 -0.397805 -1.5 0 \nC -1.5 0.397805 -1.341951 0.77937 -1.06066 1.06066 \nC -0.77937 1.341951 -0.397805 1.5 0 1.5 \nz\n\" style=\"stroke: #377eb8; stroke-opacity: 0.424242\"/>\n    </defs>\n    <g clip-path=\"url(#pd4cd23df7d)\">\n     <use xlink:href=\"#mc04d1e9174\" x=\"93.568155\" y=\"142.711992\" style=\"fill: #377eb8; fill-opacity: 0.424242; stroke: #377eb8; stroke-opacity: 0.424242\"/>\n    </g>\n   </g>\n   <g id=\"line2d_171\">\n    <defs>\n     <path id=\"m0d7847b20c\" d=\"M 0 1.5 \nC 0.397805 1.5 0.77937 1.341951 1.06066 1.06066 \nC 1.341951 0.77937 1.5 0.397805 1.5 0 \nC 1.5 -0.397805 1.341951 -0.77937 1.06066 -1.06066 \nC 0.77937 -1.341951 0.397805 -1.5 0 -1.5 \nC -0.397805 -1.5 -0.77937 -1.341951 -1.06066 -1.06066 \nC -1.341951 -0.77937 -1.5 -0.397805 -1.5 0 \nC -1.5 0.397805 -1.341951 0.77937 -1.06066 1.06066 \nC -0.77937 1.341951 -0.397805 1.5 0 1.5 \nz\n\" style=\"stroke: #377eb8; stroke-opacity: 0.414141\"/>\n    </defs>\n    <g clip-path=\"url(#pd4cd23df7d)\">\n     <use xlink:href=\"#m0d7847b20c\" x=\"96.859647\" y=\"144.27851\" style=\"fill: #377eb8; fill-opacity: 0.414141; stroke: #377eb8; stroke-opacity: 0.414141\"/>\n    </g>\n   </g>\n   <g id=\"line2d_172\">\n    <defs>\n     <path id=\"md9baff3ac3\" d=\"M 0 1.5 \nC 0.397805 1.5 0.77937 1.341951 1.06066 1.06066 \nC 1.341951 0.77937 1.5 0.397805 1.5 0 \nC 1.5 -0.397805 1.341951 -0.77937 1.06066 -1.06066 \nC 0.77937 -1.341951 0.397805 -1.5 0 -1.5 \nC -0.397805 -1.5 -0.77937 -1.341951 -1.06066 -1.06066 \nC -1.341951 -0.77937 -1.5 -0.397805 -1.5 0 \nC -1.5 0.397805 -1.341951 0.77937 -1.06066 1.06066 \nC -0.77937 1.341951 -0.397805 1.5 0 1.5 \nz\n\" style=\"stroke: #377eb8; stroke-opacity: 0.40404\"/>\n    </defs>\n    <g clip-path=\"url(#pd4cd23df7d)\">\n     <use xlink:href=\"#md9baff3ac3\" x=\"100.279121\" y=\"145.778783\" style=\"fill: #377eb8; fill-opacity: 0.40404; stroke: #377eb8; stroke-opacity: 0.40404\"/>\n    </g>\n   </g>\n   <g id=\"line2d_173\">\n    <defs>\n     <path id=\"mc4240becdb\" d=\"M 0 1.5 \nC 0.397805 1.5 0.77937 1.341951 1.06066 1.06066 \nC 1.341951 0.77937 1.5 0.397805 1.5 0 \nC 1.5 -0.397805 1.341951 -0.77937 1.06066 -1.06066 \nC 0.77937 -1.341951 0.397805 -1.5 0 -1.5 \nC -0.397805 -1.5 -0.77937 -1.341951 -1.06066 -1.06066 \nC -1.341951 -0.77937 -1.5 -0.397805 -1.5 0 \nC -1.5 0.397805 -1.341951 0.77937 -1.06066 1.06066 \nC -0.77937 1.341951 -0.397805 1.5 0 1.5 \nz\n\" style=\"stroke: #377eb8; stroke-opacity: 0.393939\"/>\n    </defs>\n    <g clip-path=\"url(#pd4cd23df7d)\">\n     <use xlink:href=\"#mc4240becdb\" x=\"103.822569\" y=\"147.209031\" style=\"fill: #377eb8; fill-opacity: 0.393939; stroke: #377eb8; stroke-opacity: 0.393939\"/>\n    </g>\n   </g>\n   <g id=\"line2d_174\">\n    <defs>\n     <path id=\"m6f5cd0d803\" d=\"M 0 1.5 \nC 0.397805 1.5 0.77937 1.341951 1.06066 1.06066 \nC 1.341951 0.77937 1.5 0.397805 1.5 0 \nC 1.5 -0.397805 1.341951 -0.77937 1.06066 -1.06066 \nC 0.77937 -1.341951 0.397805 -1.5 0 -1.5 \nC -0.397805 -1.5 -0.77937 -1.341951 -1.06066 -1.06066 \nC -1.341951 -0.77937 -1.5 -0.397805 -1.5 0 \nC -1.5 0.397805 -1.341951 0.77937 -1.06066 1.06066 \nC -0.77937 1.341951 -0.397805 1.5 0 1.5 \nz\n\" style=\"stroke: #377eb8; stroke-opacity: 0.383838\"/>\n    </defs>\n    <g clip-path=\"url(#pd4cd23df7d)\">\n     <use xlink:href=\"#m6f5cd0d803\" x=\"107.485779\" y=\"148.565669\" style=\"fill: #377eb8; fill-opacity: 0.383838; stroke: #377eb8; stroke-opacity: 0.383838\"/>\n    </g>\n   </g>\n   <g id=\"line2d_175\">\n    <defs>\n     <path id=\"mee333809ce\" d=\"M 0 1.5 \nC 0.397805 1.5 0.77937 1.341951 1.06066 1.06066 \nC 1.341951 0.77937 1.5 0.397805 1.5 0 \nC 1.5 -0.397805 1.341951 -0.77937 1.06066 -1.06066 \nC 0.77937 -1.341951 0.397805 -1.5 0 -1.5 \nC -0.397805 -1.5 -0.77937 -1.341951 -1.06066 -1.06066 \nC -1.341951 -0.77937 -1.5 -0.397805 -1.5 0 \nC -1.5 0.397805 -1.341951 0.77937 -1.06066 1.06066 \nC -0.77937 1.341951 -0.397805 1.5 0 1.5 \nz\n\" style=\"stroke: #377eb8; stroke-opacity: 0.373737\"/>\n    </defs>\n    <g clip-path=\"url(#pd4cd23df7d)\">\n     <use xlink:href=\"#mee333809ce\" x=\"111.264349\" y=\"149.84531\" style=\"fill: #377eb8; fill-opacity: 0.373737; stroke: #377eb8; stroke-opacity: 0.373737\"/>\n    </g>\n   </g>\n   <g id=\"line2d_176\">\n    <defs>\n     <path id=\"m1e505febdf\" d=\"M 0 1.5 \nC 0.397805 1.5 0.77937 1.341951 1.06066 1.06066 \nC 1.341951 0.77937 1.5 0.397805 1.5 0 \nC 1.5 -0.397805 1.341951 -0.77937 1.06066 -1.06066 \nC 0.77937 -1.341951 0.397805 -1.5 0 -1.5 \nC -0.397805 -1.5 -0.77937 -1.341951 -1.06066 -1.06066 \nC -1.341951 -0.77937 -1.5 -0.397805 -1.5 0 \nC -1.5 0.397805 -1.341951 0.77937 -1.06066 1.06066 \nC -0.77937 1.341951 -0.397805 1.5 0 1.5 \nz\n\" style=\"stroke: #377eb8; stroke-opacity: 0.363636\"/>\n    </defs>\n    <g clip-path=\"url(#pd4cd23df7d)\">\n     <use xlink:href=\"#m1e505febdf\" x=\"115.153695\" y=\"151.044782\" style=\"fill: #377eb8; fill-opacity: 0.363636; stroke: #377eb8; stroke-opacity: 0.363636\"/>\n    </g>\n   </g>\n   <g id=\"line2d_177\">\n    <defs>\n     <path id=\"m14a00cf88d\" d=\"M 0 1.5 \nC 0.397805 1.5 0.77937 1.341951 1.06066 1.06066 \nC 1.341951 0.77937 1.5 0.397805 1.5 0 \nC 1.5 -0.397805 1.341951 -0.77937 1.06066 -1.06066 \nC 0.77937 -1.341951 0.397805 -1.5 0 -1.5 \nC -0.397805 -1.5 -0.77937 -1.341951 -1.06066 -1.06066 \nC -1.341951 -0.77937 -1.5 -0.397805 -1.5 0 \nC -1.5 0.397805 -1.341951 0.77937 -1.06066 1.06066 \nC -0.77937 1.341951 -0.397805 1.5 0 1.5 \nz\n\" style=\"stroke: #377eb8; stroke-opacity: 0.353535\"/>\n    </defs>\n    <g clip-path=\"url(#pd4cd23df7d)\">\n     <use xlink:href=\"#m14a00cf88d\" x=\"119.149063\" y=\"152.16113\" style=\"fill: #377eb8; fill-opacity: 0.353535; stroke: #377eb8; stroke-opacity: 0.353535\"/>\n    </g>\n   </g>\n   <g id=\"line2d_178\">\n    <defs>\n     <path id=\"mc7de6fed90\" d=\"M 0 1.5 \nC 0.397805 1.5 0.77937 1.341951 1.06066 1.06066 \nC 1.341951 0.77937 1.5 0.397805 1.5 0 \nC 1.5 -0.397805 1.341951 -0.77937 1.06066 -1.06066 \nC 0.77937 -1.341951 0.397805 -1.5 0 -1.5 \nC -0.397805 -1.5 -0.77937 -1.341951 -1.06066 -1.06066 \nC -1.341951 -0.77937 -1.5 -0.397805 -1.5 0 \nC -1.5 0.397805 -1.341951 0.77937 -1.06066 1.06066 \nC -0.77937 1.341951 -0.397805 1.5 0 1.5 \nz\n\" style=\"stroke: #377eb8; stroke-opacity: 0.343434\"/>\n    </defs>\n    <g clip-path=\"url(#pd4cd23df7d)\">\n     <use xlink:href=\"#mc7de6fed90\" x=\"123.245542\" y=\"153.191629\" style=\"fill: #377eb8; fill-opacity: 0.343434; stroke: #377eb8; stroke-opacity: 0.343434\"/>\n    </g>\n   </g>\n   <g id=\"line2d_179\">\n    <defs>\n     <path id=\"m01e27fd905\" d=\"M 0 1.5 \nC 0.397805 1.5 0.77937 1.341951 1.06066 1.06066 \nC 1.341951 0.77937 1.5 0.397805 1.5 0 \nC 1.5 -0.397805 1.341951 -0.77937 1.06066 -1.06066 \nC 0.77937 -1.341951 0.397805 -1.5 0 -1.5 \nC -0.397805 -1.5 -0.77937 -1.341951 -1.06066 -1.06066 \nC -1.341951 -0.77937 -1.5 -0.397805 -1.5 0 \nC -1.5 0.397805 -1.341951 0.77937 -1.06066 1.06066 \nC -0.77937 1.341951 -0.397805 1.5 0 1.5 \nz\n\" style=\"stroke: #377eb8; stroke-opacity: 0.333333\"/>\n    </defs>\n    <g clip-path=\"url(#pd4cd23df7d)\">\n     <use xlink:href=\"#m01e27fd905\" x=\"127.438077\" y=\"154.133783\" style=\"fill: #377eb8; fill-opacity: 0.333333; stroke: #377eb8; stroke-opacity: 0.333333\"/>\n    </g>\n   </g>\n   <g id=\"line2d_180\">\n    <defs>\n     <path id=\"m4a117bb3f5\" d=\"M 0 1.5 \nC 0.397805 1.5 0.77937 1.341951 1.06066 1.06066 \nC 1.341951 0.77937 1.5 0.397805 1.5 0 \nC 1.5 -0.397805 1.341951 -0.77937 1.06066 -1.06066 \nC 0.77937 -1.341951 0.397805 -1.5 0 -1.5 \nC -0.397805 -1.5 -0.77937 -1.341951 -1.06066 -1.06066 \nC -1.341951 -0.77937 -1.5 -0.397805 -1.5 0 \nC -1.5 0.397805 -1.341951 0.77937 -1.06066 1.06066 \nC -0.77937 1.341951 -0.397805 1.5 0 1.5 \nz\n\" style=\"stroke: #377eb8; stroke-opacity: 0.323232\"/>\n    </defs>\n    <g clip-path=\"url(#pd4cd23df7d)\">\n     <use xlink:href=\"#m4a117bb3f5\" x=\"131.721477\" y=\"154.985343\" style=\"fill: #377eb8; fill-opacity: 0.323232; stroke: #377eb8; stroke-opacity: 0.323232\"/>\n    </g>\n   </g>\n   <g id=\"line2d_181\">\n    <defs>\n     <path id=\"maed0190cf3\" d=\"M 0 1.5 \nC 0.397805 1.5 0.77937 1.341951 1.06066 1.06066 \nC 1.341951 0.77937 1.5 0.397805 1.5 0 \nC 1.5 -0.397805 1.341951 -0.77937 1.06066 -1.06066 \nC 0.77937 -1.341951 0.397805 -1.5 0 -1.5 \nC -0.397805 -1.5 -0.77937 -1.341951 -1.06066 -1.06066 \nC -1.341951 -0.77937 -1.5 -0.397805 -1.5 0 \nC -1.5 0.397805 -1.341951 0.77937 -1.06066 1.06066 \nC -0.77937 1.341951 -0.397805 1.5 0 1.5 \nz\n\" style=\"stroke: #377eb8; stroke-opacity: 0.313131\"/>\n    </defs>\n    <g clip-path=\"url(#pd4cd23df7d)\">\n     <use xlink:href=\"#maed0190cf3\" x=\"136.090432\" y=\"155.7443\" style=\"fill: #377eb8; fill-opacity: 0.313131; stroke: #377eb8; stroke-opacity: 0.313131\"/>\n    </g>\n   </g>\n   <g id=\"line2d_182\">\n    <defs>\n     <path id=\"m9f21ffc387\" d=\"M 0 1.5 \nC 0.397805 1.5 0.77937 1.341951 1.06066 1.06066 \nC 1.341951 0.77937 1.5 0.397805 1.5 0 \nC 1.5 -0.397805 1.341951 -0.77937 1.06066 -1.06066 \nC 0.77937 -1.341951 0.397805 -1.5 0 -1.5 \nC -0.397805 -1.5 -0.77937 -1.341951 -1.06066 -1.06066 \nC -1.341951 -0.77937 -1.5 -0.397805 -1.5 0 \nC -1.5 0.397805 -1.341951 0.77937 -1.06066 1.06066 \nC -0.77937 1.341951 -0.397805 1.5 0 1.5 \nz\n\" style=\"stroke: #377eb8; stroke-opacity: 0.30303\"/>\n    </defs>\n    <g clip-path=\"url(#pd4cd23df7d)\">\n     <use xlink:href=\"#m9f21ffc387\" x=\"140.539523\" y=\"156.4089\" style=\"fill: #377eb8; fill-opacity: 0.30303; stroke: #377eb8; stroke-opacity: 0.30303\"/>\n    </g>\n   </g>\n   <g id=\"line2d_183\">\n    <defs>\n     <path id=\"mbd3c101d8d\" d=\"M 0 1.5 \nC 0.397805 1.5 0.77937 1.341951 1.06066 1.06066 \nC 1.341951 0.77937 1.5 0.397805 1.5 0 \nC 1.5 -0.397805 1.341951 -0.77937 1.06066 -1.06066 \nC 0.77937 -1.341951 0.397805 -1.5 0 -1.5 \nC -0.397805 -1.5 -0.77937 -1.341951 -1.06066 -1.06066 \nC -1.341951 -0.77937 -1.5 -0.397805 -1.5 0 \nC -1.5 0.397805 -1.341951 0.77937 -1.06066 1.06066 \nC -0.77937 1.341951 -0.397805 1.5 0 1.5 \nz\n\" style=\"stroke: #377eb8; stroke-opacity: 0.292929\"/>\n    </defs>\n    <g clip-path=\"url(#pd4cd23df7d)\">\n     <use xlink:href=\"#mbd3c101d8d\" x=\"145.063239\" y=\"156.977644\" style=\"fill: #377eb8; fill-opacity: 0.292929; stroke: #377eb8; stroke-opacity: 0.292929\"/>\n    </g>\n   </g>\n   <g id=\"line2d_184\">\n    <defs>\n     <path id=\"m0e6d08fd0c\" d=\"M 0 1.5 \nC 0.397805 1.5 0.77937 1.341951 1.06066 1.06066 \nC 1.341951 0.77937 1.5 0.397805 1.5 0 \nC 1.5 -0.397805 1.341951 -0.77937 1.06066 -1.06066 \nC 0.77937 -1.341951 0.397805 -1.5 0 -1.5 \nC -0.397805 -1.5 -0.77937 -1.341951 -1.06066 -1.06066 \nC -1.341951 -0.77937 -1.5 -0.397805 -1.5 0 \nC -1.5 0.397805 -1.341951 0.77937 -1.06066 1.06066 \nC -0.77937 1.341951 -0.397805 1.5 0 1.5 \nz\n\" style=\"stroke: #377eb8; stroke-opacity: 0.282828\"/>\n    </defs>\n    <g clip-path=\"url(#pd4cd23df7d)\">\n     <use xlink:href=\"#m0e6d08fd0c\" x=\"149.655986\" y=\"157.449289\" style=\"fill: #377eb8; fill-opacity: 0.282828; stroke: #377eb8; stroke-opacity: 0.282828\"/>\n    </g>\n   </g>\n   <g id=\"line2d_185\">\n    <defs>\n     <path id=\"mf0ffb36f6c\" d=\"M 0 1.5 \nC 0.397805 1.5 0.77937 1.341951 1.06066 1.06066 \nC 1.341951 0.77937 1.5 0.397805 1.5 0 \nC 1.5 -0.397805 1.341951 -0.77937 1.06066 -1.06066 \nC 0.77937 -1.341951 0.397805 -1.5 0 -1.5 \nC -0.397805 -1.5 -0.77937 -1.341951 -1.06066 -1.06066 \nC -1.341951 -0.77937 -1.5 -0.397805 -1.5 0 \nC -1.5 0.397805 -1.341951 0.77937 -1.06066 1.06066 \nC -0.77937 1.341951 -0.397805 1.5 0 1.5 \nz\n\" style=\"stroke: #377eb8; stroke-opacity: 0.272727\"/>\n    </defs>\n    <g clip-path=\"url(#pd4cd23df7d)\">\n     <use xlink:href=\"#mf0ffb36f6c\" x=\"154.312103\" y=\"157.822858\" style=\"fill: #377eb8; fill-opacity: 0.272727; stroke: #377eb8; stroke-opacity: 0.272727\"/>\n    </g>\n   </g>\n   <g id=\"line2d_186\">\n    <defs>\n     <path id=\"m1744ff5e2a\" d=\"M 0 1.5 \nC 0.397805 1.5 0.77937 1.341951 1.06066 1.06066 \nC 1.341951 0.77937 1.5 0.397805 1.5 0 \nC 1.5 -0.397805 1.341951 -0.77937 1.06066 -1.06066 \nC 0.77937 -1.341951 0.397805 -1.5 0 -1.5 \nC -0.397805 -1.5 -0.77937 -1.341951 -1.06066 -1.06066 \nC -1.341951 -0.77937 -1.5 -0.397805 -1.5 0 \nC -1.5 0.397805 -1.341951 0.77937 -1.06066 1.06066 \nC -0.77937 1.341951 -0.397805 1.5 0 1.5 \nz\n\" style=\"stroke: #377eb8; stroke-opacity: 0.262626\"/>\n    </defs>\n    <g clip-path=\"url(#pd4cd23df7d)\">\n     <use xlink:href=\"#m1744ff5e2a\" x=\"159.025876\" y=\"158.097635\" style=\"fill: #377eb8; fill-opacity: 0.262626; stroke: #377eb8; stroke-opacity: 0.262626\"/>\n    </g>\n   </g>\n   <g id=\"line2d_187\">\n    <defs>\n     <path id=\"m753a13e815\" d=\"M 0 1.5 \nC 0.397805 1.5 0.77937 1.341951 1.06066 1.06066 \nC 1.341951 0.77937 1.5 0.397805 1.5 0 \nC 1.5 -0.397805 1.341951 -0.77937 1.06066 -1.06066 \nC 0.77937 -1.341951 0.397805 -1.5 0 -1.5 \nC -0.397805 -1.5 -0.77937 -1.341951 -1.06066 -1.06066 \nC -1.341951 -0.77937 -1.5 -0.397805 -1.5 0 \nC -1.5 0.397805 -1.341951 0.77937 -1.06066 1.06066 \nC -0.77937 1.341951 -0.397805 1.5 0 1.5 \nz\n\" style=\"stroke: #377eb8; stroke-opacity: 0.252525\"/>\n    </defs>\n    <g clip-path=\"url(#pd4cd23df7d)\">\n     <use xlink:href=\"#m753a13e815\" x=\"163.79155\" y=\"158.273169\" style=\"fill: #377eb8; fill-opacity: 0.252525; stroke: #377eb8; stroke-opacity: 0.252525\"/>\n    </g>\n   </g>\n   <g id=\"line2d_188\">\n    <defs>\n     <path id=\"mbfbbe1b43a\" d=\"M 0 1.5 \nC 0.397805 1.5 0.77937 1.341951 1.06066 1.06066 \nC 1.341951 0.77937 1.5 0.397805 1.5 0 \nC 1.5 -0.397805 1.341951 -0.77937 1.06066 -1.06066 \nC 0.77937 -1.341951 0.397805 -1.5 0 -1.5 \nC -0.397805 -1.5 -0.77937 -1.341951 -1.06066 -1.06066 \nC -1.341951 -0.77937 -1.5 -0.397805 -1.5 0 \nC -1.5 0.397805 -1.341951 0.77937 -1.06066 1.06066 \nC -0.77937 1.341951 -0.397805 1.5 0 1.5 \nz\n\" style=\"stroke: #377eb8; stroke-opacity: 0.242424\"/>\n    </defs>\n    <g clip-path=\"url(#pd4cd23df7d)\">\n     <use xlink:href=\"#mbfbbe1b43a\" x=\"168.603342\" y=\"158.349275\" style=\"fill: #377eb8; fill-opacity: 0.242424; stroke: #377eb8; stroke-opacity: 0.242424\"/>\n    </g>\n   </g>\n   <g id=\"line2d_189\">\n    <defs>\n     <path id=\"m9a842d1c73\" d=\"M 0 1.5 \nC 0.397805 1.5 0.77937 1.341951 1.06066 1.06066 \nC 1.341951 0.77937 1.5 0.397805 1.5 0 \nC 1.5 -0.397805 1.341951 -0.77937 1.06066 -1.06066 \nC 0.77937 -1.341951 0.397805 -1.5 0 -1.5 \nC -0.397805 -1.5 -0.77937 -1.341951 -1.06066 -1.06066 \nC -1.341951 -0.77937 -1.5 -0.397805 -1.5 0 \nC -1.5 0.397805 -1.341951 0.77937 -1.06066 1.06066 \nC -0.77937 1.341951 -0.397805 1.5 0 1.5 \nz\n\" style=\"stroke: #377eb8; stroke-opacity: 0.232323\"/>\n    </defs>\n    <g clip-path=\"url(#pd4cd23df7d)\">\n     <use xlink:href=\"#m9a842d1c73\" x=\"173.455459\" y=\"158.326034\" style=\"fill: #377eb8; fill-opacity: 0.232323; stroke: #377eb8; stroke-opacity: 0.232323\"/>\n    </g>\n   </g>\n   <g id=\"line2d_190\">\n    <defs>\n     <path id=\"m60ea5853e7\" d=\"M 0 1.5 \nC 0.397805 1.5 0.77937 1.341951 1.06066 1.06066 \nC 1.341951 0.77937 1.5 0.397805 1.5 0 \nC 1.5 -0.397805 1.341951 -0.77937 1.06066 -1.06066 \nC 0.77937 -1.341951 0.397805 -1.5 0 -1.5 \nC -0.397805 -1.5 -0.77937 -1.341951 -1.06066 -1.06066 \nC -1.341951 -0.77937 -1.5 -0.397805 -1.5 0 \nC -1.5 0.397805 -1.341951 0.77937 -1.06066 1.06066 \nC -0.77937 1.341951 -0.397805 1.5 0 1.5 \nz\n\" style=\"stroke: #377eb8; stroke-opacity: 0.222222\"/>\n    </defs>\n    <g clip-path=\"url(#pd4cd23df7d)\">\n     <use xlink:href=\"#m60ea5853e7\" x=\"178.342108\" y=\"158.20379\" style=\"fill: #377eb8; fill-opacity: 0.222222; stroke: #377eb8; stroke-opacity: 0.222222\"/>\n    </g>\n   </g>\n   <g id=\"line2d_191\">\n    <defs>\n     <path id=\"m54ff6d704f\" d=\"M 0 1.5 \nC 0.397805 1.5 0.77937 1.341951 1.06066 1.06066 \nC 1.341951 0.77937 1.5 0.397805 1.5 0 \nC 1.5 -0.397805 1.341951 -0.77937 1.06066 -1.06066 \nC 0.77937 -1.341951 0.397805 -1.5 0 -1.5 \nC -0.397805 -1.5 -0.77937 -1.341951 -1.06066 -1.06066 \nC -1.341951 -0.77937 -1.5 -0.397805 -1.5 0 \nC -1.5 0.397805 -1.341951 0.77937 -1.06066 1.06066 \nC -0.77937 1.341951 -0.397805 1.5 0 1.5 \nz\n\" style=\"stroke: #377eb8; stroke-opacity: 0.212121\"/>\n    </defs>\n    <g clip-path=\"url(#pd4cd23df7d)\">\n     <use xlink:href=\"#m54ff6d704f\" x=\"183.257509\" y=\"157.983151\" style=\"fill: #377eb8; fill-opacity: 0.212121; stroke: #377eb8; stroke-opacity: 0.212121\"/>\n    </g>\n   </g>\n   <g id=\"line2d_192\">\n    <defs>\n     <path id=\"m74abc7783f\" d=\"M 0 1.5 \nC 0.397805 1.5 0.77937 1.341951 1.06066 1.06066 \nC 1.341951 0.77937 1.5 0.397805 1.5 0 \nC 1.5 -0.397805 1.341951 -0.77937 1.06066 -1.06066 \nC 0.77937 -1.341951 0.397805 -1.5 0 -1.5 \nC -0.397805 -1.5 -0.77937 -1.341951 -1.06066 -1.06066 \nC -1.341951 -0.77937 -1.5 -0.397805 -1.5 0 \nC -1.5 0.397805 -1.341951 0.77937 -1.06066 1.06066 \nC -0.77937 1.341951 -0.397805 1.5 0 1.5 \nz\n\" style=\"stroke: #377eb8; stroke-opacity: 0.20202\"/>\n    </defs>\n    <g clip-path=\"url(#pd4cd23df7d)\">\n     <use xlink:href=\"#m74abc7783f\" x=\"188.19591\" y=\"157.664985\" style=\"fill: #377eb8; fill-opacity: 0.20202; stroke: #377eb8; stroke-opacity: 0.20202\"/>\n    </g>\n   </g>\n   <g id=\"line2d_193\">\n    <defs>\n     <path id=\"m0494bfb05a\" d=\"M 0 1.5 \nC 0.397805 1.5 0.77937 1.341951 1.06066 1.06066 \nC 1.341951 0.77937 1.5 0.397805 1.5 0 \nC 1.5 -0.397805 1.341951 -0.77937 1.06066 -1.06066 \nC 0.77937 -1.341951 0.397805 -1.5 0 -1.5 \nC -0.397805 -1.5 -0.77937 -1.341951 -1.06066 -1.06066 \nC -1.341951 -0.77937 -1.5 -0.397805 -1.5 0 \nC -1.5 0.397805 -1.341951 0.77937 -1.06066 1.06066 \nC -0.77937 1.341951 -0.397805 1.5 0 1.5 \nz\n\" style=\"stroke: #377eb8; stroke-opacity: 0.191919\"/>\n    </defs>\n    <g clip-path=\"url(#pd4cd23df7d)\">\n     <use xlink:href=\"#m0494bfb05a\" x=\"193.151602\" y=\"157.250416\" style=\"fill: #377eb8; fill-opacity: 0.191919; stroke: #377eb8; stroke-opacity: 0.191919\"/>\n    </g>\n   </g>\n   <g id=\"line2d_194\">\n    <defs>\n     <path id=\"mc7bb5deed4\" d=\"M 0 1.5 \nC 0.397805 1.5 0.77937 1.341951 1.06066 1.06066 \nC 1.341951 0.77937 1.5 0.397805 1.5 0 \nC 1.5 -0.397805 1.341951 -0.77937 1.06066 -1.06066 \nC 0.77937 -1.341951 0.397805 -1.5 0 -1.5 \nC -0.397805 -1.5 -0.77937 -1.341951 -1.06066 -1.06066 \nC -1.341951 -0.77937 -1.5 -0.397805 -1.5 0 \nC -1.5 0.397805 -1.341951 0.77937 -1.06066 1.06066 \nC -0.77937 1.341951 -0.397805 1.5 0 1.5 \nz\n\" style=\"stroke: #377eb8; stroke-opacity: 0.181818\"/>\n    </defs>\n    <g clip-path=\"url(#pd4cd23df7d)\">\n     <use xlink:href=\"#mc7bb5deed4\" x=\"198.118928\" y=\"156.740822\" style=\"fill: #377eb8; fill-opacity: 0.181818; stroke: #377eb8; stroke-opacity: 0.181818\"/>\n    </g>\n   </g>\n   <g id=\"line2d_195\">\n    <defs>\n     <path id=\"mc648fd76da\" d=\"M 0 1.5 \nC 0.397805 1.5 0.77937 1.341951 1.06066 1.06066 \nC 1.341951 0.77937 1.5 0.397805 1.5 0 \nC 1.5 -0.397805 1.341951 -0.77937 1.06066 -1.06066 \nC 0.77937 -1.341951 0.397805 -1.5 0 -1.5 \nC -0.397805 -1.5 -0.77937 -1.341951 -1.06066 -1.06066 \nC -1.341951 -0.77937 -1.5 -0.397805 -1.5 0 \nC -1.5 0.397805 -1.341951 0.77937 -1.06066 1.06066 \nC -0.77937 1.341951 -0.397805 1.5 0 1.5 \nz\n\" style=\"stroke: #377eb8; stroke-opacity: 0.171717\"/>\n    </defs>\n    <g clip-path=\"url(#pd4cd23df7d)\">\n     <use xlink:href=\"#mc648fd76da\" x=\"203.092299\" y=\"156.137829\" style=\"fill: #377eb8; fill-opacity: 0.171717; stroke: #377eb8; stroke-opacity: 0.171717\"/>\n    </g>\n   </g>\n   <g id=\"line2d_196\">\n    <defs>\n     <path id=\"m2edd385b8a\" d=\"M 0 1.5 \nC 0.397805 1.5 0.77937 1.341951 1.06066 1.06066 \nC 1.341951 0.77937 1.5 0.397805 1.5 0 \nC 1.5 -0.397805 1.341951 -0.77937 1.06066 -1.06066 \nC 0.77937 -1.341951 0.397805 -1.5 0 -1.5 \nC -0.397805 -1.5 -0.77937 -1.341951 -1.06066 -1.06066 \nC -1.341951 -0.77937 -1.5 -0.397805 -1.5 0 \nC -1.5 0.397805 -1.341951 0.77937 -1.06066 1.06066 \nC -0.77937 1.341951 -0.397805 1.5 0 1.5 \nz\n\" style=\"stroke: #377eb8; stroke-opacity: 0.161616\"/>\n    </defs>\n    <g clip-path=\"url(#pd4cd23df7d)\">\n     <use xlink:href=\"#m2edd385b8a\" x=\"208.066206\" y=\"155.443307\" style=\"fill: #377eb8; fill-opacity: 0.161616; stroke: #377eb8; stroke-opacity: 0.161616\"/>\n    </g>\n   </g>\n   <g id=\"line2d_197\">\n    <defs>\n     <path id=\"m3728912a79\" d=\"M 0 1.5 \nC 0.397805 1.5 0.77937 1.341951 1.06066 1.06066 \nC 1.341951 0.77937 1.5 0.397805 1.5 0 \nC 1.5 -0.397805 1.341951 -0.77937 1.06066 -1.06066 \nC 0.77937 -1.341951 0.397805 -1.5 0 -1.5 \nC -0.397805 -1.5 -0.77937 -1.341951 -1.06066 -1.06066 \nC -1.341951 -0.77937 -1.5 -0.397805 -1.5 0 \nC -1.5 0.397805 -1.341951 0.77937 -1.06066 1.06066 \nC -0.77937 1.341951 -0.397805 1.5 0 1.5 \nz\n\" style=\"stroke: #377eb8; stroke-opacity: 0.151515\"/>\n    </defs>\n    <g clip-path=\"url(#pd4cd23df7d)\">\n     <use xlink:href=\"#m3728912a79\" x=\"213.03523\" y=\"154.659362\" style=\"fill: #377eb8; fill-opacity: 0.151515; stroke: #377eb8; stroke-opacity: 0.151515\"/>\n    </g>\n   </g>\n   <g id=\"line2d_198\">\n    <defs>\n     <path id=\"m41ae7ac189\" d=\"M 0 1.5 \nC 0.397805 1.5 0.77937 1.341951 1.06066 1.06066 \nC 1.341951 0.77937 1.5 0.397805 1.5 0 \nC 1.5 -0.397805 1.341951 -0.77937 1.06066 -1.06066 \nC 0.77937 -1.341951 0.397805 -1.5 0 -1.5 \nC -0.397805 -1.5 -0.77937 -1.341951 -1.06066 -1.06066 \nC -1.341951 -0.77937 -1.5 -0.397805 -1.5 0 \nC -1.5 0.397805 -1.341951 0.77937 -1.06066 1.06066 \nC -0.77937 1.341951 -0.397805 1.5 0 1.5 \nz\n\" style=\"stroke: #377eb8; stroke-opacity: 0.141414\"/>\n    </defs>\n    <g clip-path=\"url(#pd4cd23df7d)\">\n     <use xlink:href=\"#m41ae7ac189\" x=\"217.994058\" y=\"153.788332\" style=\"fill: #377eb8; fill-opacity: 0.141414; stroke: #377eb8; stroke-opacity: 0.141414\"/>\n    </g>\n   </g>\n   <g id=\"line2d_199\">\n    <defs>\n     <path id=\"mde05e647b4\" d=\"M 0 1.5 \nC 0.397805 1.5 0.77937 1.341951 1.06066 1.06066 \nC 1.341951 0.77937 1.5 0.397805 1.5 0 \nC 1.5 -0.397805 1.341951 -0.77937 1.06066 -1.06066 \nC 0.77937 -1.341951 0.397805 -1.5 0 -1.5 \nC -0.397805 -1.5 -0.77937 -1.341951 -1.06066 -1.06066 \nC -1.341951 -0.77937 -1.5 -0.397805 -1.5 0 \nC -1.5 0.397805 -1.341951 0.77937 -1.06066 1.06066 \nC -0.77937 1.341951 -0.397805 1.5 0 1.5 \nz\n\" style=\"stroke: #377eb8; stroke-opacity: 0.131313\"/>\n    </defs>\n    <g clip-path=\"url(#pd4cd23df7d)\">\n     <use xlink:href=\"#mde05e647b4\" x=\"222.93749\" y=\"152.832777\" style=\"fill: #377eb8; fill-opacity: 0.131313; stroke: #377eb8; stroke-opacity: 0.131313\"/>\n    </g>\n   </g>\n   <g id=\"line2d_200\">\n    <defs>\n     <path id=\"mb6d4a2bafa\" d=\"M 0 1.5 \nC 0.397805 1.5 0.77937 1.341951 1.06066 1.06066 \nC 1.341951 0.77937 1.5 0.397805 1.5 0 \nC 1.5 -0.397805 1.341951 -0.77937 1.06066 -1.06066 \nC 0.77937 -1.341951 0.397805 -1.5 0 -1.5 \nC -0.397805 -1.5 -0.77937 -1.341951 -1.06066 -1.06066 \nC -1.341951 -0.77937 -1.5 -0.397805 -1.5 0 \nC -1.5 0.397805 -1.341951 0.77937 -1.06066 1.06066 \nC -0.77937 1.341951 -0.397805 1.5 0 1.5 \nz\n\" style=\"stroke: #377eb8; stroke-opacity: 0.121212\"/>\n    </defs>\n    <g clip-path=\"url(#pd4cd23df7d)\">\n     <use xlink:href=\"#mb6d4a2bafa\" x=\"227.860455\" y=\"151.795474\" style=\"fill: #377eb8; fill-opacity: 0.121212; stroke: #377eb8; stroke-opacity: 0.121212\"/>\n    </g>\n   </g>\n   <g id=\"line2d_201\">\n    <defs>\n     <path id=\"m30e18f464d\" d=\"M 0 1.5 \nC 0.397805 1.5 0.77937 1.341951 1.06066 1.06066 \nC 1.341951 0.77937 1.5 0.397805 1.5 0 \nC 1.5 -0.397805 1.341951 -0.77937 1.06066 -1.06066 \nC 0.77937 -1.341951 0.397805 -1.5 0 -1.5 \nC -0.397805 -1.5 -0.77937 -1.341951 -1.06066 -1.06066 \nC -1.341951 -0.77937 -1.5 -0.397805 -1.5 0 \nC -1.5 0.397805 -1.341951 0.77937 -1.06066 1.06066 \nC -0.77937 1.341951 -0.397805 1.5 0 1.5 \nz\n\" style=\"stroke: #377eb8; stroke-opacity: 0.111111\"/>\n    </defs>\n    <g clip-path=\"url(#pd4cd23df7d)\">\n     <use xlink:href=\"#m30e18f464d\" x=\"232.758016\" y=\"150.679405\" style=\"fill: #377eb8; fill-opacity: 0.111111; stroke: #377eb8; stroke-opacity: 0.111111\"/>\n    </g>\n   </g>\n   <g id=\"line2d_202\">\n    <defs>\n     <path id=\"m84727ab084\" d=\"M 0 1.5 \nC 0.397805 1.5 0.77937 1.341951 1.06066 1.06066 \nC 1.341951 0.77937 1.5 0.397805 1.5 0 \nC 1.5 -0.397805 1.341951 -0.77937 1.06066 -1.06066 \nC 0.77937 -1.341951 0.397805 -1.5 0 -1.5 \nC -0.397805 -1.5 -0.77937 -1.341951 -1.06066 -1.06066 \nC -1.341951 -0.77937 -1.5 -0.397805 -1.5 0 \nC -1.5 0.397805 -1.341951 0.77937 -1.06066 1.06066 \nC -0.77937 1.341951 -0.397805 1.5 0 1.5 \nz\n\" style=\"stroke: #377eb8; stroke-opacity: 0.10101\"/>\n    </defs>\n    <g clip-path=\"url(#pd4cd23df7d)\">\n     <use xlink:href=\"#m84727ab084\" x=\"237.625386\" y=\"149.487752\" style=\"fill: #377eb8; fill-opacity: 0.10101; stroke: #377eb8; stroke-opacity: 0.10101\"/>\n    </g>\n   </g>\n   <g id=\"line2d_203\">\n    <defs>\n     <path id=\"m6b202d6364\" d=\"M 0 1.5 \nC 0.397805 1.5 0.77937 1.341951 1.06066 1.06066 \nC 1.341951 0.77937 1.5 0.397805 1.5 0 \nC 1.5 -0.397805 1.341951 -0.77937 1.06066 -1.06066 \nC 0.77937 -1.341951 0.397805 -1.5 0 -1.5 \nC -0.397805 -1.5 -0.77937 -1.341951 -1.06066 -1.06066 \nC -1.341951 -0.77937 -1.5 -0.397805 -1.5 0 \nC -1.5 0.397805 -1.341951 0.77937 -1.06066 1.06066 \nC -0.77937 1.341951 -0.397805 1.5 0 1.5 \nz\n\" style=\"stroke: #377eb8; stroke-opacity: 0.090909\"/>\n    </defs>\n    <g clip-path=\"url(#pd4cd23df7d)\">\n     <use xlink:href=\"#m6b202d6364\" x=\"242.457934\" y=\"148.223884\" style=\"fill: #377eb8; fill-opacity: 0.090909; stroke: #377eb8; stroke-opacity: 0.090909\"/>\n    </g>\n   </g>\n   <g id=\"line2d_204\">\n    <defs>\n     <path id=\"mbba420a429\" d=\"M 0 1.5 \nC 0.397805 1.5 0.77937 1.341951 1.06066 1.06066 \nC 1.341951 0.77937 1.5 0.397805 1.5 0 \nC 1.5 -0.397805 1.341951 -0.77937 1.06066 -1.06066 \nC 0.77937 -1.341951 0.397805 -1.5 0 -1.5 \nC -0.397805 -1.5 -0.77937 -1.341951 -1.06066 -1.06066 \nC -1.341951 -0.77937 -1.5 -0.397805 -1.5 0 \nC -1.5 0.397805 -1.341951 0.77937 -1.06066 1.06066 \nC -0.77937 1.341951 -0.397805 1.5 0 1.5 \nz\n\" style=\"stroke: #377eb8; stroke-opacity: 0.080808\"/>\n    </defs>\n    <g clip-path=\"url(#pd4cd23df7d)\">\n     <use xlink:href=\"#mbba420a429\" x=\"247.251195\" y=\"146.891349\" style=\"fill: #377eb8; fill-opacity: 0.080808; stroke: #377eb8; stroke-opacity: 0.080808\"/>\n    </g>\n   </g>\n   <g id=\"line2d_205\">\n    <defs>\n     <path id=\"m98e89732cf\" d=\"M 0 1.5 \nC 0.397805 1.5 0.77937 1.341951 1.06066 1.06066 \nC 1.341951 0.77937 1.5 0.397805 1.5 0 \nC 1.5 -0.397805 1.341951 -0.77937 1.06066 -1.06066 \nC 0.77937 -1.341951 0.397805 -1.5 0 -1.5 \nC -0.397805 -1.5 -0.77937 -1.341951 -1.06066 -1.06066 \nC -1.341951 -0.77937 -1.5 -0.397805 -1.5 0 \nC -1.5 0.397805 -1.341951 0.77937 -1.06066 1.06066 \nC -0.77937 1.341951 -0.397805 1.5 0 1.5 \nz\n\" style=\"stroke: #377eb8; stroke-opacity: 0.070707\"/>\n    </defs>\n    <g clip-path=\"url(#pd4cd23df7d)\">\n     <use xlink:href=\"#m98e89732cf\" x=\"252.000882\" y=\"145.493864\" style=\"fill: #377eb8; fill-opacity: 0.070707; stroke: #377eb8; stroke-opacity: 0.070707\"/>\n    </g>\n   </g>\n   <g id=\"line2d_206\">\n    <defs>\n     <path id=\"m473cc7884c\" d=\"M 0 1.5 \nC 0.397805 1.5 0.77937 1.341951 1.06066 1.06066 \nC 1.341951 0.77937 1.5 0.397805 1.5 0 \nC 1.5 -0.397805 1.341951 -0.77937 1.06066 -1.06066 \nC 0.77937 -1.341951 0.397805 -1.5 0 -1.5 \nC -0.397805 -1.5 -0.77937 -1.341951 -1.06066 -1.06066 \nC -1.341951 -0.77937 -1.5 -0.397805 -1.5 0 \nC -1.5 0.397805 -1.341951 0.77937 -1.06066 1.06066 \nC -0.77937 1.341951 -0.397805 1.5 0 1.5 \nz\n\" style=\"stroke: #377eb8; stroke-opacity: 0.060606\"/>\n    </defs>\n    <g clip-path=\"url(#pd4cd23df7d)\">\n     <use xlink:href=\"#m473cc7884c\" x=\"256.702887\" y=\"144.035301\" style=\"fill: #377eb8; fill-opacity: 0.060606; stroke: #377eb8; stroke-opacity: 0.060606\"/>\n    </g>\n   </g>\n   <g id=\"line2d_207\">\n    <defs>\n     <path id=\"m29a45db6a3\" d=\"M 0 1.5 \nC 0.397805 1.5 0.77937 1.341951 1.06066 1.06066 \nC 1.341951 0.77937 1.5 0.397805 1.5 0 \nC 1.5 -0.397805 1.341951 -0.77937 1.06066 -1.06066 \nC 0.77937 -1.341951 0.397805 -1.5 0 -1.5 \nC -0.397805 -1.5 -0.77937 -1.341951 -1.06066 -1.06066 \nC -1.341951 -0.77937 -1.5 -0.397805 -1.5 0 \nC -1.5 0.397805 -1.341951 0.77937 -1.06066 1.06066 \nC -0.77937 1.341951 -0.397805 1.5 0 1.5 \nz\n\" style=\"stroke: #377eb8; stroke-opacity: 0.050505\"/>\n    </defs>\n    <g clip-path=\"url(#pd4cd23df7d)\">\n     <use xlink:href=\"#m29a45db6a3\" x=\"261.353296\" y=\"142.519678\" style=\"fill: #377eb8; fill-opacity: 0.050505; stroke: #377eb8; stroke-opacity: 0.050505\"/>\n    </g>\n   </g>\n   <g id=\"line2d_208\">\n    <defs>\n     <path id=\"mfb130cee04\" d=\"M 0 1.5 \nC 0.397805 1.5 0.77937 1.341951 1.06066 1.06066 \nC 1.341951 0.77937 1.5 0.397805 1.5 0 \nC 1.5 -0.397805 1.341951 -0.77937 1.06066 -1.06066 \nC 0.77937 -1.341951 0.397805 -1.5 0 -1.5 \nC -0.397805 -1.5 -0.77937 -1.341951 -1.06066 -1.06066 \nC -1.341951 -0.77937 -1.5 -0.397805 -1.5 0 \nC -1.5 0.397805 -1.341951 0.77937 -1.06066 1.06066 \nC -0.77937 1.341951 -0.397805 1.5 0 1.5 \nz\n\" style=\"stroke: #377eb8; stroke-opacity: 0.040404\"/>\n    </defs>\n    <g clip-path=\"url(#pd4cd23df7d)\">\n     <use xlink:href=\"#mfb130cee04\" x=\"265.948393\" y=\"140.951147\" style=\"fill: #377eb8; fill-opacity: 0.040404; stroke: #377eb8; stroke-opacity: 0.040404\"/>\n    </g>\n   </g>\n   <g id=\"line2d_209\">\n    <defs>\n     <path id=\"mcd1c97b94d\" d=\"M 0 1.5 \nC 0.397805 1.5 0.77937 1.341951 1.06066 1.06066 \nC 1.341951 0.77937 1.5 0.397805 1.5 0 \nC 1.5 -0.397805 1.341951 -0.77937 1.06066 -1.06066 \nC 0.77937 -1.341951 0.397805 -1.5 0 -1.5 \nC -0.397805 -1.5 -0.77937 -1.341951 -1.06066 -1.06066 \nC -1.341951 -0.77937 -1.5 -0.397805 -1.5 0 \nC -1.5 0.397805 -1.341951 0.77937 -1.06066 1.06066 \nC -0.77937 1.341951 -0.397805 1.5 0 1.5 \nz\n\" style=\"stroke: #377eb8; stroke-opacity: 0.030303\"/>\n    </defs>\n    <g clip-path=\"url(#pd4cd23df7d)\">\n     <use xlink:href=\"#mcd1c97b94d\" x=\"270.484664\" y=\"139.333983\" style=\"fill: #377eb8; fill-opacity: 0.030303; stroke: #377eb8; stroke-opacity: 0.030303\"/>\n    </g>\n   </g>\n   <g id=\"line2d_210\">\n    <defs>\n     <path id=\"mea3dbb99e3\" d=\"M 0 1.5 \nC 0.397805 1.5 0.77937 1.341951 1.06066 1.06066 \nC 1.341951 0.77937 1.5 0.397805 1.5 0 \nC 1.5 -0.397805 1.341951 -0.77937 1.06066 -1.06066 \nC 0.77937 -1.341951 0.397805 -1.5 0 -1.5 \nC -0.397805 -1.5 -0.77937 -1.341951 -1.06066 -1.06066 \nC -1.341951 -0.77937 -1.5 -0.397805 -1.5 0 \nC -1.5 0.397805 -1.341951 0.77937 -1.06066 1.06066 \nC -0.77937 1.341951 -0.397805 1.5 0 1.5 \nz\n\" style=\"stroke: #377eb8; stroke-opacity: 0.020202\"/>\n    </defs>\n    <g clip-path=\"url(#pd4cd23df7d)\">\n     <use xlink:href=\"#mea3dbb99e3\" x=\"274.958808\" y=\"137.672569\" style=\"fill: #377eb8; fill-opacity: 0.020202; stroke: #377eb8; stroke-opacity: 0.020202\"/>\n    </g>\n   </g>\n   <g id=\"line2d_211\">\n    <defs>\n     <path id=\"mbe6f459434\" d=\"M 0 1.5 \nC 0.397805 1.5 0.77937 1.341951 1.06066 1.06066 \nC 1.341951 0.77937 1.5 0.397805 1.5 0 \nC 1.5 -0.397805 1.341951 -0.77937 1.06066 -1.06066 \nC 0.77937 -1.341951 0.397805 -1.5 0 -1.5 \nC -0.397805 -1.5 -0.77937 -1.341951 -1.06066 -1.06066 \nC -1.341951 -0.77937 -1.5 -0.397805 -1.5 0 \nC -1.5 0.397805 -1.341951 0.77937 -1.06066 1.06066 \nC -0.77937 1.341951 -0.397805 1.5 0 1.5 \nz\n\" style=\"stroke: #377eb8; stroke-opacity: 0.010101\"/>\n    </defs>\n    <g clip-path=\"url(#pd4cd23df7d)\">\n     <use xlink:href=\"#mbe6f459434\" x=\"279.367737\" y=\"135.971384\" style=\"fill: #377eb8; fill-opacity: 0.010101; stroke: #377eb8; stroke-opacity: 0.010101\"/>\n    </g>\n   </g>\n   <g id=\"line2d_212\">\n    <defs>\n     <path id=\"m91e96b5a7a\" d=\"M 0 3 \nC 0.795609 3 1.55874 2.683901 2.12132 2.12132 \nC 2.683901 1.55874 3 0.795609 3 0 \nC 3 -0.795609 2.683901 -1.55874 2.12132 -2.12132 \nC 1.55874 -2.683901 0.795609 -3 0 -3 \nC -0.795609 -3 -1.55874 -2.683901 -2.12132 -2.12132 \nC -2.683901 -1.55874 -3 -0.795609 -3 0 \nC -3 0.795609 -2.683901 1.55874 -2.12132 2.12132 \nC -1.55874 2.683901 -0.795609 3 0 3 \nz\n\" style=\"stroke: #377eb8\"/>\n    </defs>\n    <g clip-path=\"url(#pd4cd23df7d)\">\n     <use xlink:href=\"#m91e96b5a7a\" x=\"124.708167\" y=\"87.546847\" style=\"fill: #377eb8; stroke: #377eb8\"/>\n    </g>\n   </g>\n   <g id=\"line2d_213\">\n    <defs>\n     <path id=\"m7908201745\" d=\"M 0 1.5 \nC 0.397805 1.5 0.77937 1.341951 1.06066 1.06066 \nC 1.341951 0.77937 1.5 0.397805 1.5 0 \nC 1.5 -0.397805 1.341951 -0.77937 1.06066 -1.06066 \nC 0.77937 -1.341951 0.397805 -1.5 0 -1.5 \nC -0.397805 -1.5 -0.77937 -1.341951 -1.06066 -1.06066 \nC -1.341951 -0.77937 -1.5 -0.397805 -1.5 0 \nC -1.5 0.397805 -1.341951 0.77937 -1.06066 1.06066 \nC -0.77937 1.341951 -0.397805 1.5 0 1.5 \nz\n\" style=\"stroke: #4daf4a\"/>\n    </defs>\n    <g clip-path=\"url(#pd4cd23df7d)\">\n     <use xlink:href=\"#m7908201745\" x=\"102.302866\" y=\"167.917388\" style=\"fill: #4daf4a; stroke: #4daf4a\"/>\n    </g>\n   </g>\n   <g id=\"line2d_214\">\n    <defs>\n     <path id=\"m9bd8d9d293\" d=\"M 0 1.5 \nC 0.397805 1.5 0.77937 1.341951 1.06066 1.06066 \nC 1.341951 0.77937 1.5 0.397805 1.5 0 \nC 1.5 -0.397805 1.341951 -0.77937 1.06066 -1.06066 \nC 0.77937 -1.341951 0.397805 -1.5 0 -1.5 \nC -0.397805 -1.5 -0.77937 -1.341951 -1.06066 -1.06066 \nC -1.341951 -0.77937 -1.5 -0.397805 -1.5 0 \nC -1.5 0.397805 -1.341951 0.77937 -1.06066 1.06066 \nC -0.77937 1.341951 -0.397805 1.5 0 1.5 \nz\n\" style=\"stroke: #4daf4a; stroke-opacity: 0.989899\"/>\n    </defs>\n    <g clip-path=\"url(#pd4cd23df7d)\">\n     <use xlink:href=\"#m9bd8d9d293\" x=\"104.797808\" y=\"169.750964\" style=\"fill: #4daf4a; fill-opacity: 0.989899; stroke: #4daf4a; stroke-opacity: 0.989899\"/>\n    </g>\n   </g>\n   <g id=\"line2d_215\">\n    <defs>\n     <path id=\"m2a8512824d\" d=\"M 0 1.5 \nC 0.397805 1.5 0.77937 1.341951 1.06066 1.06066 \nC 1.341951 0.77937 1.5 0.397805 1.5 0 \nC 1.5 -0.397805 1.341951 -0.77937 1.06066 -1.06066 \nC 0.77937 -1.341951 0.397805 -1.5 0 -1.5 \nC -0.397805 -1.5 -0.77937 -1.341951 -1.06066 -1.06066 \nC -1.341951 -0.77937 -1.5 -0.397805 -1.5 0 \nC -1.5 0.397805 -1.341951 0.77937 -1.06066 1.06066 \nC -0.77937 1.341951 -0.397805 1.5 0 1.5 \nz\n\" style=\"stroke: #4daf4a; stroke-opacity: 0.979798\"/>\n    </defs>\n    <g clip-path=\"url(#pd4cd23df7d)\">\n     <use xlink:href=\"#m2a8512824d\" x=\"107.397151\" y=\"171.46873\" style=\"fill: #4daf4a; fill-opacity: 0.979798; stroke: #4daf4a; stroke-opacity: 0.979798\"/>\n    </g>\n   </g>\n   <g id=\"line2d_216\">\n    <defs>\n     <path id=\"m2c8fc380ea\" d=\"M 0 1.5 \nC 0.397805 1.5 0.77937 1.341951 1.06066 1.06066 \nC 1.341951 0.77937 1.5 0.397805 1.5 0 \nC 1.5 -0.397805 1.341951 -0.77937 1.06066 -1.06066 \nC 0.77937 -1.341951 0.397805 -1.5 0 -1.5 \nC -0.397805 -1.5 -0.77937 -1.341951 -1.06066 -1.06066 \nC -1.341951 -0.77937 -1.5 -0.397805 -1.5 0 \nC -1.5 0.397805 -1.341951 0.77937 -1.06066 1.06066 \nC -0.77937 1.341951 -0.397805 1.5 0 1.5 \nz\n\" style=\"stroke: #4daf4a; stroke-opacity: 0.969697\"/>\n    </defs>\n    <g clip-path=\"url(#pd4cd23df7d)\">\n     <use xlink:href=\"#m2c8fc380ea\" x=\"110.095458\" y=\"173.064866\" style=\"fill: #4daf4a; fill-opacity: 0.969697; stroke: #4daf4a; stroke-opacity: 0.969697\"/>\n    </g>\n   </g>\n   <g id=\"line2d_217\">\n    <defs>\n     <path id=\"mb6ae20d8f6\" d=\"M 0 1.5 \nC 0.397805 1.5 0.77937 1.341951 1.06066 1.06066 \nC 1.341951 0.77937 1.5 0.397805 1.5 0 \nC 1.5 -0.397805 1.341951 -0.77937 1.06066 -1.06066 \nC 0.77937 -1.341951 0.397805 -1.5 0 -1.5 \nC -0.397805 -1.5 -0.77937 -1.341951 -1.06066 -1.06066 \nC -1.341951 -0.77937 -1.5 -0.397805 -1.5 0 \nC -1.5 0.397805 -1.341951 0.77937 -1.06066 1.06066 \nC -0.77937 1.341951 -0.397805 1.5 0 1.5 \nz\n\" style=\"stroke: #4daf4a; stroke-opacity: 0.959596\"/>\n    </defs>\n    <g clip-path=\"url(#pd4cd23df7d)\">\n     <use xlink:href=\"#mb6ae20d8f6\" x=\"112.887003\" y=\"174.533891\" style=\"fill: #4daf4a; fill-opacity: 0.959596; stroke: #4daf4a; stroke-opacity: 0.959596\"/>\n    </g>\n   </g>\n   <g id=\"line2d_218\">\n    <defs>\n     <path id=\"m1cd3e0e88b\" d=\"M 0 1.5 \nC 0.397805 1.5 0.77937 1.341951 1.06066 1.06066 \nC 1.341951 0.77937 1.5 0.397805 1.5 0 \nC 1.5 -0.397805 1.341951 -0.77937 1.06066 -1.06066 \nC 0.77937 -1.341951 0.397805 -1.5 0 -1.5 \nC -0.397805 -1.5 -0.77937 -1.341951 -1.06066 -1.06066 \nC -1.341951 -0.77937 -1.5 -0.397805 -1.5 0 \nC -1.5 0.397805 -1.341951 0.77937 -1.06066 1.06066 \nC -0.77937 1.341951 -0.397805 1.5 0 1.5 \nz\n\" style=\"stroke: #4daf4a; stroke-opacity: 0.949495\"/>\n    </defs>\n    <g clip-path=\"url(#pd4cd23df7d)\">\n     <use xlink:href=\"#m1cd3e0e88b\" x=\"115.765784\" y=\"175.870683\" style=\"fill: #4daf4a; fill-opacity: 0.949495; stroke: #4daf4a; stroke-opacity: 0.949495\"/>\n    </g>\n   </g>\n   <g id=\"line2d_219\">\n    <defs>\n     <path id=\"m941ca11da0\" d=\"M 0 1.5 \nC 0.397805 1.5 0.77937 1.341951 1.06066 1.06066 \nC 1.341951 0.77937 1.5 0.397805 1.5 0 \nC 1.5 -0.397805 1.341951 -0.77937 1.06066 -1.06066 \nC 0.77937 -1.341951 0.397805 -1.5 0 -1.5 \nC -0.397805 -1.5 -0.77937 -1.341951 -1.06066 -1.06066 \nC -1.341951 -0.77937 -1.5 -0.397805 -1.5 0 \nC -1.5 0.397805 -1.341951 0.77937 -1.06066 1.06066 \nC -0.77937 1.341951 -0.397805 1.5 0 1.5 \nz\n\" style=\"stroke: #4daf4a; stroke-opacity: 0.939394\"/>\n    </defs>\n    <g clip-path=\"url(#pd4cd23df7d)\">\n     <use xlink:href=\"#m941ca11da0\" x=\"118.725542\" y=\"177.070497\" style=\"fill: #4daf4a; fill-opacity: 0.939394; stroke: #4daf4a; stroke-opacity: 0.939394\"/>\n    </g>\n   </g>\n   <g id=\"line2d_220\">\n    <defs>\n     <path id=\"m0dee58c118\" d=\"M 0 1.5 \nC 0.397805 1.5 0.77937 1.341951 1.06066 1.06066 \nC 1.341951 0.77937 1.5 0.397805 1.5 0 \nC 1.5 -0.397805 1.341951 -0.77937 1.06066 -1.06066 \nC 0.77937 -1.341951 0.397805 -1.5 0 -1.5 \nC -0.397805 -1.5 -0.77937 -1.341951 -1.06066 -1.06066 \nC -1.341951 -0.77937 -1.5 -0.397805 -1.5 0 \nC -1.5 0.397805 -1.341951 0.77937 -1.06066 1.06066 \nC -0.77937 1.341951 -0.397805 1.5 0 1.5 \nz\n\" style=\"stroke: #4daf4a; stroke-opacity: 0.929293\"/>\n    </defs>\n    <g clip-path=\"url(#pd4cd23df7d)\">\n     <use xlink:href=\"#m0dee58c118\" x=\"121.759786\" y=\"178.128979\" style=\"fill: #4daf4a; fill-opacity: 0.929293; stroke: #4daf4a; stroke-opacity: 0.929293\"/>\n    </g>\n   </g>\n   <g id=\"line2d_221\">\n    <defs>\n     <path id=\"m692cfa8d25\" d=\"M 0 1.5 \nC 0.397805 1.5 0.77937 1.341951 1.06066 1.06066 \nC 1.341951 0.77937 1.5 0.397805 1.5 0 \nC 1.5 -0.397805 1.341951 -0.77937 1.06066 -1.06066 \nC 0.77937 -1.341951 0.397805 -1.5 0 -1.5 \nC -0.397805 -1.5 -0.77937 -1.341951 -1.06066 -1.06066 \nC -1.341951 -0.77937 -1.5 -0.397805 -1.5 0 \nC -1.5 0.397805 -1.341951 0.77937 -1.06066 1.06066 \nC -0.77937 1.341951 -0.397805 1.5 0 1.5 \nz\n\" style=\"stroke: #4daf4a; stroke-opacity: 0.919192\"/>\n    </defs>\n    <g clip-path=\"url(#pd4cd23df7d)\">\n     <use xlink:href=\"#m692cfa8d25\" x=\"124.861804\" y=\"179.04218\" style=\"fill: #4daf4a; fill-opacity: 0.919192; stroke: #4daf4a; stroke-opacity: 0.919192\"/>\n    </g>\n   </g>\n   <g id=\"line2d_222\">\n    <defs>\n     <path id=\"m2d60e714ba\" d=\"M 0 1.5 \nC 0.397805 1.5 0.77937 1.341951 1.06066 1.06066 \nC 1.341951 0.77937 1.5 0.397805 1.5 0 \nC 1.5 -0.397805 1.341951 -0.77937 1.06066 -1.06066 \nC 0.77937 -1.341951 0.397805 -1.5 0 -1.5 \nC -0.397805 -1.5 -0.77937 -1.341951 -1.06066 -1.06066 \nC -1.341951 -0.77937 -1.5 -0.397805 -1.5 0 \nC -1.5 0.397805 -1.341951 0.77937 -1.06066 1.06066 \nC -0.77937 1.341951 -0.397805 1.5 0 1.5 \nz\n\" style=\"stroke: #4daf4a; stroke-opacity: 0.909091\"/>\n    </defs>\n    <g clip-path=\"url(#pd4cd23df7d)\">\n     <use xlink:href=\"#m2d60e714ba\" x=\"128.024691\" y=\"179.806572\" style=\"fill: #4daf4a; fill-opacity: 0.909091; stroke: #4daf4a; stroke-opacity: 0.909091\"/>\n    </g>\n   </g>\n   <g id=\"line2d_223\">\n    <defs>\n     <path id=\"m97923a3ce9\" d=\"M 0 1.5 \nC 0.397805 1.5 0.77937 1.341951 1.06066 1.06066 \nC 1.341951 0.77937 1.5 0.397805 1.5 0 \nC 1.5 -0.397805 1.341951 -0.77937 1.06066 -1.06066 \nC 0.77937 -1.341951 0.397805 -1.5 0 -1.5 \nC -0.397805 -1.5 -0.77937 -1.341951 -1.06066 -1.06066 \nC -1.341951 -0.77937 -1.5 -0.397805 -1.5 0 \nC -1.5 0.397805 -1.341951 0.77937 -1.06066 1.06066 \nC -0.77937 1.341951 -0.397805 1.5 0 1.5 \nz\n\" style=\"stroke: #4daf4a; stroke-opacity: 0.89899\"/>\n    </defs>\n    <g clip-path=\"url(#pd4cd23df7d)\">\n     <use xlink:href=\"#m97923a3ce9\" x=\"131.24137\" y=\"180.419057\" style=\"fill: #4daf4a; fill-opacity: 0.89899; stroke: #4daf4a; stroke-opacity: 0.89899\"/>\n    </g>\n   </g>\n   <g id=\"line2d_224\">\n    <defs>\n     <path id=\"m4067bbcd44\" d=\"M 0 1.5 \nC 0.397805 1.5 0.77937 1.341951 1.06066 1.06066 \nC 1.341951 0.77937 1.5 0.397805 1.5 0 \nC 1.5 -0.397805 1.341951 -0.77937 1.06066 -1.06066 \nC 0.77937 -1.341951 0.397805 -1.5 0 -1.5 \nC -0.397805 -1.5 -0.77937 -1.341951 -1.06066 -1.06066 \nC -1.341951 -0.77937 -1.5 -0.397805 -1.5 0 \nC -1.5 0.397805 -1.341951 0.77937 -1.06066 1.06066 \nC -0.77937 1.341951 -0.397805 1.5 0 1.5 \nz\n\" style=\"stroke: #4daf4a; stroke-opacity: 0.888889\"/>\n    </defs>\n    <g clip-path=\"url(#pd4cd23df7d)\">\n     <use xlink:href=\"#m4067bbcd44\" x=\"134.504608\" y=\"180.876982\" style=\"fill: #4daf4a; fill-opacity: 0.888889; stroke: #4daf4a; stroke-opacity: 0.888889\"/>\n    </g>\n   </g>\n   <g id=\"line2d_225\">\n    <defs>\n     <path id=\"m0d0abe1233\" d=\"M 0 1.5 \nC 0.397805 1.5 0.77937 1.341951 1.06066 1.06066 \nC 1.341951 0.77937 1.5 0.397805 1.5 0 \nC 1.5 -0.397805 1.341951 -0.77937 1.06066 -1.06066 \nC 0.77937 -1.341951 0.397805 -1.5 0 -1.5 \nC -0.397805 -1.5 -0.77937 -1.341951 -1.06066 -1.06066 \nC -1.341951 -0.77937 -1.5 -0.397805 -1.5 0 \nC -1.5 0.397805 -1.341951 0.77937 -1.06066 1.06066 \nC -0.77937 1.341951 -0.397805 1.5 0 1.5 \nz\n\" style=\"stroke: #4daf4a; stroke-opacity: 0.878788\"/>\n    </defs>\n    <g clip-path=\"url(#pd4cd23df7d)\">\n     <use xlink:href=\"#m0d0abe1233\" x=\"137.807047\" y=\"181.178145\" style=\"fill: #4daf4a; fill-opacity: 0.878788; stroke: #4daf4a; stroke-opacity: 0.878788\"/>\n    </g>\n   </g>\n   <g id=\"line2d_226\">\n    <defs>\n     <path id=\"mff5e101691\" d=\"M 0 1.5 \nC 0.397805 1.5 0.77937 1.341951 1.06066 1.06066 \nC 1.341951 0.77937 1.5 0.397805 1.5 0 \nC 1.5 -0.397805 1.341951 -0.77937 1.06066 -1.06066 \nC 0.77937 -1.341951 0.397805 -1.5 0 -1.5 \nC -0.397805 -1.5 -0.77937 -1.341951 -1.06066 -1.06066 \nC -1.341951 -0.77937 -1.5 -0.397805 -1.5 0 \nC -1.5 0.397805 -1.341951 0.77937 -1.06066 1.06066 \nC -0.77937 1.341951 -0.397805 1.5 0 1.5 \nz\n\" style=\"stroke: #4daf4a; stroke-opacity: 0.868687\"/>\n    </defs>\n    <g clip-path=\"url(#pd4cd23df7d)\">\n     <use xlink:href=\"#mff5e101691\" x=\"141.141221\" y=\"181.320803\" style=\"fill: #4daf4a; fill-opacity: 0.868687; stroke: #4daf4a; stroke-opacity: 0.868687\"/>\n    </g>\n   </g>\n   <g id=\"line2d_227\">\n    <defs>\n     <path id=\"m9482a6ec9f\" d=\"M 0 1.5 \nC 0.397805 1.5 0.77937 1.341951 1.06066 1.06066 \nC 1.341951 0.77937 1.5 0.397805 1.5 0 \nC 1.5 -0.397805 1.341951 -0.77937 1.06066 -1.06066 \nC 0.77937 -1.341951 0.397805 -1.5 0 -1.5 \nC -0.397805 -1.5 -0.77937 -1.341951 -1.06066 -1.06066 \nC -1.341951 -0.77937 -1.5 -0.397805 -1.5 0 \nC -1.5 0.397805 -1.341951 0.77937 -1.06066 1.06066 \nC -0.77937 1.341951 -0.397805 1.5 0 1.5 \nz\n\" style=\"stroke: #4daf4a; stroke-opacity: 0.858586\"/>\n    </defs>\n    <g clip-path=\"url(#pd4cd23df7d)\">\n     <use xlink:href=\"#m9482a6ec9f\" x=\"144.49958\" y=\"181.303682\" style=\"fill: #4daf4a; fill-opacity: 0.858586; stroke: #4daf4a; stroke-opacity: 0.858586\"/>\n    </g>\n   </g>\n   <g id=\"line2d_228\">\n    <defs>\n     <path id=\"m4cef67b7dd\" d=\"M 0 1.5 \nC 0.397805 1.5 0.77937 1.341951 1.06066 1.06066 \nC 1.341951 0.77937 1.5 0.397805 1.5 0 \nC 1.5 -0.397805 1.341951 -0.77937 1.06066 -1.06066 \nC 0.77937 -1.341951 0.397805 -1.5 0 -1.5 \nC -0.397805 -1.5 -0.77937 -1.341951 -1.06066 -1.06066 \nC -1.341951 -0.77937 -1.5 -0.397805 -1.5 0 \nC -1.5 0.397805 -1.341951 0.77937 -1.06066 1.06066 \nC -0.77937 1.341951 -0.397805 1.5 0 1.5 \nz\n\" style=\"stroke: #4daf4a; stroke-opacity: 0.848485\"/>\n    </defs>\n    <g clip-path=\"url(#pd4cd23df7d)\">\n     <use xlink:href=\"#m4cef67b7dd\" x=\"147.874519\" y=\"181.125978\" style=\"fill: #4daf4a; fill-opacity: 0.848485; stroke: #4daf4a; stroke-opacity: 0.848485\"/>\n    </g>\n   </g>\n   <g id=\"line2d_229\">\n    <defs>\n     <path id=\"m158c13050d\" d=\"M 0 1.5 \nC 0.397805 1.5 0.77937 1.341951 1.06066 1.06066 \nC 1.341951 0.77937 1.5 0.397805 1.5 0 \nC 1.5 -0.397805 1.341951 -0.77937 1.06066 -1.06066 \nC 0.77937 -1.341951 0.397805 -1.5 0 -1.5 \nC -0.397805 -1.5 -0.77937 -1.341951 -1.06066 -1.06066 \nC -1.341951 -0.77937 -1.5 -0.397805 -1.5 0 \nC -1.5 0.397805 -1.341951 0.77937 -1.06066 1.06066 \nC -0.77937 1.341951 -0.397805 1.5 0 1.5 \nz\n\" style=\"stroke: #4daf4a; stroke-opacity: 0.838384\"/>\n    </defs>\n    <g clip-path=\"url(#pd4cd23df7d)\">\n     <use xlink:href=\"#m158c13050d\" x=\"151.258394\" y=\"180.787365\" style=\"fill: #4daf4a; fill-opacity: 0.838384; stroke: #4daf4a; stroke-opacity: 0.838384\"/>\n    </g>\n   </g>\n   <g id=\"line2d_230\">\n    <defs>\n     <path id=\"m6b8561f2d0\" d=\"M 0 1.5 \nC 0.397805 1.5 0.77937 1.341951 1.06066 1.06066 \nC 1.341951 0.77937 1.5 0.397805 1.5 0 \nC 1.5 -0.397805 1.341951 -0.77937 1.06066 -1.06066 \nC 0.77937 -1.341951 0.397805 -1.5 0 -1.5 \nC -0.397805 -1.5 -0.77937 -1.341951 -1.06066 -1.06066 \nC -1.341951 -0.77937 -1.5 -0.397805 -1.5 0 \nC -1.5 0.397805 -1.341951 0.77937 -1.06066 1.06066 \nC -0.77937 1.341951 -0.397805 1.5 0 1.5 \nz\n\" style=\"stroke: #4daf4a; stroke-opacity: 0.828283\"/>\n    </defs>\n    <g clip-path=\"url(#pd4cd23df7d)\">\n     <use xlink:href=\"#m6b8561f2d0\" x=\"154.643553\" y=\"180.287994\" style=\"fill: #4daf4a; fill-opacity: 0.828283; stroke: #4daf4a; stroke-opacity: 0.828283\"/>\n    </g>\n   </g>\n   <g id=\"line2d_231\">\n    <defs>\n     <path id=\"m82f318b116\" d=\"M 0 1.5 \nC 0.397805 1.5 0.77937 1.341951 1.06066 1.06066 \nC 1.341951 0.77937 1.5 0.397805 1.5 0 \nC 1.5 -0.397805 1.341951 -0.77937 1.06066 -1.06066 \nC 0.77937 -1.341951 0.397805 -1.5 0 -1.5 \nC -0.397805 -1.5 -0.77937 -1.341951 -1.06066 -1.06066 \nC -1.341951 -0.77937 -1.5 -0.397805 -1.5 0 \nC -1.5 0.397805 -1.341951 0.77937 -1.06066 1.06066 \nC -0.77937 1.341951 -0.397805 1.5 0 1.5 \nz\n\" style=\"stroke: #4daf4a; stroke-opacity: 0.818182\"/>\n    </defs>\n    <g clip-path=\"url(#pd4cd23df7d)\">\n     <use xlink:href=\"#m82f318b116\" x=\"158.022356\" y=\"179.628495\" style=\"fill: #4daf4a; fill-opacity: 0.818182; stroke: #4daf4a; stroke-opacity: 0.818182\"/>\n    </g>\n   </g>\n   <g id=\"line2d_232\">\n    <defs>\n     <path id=\"mff49888d11\" d=\"M 0 1.5 \nC 0.397805 1.5 0.77937 1.341951 1.06066 1.06066 \nC 1.341951 0.77937 1.5 0.397805 1.5 0 \nC 1.5 -0.397805 1.341951 -0.77937 1.06066 -1.06066 \nC 0.77937 -1.341951 0.397805 -1.5 0 -1.5 \nC -0.397805 -1.5 -0.77937 -1.341951 -1.06066 -1.06066 \nC -1.341951 -0.77937 -1.5 -0.397805 -1.5 0 \nC -1.5 0.397805 -1.341951 0.77937 -1.06066 1.06066 \nC -0.77937 1.341951 -0.397805 1.5 0 1.5 \nz\n\" style=\"stroke: #4daf4a; stroke-opacity: 0.808081\"/>\n    </defs>\n    <g clip-path=\"url(#pd4cd23df7d)\">\n     <use xlink:href=\"#mff49888d11\" x=\"161.387201\" y=\"178.809977\" style=\"fill: #4daf4a; fill-opacity: 0.808081; stroke: #4daf4a; stroke-opacity: 0.808081\"/>\n    </g>\n   </g>\n   <g id=\"line2d_233\">\n    <defs>\n     <path id=\"m150b5cf002\" d=\"M 0 1.5 \nC 0.397805 1.5 0.77937 1.341951 1.06066 1.06066 \nC 1.341951 0.77937 1.5 0.397805 1.5 0 \nC 1.5 -0.397805 1.341951 -0.77937 1.06066 -1.06066 \nC 0.77937 -1.341951 0.397805 -1.5 0 -1.5 \nC -0.397805 -1.5 -0.77937 -1.341951 -1.06066 -1.06066 \nC -1.341951 -0.77937 -1.5 -0.397805 -1.5 0 \nC -1.5 0.397805 -1.341951 0.77937 -1.06066 1.06066 \nC -0.77937 1.341951 -0.397805 1.5 0 1.5 \nz\n\" style=\"stroke: #4daf4a; stroke-opacity: 0.79798\"/>\n    </defs>\n    <g clip-path=\"url(#pd4cd23df7d)\">\n     <use xlink:href=\"#m150b5cf002\" x=\"164.730547\" y=\"177.834025\" style=\"fill: #4daf4a; fill-opacity: 0.79798; stroke: #4daf4a; stroke-opacity: 0.79798\"/>\n    </g>\n   </g>\n   <g id=\"line2d_234\">\n    <defs>\n     <path id=\"m98d6e0e616\" d=\"M 0 1.5 \nC 0.397805 1.5 0.77937 1.341951 1.06066 1.06066 \nC 1.341951 0.77937 1.5 0.397805 1.5 0 \nC 1.5 -0.397805 1.341951 -0.77937 1.06066 -1.06066 \nC 0.77937 -1.341951 0.397805 -1.5 0 -1.5 \nC -0.397805 -1.5 -0.77937 -1.341951 -1.06066 -1.06066 \nC -1.341951 -0.77937 -1.5 -0.397805 -1.5 0 \nC -1.5 0.397805 -1.341951 0.77937 -1.06066 1.06066 \nC -0.77937 1.341951 -0.397805 1.5 0 1.5 \nz\n\" style=\"stroke: #4daf4a; stroke-opacity: 0.787879\"/>\n    </defs>\n    <g clip-path=\"url(#pd4cd23df7d)\">\n     <use xlink:href=\"#m98d6e0e616\" x=\"168.04494\" y=\"176.702696\" style=\"fill: #4daf4a; fill-opacity: 0.787879; stroke: #4daf4a; stroke-opacity: 0.787879\"/>\n    </g>\n   </g>\n   <g id=\"line2d_235\">\n    <defs>\n     <path id=\"mcd2e6b2398\" d=\"M 0 1.5 \nC 0.397805 1.5 0.77937 1.341951 1.06066 1.06066 \nC 1.341951 0.77937 1.5 0.397805 1.5 0 \nC 1.5 -0.397805 1.341951 -0.77937 1.06066 -1.06066 \nC 0.77937 -1.341951 0.397805 -1.5 0 -1.5 \nC -0.397805 -1.5 -0.77937 -1.341951 -1.06066 -1.06066 \nC -1.341951 -0.77937 -1.5 -0.397805 -1.5 0 \nC -1.5 0.397805 -1.341951 0.77937 -1.06066 1.06066 \nC -0.77937 1.341951 -0.397805 1.5 0 1.5 \nz\n\" style=\"stroke: #4daf4a; stroke-opacity: 0.777778\"/>\n    </defs>\n    <g clip-path=\"url(#pd4cd23df7d)\">\n     <use xlink:href=\"#mcd2e6b2398\" x=\"171.323033\" y=\"175.418517\" style=\"fill: #4daf4a; fill-opacity: 0.777778; stroke: #4daf4a; stroke-opacity: 0.777778\"/>\n    </g>\n   </g>\n   <g id=\"line2d_236\">\n    <defs>\n     <path id=\"m2d666fe7ce\" d=\"M 0 1.5 \nC 0.397805 1.5 0.77937 1.341951 1.06066 1.06066 \nC 1.341951 0.77937 1.5 0.397805 1.5 0 \nC 1.5 -0.397805 1.341951 -0.77937 1.06066 -1.06066 \nC 0.77937 -1.341951 0.397805 -1.5 0 -1.5 \nC -0.397805 -1.5 -0.77937 -1.341951 -1.06066 -1.06066 \nC -1.341951 -0.77937 -1.5 -0.397805 -1.5 0 \nC -1.5 0.397805 -1.341951 0.77937 -1.06066 1.06066 \nC -0.77937 1.341951 -0.397805 1.5 0 1.5 \nz\n\" style=\"stroke: #4daf4a; stroke-opacity: 0.767677\"/>\n    </defs>\n    <g clip-path=\"url(#pd4cd23df7d)\">\n     <use xlink:href=\"#m2d666fe7ce\" x=\"174.557613\" y=\"173.984472\" style=\"fill: #4daf4a; fill-opacity: 0.767677; stroke: #4daf4a; stroke-opacity: 0.767677\"/>\n    </g>\n   </g>\n   <g id=\"line2d_237\">\n    <defs>\n     <path id=\"m6de8eeca2f\" d=\"M 0 1.5 \nC 0.397805 1.5 0.77937 1.341951 1.06066 1.06066 \nC 1.341951 0.77937 1.5 0.397805 1.5 0 \nC 1.5 -0.397805 1.341951 -0.77937 1.06066 -1.06066 \nC 0.77937 -1.341951 0.397805 -1.5 0 -1.5 \nC -0.397805 -1.5 -0.77937 -1.341951 -1.06066 -1.06066 \nC -1.341951 -0.77937 -1.5 -0.397805 -1.5 0 \nC -1.5 0.397805 -1.341951 0.77937 -1.06066 1.06066 \nC -0.77937 1.341951 -0.397805 1.5 0 1.5 \nz\n\" style=\"stroke: #4daf4a; stroke-opacity: 0.757576\"/>\n    </defs>\n    <g clip-path=\"url(#pd4cd23df7d)\">\n     <use xlink:href=\"#m6de8eeca2f\" x=\"177.741623\" y=\"172.404001\" style=\"fill: #4daf4a; fill-opacity: 0.757576; stroke: #4daf4a; stroke-opacity: 0.757576\"/>\n    </g>\n   </g>\n   <g id=\"line2d_238\">\n    <defs>\n     <path id=\"md4d9a0725b\" d=\"M 0 1.5 \nC 0.397805 1.5 0.77937 1.341951 1.06066 1.06066 \nC 1.341951 0.77937 1.5 0.397805 1.5 0 \nC 1.5 -0.397805 1.341951 -0.77937 1.06066 -1.06066 \nC 0.77937 -1.341951 0.397805 -1.5 0 -1.5 \nC -0.397805 -1.5 -0.77937 -1.341951 -1.06066 -1.06066 \nC -1.341951 -0.77937 -1.5 -0.397805 -1.5 0 \nC -1.5 0.397805 -1.341951 0.77937 -1.06066 1.06066 \nC -0.77937 1.341951 -0.397805 1.5 0 1.5 \nz\n\" style=\"stroke: #4daf4a; stroke-opacity: 0.747475\"/>\n    </defs>\n    <g clip-path=\"url(#pd4cd23df7d)\">\n     <use xlink:href=\"#md4d9a0725b\" x=\"180.868183\" y=\"170.680987\" style=\"fill: #4daf4a; fill-opacity: 0.747475; stroke: #4daf4a; stroke-opacity: 0.747475\"/>\n    </g>\n   </g>\n   <g id=\"line2d_239\">\n    <defs>\n     <path id=\"mbbe44c168a\" d=\"M 0 1.5 \nC 0.397805 1.5 0.77937 1.341951 1.06066 1.06066 \nC 1.341951 0.77937 1.5 0.397805 1.5 0 \nC 1.5 -0.397805 1.341951 -0.77937 1.06066 -1.06066 \nC 0.77937 -1.341951 0.397805 -1.5 0 -1.5 \nC -0.397805 -1.5 -0.77937 -1.341951 -1.06066 -1.06066 \nC -1.341951 -0.77937 -1.5 -0.397805 -1.5 0 \nC -1.5 0.397805 -1.341951 0.77937 -1.06066 1.06066 \nC -0.77937 1.341951 -0.397805 1.5 0 1.5 \nz\n\" style=\"stroke: #4daf4a; stroke-opacity: 0.737374\"/>\n    </defs>\n    <g clip-path=\"url(#pd4cd23df7d)\">\n     <use xlink:href=\"#mbbe44c168a\" x=\"183.930613\" y=\"168.819744\" style=\"fill: #4daf4a; fill-opacity: 0.737374; stroke: #4daf4a; stroke-opacity: 0.737374\"/>\n    </g>\n   </g>\n   <g id=\"line2d_240\">\n    <defs>\n     <path id=\"m47d5c4b077\" d=\"M 0 1.5 \nC 0.397805 1.5 0.77937 1.341951 1.06066 1.06066 \nC 1.341951 0.77937 1.5 0.397805 1.5 0 \nC 1.5 -0.397805 1.341951 -0.77937 1.06066 -1.06066 \nC 0.77937 -1.341951 0.397805 -1.5 0 -1.5 \nC -0.397805 -1.5 -0.77937 -1.341951 -1.06066 -1.06066 \nC -1.341951 -0.77937 -1.5 -0.397805 -1.5 0 \nC -1.5 0.397805 -1.341951 0.77937 -1.06066 1.06066 \nC -0.77937 1.341951 -0.397805 1.5 0 1.5 \nz\n\" style=\"stroke: #4daf4a; stroke-opacity: 0.727273\"/>\n    </defs>\n    <g clip-path=\"url(#pd4cd23df7d)\">\n     <use xlink:href=\"#m47d5c4b077\" x=\"186.922456\" y=\"166.825008\" style=\"fill: #4daf4a; fill-opacity: 0.727273; stroke: #4daf4a; stroke-opacity: 0.727273\"/>\n    </g>\n   </g>\n   <g id=\"line2d_241\">\n    <defs>\n     <path id=\"m5c41051666\" d=\"M 0 1.5 \nC 0.397805 1.5 0.77937 1.341951 1.06066 1.06066 \nC 1.341951 0.77937 1.5 0.397805 1.5 0 \nC 1.5 -0.397805 1.341951 -0.77937 1.06066 -1.06066 \nC 0.77937 -1.341951 0.397805 -1.5 0 -1.5 \nC -0.397805 -1.5 -0.77937 -1.341951 -1.06066 -1.06066 \nC -1.341951 -0.77937 -1.5 -0.397805 -1.5 0 \nC -1.5 0.397805 -1.341951 0.77937 -1.06066 1.06066 \nC -0.77937 1.341951 -0.397805 1.5 0 1.5 \nz\n\" style=\"stroke: #4daf4a; stroke-opacity: 0.717172\"/>\n    </defs>\n    <g clip-path=\"url(#pd4cd23df7d)\">\n     <use xlink:href=\"#m5c41051666\" x=\"189.837496\" y=\"164.701922\" style=\"fill: #4daf4a; fill-opacity: 0.717172; stroke: #4daf4a; stroke-opacity: 0.717172\"/>\n    </g>\n   </g>\n   <g id=\"line2d_242\">\n    <defs>\n     <path id=\"m45dbee3260\" d=\"M 0 1.5 \nC 0.397805 1.5 0.77937 1.341951 1.06066 1.06066 \nC 1.341951 0.77937 1.5 0.397805 1.5 0 \nC 1.5 -0.397805 1.341951 -0.77937 1.06066 -1.06066 \nC 0.77937 -1.341951 0.397805 -1.5 0 -1.5 \nC -0.397805 -1.5 -0.77937 -1.341951 -1.06066 -1.06066 \nC -1.341951 -0.77937 -1.5 -0.397805 -1.5 0 \nC -1.5 0.397805 -1.341951 0.77937 -1.06066 1.06066 \nC -0.77937 1.341951 -0.397805 1.5 0 1.5 \nz\n\" style=\"stroke: #4daf4a; stroke-opacity: 0.707071\"/>\n    </defs>\n    <g clip-path=\"url(#pd4cd23df7d)\">\n     <use xlink:href=\"#m45dbee3260\" x=\"192.669779\" y=\"162.45602\" style=\"fill: #4daf4a; fill-opacity: 0.707071; stroke: #4daf4a; stroke-opacity: 0.707071\"/>\n    </g>\n   </g>\n   <g id=\"line2d_243\">\n    <defs>\n     <path id=\"m6558e07fae\" d=\"M 0 1.5 \nC 0.397805 1.5 0.77937 1.341951 1.06066 1.06066 \nC 1.341951 0.77937 1.5 0.397805 1.5 0 \nC 1.5 -0.397805 1.341951 -0.77937 1.06066 -1.06066 \nC 0.77937 -1.341951 0.397805 -1.5 0 -1.5 \nC -0.397805 -1.5 -0.77937 -1.341951 -1.06066 -1.06066 \nC -1.341951 -0.77937 -1.5 -0.397805 -1.5 0 \nC -1.5 0.397805 -1.341951 0.77937 -1.06066 1.06066 \nC -0.77937 1.341951 -0.397805 1.5 0 1.5 \nz\n\" style=\"stroke: #4daf4a; stroke-opacity: 0.69697\"/>\n    </defs>\n    <g clip-path=\"url(#pd4cd23df7d)\">\n     <use xlink:href=\"#m6558e07fae\" x=\"195.413634\" y=\"160.093213\" style=\"fill: #4daf4a; fill-opacity: 0.69697; stroke: #4daf4a; stroke-opacity: 0.69697\"/>\n    </g>\n   </g>\n   <g id=\"line2d_244\">\n    <defs>\n     <path id=\"m64fac1773f\" d=\"M 0 1.5 \nC 0.397805 1.5 0.77937 1.341951 1.06066 1.06066 \nC 1.341951 0.77937 1.5 0.397805 1.5 0 \nC 1.5 -0.397805 1.341951 -0.77937 1.06066 -1.06066 \nC 0.77937 -1.341951 0.397805 -1.5 0 -1.5 \nC -0.397805 -1.5 -0.77937 -1.341951 -1.06066 -1.06066 \nC -1.341951 -0.77937 -1.5 -0.397805 -1.5 0 \nC -1.5 0.397805 -1.341951 0.77937 -1.06066 1.06066 \nC -0.77937 1.341951 -0.397805 1.5 0 1.5 \nz\n\" style=\"stroke: #4daf4a; stroke-opacity: 0.686869\"/>\n    </defs>\n    <g clip-path=\"url(#pd4cd23df7d)\">\n     <use xlink:href=\"#m64fac1773f\" x=\"198.063687\" y=\"157.619769\" style=\"fill: #4daf4a; fill-opacity: 0.686869; stroke: #4daf4a; stroke-opacity: 0.686869\"/>\n    </g>\n   </g>\n   <g id=\"line2d_245\">\n    <defs>\n     <path id=\"me6f65ed21e\" d=\"M 0 1.5 \nC 0.397805 1.5 0.77937 1.341951 1.06066 1.06066 \nC 1.341951 0.77937 1.5 0.397805 1.5 0 \nC 1.5 -0.397805 1.341951 -0.77937 1.06066 -1.06066 \nC 0.77937 -1.341951 0.397805 -1.5 0 -1.5 \nC -0.397805 -1.5 -0.77937 -1.341951 -1.06066 -1.06066 \nC -1.341951 -0.77937 -1.5 -0.397805 -1.5 0 \nC -1.5 0.397805 -1.341951 0.77937 -1.06066 1.06066 \nC -0.77937 1.341951 -0.397805 1.5 0 1.5 \nz\n\" style=\"stroke: #4daf4a; stroke-opacity: 0.676768\"/>\n    </defs>\n    <g clip-path=\"url(#pd4cd23df7d)\">\n     <use xlink:href=\"#me6f65ed21e\" x=\"200.614883\" y=\"155.0423\" style=\"fill: #4daf4a; fill-opacity: 0.676768; stroke: #4daf4a; stroke-opacity: 0.676768\"/>\n    </g>\n   </g>\n   <g id=\"line2d_246\">\n    <defs>\n     <path id=\"m7858774700\" d=\"M 0 1.5 \nC 0.397805 1.5 0.77937 1.341951 1.06066 1.06066 \nC 1.341951 0.77937 1.5 0.397805 1.5 0 \nC 1.5 -0.397805 1.341951 -0.77937 1.06066 -1.06066 \nC 0.77937 -1.341951 0.397805 -1.5 0 -1.5 \nC -0.397805 -1.5 -0.77937 -1.341951 -1.06066 -1.06066 \nC -1.341951 -0.77937 -1.5 -0.397805 -1.5 0 \nC -1.5 0.397805 -1.341951 0.77937 -1.06066 1.06066 \nC -0.77937 1.341951 -0.397805 1.5 0 1.5 \nz\n\" style=\"stroke: #4daf4a; stroke-opacity: 0.666667\"/>\n    </defs>\n    <g clip-path=\"url(#pd4cd23df7d)\">\n     <use xlink:href=\"#m7858774700\" x=\"203.062501\" y=\"152.367734\" style=\"fill: #4daf4a; fill-opacity: 0.666667; stroke: #4daf4a; stroke-opacity: 0.666667\"/>\n    </g>\n   </g>\n   <g id=\"line2d_247\">\n    <defs>\n     <path id=\"md65477a100\" d=\"M 0 1.5 \nC 0.397805 1.5 0.77937 1.341951 1.06066 1.06066 \nC 1.341951 0.77937 1.5 0.397805 1.5 0 \nC 1.5 -0.397805 1.341951 -0.77937 1.06066 -1.06066 \nC 0.77937 -1.341951 0.397805 -1.5 0 -1.5 \nC -0.397805 -1.5 -0.77937 -1.341951 -1.06066 -1.06066 \nC -1.341951 -0.77937 -1.5 -0.397805 -1.5 0 \nC -1.5 0.397805 -1.341951 0.77937 -1.06066 1.06066 \nC -0.77937 1.341951 -0.397805 1.5 0 1.5 \nz\n\" style=\"stroke: #4daf4a; stroke-opacity: 0.656566\"/>\n    </defs>\n    <g clip-path=\"url(#pd4cd23df7d)\">\n     <use xlink:href=\"#md65477a100\" x=\"205.402166\" y=\"149.603305\" style=\"fill: #4daf4a; fill-opacity: 0.656566; stroke: #4daf4a; stroke-opacity: 0.656566\"/>\n    </g>\n   </g>\n   <g id=\"line2d_248\">\n    <defs>\n     <path id=\"m400e4bb578\" d=\"M 0 1.5 \nC 0.397805 1.5 0.77937 1.341951 1.06066 1.06066 \nC 1.341951 0.77937 1.5 0.397805 1.5 0 \nC 1.5 -0.397805 1.341951 -0.77937 1.06066 -1.06066 \nC 0.77937 -1.341951 0.397805 -1.5 0 -1.5 \nC -0.397805 -1.5 -0.77937 -1.341951 -1.06066 -1.06066 \nC -1.341951 -0.77937 -1.5 -0.397805 -1.5 0 \nC -1.5 0.397805 -1.341951 0.77937 -1.06066 1.06066 \nC -0.77937 1.341951 -0.397805 1.5 0 1.5 \nz\n\" style=\"stroke: #4daf4a; stroke-opacity: 0.646465\"/>\n    </defs>\n    <g clip-path=\"url(#pd4cd23df7d)\">\n     <use xlink:href=\"#m400e4bb578\" x=\"207.629871\" y=\"146.756522\" style=\"fill: #4daf4a; fill-opacity: 0.646465; stroke: #4daf4a; stroke-opacity: 0.646465\"/>\n    </g>\n   </g>\n   <g id=\"line2d_249\">\n    <defs>\n     <path id=\"mfe9e34aaca\" d=\"M 0 1.5 \nC 0.397805 1.5 0.77937 1.341951 1.06066 1.06066 \nC 1.341951 0.77937 1.5 0.397805 1.5 0 \nC 1.5 -0.397805 1.341951 -0.77937 1.06066 -1.06066 \nC 0.77937 -1.341951 0.397805 -1.5 0 -1.5 \nC -0.397805 -1.5 -0.77937 -1.341951 -1.06066 -1.06066 \nC -1.341951 -0.77937 -1.5 -0.397805 -1.5 0 \nC -1.5 0.397805 -1.341951 0.77937 -1.06066 1.06066 \nC -0.77937 1.341951 -0.397805 1.5 0 1.5 \nz\n\" style=\"stroke: #4daf4a; stroke-opacity: 0.636364\"/>\n    </defs>\n    <g clip-path=\"url(#pd4cd23df7d)\">\n     <use xlink:href=\"#mfe9e34aaca\" x=\"209.74198\" y=\"143.835151\" style=\"fill: #4daf4a; fill-opacity: 0.636364; stroke: #4daf4a; stroke-opacity: 0.636364\"/>\n    </g>\n   </g>\n   <g id=\"line2d_250\">\n    <defs>\n     <path id=\"m0af046a3fb\" d=\"M 0 1.5 \nC 0.397805 1.5 0.77937 1.341951 1.06066 1.06066 \nC 1.341951 0.77937 1.5 0.397805 1.5 0 \nC 1.5 -0.397805 1.341951 -0.77937 1.06066 -1.06066 \nC 0.77937 -1.341951 0.397805 -1.5 0 -1.5 \nC -0.397805 -1.5 -0.77937 -1.341951 -1.06066 -1.06066 \nC -1.341951 -0.77937 -1.5 -0.397805 -1.5 0 \nC -1.5 0.397805 -1.341951 0.77937 -1.06066 1.06066 \nC -0.77937 1.341951 -0.397805 1.5 0 1.5 \nz\n\" style=\"stroke: #4daf4a; stroke-opacity: 0.626263\"/>\n    </defs>\n    <g clip-path=\"url(#pd4cd23df7d)\">\n     <use xlink:href=\"#m0af046a3fb\" x=\"211.735248\" y=\"140.847193\" style=\"fill: #4daf4a; fill-opacity: 0.626263; stroke: #4daf4a; stroke-opacity: 0.626263\"/>\n    </g>\n   </g>\n   <g id=\"line2d_251\">\n    <defs>\n     <path id=\"m7cd019ef71\" d=\"M 0 1.5 \nC 0.397805 1.5 0.77937 1.341951 1.06066 1.06066 \nC 1.341951 0.77937 1.5 0.397805 1.5 0 \nC 1.5 -0.397805 1.341951 -0.77937 1.06066 -1.06066 \nC 0.77937 -1.341951 0.397805 -1.5 0 -1.5 \nC -0.397805 -1.5 -0.77937 -1.341951 -1.06066 -1.06066 \nC -1.341951 -0.77937 -1.5 -0.397805 -1.5 0 \nC -1.5 0.397805 -1.341951 0.77937 -1.06066 1.06066 \nC -0.77937 1.341951 -0.397805 1.5 0 1.5 \nz\n\" style=\"stroke: #4daf4a; stroke-opacity: 0.616162\"/>\n    </defs>\n    <g clip-path=\"url(#pd4cd23df7d)\">\n     <use xlink:href=\"#m7cd019ef71\" x=\"213.606829\" y=\"137.800859\" style=\"fill: #4daf4a; fill-opacity: 0.616162; stroke: #4daf4a; stroke-opacity: 0.616162\"/>\n    </g>\n   </g>\n   <g id=\"line2d_252\">\n    <defs>\n     <path id=\"m6167733092\" d=\"M 0 1.5 \nC 0.397805 1.5 0.77937 1.341951 1.06066 1.06066 \nC 1.341951 0.77937 1.5 0.397805 1.5 0 \nC 1.5 -0.397805 1.341951 -0.77937 1.06066 -1.06066 \nC 0.77937 -1.341951 0.397805 -1.5 0 -1.5 \nC -0.397805 -1.5 -0.77937 -1.341951 -1.06066 -1.06066 \nC -1.341951 -0.77937 -1.5 -0.397805 -1.5 0 \nC -1.5 0.397805 -1.341951 0.77937 -1.06066 1.06066 \nC -0.77937 1.341951 -0.397805 1.5 0 1.5 \nz\n\" style=\"stroke: #4daf4a; stroke-opacity: 0.606061\"/>\n    </defs>\n    <g clip-path=\"url(#pd4cd23df7d)\">\n     <use xlink:href=\"#m6167733092\" x=\"215.354285\" y=\"134.704543\" style=\"fill: #4daf4a; fill-opacity: 0.606061; stroke: #4daf4a; stroke-opacity: 0.606061\"/>\n    </g>\n   </g>\n   <g id=\"line2d_253\">\n    <defs>\n     <path id=\"mbbca83c41b\" d=\"M 0 1.5 \nC 0.397805 1.5 0.77937 1.341951 1.06066 1.06066 \nC 1.341951 0.77937 1.5 0.397805 1.5 0 \nC 1.5 -0.397805 1.341951 -0.77937 1.06066 -1.06066 \nC 0.77937 -1.341951 0.397805 -1.5 0 -1.5 \nC -0.397805 -1.5 -0.77937 -1.341951 -1.06066 -1.06066 \nC -1.341951 -0.77937 -1.5 -0.397805 -1.5 0 \nC -1.5 0.397805 -1.341951 0.77937 -1.06066 1.06066 \nC -0.77937 1.341951 -0.397805 1.5 0 1.5 \nz\n\" style=\"stroke: #4daf4a; stroke-opacity: 0.59596\"/>\n    </defs>\n    <g clip-path=\"url(#pd4cd23df7d)\">\n     <use xlink:href=\"#mbbca83c41b\" x=\"216.975596\" y=\"131.566801\" style=\"fill: #4daf4a; fill-opacity: 0.59596; stroke: #4daf4a; stroke-opacity: 0.59596\"/>\n    </g>\n   </g>\n   <g id=\"line2d_254\">\n    <defs>\n     <path id=\"m60bbe953c6\" d=\"M 0 1.5 \nC 0.397805 1.5 0.77937 1.341951 1.06066 1.06066 \nC 1.341951 0.77937 1.5 0.397805 1.5 0 \nC 1.5 -0.397805 1.341951 -0.77937 1.06066 -1.06066 \nC 0.77937 -1.341951 0.397805 -1.5 0 -1.5 \nC -0.397805 -1.5 -0.77937 -1.341951 -1.06066 -1.06066 \nC -1.341951 -0.77937 -1.5 -0.397805 -1.5 0 \nC -1.5 0.397805 -1.341951 0.77937 -1.06066 1.06066 \nC -0.77937 1.341951 -0.397805 1.5 0 1.5 \nz\n\" style=\"stroke: #4daf4a; stroke-opacity: 0.585859\"/>\n    </defs>\n    <g clip-path=\"url(#pd4cd23df7d)\">\n     <use xlink:href=\"#m60bbe953c6\" x=\"218.469163\" y=\"128.396321\" style=\"fill: #4daf4a; fill-opacity: 0.585859; stroke: #4daf4a; stroke-opacity: 0.585859\"/>\n    </g>\n   </g>\n   <g id=\"line2d_255\">\n    <defs>\n     <path id=\"m7e1c373e0c\" d=\"M 0 1.5 \nC 0.397805 1.5 0.77937 1.341951 1.06066 1.06066 \nC 1.341951 0.77937 1.5 0.397805 1.5 0 \nC 1.5 -0.397805 1.341951 -0.77937 1.06066 -1.06066 \nC 0.77937 -1.341951 0.397805 -1.5 0 -1.5 \nC -0.397805 -1.5 -0.77937 -1.341951 -1.06066 -1.06066 \nC -1.341951 -0.77937 -1.5 -0.397805 -1.5 0 \nC -1.5 0.397805 -1.341951 0.77937 -1.06066 1.06066 \nC -0.77937 1.341951 -0.397805 1.5 0 1.5 \nz\n\" style=\"stroke: #4daf4a; stroke-opacity: 0.575758\"/>\n    </defs>\n    <g clip-path=\"url(#pd4cd23df7d)\">\n     <use xlink:href=\"#m7e1c373e0c\" x=\"219.833818\" y=\"125.201901\" style=\"fill: #4daf4a; fill-opacity: 0.575758; stroke: #4daf4a; stroke-opacity: 0.575758\"/>\n    </g>\n   </g>\n   <g id=\"line2d_256\">\n    <defs>\n     <path id=\"m210a88a995\" d=\"M 0 1.5 \nC 0.397805 1.5 0.77937 1.341951 1.06066 1.06066 \nC 1.341951 0.77937 1.5 0.397805 1.5 0 \nC 1.5 -0.397805 1.341951 -0.77937 1.06066 -1.06066 \nC 0.77937 -1.341951 0.397805 -1.5 0 -1.5 \nC -0.397805 -1.5 -0.77937 -1.341951 -1.06066 -1.06066 \nC -1.341951 -0.77937 -1.5 -0.397805 -1.5 0 \nC -1.5 0.397805 -1.341951 0.77937 -1.06066 1.06066 \nC -0.77937 1.341951 -0.397805 1.5 0 1.5 \nz\n\" style=\"stroke: #4daf4a; stroke-opacity: 0.565657\"/>\n    </defs>\n    <g clip-path=\"url(#pd4cd23df7d)\">\n     <use xlink:href=\"#m210a88a995\" x=\"221.068828\" y=\"121.992419\" style=\"fill: #4daf4a; fill-opacity: 0.565657; stroke: #4daf4a; stroke-opacity: 0.565657\"/>\n    </g>\n   </g>\n   <g id=\"line2d_257\">\n    <defs>\n     <path id=\"mec75e2c542\" d=\"M 0 1.5 \nC 0.397805 1.5 0.77937 1.341951 1.06066 1.06066 \nC 1.341951 0.77937 1.5 0.397805 1.5 0 \nC 1.5 -0.397805 1.341951 -0.77937 1.06066 -1.06066 \nC 0.77937 -1.341951 0.397805 -1.5 0 -1.5 \nC -0.397805 -1.5 -0.77937 -1.341951 -1.06066 -1.06066 \nC -1.341951 -0.77937 -1.5 -0.397805 -1.5 0 \nC -1.5 0.397805 -1.341951 0.77937 -1.06066 1.06066 \nC -0.77937 1.341951 -0.397805 1.5 0 1.5 \nz\n\" style=\"stroke: #4daf4a; stroke-opacity: 0.555556\"/>\n    </defs>\n    <g clip-path=\"url(#pd4cd23df7d)\">\n     <use xlink:href=\"#mec75e2c542\" x=\"222.173894\" y=\"118.77681\" style=\"fill: #4daf4a; fill-opacity: 0.555556; stroke: #4daf4a; stroke-opacity: 0.555556\"/>\n    </g>\n   </g>\n   <g id=\"line2d_258\">\n    <defs>\n     <path id=\"m77afc3e9db\" d=\"M 0 1.5 \nC 0.397805 1.5 0.77937 1.341951 1.06066 1.06066 \nC 1.341951 0.77937 1.5 0.397805 1.5 0 \nC 1.5 -0.397805 1.341951 -0.77937 1.06066 -1.06066 \nC 0.77937 -1.341951 0.397805 -1.5 0 -1.5 \nC -0.397805 -1.5 -0.77937 -1.341951 -1.06066 -1.06066 \nC -1.341951 -0.77937 -1.5 -0.397805 -1.5 0 \nC -1.5 0.397805 -1.341951 0.77937 -1.06066 1.06066 \nC -0.77937 1.341951 -0.397805 1.5 0 1.5 \nz\n\" style=\"stroke: #4daf4a; stroke-opacity: 0.545455\"/>\n    </defs>\n    <g clip-path=\"url(#pd4cd23df7d)\">\n     <use xlink:href=\"#m77afc3e9db\" x=\"223.149155\" y=\"115.564034\" style=\"fill: #4daf4a; fill-opacity: 0.545455; stroke: #4daf4a; stroke-opacity: 0.545455\"/>\n    </g>\n   </g>\n   <g id=\"line2d_259\">\n    <defs>\n     <path id=\"m19aca816a8\" d=\"M 0 1.5 \nC 0.397805 1.5 0.77937 1.341951 1.06066 1.06066 \nC 1.341951 0.77937 1.5 0.397805 1.5 0 \nC 1.5 -0.397805 1.341951 -0.77937 1.06066 -1.06066 \nC 0.77937 -1.341951 0.397805 -1.5 0 -1.5 \nC -0.397805 -1.5 -0.77937 -1.341951 -1.06066 -1.06066 \nC -1.341951 -0.77937 -1.5 -0.397805 -1.5 0 \nC -1.5 0.397805 -1.341951 0.77937 -1.06066 1.06066 \nC -0.77937 1.341951 -0.397805 1.5 0 1.5 \nz\n\" style=\"stroke: #4daf4a; stroke-opacity: 0.535354\"/>\n    </defs>\n    <g clip-path=\"url(#pd4cd23df7d)\">\n     <use xlink:href=\"#m19aca816a8\" x=\"223.99519\" y=\"112.363055\" style=\"fill: #4daf4a; fill-opacity: 0.535354; stroke: #4daf4a; stroke-opacity: 0.535354\"/>\n    </g>\n   </g>\n   <g id=\"line2d_260\">\n    <defs>\n     <path id=\"m7c9455b1ee\" d=\"M 0 1.5 \nC 0.397805 1.5 0.77937 1.341951 1.06066 1.06066 \nC 1.341951 0.77937 1.5 0.397805 1.5 0 \nC 1.5 -0.397805 1.341951 -0.77937 1.06066 -1.06066 \nC 0.77937 -1.341951 0.397805 -1.5 0 -1.5 \nC -0.397805 -1.5 -0.77937 -1.341951 -1.06066 -1.06066 \nC -1.341951 -0.77937 -1.5 -0.397805 -1.5 0 \nC -1.5 0.397805 -1.341951 0.77937 -1.06066 1.06066 \nC -0.77937 1.341951 -0.397805 1.5 0 1.5 \nz\n\" style=\"stroke: #4daf4a; stroke-opacity: 0.525253\"/>\n    </defs>\n    <g clip-path=\"url(#pd4cd23df7d)\">\n     <use xlink:href=\"#m7c9455b1ee\" x=\"224.713013\" y=\"109.182807\" style=\"fill: #4daf4a; fill-opacity: 0.525253; stroke: #4daf4a; stroke-opacity: 0.525253\"/>\n    </g>\n   </g>\n   <g id=\"line2d_261\">\n    <defs>\n     <path id=\"meaad2f11c9\" d=\"M 0 1.5 \nC 0.397805 1.5 0.77937 1.341951 1.06066 1.06066 \nC 1.341951 0.77937 1.5 0.397805 1.5 0 \nC 1.5 -0.397805 1.341951 -0.77937 1.06066 -1.06066 \nC 0.77937 -1.341951 0.397805 -1.5 0 -1.5 \nC -0.397805 -1.5 -0.77937 -1.341951 -1.06066 -1.06066 \nC -1.341951 -0.77937 -1.5 -0.397805 -1.5 0 \nC -1.5 0.397805 -1.341951 0.77937 -1.06066 1.06066 \nC -0.77937 1.341951 -0.397805 1.5 0 1.5 \nz\n\" style=\"stroke: #4daf4a; stroke-opacity: 0.515152\"/>\n    </defs>\n    <g clip-path=\"url(#pd4cd23df7d)\">\n     <use xlink:href=\"#meaad2f11c9\" x=\"225.304072\" y=\"106.032175\" style=\"fill: #4daf4a; fill-opacity: 0.515152; stroke: #4daf4a; stroke-opacity: 0.515152\"/>\n    </g>\n   </g>\n   <g id=\"line2d_262\">\n    <defs>\n     <path id=\"mde062e3a97\" d=\"M 0 1.5 \nC 0.397805 1.5 0.77937 1.341951 1.06066 1.06066 \nC 1.341951 0.77937 1.5 0.397805 1.5 0 \nC 1.5 -0.397805 1.341951 -0.77937 1.06066 -1.06066 \nC 0.77937 -1.341951 0.397805 -1.5 0 -1.5 \nC -0.397805 -1.5 -0.77937 -1.341951 -1.06066 -1.06066 \nC -1.341951 -0.77937 -1.5 -0.397805 -1.5 0 \nC -1.5 0.397805 -1.341951 0.77937 -1.06066 1.06066 \nC -0.77937 1.341951 -0.397805 1.5 0 1.5 \nz\n\" style=\"stroke: #4daf4a; stroke-opacity: 0.505051\"/>\n    </defs>\n    <g clip-path=\"url(#pd4cd23df7d)\">\n     <use xlink:href=\"#mde062e3a97\" x=\"225.770247\" y=\"102.919962\" style=\"fill: #4daf4a; fill-opacity: 0.505051; stroke: #4daf4a; stroke-opacity: 0.505051\"/>\n    </g>\n   </g>\n   <g id=\"line2d_263\">\n    <defs>\n     <path id=\"md0f1f6fbe1\" d=\"M 0 1.5 \nC 0.397805 1.5 0.77937 1.341951 1.06066 1.06066 \nC 1.341951 0.77937 1.5 0.397805 1.5 0 \nC 1.5 -0.397805 1.341951 -0.77937 1.06066 -1.06066 \nC 0.77937 -1.341951 0.397805 -1.5 0 -1.5 \nC -0.397805 -1.5 -0.77937 -1.341951 -1.06066 -1.06066 \nC -1.341951 -0.77937 -1.5 -0.397805 -1.5 0 \nC -1.5 0.397805 -1.341951 0.77937 -1.06066 1.06066 \nC -0.77937 1.341951 -0.397805 1.5 0 1.5 \nz\n\" style=\"stroke: #4daf4a; stroke-opacity: 0.494949\"/>\n    </defs>\n    <g clip-path=\"url(#pd4cd23df7d)\">\n     <use xlink:href=\"#md0f1f6fbe1\" x=\"226.113842\" y=\"99.854862\" style=\"fill: #4daf4a; fill-opacity: 0.494949; stroke: #4daf4a; stroke-opacity: 0.494949\"/>\n    </g>\n   </g>\n   <g id=\"line2d_264\">\n    <defs>\n     <path id=\"m75c89c2336\" d=\"M 0 1.5 \nC 0.397805 1.5 0.77937 1.341951 1.06066 1.06066 \nC 1.341951 0.77937 1.5 0.397805 1.5 0 \nC 1.5 -0.397805 1.341951 -0.77937 1.06066 -1.06066 \nC 0.77937 -1.341951 0.397805 -1.5 0 -1.5 \nC -0.397805 -1.5 -0.77937 -1.341951 -1.06066 -1.06066 \nC -1.341951 -0.77937 -1.5 -0.397805 -1.5 0 \nC -1.5 0.397805 -1.341951 0.77937 -1.06066 1.06066 \nC -0.77937 1.341951 -0.397805 1.5 0 1.5 \nz\n\" style=\"stroke: #4daf4a; stroke-opacity: 0.484848\"/>\n    </defs>\n    <g clip-path=\"url(#pd4cd23df7d)\">\n     <use xlink:href=\"#m75c89c2336\" x=\"226.337576\" y=\"96.84544\" style=\"fill: #4daf4a; fill-opacity: 0.484848; stroke: #4daf4a; stroke-opacity: 0.484848\"/>\n    </g>\n   </g>\n   <g id=\"line2d_265\">\n    <defs>\n     <path id=\"m62d0c20b47\" d=\"M 0 1.5 \nC 0.397805 1.5 0.77937 1.341951 1.06066 1.06066 \nC 1.341951 0.77937 1.5 0.397805 1.5 0 \nC 1.5 -0.397805 1.341951 -0.77937 1.06066 -1.06066 \nC 0.77937 -1.341951 0.397805 -1.5 0 -1.5 \nC -0.397805 -1.5 -0.77937 -1.341951 -1.06066 -1.06066 \nC -1.341951 -0.77937 -1.5 -0.397805 -1.5 0 \nC -1.5 0.397805 -1.341951 0.77937 -1.06066 1.06066 \nC -0.77937 1.341951 -0.397805 1.5 0 1.5 \nz\n\" style=\"stroke: #4daf4a; stroke-opacity: 0.474747\"/>\n    </defs>\n    <g clip-path=\"url(#pd4cd23df7d)\">\n     <use xlink:href=\"#m62d0c20b47\" x=\"226.444583\" y=\"93.900099\" style=\"fill: #4daf4a; fill-opacity: 0.474747; stroke: #4daf4a; stroke-opacity: 0.474747\"/>\n    </g>\n   </g>\n   <g id=\"line2d_266\">\n    <defs>\n     <path id=\"m6b9130d372\" d=\"M 0 1.5 \nC 0.397805 1.5 0.77937 1.341951 1.06066 1.06066 \nC 1.341951 0.77937 1.5 0.397805 1.5 0 \nC 1.5 -0.397805 1.341951 -0.77937 1.06066 -1.06066 \nC 0.77937 -1.341951 0.397805 -1.5 0 -1.5 \nC -0.397805 -1.5 -0.77937 -1.341951 -1.06066 -1.06066 \nC -1.341951 -0.77937 -1.5 -0.397805 -1.5 0 \nC -1.5 0.397805 -1.341951 0.77937 -1.06066 1.06066 \nC -0.77937 1.341951 -0.397805 1.5 0 1.5 \nz\n\" style=\"stroke: #4daf4a; stroke-opacity: 0.464646\"/>\n    </defs>\n    <g clip-path=\"url(#pd4cd23df7d)\">\n     <use xlink:href=\"#m6b9130d372\" x=\"226.438394\" y=\"91.027061\" style=\"fill: #4daf4a; fill-opacity: 0.464646; stroke: #4daf4a; stroke-opacity: 0.464646\"/>\n    </g>\n   </g>\n   <g id=\"line2d_267\">\n    <defs>\n     <path id=\"mc9c2227641\" d=\"M 0 1.5 \nC 0.397805 1.5 0.77937 1.341951 1.06066 1.06066 \nC 1.341951 0.77937 1.5 0.397805 1.5 0 \nC 1.5 -0.397805 1.341951 -0.77937 1.06066 -1.06066 \nC 0.77937 -1.341951 0.397805 -1.5 0 -1.5 \nC -0.397805 -1.5 -0.77937 -1.341951 -1.06066 -1.06066 \nC -1.341951 -0.77937 -1.5 -0.397805 -1.5 0 \nC -1.5 0.397805 -1.341951 0.77937 -1.06066 1.06066 \nC -0.77937 1.341951 -0.397805 1.5 0 1.5 \nz\n\" style=\"stroke: #4daf4a; stroke-opacity: 0.454545\"/>\n    </defs>\n    <g clip-path=\"url(#pd4cd23df7d)\">\n     <use xlink:href=\"#mc9c2227641\" x=\"226.322932\" y=\"88.234335\" style=\"fill: #4daf4a; fill-opacity: 0.454545; stroke: #4daf4a; stroke-opacity: 0.454545\"/>\n    </g>\n   </g>\n   <g id=\"line2d_268\">\n    <defs>\n     <path id=\"me09d2ca013\" d=\"M 0 1.5 \nC 0.397805 1.5 0.77937 1.341951 1.06066 1.06066 \nC 1.341951 0.77937 1.5 0.397805 1.5 0 \nC 1.5 -0.397805 1.341951 -0.77937 1.06066 -1.06066 \nC 0.77937 -1.341951 0.397805 -1.5 0 -1.5 \nC -0.397805 -1.5 -0.77937 -1.341951 -1.06066 -1.06066 \nC -1.341951 -0.77937 -1.5 -0.397805 -1.5 0 \nC -1.5 0.397805 -1.341951 0.77937 -1.06066 1.06066 \nC -0.77937 1.341951 -0.397805 1.5 0 1.5 \nz\n\" style=\"stroke: #4daf4a; stroke-opacity: 0.444444\"/>\n    </defs>\n    <g clip-path=\"url(#pd4cd23df7d)\">\n     <use xlink:href=\"#me09d2ca013\" x=\"226.102496\" y=\"85.529701\" style=\"fill: #4daf4a; fill-opacity: 0.444444; stroke: #4daf4a; stroke-opacity: 0.444444\"/>\n    </g>\n   </g>\n   <g id=\"line2d_269\">\n    <defs>\n     <path id=\"m187975de61\" d=\"M 0 1.5 \nC 0.397805 1.5 0.77937 1.341951 1.06066 1.06066 \nC 1.341951 0.77937 1.5 0.397805 1.5 0 \nC 1.5 -0.397805 1.341951 -0.77937 1.06066 -1.06066 \nC 0.77937 -1.341951 0.397805 -1.5 0 -1.5 \nC -0.397805 -1.5 -0.77937 -1.341951 -1.06066 -1.06066 \nC -1.341951 -0.77937 -1.5 -0.397805 -1.5 0 \nC -1.5 0.397805 -1.341951 0.77937 -1.06066 1.06066 \nC -0.77937 1.341951 -0.397805 1.5 0 1.5 \nz\n\" style=\"stroke: #4daf4a; stroke-opacity: 0.434343\"/>\n    </defs>\n    <g clip-path=\"url(#pd4cd23df7d)\">\n     <use xlink:href=\"#m187975de61\" x=\"225.781753\" y=\"82.920677\" style=\"fill: #4daf4a; fill-opacity: 0.434343; stroke: #4daf4a; stroke-opacity: 0.434343\"/>\n    </g>\n   </g>\n   <g id=\"line2d_270\">\n    <defs>\n     <path id=\"meddbc1baff\" d=\"M 0 1.5 \nC 0.397805 1.5 0.77937 1.341951 1.06066 1.06066 \nC 1.341951 0.77937 1.5 0.397805 1.5 0 \nC 1.5 -0.397805 1.341951 -0.77937 1.06066 -1.06066 \nC 0.77937 -1.341951 0.397805 -1.5 0 -1.5 \nC -0.397805 -1.5 -0.77937 -1.341951 -1.06066 -1.06066 \nC -1.341951 -0.77937 -1.5 -0.397805 -1.5 0 \nC -1.5 0.397805 -1.341951 0.77937 -1.06066 1.06066 \nC -0.77937 1.341951 -0.397805 1.5 0 1.5 \nz\n\" style=\"stroke: #4daf4a; stroke-opacity: 0.424242\"/>\n    </defs>\n    <g clip-path=\"url(#pd4cd23df7d)\">\n     <use xlink:href=\"#meddbc1baff\" x=\"225.365719\" y=\"80.414508\" style=\"fill: #4daf4a; fill-opacity: 0.424242; stroke: #4daf4a; stroke-opacity: 0.424242\"/>\n    </g>\n   </g>\n   <g id=\"line2d_271\">\n    <defs>\n     <path id=\"m94bc63c488\" d=\"M 0 1.5 \nC 0.397805 1.5 0.77937 1.341951 1.06066 1.06066 \nC 1.341951 0.77937 1.5 0.397805 1.5 0 \nC 1.5 -0.397805 1.341951 -0.77937 1.06066 -1.06066 \nC 0.77937 -1.341951 0.397805 -1.5 0 -1.5 \nC -0.397805 -1.5 -0.77937 -1.341951 -1.06066 -1.06066 \nC -1.341951 -0.77937 -1.5 -0.397805 -1.5 0 \nC -1.5 0.397805 -1.341951 0.77937 -1.06066 1.06066 \nC -0.77937 1.341951 -0.397805 1.5 0 1.5 \nz\n\" style=\"stroke: #4daf4a; stroke-opacity: 0.414141\"/>\n    </defs>\n    <g clip-path=\"url(#pd4cd23df7d)\">\n     <use xlink:href=\"#m94bc63c488\" x=\"224.859745\" y=\"78.018132\" style=\"fill: #4daf4a; fill-opacity: 0.414141; stroke: #4daf4a; stroke-opacity: 0.414141\"/>\n    </g>\n   </g>\n   <g id=\"line2d_272\">\n    <defs>\n     <path id=\"m545d2dc40a\" d=\"M 0 1.5 \nC 0.397805 1.5 0.77937 1.341951 1.06066 1.06066 \nC 1.341951 0.77937 1.5 0.397805 1.5 0 \nC 1.5 -0.397805 1.341951 -0.77937 1.06066 -1.06066 \nC 0.77937 -1.341951 0.397805 -1.5 0 -1.5 \nC -0.397805 -1.5 -0.77937 -1.341951 -1.06066 -1.06066 \nC -1.341951 -0.77937 -1.5 -0.397805 -1.5 0 \nC -1.5 0.397805 -1.341951 0.77937 -1.06066 1.06066 \nC -0.77937 1.341951 -0.397805 1.5 0 1.5 \nz\n\" style=\"stroke: #4daf4a; stroke-opacity: 0.40404\"/>\n    </defs>\n    <g clip-path=\"url(#pd4cd23df7d)\">\n     <use xlink:href=\"#m545d2dc40a\" x=\"224.269503\" y=\"75.738168\" style=\"fill: #4daf4a; fill-opacity: 0.40404; stroke: #4daf4a; stroke-opacity: 0.40404\"/>\n    </g>\n   </g>\n   <g id=\"line2d_273\">\n    <defs>\n     <path id=\"m478dcf107d\" d=\"M 0 1.5 \nC 0.397805 1.5 0.77937 1.341951 1.06066 1.06066 \nC 1.341951 0.77937 1.5 0.397805 1.5 0 \nC 1.5 -0.397805 1.341951 -0.77937 1.06066 -1.06066 \nC 0.77937 -1.341951 0.397805 -1.5 0 -1.5 \nC -0.397805 -1.5 -0.77937 -1.341951 -1.06066 -1.06066 \nC -1.341951 -0.77937 -1.5 -0.397805 -1.5 0 \nC -1.5 0.397805 -1.341951 0.77937 -1.06066 1.06066 \nC -0.77937 1.341951 -0.397805 1.5 0 1.5 \nz\n\" style=\"stroke: #4daf4a; stroke-opacity: 0.393939\"/>\n    </defs>\n    <g clip-path=\"url(#pd4cd23df7d)\">\n     <use xlink:href=\"#m478dcf107d\" x=\"223.600966\" y=\"73.580893\" style=\"fill: #4daf4a; fill-opacity: 0.393939; stroke: #4daf4a; stroke-opacity: 0.393939\"/>\n    </g>\n   </g>\n   <g id=\"line2d_274\">\n    <defs>\n     <path id=\"m6fdef4acce\" d=\"M 0 1.5 \nC 0.397805 1.5 0.77937 1.341951 1.06066 1.06066 \nC 1.341951 0.77937 1.5 0.397805 1.5 0 \nC 1.5 -0.397805 1.341951 -0.77937 1.06066 -1.06066 \nC 0.77937 -1.341951 0.397805 -1.5 0 -1.5 \nC -0.397805 -1.5 -0.77937 -1.341951 -1.06066 -1.06066 \nC -1.341951 -0.77937 -1.5 -0.397805 -1.5 0 \nC -1.5 0.397805 -1.341951 0.77937 -1.06066 1.06066 \nC -0.77937 1.341951 -0.397805 1.5 0 1.5 \nz\n\" style=\"stroke: #4daf4a; stroke-opacity: 0.383838\"/>\n    </defs>\n    <g clip-path=\"url(#pd4cd23df7d)\">\n     <use xlink:href=\"#m6fdef4acce\" x=\"222.860391\" y=\"71.552221\" style=\"fill: #4daf4a; fill-opacity: 0.383838; stroke: #4daf4a; stroke-opacity: 0.383838\"/>\n    </g>\n   </g>\n   <g id=\"line2d_275\">\n    <defs>\n     <path id=\"m3516f1d4bb\" d=\"M 0 1.5 \nC 0.397805 1.5 0.77937 1.341951 1.06066 1.06066 \nC 1.341951 0.77937 1.5 0.397805 1.5 0 \nC 1.5 -0.397805 1.341951 -0.77937 1.06066 -1.06066 \nC 0.77937 -1.341951 0.397805 -1.5 0 -1.5 \nC -0.397805 -1.5 -0.77937 -1.341951 -1.06066 -1.06066 \nC -1.341951 -0.77937 -1.5 -0.397805 -1.5 0 \nC -1.5 0.397805 -1.341951 0.77937 -1.06066 1.06066 \nC -0.77937 1.341951 -0.397805 1.5 0 1.5 \nz\n\" style=\"stroke: #4daf4a; stroke-opacity: 0.373737\"/>\n    </defs>\n    <g clip-path=\"url(#pd4cd23df7d)\">\n     <use xlink:href=\"#m3516f1d4bb\" x=\"222.054298\" y=\"69.657691\" style=\"fill: #4daf4a; fill-opacity: 0.373737; stroke: #4daf4a; stroke-opacity: 0.373737\"/>\n    </g>\n   </g>\n   <g id=\"line2d_276\">\n    <defs>\n     <path id=\"mf2d3b1d90d\" d=\"M 0 1.5 \nC 0.397805 1.5 0.77937 1.341951 1.06066 1.06066 \nC 1.341951 0.77937 1.5 0.397805 1.5 0 \nC 1.5 -0.397805 1.341951 -0.77937 1.06066 -1.06066 \nC 0.77937 -1.341951 0.397805 -1.5 0 -1.5 \nC -0.397805 -1.5 -0.77937 -1.341951 -1.06066 -1.06066 \nC -1.341951 -0.77937 -1.5 -0.397805 -1.5 0 \nC -1.5 0.397805 -1.341951 0.77937 -1.06066 1.06066 \nC -0.77937 1.341951 -0.397805 1.5 0 1.5 \nz\n\" style=\"stroke: #4daf4a; stroke-opacity: 0.363636\"/>\n    </defs>\n    <g clip-path=\"url(#pd4cd23df7d)\">\n     <use xlink:href=\"#mf2d3b1d90d\" x=\"221.189451\" y=\"67.902444\" style=\"fill: #4daf4a; fill-opacity: 0.363636; stroke: #4daf4a; stroke-opacity: 0.363636\"/>\n    </g>\n   </g>\n   <g id=\"line2d_277\">\n    <defs>\n     <path id=\"mfca203ec43\" d=\"M 0 1.5 \nC 0.397805 1.5 0.77937 1.341951 1.06066 1.06066 \nC 1.341951 0.77937 1.5 0.397805 1.5 0 \nC 1.5 -0.397805 1.341951 -0.77937 1.06066 -1.06066 \nC 0.77937 -1.341951 0.397805 -1.5 0 -1.5 \nC -0.397805 -1.5 -0.77937 -1.341951 -1.06066 -1.06066 \nC -1.341951 -0.77937 -1.5 -0.397805 -1.5 0 \nC -1.5 0.397805 -1.341951 0.77937 -1.06066 1.06066 \nC -0.77937 1.341951 -0.397805 1.5 0 1.5 \nz\n\" style=\"stroke: #4daf4a; stroke-opacity: 0.353535\"/>\n    </defs>\n    <g clip-path=\"url(#pd4cd23df7d)\">\n     <use xlink:href=\"#mfca203ec43\" x=\"220.27284\" y=\"66.291212\" style=\"fill: #4daf4a; fill-opacity: 0.353535; stroke: #4daf4a; stroke-opacity: 0.353535\"/>\n    </g>\n   </g>\n   <g id=\"line2d_278\">\n    <defs>\n     <path id=\"mc0c6219a53\" d=\"M 0 1.5 \nC 0.397805 1.5 0.77937 1.341951 1.06066 1.06066 \nC 1.341951 0.77937 1.5 0.397805 1.5 0 \nC 1.5 -0.397805 1.341951 -0.77937 1.06066 -1.06066 \nC 0.77937 -1.341951 0.397805 -1.5 0 -1.5 \nC -0.397805 -1.5 -0.77937 -1.341951 -1.06066 -1.06066 \nC -1.341951 -0.77937 -1.5 -0.397805 -1.5 0 \nC -1.5 0.397805 -1.341951 0.77937 -1.06066 1.06066 \nC -0.77937 1.341951 -0.397805 1.5 0 1.5 \nz\n\" style=\"stroke: #4daf4a; stroke-opacity: 0.343434\"/>\n    </defs>\n    <g clip-path=\"url(#pd4cd23df7d)\">\n     <use xlink:href=\"#mc0c6219a53\" x=\"219.311653\" y=\"64.828302\" style=\"fill: #4daf4a; fill-opacity: 0.343434; stroke: #4daf4a; stroke-opacity: 0.343434\"/>\n    </g>\n   </g>\n   <g id=\"line2d_279\">\n    <defs>\n     <path id=\"m9cd1f3ece0\" d=\"M 0 1.5 \nC 0.397805 1.5 0.77937 1.341951 1.06066 1.06066 \nC 1.341951 0.77937 1.5 0.397805 1.5 0 \nC 1.5 -0.397805 1.341951 -0.77937 1.06066 -1.06066 \nC 0.77937 -1.341951 0.397805 -1.5 0 -1.5 \nC -0.397805 -1.5 -0.77937 -1.341951 -1.06066 -1.06066 \nC -1.341951 -0.77937 -1.5 -0.397805 -1.5 0 \nC -1.5 0.397805 -1.341951 0.77937 -1.06066 1.06066 \nC -0.77937 1.341951 -0.397805 1.5 0 1.5 \nz\n\" style=\"stroke: #4daf4a; stroke-opacity: 0.333333\"/>\n    </defs>\n    <g clip-path=\"url(#pd4cd23df7d)\">\n     <use xlink:href=\"#m9cd1f3ece0\" x=\"218.31326\" y=\"63.517586\" style=\"fill: #4daf4a; fill-opacity: 0.333333; stroke: #4daf4a; stroke-opacity: 0.333333\"/>\n    </g>\n   </g>\n   <g id=\"line2d_280\">\n    <defs>\n     <path id=\"m0c07fb6773\" d=\"M 0 1.5 \nC 0.397805 1.5 0.77937 1.341951 1.06066 1.06066 \nC 1.341951 0.77937 1.5 0.397805 1.5 0 \nC 1.5 -0.397805 1.341951 -0.77937 1.06066 -1.06066 \nC 0.77937 -1.341951 0.397805 -1.5 0 -1.5 \nC -0.397805 -1.5 -0.77937 -1.341951 -1.06066 -1.06066 \nC -1.341951 -0.77937 -1.5 -0.397805 -1.5 0 \nC -1.5 0.397805 -1.341951 0.77937 -1.06066 1.06066 \nC -0.77937 1.341951 -0.397805 1.5 0 1.5 \nz\n\" style=\"stroke: #4daf4a; stroke-opacity: 0.323232\"/>\n    </defs>\n    <g clip-path=\"url(#pd4cd23df7d)\">\n     <use xlink:href=\"#m0c07fb6773\" x=\"217.285187\" y=\"62.362484\" style=\"fill: #4daf4a; fill-opacity: 0.323232; stroke: #4daf4a; stroke-opacity: 0.323232\"/>\n    </g>\n   </g>\n   <g id=\"line2d_281\">\n    <defs>\n     <path id=\"m498a9ccb07\" d=\"M 0 1.5 \nC 0.397805 1.5 0.77937 1.341951 1.06066 1.06066 \nC 1.341951 0.77937 1.5 0.397805 1.5 0 \nC 1.5 -0.397805 1.341951 -0.77937 1.06066 -1.06066 \nC 0.77937 -1.341951 0.397805 -1.5 0 -1.5 \nC -0.397805 -1.5 -0.77937 -1.341951 -1.06066 -1.06066 \nC -1.341951 -0.77937 -1.5 -0.397805 -1.5 0 \nC -1.5 0.397805 -1.341951 0.77937 -1.06066 1.06066 \nC -0.77937 1.341951 -0.397805 1.5 0 1.5 \nz\n\" style=\"stroke: #4daf4a; stroke-opacity: 0.313131\"/>\n    </defs>\n    <g clip-path=\"url(#pd4cd23df7d)\">\n     <use xlink:href=\"#m498a9ccb07\" x=\"216.235091\" y=\"61.365961\" style=\"fill: #4daf4a; fill-opacity: 0.313131; stroke: #4daf4a; stroke-opacity: 0.313131\"/>\n    </g>\n   </g>\n   <g id=\"line2d_282\">\n    <defs>\n     <path id=\"m058114fd13\" d=\"M 0 1.5 \nC 0.397805 1.5 0.77937 1.341951 1.06066 1.06066 \nC 1.341951 0.77937 1.5 0.397805 1.5 0 \nC 1.5 -0.397805 1.341951 -0.77937 1.06066 -1.06066 \nC 0.77937 -1.341951 0.397805 -1.5 0 -1.5 \nC -0.397805 -1.5 -0.77937 -1.341951 -1.06066 -1.06066 \nC -1.341951 -0.77937 -1.5 -0.397805 -1.5 0 \nC -1.5 0.397805 -1.341951 0.77937 -1.06066 1.06066 \nC -0.77937 1.341951 -0.397805 1.5 0 1.5 \nz\n\" style=\"stroke: #4daf4a; stroke-opacity: 0.30303\"/>\n    </defs>\n    <g clip-path=\"url(#pd4cd23df7d)\">\n     <use xlink:href=\"#m058114fd13\" x=\"215.170741\" y=\"60.530515\" style=\"fill: #4daf4a; fill-opacity: 0.30303; stroke: #4daf4a; stroke-opacity: 0.30303\"/>\n    </g>\n   </g>\n   <g id=\"line2d_283\">\n    <defs>\n     <path id=\"m9d6689dc83\" d=\"M 0 1.5 \nC 0.397805 1.5 0.77937 1.341951 1.06066 1.06066 \nC 1.341951 0.77937 1.5 0.397805 1.5 0 \nC 1.5 -0.397805 1.341951 -0.77937 1.06066 -1.06066 \nC 0.77937 -1.341951 0.397805 -1.5 0 -1.5 \nC -0.397805 -1.5 -0.77937 -1.341951 -1.06066 -1.06066 \nC -1.341951 -0.77937 -1.5 -0.397805 -1.5 0 \nC -1.5 0.397805 -1.341951 0.77937 -1.06066 1.06066 \nC -0.77937 1.341951 -0.397805 1.5 0 1.5 \nz\n\" style=\"stroke: #4daf4a; stroke-opacity: 0.292929\"/>\n    </defs>\n    <g clip-path=\"url(#pd4cd23df7d)\">\n     <use xlink:href=\"#m9d6689dc83\" x=\"214.099992\" y=\"59.858167\" style=\"fill: #4daf4a; fill-opacity: 0.292929; stroke: #4daf4a; stroke-opacity: 0.292929\"/>\n    </g>\n   </g>\n   <g id=\"line2d_284\">\n    <defs>\n     <path id=\"mb620ae85fa\" d=\"M 0 1.5 \nC 0.397805 1.5 0.77937 1.341951 1.06066 1.06066 \nC 1.341951 0.77937 1.5 0.397805 1.5 0 \nC 1.5 -0.397805 1.341951 -0.77937 1.06066 -1.06066 \nC 0.77937 -1.341951 0.397805 -1.5 0 -1.5 \nC -0.397805 -1.5 -0.77937 -1.341951 -1.06066 -1.06066 \nC -1.341951 -0.77937 -1.5 -0.397805 -1.5 0 \nC -1.5 0.397805 -1.341951 0.77937 -1.06066 1.06066 \nC -0.77937 1.341951 -0.397805 1.5 0 1.5 \nz\n\" style=\"stroke: #4daf4a; stroke-opacity: 0.282828\"/>\n    </defs>\n    <g clip-path=\"url(#pd4cd23df7d)\">\n     <use xlink:href=\"#mb620ae85fa\" x=\"213.030758\" y=\"59.350462\" style=\"fill: #4daf4a; fill-opacity: 0.282828; stroke: #4daf4a; stroke-opacity: 0.282828\"/>\n    </g>\n   </g>\n   <g id=\"line2d_285\">\n    <defs>\n     <path id=\"me729a46ef6\" d=\"M 0 1.5 \nC 0.397805 1.5 0.77937 1.341951 1.06066 1.06066 \nC 1.341951 0.77937 1.5 0.397805 1.5 0 \nC 1.5 -0.397805 1.341951 -0.77937 1.06066 -1.06066 \nC 0.77937 -1.341951 0.397805 -1.5 0 -1.5 \nC -0.397805 -1.5 -0.77937 -1.341951 -1.06066 -1.06066 \nC -1.341951 -0.77937 -1.5 -0.397805 -1.5 0 \nC -1.5 0.397805 -1.341951 0.77937 -1.06066 1.06066 \nC -0.77937 1.341951 -0.397805 1.5 0 1.5 \nz\n\" style=\"stroke: #4daf4a; stroke-opacity: 0.272727\"/>\n    </defs>\n    <g clip-path=\"url(#pd4cd23df7d)\">\n     <use xlink:href=\"#me729a46ef6\" x=\"211.97099\" y=\"59.008459\" style=\"fill: #4daf4a; fill-opacity: 0.272727; stroke: #4daf4a; stroke-opacity: 0.272727\"/>\n    </g>\n   </g>\n   <g id=\"line2d_286\">\n    <defs>\n     <path id=\"m71bf99a33f\" d=\"M 0 1.5 \nC 0.397805 1.5 0.77937 1.341951 1.06066 1.06066 \nC 1.341951 0.77937 1.5 0.397805 1.5 0 \nC 1.5 -0.397805 1.341951 -0.77937 1.06066 -1.06066 \nC 0.77937 -1.341951 0.397805 -1.5 0 -1.5 \nC -0.397805 -1.5 -0.77937 -1.341951 -1.06066 -1.06066 \nC -1.341951 -0.77937 -1.5 -0.397805 -1.5 0 \nC -1.5 0.397805 -1.341951 0.77937 -1.06066 1.06066 \nC -0.77937 1.341951 -0.397805 1.5 0 1.5 \nz\n\" style=\"stroke: #4daf4a; stroke-opacity: 0.262626\"/>\n    </defs>\n    <g clip-path=\"url(#pd4cd23df7d)\">\n     <use xlink:href=\"#m71bf99a33f\" x=\"210.928652\" y=\"58.832732\" style=\"fill: #4daf4a; fill-opacity: 0.262626; stroke: #4daf4a; stroke-opacity: 0.262626\"/>\n    </g>\n   </g>\n   <g id=\"line2d_287\">\n    <defs>\n     <path id=\"ma9aae3358a\" d=\"M 0 1.5 \nC 0.397805 1.5 0.77937 1.341951 1.06066 1.06066 \nC 1.341951 0.77937 1.5 0.397805 1.5 0 \nC 1.5 -0.397805 1.341951 -0.77937 1.06066 -1.06066 \nC 0.77937 -1.341951 0.397805 -1.5 0 -1.5 \nC -0.397805 -1.5 -0.77937 -1.341951 -1.06066 -1.06066 \nC -1.341951 -0.77937 -1.5 -0.397805 -1.5 0 \nC -1.5 0.397805 -1.341951 0.77937 -1.06066 1.06066 \nC -0.77937 1.341951 -0.397805 1.5 0 1.5 \nz\n\" style=\"stroke: #4daf4a; stroke-opacity: 0.252525\"/>\n    </defs>\n    <g clip-path=\"url(#pd4cd23df7d)\">\n     <use xlink:href=\"#ma9aae3358a\" x=\"209.911695\" y=\"58.823368\" style=\"fill: #4daf4a; fill-opacity: 0.252525; stroke: #4daf4a; stroke-opacity: 0.252525\"/>\n    </g>\n   </g>\n   <g id=\"line2d_288\">\n    <defs>\n     <path id=\"m251fc6a593\" d=\"M 0 1.5 \nC 0.397805 1.5 0.77937 1.341951 1.06066 1.06066 \nC 1.341951 0.77937 1.5 0.397805 1.5 0 \nC 1.5 -0.397805 1.341951 -0.77937 1.06066 -1.06066 \nC 0.77937 -1.341951 0.397805 -1.5 0 -1.5 \nC -0.397805 -1.5 -0.77937 -1.341951 -1.06066 -1.06066 \nC -1.341951 -0.77937 -1.5 -0.397805 -1.5 0 \nC -1.5 0.397805 -1.341951 0.77937 -1.06066 1.06066 \nC -0.77937 1.341951 -0.397805 1.5 0 1.5 \nz\n\" style=\"stroke: #4daf4a; stroke-opacity: 0.242424\"/>\n    </defs>\n    <g clip-path=\"url(#pd4cd23df7d)\">\n     <use xlink:href=\"#m251fc6a593\" x=\"208.92803\" y=\"58.979965\" style=\"fill: #4daf4a; fill-opacity: 0.242424; stroke: #4daf4a; stroke-opacity: 0.242424\"/>\n    </g>\n   </g>\n   <g id=\"line2d_289\">\n    <defs>\n     <path id=\"m9769b8772b\" d=\"M 0 1.5 \nC 0.397805 1.5 0.77937 1.341951 1.06066 1.06066 \nC 1.341951 0.77937 1.5 0.397805 1.5 0 \nC 1.5 -0.397805 1.341951 -0.77937 1.06066 -1.06066 \nC 0.77937 -1.341951 0.397805 -1.5 0 -1.5 \nC -0.397805 -1.5 -0.77937 -1.341951 -1.06066 -1.06066 \nC -1.341951 -0.77937 -1.5 -0.397805 -1.5 0 \nC -1.5 0.397805 -1.341951 0.77937 -1.06066 1.06066 \nC -0.77937 1.341951 -0.397805 1.5 0 1.5 \nz\n\" style=\"stroke: #4daf4a; stroke-opacity: 0.232323\"/>\n    </defs>\n    <g clip-path=\"url(#pd4cd23df7d)\">\n     <use xlink:href=\"#m9769b8772b\" x=\"207.985509\" y=\"59.301639\" style=\"fill: #4daf4a; fill-opacity: 0.232323; stroke: #4daf4a; stroke-opacity: 0.232323\"/>\n    </g>\n   </g>\n   <g id=\"line2d_290\">\n    <defs>\n     <path id=\"mafb42b9527\" d=\"M 0 1.5 \nC 0.397805 1.5 0.77937 1.341951 1.06066 1.06066 \nC 1.341951 0.77937 1.5 0.397805 1.5 0 \nC 1.5 -0.397805 1.341951 -0.77937 1.06066 -1.06066 \nC 0.77937 -1.341951 0.397805 -1.5 0 -1.5 \nC -0.397805 -1.5 -0.77937 -1.341951 -1.06066 -1.06066 \nC -1.341951 -0.77937 -1.5 -0.397805 -1.5 0 \nC -1.5 0.397805 -1.341951 0.77937 -1.06066 1.06066 \nC -0.77937 1.341951 -0.397805 1.5 0 1.5 \nz\n\" style=\"stroke: #4daf4a; stroke-opacity: 0.222222\"/>\n    </defs>\n    <g clip-path=\"url(#pd4cd23df7d)\">\n     <use xlink:href=\"#mafb42b9527\" x=\"207.091895\" y=\"59.787021\" style=\"fill: #4daf4a; fill-opacity: 0.222222; stroke: #4daf4a; stroke-opacity: 0.222222\"/>\n    </g>\n   </g>\n   <g id=\"line2d_291\">\n    <defs>\n     <path id=\"m7b653e433a\" d=\"M 0 1.5 \nC 0.397805 1.5 0.77937 1.341951 1.06066 1.06066 \nC 1.341951 0.77937 1.5 0.397805 1.5 0 \nC 1.5 -0.397805 1.341951 -0.77937 1.06066 -1.06066 \nC 0.77937 -1.341951 0.397805 -1.5 0 -1.5 \nC -0.397805 -1.5 -0.77937 -1.341951 -1.06066 -1.06066 \nC -1.341951 -0.77937 -1.5 -0.397805 -1.5 0 \nC -1.5 0.397805 -1.341951 0.77937 -1.06066 1.06066 \nC -0.77937 1.341951 -0.397805 1.5 0 1.5 \nz\n\" style=\"stroke: #4daf4a; stroke-opacity: 0.212121\"/>\n    </defs>\n    <g clip-path=\"url(#pd4cd23df7d)\">\n     <use xlink:href=\"#m7b653e433a\" x=\"206.254843\" y=\"60.434266\" style=\"fill: #4daf4a; fill-opacity: 0.212121; stroke: #4daf4a; stroke-opacity: 0.212121\"/>\n    </g>\n   </g>\n   <g id=\"line2d_292\">\n    <defs>\n     <path id=\"m6fdb745f8f\" d=\"M 0 1.5 \nC 0.397805 1.5 0.77937 1.341951 1.06066 1.06066 \nC 1.341951 0.77937 1.5 0.397805 1.5 0 \nC 1.5 -0.397805 1.341951 -0.77937 1.06066 -1.06066 \nC 0.77937 -1.341951 0.397805 -1.5 0 -1.5 \nC -0.397805 -1.5 -0.77937 -1.341951 -1.06066 -1.06066 \nC -1.341951 -0.77937 -1.5 -0.397805 -1.5 0 \nC -1.5 0.397805 -1.341951 0.77937 -1.06066 1.06066 \nC -0.77937 1.341951 -0.397805 1.5 0 1.5 \nz\n\" style=\"stroke: #4daf4a; stroke-opacity: 0.20202\"/>\n    </defs>\n    <g clip-path=\"url(#pd4cd23df7d)\">\n     <use xlink:href=\"#m6fdb745f8f\" x=\"205.48187\" y=\"61.241061\" style=\"fill: #4daf4a; fill-opacity: 0.20202; stroke: #4daf4a; stroke-opacity: 0.20202\"/>\n    </g>\n   </g>\n   <g id=\"line2d_293\">\n    <defs>\n     <path id=\"m0efaa61e2f\" d=\"M 0 1.5 \nC 0.397805 1.5 0.77937 1.341951 1.06066 1.06066 \nC 1.341951 0.77937 1.5 0.397805 1.5 0 \nC 1.5 -0.397805 1.341951 -0.77937 1.06066 -1.06066 \nC 0.77937 -1.341951 0.397805 -1.5 0 -1.5 \nC -0.397805 -1.5 -0.77937 -1.341951 -1.06066 -1.06066 \nC -1.341951 -0.77937 -1.5 -0.397805 -1.5 0 \nC -1.5 0.397805 -1.341951 0.77937 -1.06066 1.06066 \nC -0.77937 1.341951 -0.397805 1.5 0 1.5 \nz\n\" style=\"stroke: #4daf4a; stroke-opacity: 0.191919\"/>\n    </defs>\n    <g clip-path=\"url(#pd4cd23df7d)\">\n     <use xlink:href=\"#m0efaa61e2f\" x=\"204.780339\" y=\"62.204627\" style=\"fill: #4daf4a; fill-opacity: 0.191919; stroke: #4daf4a; stroke-opacity: 0.191919\"/>\n    </g>\n   </g>\n   <g id=\"line2d_294\">\n    <defs>\n     <path id=\"m1c16110c2f\" d=\"M 0 1.5 \nC 0.397805 1.5 0.77937 1.341951 1.06066 1.06066 \nC 1.341951 0.77937 1.5 0.397805 1.5 0 \nC 1.5 -0.397805 1.341951 -0.77937 1.06066 -1.06066 \nC 0.77937 -1.341951 0.397805 -1.5 0 -1.5 \nC -0.397805 -1.5 -0.77937 -1.341951 -1.06066 -1.06066 \nC -1.341951 -0.77937 -1.5 -0.397805 -1.5 0 \nC -1.5 0.397805 -1.341951 0.77937 -1.06066 1.06066 \nC -0.77937 1.341951 -0.397805 1.5 0 1.5 \nz\n\" style=\"stroke: #4daf4a; stroke-opacity: 0.181818\"/>\n    </defs>\n    <g clip-path=\"url(#pd4cd23df7d)\">\n     <use xlink:href=\"#m1c16110c2f\" x=\"204.157429\" y=\"63.321733\" style=\"fill: #4daf4a; fill-opacity: 0.181818; stroke: #4daf4a; stroke-opacity: 0.181818\"/>\n    </g>\n   </g>\n   <g id=\"line2d_295\">\n    <defs>\n     <path id=\"mb12db1b61c\" d=\"M 0 1.5 \nC 0.397805 1.5 0.77937 1.341951 1.06066 1.06066 \nC 1.341951 0.77937 1.5 0.397805 1.5 0 \nC 1.5 -0.397805 1.341951 -0.77937 1.06066 -1.06066 \nC 0.77937 -1.341951 0.397805 -1.5 0 -1.5 \nC -0.397805 -1.5 -0.77937 -1.341951 -1.06066 -1.06066 \nC -1.341951 -0.77937 -1.5 -0.397805 -1.5 0 \nC -1.5 0.397805 -1.341951 0.77937 -1.06066 1.06066 \nC -0.77937 1.341951 -0.397805 1.5 0 1.5 \nz\n\" style=\"stroke: #4daf4a; stroke-opacity: 0.171717\"/>\n    </defs>\n    <g clip-path=\"url(#pd4cd23df7d)\">\n     <use xlink:href=\"#mb12db1b61c\" x=\"203.620119\" y=\"64.588705\" style=\"fill: #4daf4a; fill-opacity: 0.171717; stroke: #4daf4a; stroke-opacity: 0.171717\"/>\n    </g>\n   </g>\n   <g id=\"line2d_296\">\n    <defs>\n     <path id=\"m6c6e042e19\" d=\"M 0 1.5 \nC 0.397805 1.5 0.77937 1.341951 1.06066 1.06066 \nC 1.341951 0.77937 1.5 0.397805 1.5 0 \nC 1.5 -0.397805 1.341951 -0.77937 1.06066 -1.06066 \nC 0.77937 -1.341951 0.397805 -1.5 0 -1.5 \nC -0.397805 -1.5 -0.77937 -1.341951 -1.06066 -1.06066 \nC -1.341951 -0.77937 -1.5 -0.397805 -1.5 0 \nC -1.5 0.397805 -1.341951 0.77937 -1.06066 1.06066 \nC -0.77937 1.341951 -0.397805 1.5 0 1.5 \nz\n\" style=\"stroke: #4daf4a; stroke-opacity: 0.161616\"/>\n    </defs>\n    <g clip-path=\"url(#pd4cd23df7d)\">\n     <use xlink:href=\"#m6c6e042e19\" x=\"203.17516\" y=\"66.001438\" style=\"fill: #4daf4a; fill-opacity: 0.161616; stroke: #4daf4a; stroke-opacity: 0.161616\"/>\n    </g>\n   </g>\n   <g id=\"line2d_297\">\n    <defs>\n     <path id=\"me7559745d8\" d=\"M 0 1.5 \nC 0.397805 1.5 0.77937 1.341951 1.06066 1.06066 \nC 1.341951 0.77937 1.5 0.397805 1.5 0 \nC 1.5 -0.397805 1.341951 -0.77937 1.06066 -1.06066 \nC 0.77937 -1.341951 0.397805 -1.5 0 -1.5 \nC -0.397805 -1.5 -0.77937 -1.341951 -1.06066 -1.06066 \nC -1.341951 -0.77937 -1.5 -0.397805 -1.5 0 \nC -1.5 0.397805 -1.341951 0.77937 -1.06066 1.06066 \nC -0.77937 1.341951 -0.397805 1.5 0 1.5 \nz\n\" style=\"stroke: #4daf4a; stroke-opacity: 0.151515\"/>\n    </defs>\n    <g clip-path=\"url(#pd4cd23df7d)\">\n     <use xlink:href=\"#me7559745d8\" x=\"202.829061\" y=\"67.555409\" style=\"fill: #4daf4a; fill-opacity: 0.151515; stroke: #4daf4a; stroke-opacity: 0.151515\"/>\n    </g>\n   </g>\n   <g id=\"line2d_298\">\n    <defs>\n     <path id=\"m7927c9f4af\" d=\"M 0 1.5 \nC 0.397805 1.5 0.77937 1.341951 1.06066 1.06066 \nC 1.341951 0.77937 1.5 0.397805 1.5 0 \nC 1.5 -0.397805 1.341951 -0.77937 1.06066 -1.06066 \nC 0.77937 -1.341951 0.397805 -1.5 0 -1.5 \nC -0.397805 -1.5 -0.77937 -1.341951 -1.06066 -1.06066 \nC -1.341951 -0.77937 -1.5 -0.397805 -1.5 0 \nC -1.5 0.397805 -1.341951 0.77937 -1.06066 1.06066 \nC -0.77937 1.341951 -0.397805 1.5 0 1.5 \nz\n\" style=\"stroke: #4daf4a; stroke-opacity: 0.141414\"/>\n    </defs>\n    <g clip-path=\"url(#pd4cd23df7d)\">\n     <use xlink:href=\"#m7927c9f4af\" x=\"202.588062\" y=\"69.245691\" style=\"fill: #4daf4a; fill-opacity: 0.141414; stroke: #4daf4a; stroke-opacity: 0.141414\"/>\n    </g>\n   </g>\n   <g id=\"line2d_299\">\n    <defs>\n     <path id=\"m3e1afa065a\" d=\"M 0 1.5 \nC 0.397805 1.5 0.77937 1.341951 1.06066 1.06066 \nC 1.341951 0.77937 1.5 0.397805 1.5 0 \nC 1.5 -0.397805 1.341951 -0.77937 1.06066 -1.06066 \nC 0.77937 -1.341951 0.397805 -1.5 0 -1.5 \nC -0.397805 -1.5 -0.77937 -1.341951 -1.06066 -1.06066 \nC -1.341951 -0.77937 -1.5 -0.397805 -1.5 0 \nC -1.5 0.397805 -1.341951 0.77937 -1.06066 1.06066 \nC -0.77937 1.341951 -0.397805 1.5 0 1.5 \nz\n\" style=\"stroke: #4daf4a; stroke-opacity: 0.131313\"/>\n    </defs>\n    <g clip-path=\"url(#pd4cd23df7d)\">\n     <use xlink:href=\"#m3e1afa065a\" x=\"202.45812\" y=\"71.066972\" style=\"fill: #4daf4a; fill-opacity: 0.131313; stroke: #4daf4a; stroke-opacity: 0.131313\"/>\n    </g>\n   </g>\n   <g id=\"line2d_300\">\n    <defs>\n     <path id=\"m187b009329\" d=\"M 0 1.5 \nC 0.397805 1.5 0.77937 1.341951 1.06066 1.06066 \nC 1.341951 0.77937 1.5 0.397805 1.5 0 \nC 1.5 -0.397805 1.341951 -0.77937 1.06066 -1.06066 \nC 0.77937 -1.341951 0.397805 -1.5 0 -1.5 \nC -0.397805 -1.5 -0.77937 -1.341951 -1.06066 -1.06066 \nC -1.341951 -0.77937 -1.5 -0.397805 -1.5 0 \nC -1.5 0.397805 -1.341951 0.77937 -1.06066 1.06066 \nC -0.77937 1.341951 -0.397805 1.5 0 1.5 \nz\n\" style=\"stroke: #4daf4a; stroke-opacity: 0.121212\"/>\n    </defs>\n    <g clip-path=\"url(#pd4cd23df7d)\">\n     <use xlink:href=\"#m187b009329\" x=\"202.444888\" y=\"73.013567\" style=\"fill: #4daf4a; fill-opacity: 0.121212; stroke: #4daf4a; stroke-opacity: 0.121212\"/>\n    </g>\n   </g>\n   <g id=\"line2d_301\">\n    <defs>\n     <path id=\"m2854a22abb\" d=\"M 0 1.5 \nC 0.397805 1.5 0.77937 1.341951 1.06066 1.06066 \nC 1.341951 0.77937 1.5 0.397805 1.5 0 \nC 1.5 -0.397805 1.341951 -0.77937 1.06066 -1.06066 \nC 0.77937 -1.341951 0.397805 -1.5 0 -1.5 \nC -0.397805 -1.5 -0.77937 -1.341951 -1.06066 -1.06066 \nC -1.341951 -0.77937 -1.5 -0.397805 -1.5 0 \nC -1.5 0.397805 -1.341951 0.77937 -1.06066 1.06066 \nC -0.77937 1.341951 -0.397805 1.5 0 1.5 \nz\n\" style=\"stroke: #4daf4a; stroke-opacity: 0.111111\"/>\n    </defs>\n    <g clip-path=\"url(#pd4cd23df7d)\">\n     <use xlink:href=\"#m2854a22abb\" x=\"202.553697\" y=\"75.079438\" style=\"fill: #4daf4a; fill-opacity: 0.111111; stroke: #4daf4a; stroke-opacity: 0.111111\"/>\n    </g>\n   </g>\n   <g id=\"line2d_302\">\n    <defs>\n     <path id=\"m35e1731641\" d=\"M 0 1.5 \nC 0.397805 1.5 0.77937 1.341951 1.06066 1.06066 \nC 1.341951 0.77937 1.5 0.397805 1.5 0 \nC 1.5 -0.397805 1.341951 -0.77937 1.06066 -1.06066 \nC 0.77937 -1.341951 0.397805 -1.5 0 -1.5 \nC -0.397805 -1.5 -0.77937 -1.341951 -1.06066 -1.06066 \nC -1.341951 -0.77937 -1.5 -0.397805 -1.5 0 \nC -1.5 0.397805 -1.341951 0.77937 -1.06066 1.06066 \nC -0.77937 1.341951 -0.397805 1.5 0 1.5 \nz\n\" style=\"stroke: #4daf4a; stroke-opacity: 0.10101\"/>\n    </defs>\n    <g clip-path=\"url(#pd4cd23df7d)\">\n     <use xlink:href=\"#m35e1731641\" x=\"202.789539\" y=\"77.258216\" style=\"fill: #4daf4a; fill-opacity: 0.10101; stroke: #4daf4a; stroke-opacity: 0.10101\"/>\n    </g>\n   </g>\n   <g id=\"line2d_303\">\n    <defs>\n     <path id=\"m35bda70377\" d=\"M 0 1.5 \nC 0.397805 1.5 0.77937 1.341951 1.06066 1.06066 \nC 1.341951 0.77937 1.5 0.397805 1.5 0 \nC 1.5 -0.397805 1.341951 -0.77937 1.06066 -1.06066 \nC 0.77937 -1.341951 0.397805 -1.5 0 -1.5 \nC -0.397805 -1.5 -0.77937 -1.341951 -1.06066 -1.06066 \nC -1.341951 -0.77937 -1.5 -0.397805 -1.5 0 \nC -1.5 0.397805 -1.341951 0.77937 -1.06066 1.06066 \nC -0.77937 1.341951 -0.397805 1.5 0 1.5 \nz\n\" style=\"stroke: #4daf4a; stroke-opacity: 0.090909\"/>\n    </defs>\n    <g clip-path=\"url(#pd4cd23df7d)\">\n     <use xlink:href=\"#m35bda70377\" x=\"203.157057\" y=\"79.543216\" style=\"fill: #4daf4a; fill-opacity: 0.090909; stroke: #4daf4a; stroke-opacity: 0.090909\"/>\n    </g>\n   </g>\n   <g id=\"line2d_304\">\n    <defs>\n     <path id=\"m81a54223de\" d=\"M 0 1.5 \nC 0.397805 1.5 0.77937 1.341951 1.06066 1.06066 \nC 1.341951 0.77937 1.5 0.397805 1.5 0 \nC 1.5 -0.397805 1.341951 -0.77937 1.06066 -1.06066 \nC 0.77937 -1.341951 0.397805 -1.5 0 -1.5 \nC -0.397805 -1.5 -0.77937 -1.341951 -1.06066 -1.06066 \nC -1.341951 -0.77937 -1.5 -0.397805 -1.5 0 \nC -1.5 0.397805 -1.341951 0.77937 -1.06066 1.06066 \nC -0.77937 1.341951 -0.397805 1.5 0 1.5 \nz\n\" style=\"stroke: #4daf4a; stroke-opacity: 0.080808\"/>\n    </defs>\n    <g clip-path=\"url(#pd4cd23df7d)\">\n     <use xlink:href=\"#m81a54223de\" x=\"203.660521\" y=\"81.927464\" style=\"fill: #4daf4a; fill-opacity: 0.080808; stroke: #4daf4a; stroke-opacity: 0.080808\"/>\n    </g>\n   </g>\n   <g id=\"line2d_305\">\n    <defs>\n     <path id=\"m38b3fcab5b\" d=\"M 0 1.5 \nC 0.397805 1.5 0.77937 1.341951 1.06066 1.06066 \nC 1.341951 0.77937 1.5 0.397805 1.5 0 \nC 1.5 -0.397805 1.341951 -0.77937 1.06066 -1.06066 \nC 0.77937 -1.341951 0.397805 -1.5 0 -1.5 \nC -0.397805 -1.5 -0.77937 -1.341951 -1.06066 -1.06066 \nC -1.341951 -0.77937 -1.5 -0.397805 -1.5 0 \nC -1.5 0.397805 -1.341951 0.77937 -1.06066 1.06066 \nC -0.77937 1.341951 -0.397805 1.5 0 1.5 \nz\n\" style=\"stroke: #4daf4a; stroke-opacity: 0.070707\"/>\n    </defs>\n    <g clip-path=\"url(#pd4cd23df7d)\">\n     <use xlink:href=\"#m38b3fcab5b\" x=\"204.303825\" y=\"84.403711\" style=\"fill: #4daf4a; fill-opacity: 0.070707; stroke: #4daf4a; stroke-opacity: 0.070707\"/>\n    </g>\n   </g>\n   <g id=\"line2d_306\">\n    <defs>\n     <path id=\"me2ec1106e9\" d=\"M 0 1.5 \nC 0.397805 1.5 0.77937 1.341951 1.06066 1.06066 \nC 1.341951 0.77937 1.5 0.397805 1.5 0 \nC 1.5 -0.397805 1.341951 -0.77937 1.06066 -1.06066 \nC 0.77937 -1.341951 0.397805 -1.5 0 -1.5 \nC -0.397805 -1.5 -0.77937 -1.341951 -1.06066 -1.06066 \nC -1.341951 -0.77937 -1.5 -0.397805 -1.5 0 \nC -1.5 0.397805 -1.341951 0.77937 -1.06066 1.06066 \nC -0.77937 1.341951 -0.397805 1.5 0 1.5 \nz\n\" style=\"stroke: #4daf4a; stroke-opacity: 0.060606\"/>\n    </defs>\n    <g clip-path=\"url(#pd4cd23df7d)\">\n     <use xlink:href=\"#me2ec1106e9\" x=\"205.090468\" y=\"86.964463\" style=\"fill: #4daf4a; fill-opacity: 0.060606; stroke: #4daf4a; stroke-opacity: 0.060606\"/>\n    </g>\n   </g>\n   <g id=\"line2d_307\">\n    <defs>\n     <path id=\"m6cde6fbed6\" d=\"M 0 1.5 \nC 0.397805 1.5 0.77937 1.341951 1.06066 1.06066 \nC 1.341951 0.77937 1.5 0.397805 1.5 0 \nC 1.5 -0.397805 1.341951 -0.77937 1.06066 -1.06066 \nC 0.77937 -1.341951 0.397805 -1.5 0 -1.5 \nC -0.397805 -1.5 -0.77937 -1.341951 -1.06066 -1.06066 \nC -1.341951 -0.77937 -1.5 -0.397805 -1.5 0 \nC -1.5 0.397805 -1.341951 0.77937 -1.06066 1.06066 \nC -0.77937 1.341951 -0.397805 1.5 0 1.5 \nz\n\" style=\"stroke: #4daf4a; stroke-opacity: 0.050505\"/>\n    </defs>\n    <g clip-path=\"url(#pd4cd23df7d)\">\n     <use xlink:href=\"#m6cde6fbed6\" x=\"206.023544\" y=\"89.602\" style=\"fill: #4daf4a; fill-opacity: 0.050505; stroke: #4daf4a; stroke-opacity: 0.050505\"/>\n    </g>\n   </g>\n   <g id=\"line2d_308\">\n    <defs>\n     <path id=\"m2a3f9afcd8\" d=\"M 0 1.5 \nC 0.397805 1.5 0.77937 1.341951 1.06066 1.06066 \nC 1.341951 0.77937 1.5 0.397805 1.5 0 \nC 1.5 -0.397805 1.341951 -0.77937 1.06066 -1.06066 \nC 0.77937 -1.341951 0.397805 -1.5 0 -1.5 \nC -0.397805 -1.5 -0.77937 -1.341951 -1.06066 -1.06066 \nC -1.341951 -0.77937 -1.5 -0.397805 -1.5 0 \nC -1.5 0.397805 -1.341951 0.77937 -1.06066 1.06066 \nC -0.77937 1.341951 -0.397805 1.5 0 1.5 \nz\n\" style=\"stroke: #4daf4a; stroke-opacity: 0.040404\"/>\n    </defs>\n    <g clip-path=\"url(#pd4cd23df7d)\">\n     <use xlink:href=\"#m2a3f9afcd8\" x=\"207.105735\" y=\"92.308404\" style=\"fill: #4daf4a; fill-opacity: 0.040404; stroke: #4daf4a; stroke-opacity: 0.040404\"/>\n    </g>\n   </g>\n   <g id=\"line2d_309\">\n    <defs>\n     <path id=\"m0304863a17\" d=\"M 0 1.5 \nC 0.397805 1.5 0.77937 1.341951 1.06066 1.06066 \nC 1.341951 0.77937 1.5 0.397805 1.5 0 \nC 1.5 -0.397805 1.341951 -0.77937 1.06066 -1.06066 \nC 0.77937 -1.341951 0.397805 -1.5 0 -1.5 \nC -0.397805 -1.5 -0.77937 -1.341951 -1.06066 -1.06066 \nC -1.341951 -0.77937 -1.5 -0.397805 -1.5 0 \nC -1.5 0.397805 -1.341951 0.77937 -1.06066 1.06066 \nC -0.77937 1.341951 -0.397805 1.5 0 1.5 \nz\n\" style=\"stroke: #4daf4a; stroke-opacity: 0.030303\"/>\n    </defs>\n    <g clip-path=\"url(#pd4cd23df7d)\">\n     <use xlink:href=\"#m0304863a17\" x=\"208.339302\" y=\"95.075577\" style=\"fill: #4daf4a; fill-opacity: 0.030303; stroke: #4daf4a; stroke-opacity: 0.030303\"/>\n    </g>\n   </g>\n   <g id=\"line2d_310\">\n    <defs>\n     <path id=\"m29d0a1765d\" d=\"M 0 1.5 \nC 0.397805 1.5 0.77937 1.341951 1.06066 1.06066 \nC 1.341951 0.77937 1.5 0.397805 1.5 0 \nC 1.5 -0.397805 1.341951 -0.77937 1.06066 -1.06066 \nC 0.77937 -1.341951 0.397805 -1.5 0 -1.5 \nC -0.397805 -1.5 -0.77937 -1.341951 -1.06066 -1.06066 \nC -1.341951 -0.77937 -1.5 -0.397805 -1.5 0 \nC -1.5 0.397805 -1.341951 0.77937 -1.06066 1.06066 \nC -0.77937 1.341951 -0.397805 1.5 0 1.5 \nz\n\" style=\"stroke: #4daf4a; stroke-opacity: 0.020202\"/>\n    </defs>\n    <g clip-path=\"url(#pd4cd23df7d)\">\n     <use xlink:href=\"#m29d0a1765d\" x=\"209.726078\" y=\"97.895273\" style=\"fill: #4daf4a; fill-opacity: 0.020202; stroke: #4daf4a; stroke-opacity: 0.020202\"/>\n    </g>\n   </g>\n   <g id=\"line2d_311\">\n    <defs>\n     <path id=\"m9da2cbcbc1\" d=\"M 0 1.5 \nC 0.397805 1.5 0.77937 1.341951 1.06066 1.06066 \nC 1.341951 0.77937 1.5 0.397805 1.5 0 \nC 1.5 -0.397805 1.341951 -0.77937 1.06066 -1.06066 \nC 0.77937 -1.341951 0.397805 -1.5 0 -1.5 \nC -0.397805 -1.5 -0.77937 -1.341951 -1.06066 -1.06066 \nC -1.341951 -0.77937 -1.5 -0.397805 -1.5 0 \nC -1.5 0.397805 -1.341951 0.77937 -1.06066 1.06066 \nC -0.77937 1.341951 -0.397805 1.5 0 1.5 \nz\n\" style=\"stroke: #4daf4a; stroke-opacity: 0.010101\"/>\n    </defs>\n    <g clip-path=\"url(#pd4cd23df7d)\">\n     <use xlink:href=\"#m9da2cbcbc1\" x=\"211.267458\" y=\"100.75912\" style=\"fill: #4daf4a; fill-opacity: 0.010101; stroke: #4daf4a; stroke-opacity: 0.010101\"/>\n    </g>\n   </g>\n   <g id=\"line2d_312\">\n    <defs>\n     <path id=\"m215779bee4\" d=\"M 0 3 \nC 0.795609 3 1.55874 2.683901 2.12132 2.12132 \nC 2.683901 1.55874 3 0.795609 3 0 \nC 3 -0.795609 2.683901 -1.55874 2.12132 -2.12132 \nC 1.55874 -2.683901 0.795609 -3 0 -3 \nC -0.795609 -3 -1.55874 -2.683901 -2.12132 -2.12132 \nC -2.683901 -1.55874 -3 -0.795609 -3 0 \nC -3 0.795609 -2.683901 1.55874 -2.12132 2.12132 \nC -1.55874 2.683901 -0.795609 3 0 3 \nz\n\" style=\"stroke: #4daf4a\"/>\n    </defs>\n    <g clip-path=\"url(#pd4cd23df7d)\">\n     <use xlink:href=\"#m215779bee4\" x=\"102.302866\" y=\"167.917388\" style=\"fill: #4daf4a; stroke: #4daf4a\"/>\n    </g>\n   </g>\n   <g id=\"line2d_313\">\n    <defs>\n     <path id=\"m2707d45f76\" d=\"M 0 1.5 \nC 0.397805 1.5 0.77937 1.341951 1.06066 1.06066 \nC 1.341951 0.77937 1.5 0.397805 1.5 0 \nC 1.5 -0.397805 1.341951 -0.77937 1.06066 -1.06066 \nC 0.77937 -1.341951 0.397805 -1.5 0 -1.5 \nC -0.397805 -1.5 -0.77937 -1.341951 -1.06066 -1.06066 \nC -1.341951 -0.77937 -1.5 -0.397805 -1.5 0 \nC -1.5 0.397805 -1.341951 0.77937 -1.06066 1.06066 \nC -0.77937 1.341951 -0.397805 1.5 0 1.5 \nz\n\" style=\"stroke: #984ea3\"/>\n    </defs>\n    <g clip-path=\"url(#pd4cd23df7d)\">\n     <use xlink:href=\"#m2707d45f76\" x=\"189.452301\" y=\"138.595537\" style=\"fill: #984ea3; stroke: #984ea3\"/>\n    </g>\n   </g>\n   <g id=\"line2d_314\">\n    <defs>\n     <path id=\"m1f0e2b0148\" d=\"M 0 1.5 \nC 0.397805 1.5 0.77937 1.341951 1.06066 1.06066 \nC 1.341951 0.77937 1.5 0.397805 1.5 0 \nC 1.5 -0.397805 1.341951 -0.77937 1.06066 -1.06066 \nC 0.77937 -1.341951 0.397805 -1.5 0 -1.5 \nC -0.397805 -1.5 -0.77937 -1.341951 -1.06066 -1.06066 \nC -1.341951 -0.77937 -1.5 -0.397805 -1.5 0 \nC -1.5 0.397805 -1.341951 0.77937 -1.06066 1.06066 \nC -0.77937 1.341951 -0.397805 1.5 0 1.5 \nz\n\" style=\"stroke: #984ea3; stroke-opacity: 0.989899\"/>\n    </defs>\n    <g clip-path=\"url(#pd4cd23df7d)\">\n     <use xlink:href=\"#m1f0e2b0148\" x=\"191.942776\" y=\"137.333895\" style=\"fill: #984ea3; fill-opacity: 0.989899; stroke: #984ea3; stroke-opacity: 0.989899\"/>\n    </g>\n   </g>\n   <g id=\"line2d_315\">\n    <defs>\n     <path id=\"m31b76f36ed\" d=\"M 0 1.5 \nC 0.397805 1.5 0.77937 1.341951 1.06066 1.06066 \nC 1.341951 0.77937 1.5 0.397805 1.5 0 \nC 1.5 -0.397805 1.341951 -0.77937 1.06066 -1.06066 \nC 0.77937 -1.341951 0.397805 -1.5 0 -1.5 \nC -0.397805 -1.5 -0.77937 -1.341951 -1.06066 -1.06066 \nC -1.341951 -0.77937 -1.5 -0.397805 -1.5 0 \nC -1.5 0.397805 -1.341951 0.77937 -1.06066 1.06066 \nC -0.77937 1.341951 -0.397805 1.5 0 1.5 \nz\n\" style=\"stroke: #984ea3; stroke-opacity: 0.979798\"/>\n    </defs>\n    <g clip-path=\"url(#pd4cd23df7d)\">\n     <use xlink:href=\"#m31b76f36ed\" x=\"194.350777\" y=\"136.07892\" style=\"fill: #984ea3; fill-opacity: 0.979798; stroke: #984ea3; stroke-opacity: 0.979798\"/>\n    </g>\n   </g>\n   <g id=\"line2d_316\">\n    <defs>\n     <path id=\"m14812e0b7a\" d=\"M 0 1.5 \nC 0.397805 1.5 0.77937 1.341951 1.06066 1.06066 \nC 1.341951 0.77937 1.5 0.397805 1.5 0 \nC 1.5 -0.397805 1.341951 -0.77937 1.06066 -1.06066 \nC 0.77937 -1.341951 0.397805 -1.5 0 -1.5 \nC -0.397805 -1.5 -0.77937 -1.341951 -1.06066 -1.06066 \nC -1.341951 -0.77937 -1.5 -0.397805 -1.5 0 \nC -1.5 0.397805 -1.341951 0.77937 -1.06066 1.06066 \nC -0.77937 1.341951 -0.397805 1.5 0 1.5 \nz\n\" style=\"stroke: #984ea3; stroke-opacity: 0.969697\"/>\n    </defs>\n    <g clip-path=\"url(#pd4cd23df7d)\">\n     <use xlink:href=\"#m14812e0b7a\" x=\"196.676858\" y=\"134.835174\" style=\"fill: #984ea3; fill-opacity: 0.969697; stroke: #984ea3; stroke-opacity: 0.969697\"/>\n    </g>\n   </g>\n   <g id=\"line2d_317\">\n    <defs>\n     <path id=\"m877b0f07f0\" d=\"M 0 1.5 \nC 0.397805 1.5 0.77937 1.341951 1.06066 1.06066 \nC 1.341951 0.77937 1.5 0.397805 1.5 0 \nC 1.5 -0.397805 1.341951 -0.77937 1.06066 -1.06066 \nC 0.77937 -1.341951 0.397805 -1.5 0 -1.5 \nC -0.397805 -1.5 -0.77937 -1.341951 -1.06066 -1.06066 \nC -1.341951 -0.77937 -1.5 -0.397805 -1.5 0 \nC -1.5 0.397805 -1.341951 0.77937 -1.06066 1.06066 \nC -0.77937 1.341951 -0.397805 1.5 0 1.5 \nz\n\" style=\"stroke: #984ea3; stroke-opacity: 0.959596\"/>\n    </defs>\n    <g clip-path=\"url(#pd4cd23df7d)\">\n     <use xlink:href=\"#m877b0f07f0\" x=\"198.921829\" y=\"133.607095\" style=\"fill: #984ea3; fill-opacity: 0.959596; stroke: #984ea3; stroke-opacity: 0.959596\"/>\n    </g>\n   </g>\n   <g id=\"line2d_318\">\n    <defs>\n     <path id=\"m18db2e90b6\" d=\"M 0 1.5 \nC 0.397805 1.5 0.77937 1.341951 1.06066 1.06066 \nC 1.341951 0.77937 1.5 0.397805 1.5 0 \nC 1.5 -0.397805 1.341951 -0.77937 1.06066 -1.06066 \nC 0.77937 -1.341951 0.397805 -1.5 0 -1.5 \nC -0.397805 -1.5 -0.77937 -1.341951 -1.06066 -1.06066 \nC -1.341951 -0.77937 -1.5 -0.397805 -1.5 0 \nC -1.5 0.397805 -1.341951 0.77937 -1.06066 1.06066 \nC -0.77937 1.341951 -0.397805 1.5 0 1.5 \nz\n\" style=\"stroke: #984ea3; stroke-opacity: 0.949495\"/>\n    </defs>\n    <g clip-path=\"url(#pd4cd23df7d)\">\n     <use xlink:href=\"#m18db2e90b6\" x=\"201.086755\" y=\"132.398988\" style=\"fill: #984ea3; fill-opacity: 0.949495; stroke: #984ea3; stroke-opacity: 0.949495\"/>\n    </g>\n   </g>\n   <g id=\"line2d_319\">\n    <defs>\n     <path id=\"m82feb97ba1\" d=\"M 0 1.5 \nC 0.397805 1.5 0.77937 1.341951 1.06066 1.06066 \nC 1.341951 0.77937 1.5 0.397805 1.5 0 \nC 1.5 -0.397805 1.341951 -0.77937 1.06066 -1.06066 \nC 0.77937 -1.341951 0.397805 -1.5 0 -1.5 \nC -0.397805 -1.5 -0.77937 -1.341951 -1.06066 -1.06066 \nC -1.341951 -0.77937 -1.5 -0.397805 -1.5 0 \nC -1.5 0.397805 -1.341951 0.77937 -1.06066 1.06066 \nC -0.77937 1.341951 -0.397805 1.5 0 1.5 \nz\n\" style=\"stroke: #984ea3; stroke-opacity: 0.939394\"/>\n    </defs>\n    <g clip-path=\"url(#pd4cd23df7d)\">\n     <use xlink:href=\"#m82feb97ba1\" x=\"203.172936\" y=\"131.215005\" style=\"fill: #984ea3; fill-opacity: 0.939394; stroke: #984ea3; stroke-opacity: 0.939394\"/>\n    </g>\n   </g>\n   <g id=\"line2d_320\">\n    <defs>\n     <path id=\"ma753980cc3\" d=\"M 0 1.5 \nC 0.397805 1.5 0.77937 1.341951 1.06066 1.06066 \nC 1.341951 0.77937 1.5 0.397805 1.5 0 \nC 1.5 -0.397805 1.341951 -0.77937 1.06066 -1.06066 \nC 0.77937 -1.341951 0.397805 -1.5 0 -1.5 \nC -0.397805 -1.5 -0.77937 -1.341951 -1.06066 -1.06066 \nC -1.341951 -0.77937 -1.5 -0.397805 -1.5 0 \nC -1.5 0.397805 -1.341951 0.77937 -1.06066 1.06066 \nC -0.77937 1.341951 -0.397805 1.5 0 1.5 \nz\n\" style=\"stroke: #984ea3; stroke-opacity: 0.929293\"/>\n    </defs>\n    <g clip-path=\"url(#pd4cd23df7d)\">\n     <use xlink:href=\"#ma753980cc3\" x=\"205.181908\" y=\"130.059134\" style=\"fill: #984ea3; fill-opacity: 0.929293; stroke: #984ea3; stroke-opacity: 0.929293\"/>\n    </g>\n   </g>\n   <g id=\"line2d_321\">\n    <defs>\n     <path id=\"m6ce5eea654\" d=\"M 0 1.5 \nC 0.397805 1.5 0.77937 1.341951 1.06066 1.06066 \nC 1.341951 0.77937 1.5 0.397805 1.5 0 \nC 1.5 -0.397805 1.341951 -0.77937 1.06066 -1.06066 \nC 0.77937 -1.341951 0.397805 -1.5 0 -1.5 \nC -0.397805 -1.5 -0.77937 -1.341951 -1.06066 -1.06066 \nC -1.341951 -0.77937 -1.5 -0.397805 -1.5 0 \nC -1.5 0.397805 -1.341951 0.77937 -1.06066 1.06066 \nC -0.77937 1.341951 -0.397805 1.5 0 1.5 \nz\n\" style=\"stroke: #984ea3; stroke-opacity: 0.919192\"/>\n    </defs>\n    <g clip-path=\"url(#pd4cd23df7d)\">\n     <use xlink:href=\"#m6ce5eea654\" x=\"207.115429\" y=\"128.935181\" style=\"fill: #984ea3; fill-opacity: 0.919192; stroke: #984ea3; stroke-opacity: 0.919192\"/>\n    </g>\n   </g>\n   <g id=\"line2d_322\">\n    <defs>\n     <path id=\"m539d9f6c12\" d=\"M 0 1.5 \nC 0.397805 1.5 0.77937 1.341951 1.06066 1.06066 \nC 1.341951 0.77937 1.5 0.397805 1.5 0 \nC 1.5 -0.397805 1.341951 -0.77937 1.06066 -1.06066 \nC 0.77937 -1.341951 0.397805 -1.5 0 -1.5 \nC -0.397805 -1.5 -0.77937 -1.341951 -1.06066 -1.06066 \nC -1.341951 -0.77937 -1.5 -0.397805 -1.5 0 \nC -1.5 0.397805 -1.341951 0.77937 -1.06066 1.06066 \nC -0.77937 1.341951 -0.397805 1.5 0 1.5 \nz\n\" style=\"stroke: #984ea3; stroke-opacity: 0.909091\"/>\n    </defs>\n    <g clip-path=\"url(#pd4cd23df7d)\">\n     <use xlink:href=\"#m539d9f6c12\" x=\"208.975463\" y=\"127.846761\" style=\"fill: #984ea3; fill-opacity: 0.909091; stroke: #984ea3; stroke-opacity: 0.909091\"/>\n    </g>\n   </g>\n   <g id=\"line2d_323\">\n    <defs>\n     <path id=\"m749026a8b9\" d=\"M 0 1.5 \nC 0.397805 1.5 0.77937 1.341951 1.06066 1.06066 \nC 1.341951 0.77937 1.5 0.397805 1.5 0 \nC 1.5 -0.397805 1.341951 -0.77937 1.06066 -1.06066 \nC 0.77937 -1.341951 0.397805 -1.5 0 -1.5 \nC -0.397805 -1.5 -0.77937 -1.341951 -1.06066 -1.06066 \nC -1.341951 -0.77937 -1.5 -0.397805 -1.5 0 \nC -1.5 0.397805 -1.341951 0.77937 -1.06066 1.06066 \nC -0.77937 1.341951 -0.397805 1.5 0 1.5 \nz\n\" style=\"stroke: #984ea3; stroke-opacity: 0.89899\"/>\n    </defs>\n    <g clip-path=\"url(#pd4cd23df7d)\">\n     <use xlink:href=\"#m749026a8b9\" x=\"210.764179\" y=\"126.797283\" style=\"fill: #984ea3; fill-opacity: 0.89899; stroke: #984ea3; stroke-opacity: 0.89899\"/>\n    </g>\n   </g>\n   <g id=\"line2d_324\">\n    <defs>\n     <path id=\"m7a3709ee4a\" d=\"M 0 1.5 \nC 0.397805 1.5 0.77937 1.341951 1.06066 1.06066 \nC 1.341951 0.77937 1.5 0.397805 1.5 0 \nC 1.5 -0.397805 1.341951 -0.77937 1.06066 -1.06066 \nC 0.77937 -1.341951 0.397805 -1.5 0 -1.5 \nC -0.397805 -1.5 -0.77937 -1.341951 -1.06066 -1.06066 \nC -1.341951 -0.77937 -1.5 -0.397805 -1.5 0 \nC -1.5 0.397805 -1.341951 0.77937 -1.06066 1.06066 \nC -0.77937 1.341951 -0.397805 1.5 0 1.5 \nz\n\" style=\"stroke: #984ea3; stroke-opacity: 0.888889\"/>\n    </defs>\n    <g clip-path=\"url(#pd4cd23df7d)\">\n     <use xlink:href=\"#m7a3709ee4a\" x=\"212.483928\" y=\"125.789939\" style=\"fill: #984ea3; fill-opacity: 0.888889; stroke: #984ea3; stroke-opacity: 0.888889\"/>\n    </g>\n   </g>\n   <g id=\"line2d_325\">\n    <defs>\n     <path id=\"m8ce85be2be\" d=\"M 0 1.5 \nC 0.397805 1.5 0.77937 1.341951 1.06066 1.06066 \nC 1.341951 0.77937 1.5 0.397805 1.5 0 \nC 1.5 -0.397805 1.341951 -0.77937 1.06066 -1.06066 \nC 0.77937 -1.341951 0.397805 -1.5 0 -1.5 \nC -0.397805 -1.5 -0.77937 -1.341951 -1.06066 -1.06066 \nC -1.341951 -0.77937 -1.5 -0.397805 -1.5 0 \nC -1.5 0.397805 -1.341951 0.77937 -1.06066 1.06066 \nC -0.77937 1.341951 -0.397805 1.5 0 1.5 \nz\n\" style=\"stroke: #984ea3; stroke-opacity: 0.878788\"/>\n    </defs>\n    <g clip-path=\"url(#pd4cd23df7d)\">\n     <use xlink:href=\"#m8ce85be2be\" x=\"214.137238\" y=\"124.827695\" style=\"fill: #984ea3; fill-opacity: 0.878788; stroke: #984ea3; stroke-opacity: 0.878788\"/>\n    </g>\n   </g>\n   <g id=\"line2d_326\">\n    <defs>\n     <path id=\"mbfb53b2ae4\" d=\"M 0 1.5 \nC 0.397805 1.5 0.77937 1.341951 1.06066 1.06066 \nC 1.341951 0.77937 1.5 0.397805 1.5 0 \nC 1.5 -0.397805 1.341951 -0.77937 1.06066 -1.06066 \nC 0.77937 -1.341951 0.397805 -1.5 0 -1.5 \nC -0.397805 -1.5 -0.77937 -1.341951 -1.06066 -1.06066 \nC -1.341951 -0.77937 -1.5 -0.397805 -1.5 0 \nC -1.5 0.397805 -1.341951 0.77937 -1.06066 1.06066 \nC -0.77937 1.341951 -0.397805 1.5 0 1.5 \nz\n\" style=\"stroke: #984ea3; stroke-opacity: 0.868687\"/>\n    </defs>\n    <g clip-path=\"url(#pd4cd23df7d)\">\n     <use xlink:href=\"#mbfb53b2ae4\" x=\"215.726796\" y=\"123.913277\" style=\"fill: #984ea3; fill-opacity: 0.868687; stroke: #984ea3; stroke-opacity: 0.868687\"/>\n    </g>\n   </g>\n   <g id=\"line2d_327\">\n    <defs>\n     <path id=\"m57de08e120\" d=\"M 0 1.5 \nC 0.397805 1.5 0.77937 1.341951 1.06066 1.06066 \nC 1.341951 0.77937 1.5 0.397805 1.5 0 \nC 1.5 -0.397805 1.341951 -0.77937 1.06066 -1.06066 \nC 0.77937 -1.341951 0.397805 -1.5 0 -1.5 \nC -0.397805 -1.5 -0.77937 -1.341951 -1.06066 -1.06066 \nC -1.341951 -0.77937 -1.5 -0.397805 -1.5 0 \nC -1.5 0.397805 -1.341951 0.77937 -1.06066 1.06066 \nC -0.77937 1.341951 -0.397805 1.5 0 1.5 \nz\n\" style=\"stroke: #984ea3; stroke-opacity: 0.858586\"/>\n    </defs>\n    <g clip-path=\"url(#pd4cd23df7d)\">\n     <use xlink:href=\"#m57de08e120\" x=\"217.255436\" y=\"123.04917\" style=\"fill: #984ea3; fill-opacity: 0.858586; stroke: #984ea3; stroke-opacity: 0.858586\"/>\n    </g>\n   </g>\n   <g id=\"line2d_328\">\n    <defs>\n     <path id=\"ma305e3e889\" d=\"M 0 1.5 \nC 0.397805 1.5 0.77937 1.341951 1.06066 1.06066 \nC 1.341951 0.77937 1.5 0.397805 1.5 0 \nC 1.5 -0.397805 1.341951 -0.77937 1.06066 -1.06066 \nC 0.77937 -1.341951 0.397805 -1.5 0 -1.5 \nC -0.397805 -1.5 -0.77937 -1.341951 -1.06066 -1.06066 \nC -1.341951 -0.77937 -1.5 -0.397805 -1.5 0 \nC -1.5 0.397805 -1.341951 0.77937 -1.06066 1.06066 \nC -0.77937 1.341951 -0.397805 1.5 0 1.5 \nz\n\" style=\"stroke: #984ea3; stroke-opacity: 0.848485\"/>\n    </defs>\n    <g clip-path=\"url(#pd4cd23df7d)\">\n     <use xlink:href=\"#ma305e3e889\" x=\"218.726123\" y=\"122.237601\" style=\"fill: #984ea3; fill-opacity: 0.848485; stroke: #984ea3; stroke-opacity: 0.848485\"/>\n    </g>\n   </g>\n   <g id=\"line2d_329\">\n    <defs>\n     <path id=\"ma4ea9f0d62\" d=\"M 0 1.5 \nC 0.397805 1.5 0.77937 1.341951 1.06066 1.06066 \nC 1.341951 0.77937 1.5 0.397805 1.5 0 \nC 1.5 -0.397805 1.341951 -0.77937 1.06066 -1.06066 \nC 0.77937 -1.341951 0.397805 -1.5 0 -1.5 \nC -0.397805 -1.5 -0.77937 -1.341951 -1.06066 -1.06066 \nC -1.341951 -0.77937 -1.5 -0.397805 -1.5 0 \nC -1.5 0.397805 -1.341951 0.77937 -1.06066 1.06066 \nC -0.77937 1.341951 -0.397805 1.5 0 1.5 \nz\n\" style=\"stroke: #984ea3; stroke-opacity: 0.838384\"/>\n    </defs>\n    <g clip-path=\"url(#pd4cd23df7d)\">\n     <use xlink:href=\"#ma4ea9f0d62\" x=\"220.141943\" y=\"121.480541\" style=\"fill: #984ea3; fill-opacity: 0.838384; stroke: #984ea3; stroke-opacity: 0.838384\"/>\n    </g>\n   </g>\n   <g id=\"line2d_330\">\n    <defs>\n     <path id=\"m09433cae7a\" d=\"M 0 1.5 \nC 0.397805 1.5 0.77937 1.341951 1.06066 1.06066 \nC 1.341951 0.77937 1.5 0.397805 1.5 0 \nC 1.5 -0.397805 1.341951 -0.77937 1.06066 -1.06066 \nC 0.77937 -1.341951 0.397805 -1.5 0 -1.5 \nC -0.397805 -1.5 -0.77937 -1.341951 -1.06066 -1.06066 \nC -1.341951 -0.77937 -1.5 -0.397805 -1.5 0 \nC -1.5 0.397805 -1.341951 0.77937 -1.06066 1.06066 \nC -0.77937 1.341951 -0.397805 1.5 0 1.5 \nz\n\" style=\"stroke: #984ea3; stroke-opacity: 0.828283\"/>\n    </defs>\n    <g clip-path=\"url(#pd4cd23df7d)\">\n     <use xlink:href=\"#m09433cae7a\" x=\"221.506082\" y=\"120.779694\" style=\"fill: #984ea3; fill-opacity: 0.828283; stroke: #984ea3; stroke-opacity: 0.828283\"/>\n    </g>\n   </g>\n   <g id=\"line2d_331\">\n    <defs>\n     <path id=\"me0cb287ca7\" d=\"M 0 1.5 \nC 0.397805 1.5 0.77937 1.341951 1.06066 1.06066 \nC 1.341951 0.77937 1.5 0.397805 1.5 0 \nC 1.5 -0.397805 1.341951 -0.77937 1.06066 -1.06066 \nC 0.77937 -1.341951 0.397805 -1.5 0 -1.5 \nC -0.397805 -1.5 -0.77937 -1.341951 -1.06066 -1.06066 \nC -1.341951 -0.77937 -1.5 -0.397805 -1.5 0 \nC -1.5 0.397805 -1.341951 0.77937 -1.06066 1.06066 \nC -0.77937 1.341951 -0.397805 1.5 0 1.5 \nz\n\" style=\"stroke: #984ea3; stroke-opacity: 0.818182\"/>\n    </defs>\n    <g clip-path=\"url(#pd4cd23df7d)\">\n     <use xlink:href=\"#me0cb287ca7\" x=\"222.821814\" y=\"120.136493\" style=\"fill: #984ea3; fill-opacity: 0.818182; stroke: #984ea3; stroke-opacity: 0.818182\"/>\n    </g>\n   </g>\n   <g id=\"line2d_332\">\n    <defs>\n     <path id=\"m374ac7b56f\" d=\"M 0 1.5 \nC 0.397805 1.5 0.77937 1.341951 1.06066 1.06066 \nC 1.341951 0.77937 1.5 0.397805 1.5 0 \nC 1.5 -0.397805 1.341951 -0.77937 1.06066 -1.06066 \nC 0.77937 -1.341951 0.397805 -1.5 0 -1.5 \nC -0.397805 -1.5 -0.77937 -1.341951 -1.06066 -1.06066 \nC -1.341951 -0.77937 -1.5 -0.397805 -1.5 0 \nC -1.5 0.397805 -1.341951 0.77937 -1.06066 1.06066 \nC -0.77937 1.341951 -0.397805 1.5 0 1.5 \nz\n\" style=\"stroke: #984ea3; stroke-opacity: 0.808081\"/>\n    </defs>\n    <g clip-path=\"url(#pd4cd23df7d)\">\n     <use xlink:href=\"#m374ac7b56f\" x=\"224.092484\" y=\"119.552099\" style=\"fill: #984ea3; fill-opacity: 0.808081; stroke: #984ea3; stroke-opacity: 0.808081\"/>\n    </g>\n   </g>\n   <g id=\"line2d_333\">\n    <defs>\n     <path id=\"m37c62211c6\" d=\"M 0 1.5 \nC 0.397805 1.5 0.77937 1.341951 1.06066 1.06066 \nC 1.341951 0.77937 1.5 0.397805 1.5 0 \nC 1.5 -0.397805 1.341951 -0.77937 1.06066 -1.06066 \nC 0.77937 -1.341951 0.397805 -1.5 0 -1.5 \nC -0.397805 -1.5 -0.77937 -1.341951 -1.06066 -1.06066 \nC -1.341951 -0.77937 -1.5 -0.397805 -1.5 0 \nC -1.5 0.397805 -1.341951 0.77937 -1.06066 1.06066 \nC -0.77937 1.341951 -0.397805 1.5 0 1.5 \nz\n\" style=\"stroke: #984ea3; stroke-opacity: 0.79798\"/>\n    </defs>\n    <g clip-path=\"url(#pd4cd23df7d)\">\n     <use xlink:href=\"#m37c62211c6\" x=\"225.321496\" y=\"119.027397\" style=\"fill: #984ea3; fill-opacity: 0.79798; stroke: #984ea3; stroke-opacity: 0.79798\"/>\n    </g>\n   </g>\n   <g id=\"line2d_334\">\n    <defs>\n     <path id=\"m5e31d467a5\" d=\"M 0 1.5 \nC 0.397805 1.5 0.77937 1.341951 1.06066 1.06066 \nC 1.341951 0.77937 1.5 0.397805 1.5 0 \nC 1.5 -0.397805 1.341951 -0.77937 1.06066 -1.06066 \nC 0.77937 -1.341951 0.397805 -1.5 0 -1.5 \nC -0.397805 -1.5 -0.77937 -1.341951 -1.06066 -1.06066 \nC -1.341951 -0.77937 -1.5 -0.397805 -1.5 0 \nC -1.5 0.397805 -1.341951 0.77937 -1.06066 1.06066 \nC -0.77937 1.341951 -0.397805 1.5 0 1.5 \nz\n\" style=\"stroke: #984ea3; stroke-opacity: 0.787879\"/>\n    </defs>\n    <g clip-path=\"url(#pd4cd23df7d)\">\n     <use xlink:href=\"#m5e31d467a5\" x=\"226.512292\" y=\"118.562994\" style=\"fill: #984ea3; fill-opacity: 0.787879; stroke: #984ea3; stroke-opacity: 0.787879\"/>\n    </g>\n   </g>\n   <g id=\"line2d_335\">\n    <defs>\n     <path id=\"m1c0a0da4b2\" d=\"M 0 1.5 \nC 0.397805 1.5 0.77937 1.341951 1.06066 1.06066 \nC 1.341951 0.77937 1.5 0.397805 1.5 0 \nC 1.5 -0.397805 1.341951 -0.77937 1.06066 -1.06066 \nC 0.77937 -1.341951 0.397805 -1.5 0 -1.5 \nC -0.397805 -1.5 -0.77937 -1.341951 -1.06066 -1.06066 \nC -1.341951 -0.77937 -1.5 -0.397805 -1.5 0 \nC -1.5 0.397805 -1.341951 0.77937 -1.06066 1.06066 \nC -0.77937 1.341951 -0.397805 1.5 0 1.5 \nz\n\" style=\"stroke: #984ea3; stroke-opacity: 0.777778\"/>\n    </defs>\n    <g clip-path=\"url(#pd4cd23df7d)\">\n     <use xlink:href=\"#m1c0a0da4b2\" x=\"227.668341\" y=\"118.159219\" style=\"fill: #984ea3; fill-opacity: 0.777778; stroke: #984ea3; stroke-opacity: 0.777778\"/>\n    </g>\n   </g>\n   <g id=\"line2d_336\">\n    <defs>\n     <path id=\"m537fb8eeac\" d=\"M 0 1.5 \nC 0.397805 1.5 0.77937 1.341951 1.06066 1.06066 \nC 1.341951 0.77937 1.5 0.397805 1.5 0 \nC 1.5 -0.397805 1.341951 -0.77937 1.06066 -1.06066 \nC 0.77937 -1.341951 0.397805 -1.5 0 -1.5 \nC -0.397805 -1.5 -0.77937 -1.341951 -1.06066 -1.06066 \nC -1.341951 -0.77937 -1.5 -0.397805 -1.5 0 \nC -1.5 0.397805 -1.341951 0.77937 -1.06066 1.06066 \nC -0.77937 1.341951 -0.397805 1.5 0 1.5 \nz\n\" style=\"stroke: #984ea3; stroke-opacity: 0.767677\"/>\n    </defs>\n    <g clip-path=\"url(#pd4cd23df7d)\">\n     <use xlink:href=\"#m537fb8eeac\" x=\"228.793121\" y=\"117.816127\" style=\"fill: #984ea3; fill-opacity: 0.767677; stroke: #984ea3; stroke-opacity: 0.767677\"/>\n    </g>\n   </g>\n   <g id=\"line2d_337\">\n    <defs>\n     <path id=\"ma0f3ac7ff4\" d=\"M 0 1.5 \nC 0.397805 1.5 0.77937 1.341951 1.06066 1.06066 \nC 1.341951 0.77937 1.5 0.397805 1.5 0 \nC 1.5 -0.397805 1.341951 -0.77937 1.06066 -1.06066 \nC 0.77937 -1.341951 0.397805 -1.5 0 -1.5 \nC -0.397805 -1.5 -0.77937 -1.341951 -1.06066 -1.06066 \nC -1.341951 -0.77937 -1.5 -0.397805 -1.5 0 \nC -1.5 0.397805 -1.341951 0.77937 -1.06066 1.06066 \nC -0.77937 1.341951 -0.397805 1.5 0 1.5 \nz\n\" style=\"stroke: #984ea3; stroke-opacity: 0.757576\"/>\n    </defs>\n    <g clip-path=\"url(#pd4cd23df7d)\">\n     <use xlink:href=\"#ma0f3ac7ff4\" x=\"229.890104\" y=\"117.533497\" style=\"fill: #984ea3; fill-opacity: 0.757576; stroke: #984ea3; stroke-opacity: 0.757576\"/>\n    </g>\n   </g>\n   <g id=\"line2d_338\">\n    <defs>\n     <path id=\"m6d388229b1\" d=\"M 0 1.5 \nC 0.397805 1.5 0.77937 1.341951 1.06066 1.06066 \nC 1.341951 0.77937 1.5 0.397805 1.5 0 \nC 1.5 -0.397805 1.341951 -0.77937 1.06066 -1.06066 \nC 0.77937 -1.341951 0.397805 -1.5 0 -1.5 \nC -0.397805 -1.5 -0.77937 -1.341951 -1.06066 -1.06066 \nC -1.341951 -0.77937 -1.5 -0.397805 -1.5 0 \nC -1.5 0.397805 -1.341951 0.77937 -1.06066 1.06066 \nC -0.77937 1.341951 -0.397805 1.5 0 1.5 \nz\n\" style=\"stroke: #984ea3; stroke-opacity: 0.747475\"/>\n    </defs>\n    <g clip-path=\"url(#pd4cd23df7d)\">\n     <use xlink:href=\"#m6d388229b1\" x=\"230.962739\" y=\"117.310835\" style=\"fill: #984ea3; fill-opacity: 0.747475; stroke: #984ea3; stroke-opacity: 0.747475\"/>\n    </g>\n   </g>\n   <g id=\"line2d_339\">\n    <defs>\n     <path id=\"mfd679fed00\" d=\"M 0 1.5 \nC 0.397805 1.5 0.77937 1.341951 1.06066 1.06066 \nC 1.341951 0.77937 1.5 0.397805 1.5 0 \nC 1.5 -0.397805 1.341951 -0.77937 1.06066 -1.06066 \nC 0.77937 -1.341951 0.397805 -1.5 0 -1.5 \nC -0.397805 -1.5 -0.77937 -1.341951 -1.06066 -1.06066 \nC -1.341951 -0.77937 -1.5 -0.397805 -1.5 0 \nC -1.5 0.397805 -1.341951 0.77937 -1.06066 1.06066 \nC -0.77937 1.341951 -0.397805 1.5 0 1.5 \nz\n\" style=\"stroke: #984ea3; stroke-opacity: 0.737374\"/>\n    </defs>\n    <g clip-path=\"url(#pd4cd23df7d)\">\n     <use xlink:href=\"#mfd679fed00\" x=\"232.014442\" y=\"117.147381\" style=\"fill: #984ea3; fill-opacity: 0.737374; stroke: #984ea3; stroke-opacity: 0.737374\"/>\n    </g>\n   </g>\n   <g id=\"line2d_340\">\n    <defs>\n     <path id=\"m34e0258b83\" d=\"M 0 1.5 \nC 0.397805 1.5 0.77937 1.341951 1.06066 1.06066 \nC 1.341951 0.77937 1.5 0.397805 1.5 0 \nC 1.5 -0.397805 1.341951 -0.77937 1.06066 -1.06066 \nC 0.77937 -1.341951 0.397805 -1.5 0 -1.5 \nC -0.397805 -1.5 -0.77937 -1.341951 -1.06066 -1.06066 \nC -1.341951 -0.77937 -1.5 -0.397805 -1.5 0 \nC -1.5 0.397805 -1.341951 0.77937 -1.06066 1.06066 \nC -0.77937 1.341951 -0.397805 1.5 0 1.5 \nz\n\" style=\"stroke: #984ea3; stroke-opacity: 0.727273\"/>\n    </defs>\n    <g clip-path=\"url(#pd4cd23df7d)\">\n     <use xlink:href=\"#m34e0258b83\" x=\"233.048573\" y=\"117.042113\" style=\"fill: #984ea3; fill-opacity: 0.727273; stroke: #984ea3; stroke-opacity: 0.727273\"/>\n    </g>\n   </g>\n   <g id=\"line2d_341\">\n    <defs>\n     <path id=\"mbcc16acdb7\" d=\"M 0 1.5 \nC 0.397805 1.5 0.77937 1.341951 1.06066 1.06066 \nC 1.341951 0.77937 1.5 0.397805 1.5 0 \nC 1.5 -0.397805 1.341951 -0.77937 1.06066 -1.06066 \nC 0.77937 -1.341951 0.397805 -1.5 0 -1.5 \nC -0.397805 -1.5 -0.77937 -1.341951 -1.06066 -1.06066 \nC -1.341951 -0.77937 -1.5 -0.397805 -1.5 0 \nC -1.5 0.397805 -1.341951 0.77937 -1.06066 1.06066 \nC -0.77937 1.341951 -0.397805 1.5 0 1.5 \nz\n\" style=\"stroke: #984ea3; stroke-opacity: 0.717172\"/>\n    </defs>\n    <g clip-path=\"url(#pd4cd23df7d)\">\n     <use xlink:href=\"#mbcc16acdb7\" x=\"234.06843\" y=\"116.993753\" style=\"fill: #984ea3; fill-opacity: 0.717172; stroke: #984ea3; stroke-opacity: 0.717172\"/>\n    </g>\n   </g>\n   <g id=\"line2d_342\">\n    <defs>\n     <path id=\"meec389ea8c\" d=\"M 0 1.5 \nC 0.397805 1.5 0.77937 1.341951 1.06066 1.06066 \nC 1.341951 0.77937 1.5 0.397805 1.5 0 \nC 1.5 -0.397805 1.341951 -0.77937 1.06066 -1.06066 \nC 0.77937 -1.341951 0.397805 -1.5 0 -1.5 \nC -0.397805 -1.5 -0.77937 -1.341951 -1.06066 -1.06066 \nC -1.341951 -0.77937 -1.5 -0.397805 -1.5 0 \nC -1.5 0.397805 -1.341951 0.77937 -1.06066 1.06066 \nC -0.77937 1.341951 -0.397805 1.5 0 1.5 \nz\n\" style=\"stroke: #984ea3; stroke-opacity: 0.707071\"/>\n    </defs>\n    <g clip-path=\"url(#pd4cd23df7d)\">\n     <use xlink:href=\"#meec389ea8c\" x=\"235.07723\" y=\"117.000771\" style=\"fill: #984ea3; fill-opacity: 0.707071; stroke: #984ea3; stroke-opacity: 0.707071\"/>\n    </g>\n   </g>\n   <g id=\"line2d_343\">\n    <defs>\n     <path id=\"m4cf53b814b\" d=\"M 0 1.5 \nC 0.397805 1.5 0.77937 1.341951 1.06066 1.06066 \nC 1.341951 0.77937 1.5 0.397805 1.5 0 \nC 1.5 -0.397805 1.341951 -0.77937 1.06066 -1.06066 \nC 0.77937 -1.341951 0.397805 -1.5 0 -1.5 \nC -0.397805 -1.5 -0.77937 -1.341951 -1.06066 -1.06066 \nC -1.341951 -0.77937 -1.5 -0.397805 -1.5 0 \nC -1.5 0.397805 -1.341951 0.77937 -1.06066 1.06066 \nC -0.77937 1.341951 -0.397805 1.5 0 1.5 \nz\n\" style=\"stroke: #984ea3; stroke-opacity: 0.69697\"/>\n    </defs>\n    <g clip-path=\"url(#pd4cd23df7d)\">\n     <use xlink:href=\"#m4cf53b814b\" x=\"236.078095\" y=\"117.061398\" style=\"fill: #984ea3; fill-opacity: 0.69697; stroke: #984ea3; stroke-opacity: 0.69697\"/>\n    </g>\n   </g>\n   <g id=\"line2d_344\">\n    <defs>\n     <path id=\"m51a9bd0157\" d=\"M 0 1.5 \nC 0.397805 1.5 0.77937 1.341951 1.06066 1.06066 \nC 1.341951 0.77937 1.5 0.397805 1.5 0 \nC 1.5 -0.397805 1.341951 -0.77937 1.06066 -1.06066 \nC 0.77937 -1.341951 0.397805 -1.5 0 -1.5 \nC -0.397805 -1.5 -0.77937 -1.341951 -1.06066 -1.06066 \nC -1.341951 -0.77937 -1.5 -0.397805 -1.5 0 \nC -1.5 0.397805 -1.341951 0.77937 -1.06066 1.06066 \nC -0.77937 1.341951 -0.397805 1.5 0 1.5 \nz\n\" style=\"stroke: #984ea3; stroke-opacity: 0.686869\"/>\n    </defs>\n    <g clip-path=\"url(#pd4cd23df7d)\">\n     <use xlink:href=\"#m51a9bd0157\" x=\"237.07404\" y=\"117.173634\" style=\"fill: #984ea3; fill-opacity: 0.686869; stroke: #984ea3; stroke-opacity: 0.686869\"/>\n    </g>\n   </g>\n   <g id=\"line2d_345\">\n    <defs>\n     <path id=\"mfdaed33933\" d=\"M 0 1.5 \nC 0.397805 1.5 0.77937 1.341951 1.06066 1.06066 \nC 1.341951 0.77937 1.5 0.397805 1.5 0 \nC 1.5 -0.397805 1.341951 -0.77937 1.06066 -1.06066 \nC 0.77937 -1.341951 0.397805 -1.5 0 -1.5 \nC -0.397805 -1.5 -0.77937 -1.341951 -1.06066 -1.06066 \nC -1.341951 -0.77937 -1.5 -0.397805 -1.5 0 \nC -1.5 0.397805 -1.341951 0.77937 -1.06066 1.06066 \nC -0.77937 1.341951 -0.397805 1.5 0 1.5 \nz\n\" style=\"stroke: #984ea3; stroke-opacity: 0.676768\"/>\n    </defs>\n    <g clip-path=\"url(#pd4cd23df7d)\">\n     <use xlink:href=\"#mfdaed33933\" x=\"238.067962\" y=\"117.335254\" style=\"fill: #984ea3; fill-opacity: 0.676768; stroke: #984ea3; stroke-opacity: 0.676768\"/>\n    </g>\n   </g>\n   <g id=\"line2d_346\">\n    <defs>\n     <path id=\"m3aca18d0cd\" d=\"M 0 1.5 \nC 0.397805 1.5 0.77937 1.341951 1.06066 1.06066 \nC 1.341951 0.77937 1.5 0.397805 1.5 0 \nC 1.5 -0.397805 1.341951 -0.77937 1.06066 -1.06066 \nC 0.77937 -1.341951 0.397805 -1.5 0 -1.5 \nC -0.397805 -1.5 -0.77937 -1.341951 -1.06066 -1.06066 \nC -1.341951 -0.77937 -1.5 -0.397805 -1.5 0 \nC -1.5 0.397805 -1.341951 0.77937 -1.06066 1.06066 \nC -0.77937 1.341951 -0.397805 1.5 0 1.5 \nz\n\" style=\"stroke: #984ea3; stroke-opacity: 0.666667\"/>\n    </defs>\n    <g clip-path=\"url(#pd4cd23df7d)\">\n     <use xlink:href=\"#m3aca18d0cd\" x=\"239.062625\" y=\"117.543822\" style=\"fill: #984ea3; fill-opacity: 0.666667; stroke: #984ea3; stroke-opacity: 0.666667\"/>\n    </g>\n   </g>\n   <g id=\"line2d_347\">\n    <defs>\n     <path id=\"m45c54b2155\" d=\"M 0 1.5 \nC 0.397805 1.5 0.77937 1.341951 1.06066 1.06066 \nC 1.341951 0.77937 1.5 0.397805 1.5 0 \nC 1.5 -0.397805 1.341951 -0.77937 1.06066 -1.06066 \nC 0.77937 -1.341951 0.397805 -1.5 0 -1.5 \nC -0.397805 -1.5 -0.77937 -1.341951 -1.06066 -1.06066 \nC -1.341951 -0.77937 -1.5 -0.397805 -1.5 0 \nC -1.5 0.397805 -1.341951 0.77937 -1.06066 1.06066 \nC -0.77937 1.341951 -0.397805 1.5 0 1.5 \nz\n\" style=\"stroke: #984ea3; stroke-opacity: 0.656566\"/>\n    </defs>\n    <g clip-path=\"url(#pd4cd23df7d)\">\n     <use xlink:href=\"#m45c54b2155\" x=\"240.060649\" y=\"117.796703\" style=\"fill: #984ea3; fill-opacity: 0.656566; stroke: #984ea3; stroke-opacity: 0.656566\"/>\n    </g>\n   </g>\n   <g id=\"line2d_348\">\n    <defs>\n     <path id=\"m376a8d31a3\" d=\"M 0 1.5 \nC 0.397805 1.5 0.77937 1.341951 1.06066 1.06066 \nC 1.341951 0.77937 1.5 0.397805 1.5 0 \nC 1.5 -0.397805 1.341951 -0.77937 1.06066 -1.06066 \nC 0.77937 -1.341951 0.397805 -1.5 0 -1.5 \nC -0.397805 -1.5 -0.77937 -1.341951 -1.06066 -1.06066 \nC -1.341951 -0.77937 -1.5 -0.397805 -1.5 0 \nC -1.5 0.397805 -1.341951 0.77937 -1.06066 1.06066 \nC -0.77937 1.341951 -0.397805 1.5 0 1.5 \nz\n\" style=\"stroke: #984ea3; stroke-opacity: 0.646465\"/>\n    </defs>\n    <g clip-path=\"url(#pd4cd23df7d)\">\n     <use xlink:href=\"#m376a8d31a3\" x=\"241.064503\" y=\"118.091073\" style=\"fill: #984ea3; fill-opacity: 0.646465; stroke: #984ea3; stroke-opacity: 0.646465\"/>\n    </g>\n   </g>\n   <g id=\"line2d_349\">\n    <defs>\n     <path id=\"m9413bff84c\" d=\"M 0 1.5 \nC 0.397805 1.5 0.77937 1.341951 1.06066 1.06066 \nC 1.341951 0.77937 1.5 0.397805 1.5 0 \nC 1.5 -0.397805 1.341951 -0.77937 1.06066 -1.06066 \nC 0.77937 -1.341951 0.397805 -1.5 0 -1.5 \nC -0.397805 -1.5 -0.77937 -1.341951 -1.06066 -1.06066 \nC -1.341951 -0.77937 -1.5 -0.397805 -1.5 0 \nC -1.5 0.397805 -1.341951 0.77937 -1.06066 1.06066 \nC -0.77937 1.341951 -0.397805 1.5 0 1.5 \nz\n\" style=\"stroke: #984ea3; stroke-opacity: 0.636364\"/>\n    </defs>\n    <g clip-path=\"url(#pd4cd23df7d)\">\n     <use xlink:href=\"#m9413bff84c\" x=\"242.076489\" y=\"118.423933\" style=\"fill: #984ea3; fill-opacity: 0.636364; stroke: #984ea3; stroke-opacity: 0.636364\"/>\n    </g>\n   </g>\n   <g id=\"line2d_350\">\n    <defs>\n     <path id=\"m6c05bfd207\" d=\"M 0 1.5 \nC 0.397805 1.5 0.77937 1.341951 1.06066 1.06066 \nC 1.341951 0.77937 1.5 0.397805 1.5 0 \nC 1.5 -0.397805 1.341951 -0.77937 1.06066 -1.06066 \nC 0.77937 -1.341951 0.397805 -1.5 0 -1.5 \nC -0.397805 -1.5 -0.77937 -1.341951 -1.06066 -1.06066 \nC -1.341951 -0.77937 -1.5 -0.397805 -1.5 0 \nC -1.5 0.397805 -1.341951 0.77937 -1.06066 1.06066 \nC -0.77937 1.341951 -0.397805 1.5 0 1.5 \nz\n\" style=\"stroke: #984ea3; stroke-opacity: 0.626263\"/>\n    </defs>\n    <g clip-path=\"url(#pd4cd23df7d)\">\n     <use xlink:href=\"#m6c05bfd207\" x=\"243.098737\" y=\"118.792124\" style=\"fill: #984ea3; fill-opacity: 0.626263; stroke: #984ea3; stroke-opacity: 0.626263\"/>\n    </g>\n   </g>\n   <g id=\"line2d_351\">\n    <defs>\n     <path id=\"me0c9bc1df6\" d=\"M 0 1.5 \nC 0.397805 1.5 0.77937 1.341951 1.06066 1.06066 \nC 1.341951 0.77937 1.5 0.397805 1.5 0 \nC 1.5 -0.397805 1.341951 -0.77937 1.06066 -1.06066 \nC 0.77937 -1.341951 0.397805 -1.5 0 -1.5 \nC -0.397805 -1.5 -0.77937 -1.341951 -1.06066 -1.06066 \nC -1.341951 -0.77937 -1.5 -0.397805 -1.5 0 \nC -1.5 0.397805 -1.341951 0.77937 -1.06066 1.06066 \nC -0.77937 1.341951 -0.397805 1.5 0 1.5 \nz\n\" style=\"stroke: #984ea3; stroke-opacity: 0.616162\"/>\n    </defs>\n    <g clip-path=\"url(#pd4cd23df7d)\">\n     <use xlink:href=\"#me0c9bc1df6\" x=\"244.133194\" y=\"119.192337\" style=\"fill: #984ea3; fill-opacity: 0.616162; stroke: #984ea3; stroke-opacity: 0.616162\"/>\n    </g>\n   </g>\n   <g id=\"line2d_352\">\n    <defs>\n     <path id=\"meb254ab028\" d=\"M 0 1.5 \nC 0.397805 1.5 0.77937 1.341951 1.06066 1.06066 \nC 1.341951 0.77937 1.5 0.397805 1.5 0 \nC 1.5 -0.397805 1.341951 -0.77937 1.06066 -1.06066 \nC 0.77937 -1.341951 0.397805 -1.5 0 -1.5 \nC -0.397805 -1.5 -0.77937 -1.341951 -1.06066 -1.06066 \nC -1.341951 -0.77937 -1.5 -0.397805 -1.5 0 \nC -1.5 0.397805 -1.341951 0.77937 -1.06066 1.06066 \nC -0.77937 1.341951 -0.397805 1.5 0 1.5 \nz\n\" style=\"stroke: #984ea3; stroke-opacity: 0.606061\"/>\n    </defs>\n    <g clip-path=\"url(#pd4cd23df7d)\">\n     <use xlink:href=\"#meb254ab028\" x=\"245.181618\" y=\"119.621135\" style=\"fill: #984ea3; fill-opacity: 0.606061; stroke: #984ea3; stroke-opacity: 0.606061\"/>\n    </g>\n   </g>\n   <g id=\"line2d_353\">\n    <defs>\n     <path id=\"mc9fc4a7155\" d=\"M 0 1.5 \nC 0.397805 1.5 0.77937 1.341951 1.06066 1.06066 \nC 1.341951 0.77937 1.5 0.397805 1.5 0 \nC 1.5 -0.397805 1.341951 -0.77937 1.06066 -1.06066 \nC 0.77937 -1.341951 0.397805 -1.5 0 -1.5 \nC -0.397805 -1.5 -0.77937 -1.341951 -1.06066 -1.06066 \nC -1.341951 -0.77937 -1.5 -0.397805 -1.5 0 \nC -1.5 0.397805 -1.341951 0.77937 -1.06066 1.06066 \nC -0.77937 1.341951 -0.397805 1.5 0 1.5 \nz\n\" style=\"stroke: #984ea3; stroke-opacity: 0.59596\"/>\n    </defs>\n    <g clip-path=\"url(#pd4cd23df7d)\">\n     <use xlink:href=\"#mc9fc4a7155\" x=\"246.245572\" y=\"120.07496\" style=\"fill: #984ea3; fill-opacity: 0.59596; stroke: #984ea3; stroke-opacity: 0.59596\"/>\n    </g>\n   </g>\n   <g id=\"line2d_354\">\n    <defs>\n     <path id=\"m9cf1e70254\" d=\"M 0 1.5 \nC 0.397805 1.5 0.77937 1.341951 1.06066 1.06066 \nC 1.341951 0.77937 1.5 0.397805 1.5 0 \nC 1.5 -0.397805 1.341951 -0.77937 1.06066 -1.06066 \nC 0.77937 -1.341951 0.397805 -1.5 0 -1.5 \nC -0.397805 -1.5 -0.77937 -1.341951 -1.06066 -1.06066 \nC -1.341951 -0.77937 -1.5 -0.397805 -1.5 0 \nC -1.5 0.397805 -1.341951 0.77937 -1.06066 1.06066 \nC -0.77937 1.341951 -0.397805 1.5 0 1.5 \nz\n\" style=\"stroke: #984ea3; stroke-opacity: 0.585859\"/>\n    </defs>\n    <g clip-path=\"url(#pd4cd23df7d)\">\n     <use xlink:href=\"#m9cf1e70254\" x=\"247.326414\" y=\"120.550153\" style=\"fill: #984ea3; fill-opacity: 0.585859; stroke: #984ea3; stroke-opacity: 0.585859\"/>\n    </g>\n   </g>\n   <g id=\"line2d_355\">\n    <defs>\n     <path id=\"mc6e91bf9bf\" d=\"M 0 1.5 \nC 0.397805 1.5 0.77937 1.341951 1.06066 1.06066 \nC 1.341951 0.77937 1.5 0.397805 1.5 0 \nC 1.5 -0.397805 1.341951 -0.77937 1.06066 -1.06066 \nC 0.77937 -1.341951 0.397805 -1.5 0 -1.5 \nC -0.397805 -1.5 -0.77937 -1.341951 -1.06066 -1.06066 \nC -1.341951 -0.77937 -1.5 -0.397805 -1.5 0 \nC -1.5 0.397805 -1.341951 0.77937 -1.06066 1.06066 \nC -0.77937 1.341951 -0.397805 1.5 0 1.5 \nz\n\" style=\"stroke: #984ea3; stroke-opacity: 0.575758\"/>\n    </defs>\n    <g clip-path=\"url(#pd4cd23df7d)\">\n     <use xlink:href=\"#mc6e91bf9bf\" x=\"248.425296\" y=\"121.042973\" style=\"fill: #984ea3; fill-opacity: 0.575758; stroke: #984ea3; stroke-opacity: 0.575758\"/>\n    </g>\n   </g>\n   <g id=\"line2d_356\">\n    <defs>\n     <path id=\"mc240fb112d\" d=\"M 0 1.5 \nC 0.397805 1.5 0.77937 1.341951 1.06066 1.06066 \nC 1.341951 0.77937 1.5 0.397805 1.5 0 \nC 1.5 -0.397805 1.341951 -0.77937 1.06066 -1.06066 \nC 0.77937 -1.341951 0.397805 -1.5 0 -1.5 \nC -0.397805 -1.5 -0.77937 -1.341951 -1.06066 -1.06066 \nC -1.341951 -0.77937 -1.5 -0.397805 -1.5 0 \nC -1.5 0.397805 -1.341951 0.77937 -1.06066 1.06066 \nC -0.77937 1.341951 -0.397805 1.5 0 1.5 \nz\n\" style=\"stroke: #984ea3; stroke-opacity: 0.565657\"/>\n    </defs>\n    <g clip-path=\"url(#pd4cd23df7d)\">\n     <use xlink:href=\"#mc240fb112d\" x=\"249.543157\" y=\"121.549606\" style=\"fill: #984ea3; fill-opacity: 0.565657; stroke: #984ea3; stroke-opacity: 0.565657\"/>\n    </g>\n   </g>\n   <g id=\"line2d_357\">\n    <defs>\n     <path id=\"m52201e631e\" d=\"M 0 1.5 \nC 0.397805 1.5 0.77937 1.341951 1.06066 1.06066 \nC 1.341951 0.77937 1.5 0.397805 1.5 0 \nC 1.5 -0.397805 1.341951 -0.77937 1.06066 -1.06066 \nC 0.77937 -1.341951 0.397805 -1.5 0 -1.5 \nC -0.397805 -1.5 -0.77937 -1.341951 -1.06066 -1.06066 \nC -1.341951 -0.77937 -1.5 -0.397805 -1.5 0 \nC -1.5 0.397805 -1.341951 0.77937 -1.06066 1.06066 \nC -0.77937 1.341951 -0.397805 1.5 0 1.5 \nz\n\" style=\"stroke: #984ea3; stroke-opacity: 0.555556\"/>\n    </defs>\n    <g clip-path=\"url(#pd4cd23df7d)\">\n     <use xlink:href=\"#m52201e631e\" x=\"250.680723\" y=\"122.066187\" style=\"fill: #984ea3; fill-opacity: 0.555556; stroke: #984ea3; stroke-opacity: 0.555556\"/>\n    </g>\n   </g>\n   <g id=\"line2d_358\">\n    <defs>\n     <path id=\"mae2b279d23\" d=\"M 0 1.5 \nC 0.397805 1.5 0.77937 1.341951 1.06066 1.06066 \nC 1.341951 0.77937 1.5 0.397805 1.5 0 \nC 1.5 -0.397805 1.341951 -0.77937 1.06066 -1.06066 \nC 0.77937 -1.341951 0.397805 -1.5 0 -1.5 \nC -0.397805 -1.5 -0.77937 -1.341951 -1.06066 -1.06066 \nC -1.341951 -0.77937 -1.5 -0.397805 -1.5 0 \nC -1.5 0.397805 -1.341951 0.77937 -1.06066 1.06066 \nC -0.77937 1.341951 -0.397805 1.5 0 1.5 \nz\n\" style=\"stroke: #984ea3; stroke-opacity: 0.545455\"/>\n    </defs>\n    <g clip-path=\"url(#pd4cd23df7d)\">\n     <use xlink:href=\"#mae2b279d23\" x=\"251.8385\" y=\"122.588818\" style=\"fill: #984ea3; fill-opacity: 0.545455; stroke: #984ea3; stroke-opacity: 0.545455\"/>\n    </g>\n   </g>\n   <g id=\"line2d_359\">\n    <defs>\n     <path id=\"m8653ec02e1\" d=\"M 0 1.5 \nC 0.397805 1.5 0.77937 1.341951 1.06066 1.06066 \nC 1.341951 0.77937 1.5 0.397805 1.5 0 \nC 1.5 -0.397805 1.341951 -0.77937 1.06066 -1.06066 \nC 0.77937 -1.341951 0.397805 -1.5 0 -1.5 \nC -0.397805 -1.5 -0.77937 -1.341951 -1.06066 -1.06066 \nC -1.341951 -0.77937 -1.5 -0.397805 -1.5 0 \nC -1.5 0.397805 -1.341951 0.77937 -1.06066 1.06066 \nC -0.77937 1.341951 -0.397805 1.5 0 1.5 \nz\n\" style=\"stroke: #984ea3; stroke-opacity: 0.535354\"/>\n    </defs>\n    <g clip-path=\"url(#pd4cd23df7d)\">\n     <use xlink:href=\"#m8653ec02e1\" x=\"253.016776\" y=\"123.113578\" style=\"fill: #984ea3; fill-opacity: 0.535354; stroke: #984ea3; stroke-opacity: 0.535354\"/>\n    </g>\n   </g>\n   <g id=\"line2d_360\">\n    <defs>\n     <path id=\"m7b0d1b6574\" d=\"M 0 1.5 \nC 0.397805 1.5 0.77937 1.341951 1.06066 1.06066 \nC 1.341951 0.77937 1.5 0.397805 1.5 0 \nC 1.5 -0.397805 1.341951 -0.77937 1.06066 -1.06066 \nC 0.77937 -1.341951 0.397805 -1.5 0 -1.5 \nC -0.397805 -1.5 -0.77937 -1.341951 -1.06066 -1.06066 \nC -1.341951 -0.77937 -1.5 -0.397805 -1.5 0 \nC -1.5 0.397805 -1.341951 0.77937 -1.06066 1.06066 \nC -0.77937 1.341951 -0.397805 1.5 0 1.5 \nz\n\" style=\"stroke: #984ea3; stroke-opacity: 0.525253\"/>\n    </defs>\n    <g clip-path=\"url(#pd4cd23df7d)\">\n     <use xlink:href=\"#m7b0d1b6574\" x=\"254.21562\" y=\"123.636548\" style=\"fill: #984ea3; fill-opacity: 0.525253; stroke: #984ea3; stroke-opacity: 0.525253\"/>\n    </g>\n   </g>\n   <g id=\"line2d_361\">\n    <defs>\n     <path id=\"m1edb6b5eee\" d=\"M 0 1.5 \nC 0.397805 1.5 0.77937 1.341951 1.06066 1.06066 \nC 1.341951 0.77937 1.5 0.397805 1.5 0 \nC 1.5 -0.397805 1.341951 -0.77937 1.06066 -1.06066 \nC 0.77937 -1.341951 0.397805 -1.5 0 -1.5 \nC -0.397805 -1.5 -0.77937 -1.341951 -1.06066 -1.06066 \nC -1.341951 -0.77937 -1.5 -0.397805 -1.5 0 \nC -1.5 0.397805 -1.341951 0.77937 -1.06066 1.06066 \nC -0.77937 1.341951 -0.397805 1.5 0 1.5 \nz\n\" style=\"stroke: #984ea3; stroke-opacity: 0.515152\"/>\n    </defs>\n    <g clip-path=\"url(#pd4cd23df7d)\">\n     <use xlink:href=\"#m1edb6b5eee\" x=\"255.434883\" y=\"124.153823\" style=\"fill: #984ea3; fill-opacity: 0.515152; stroke: #984ea3; stroke-opacity: 0.515152\"/>\n    </g>\n   </g>\n   <g id=\"line2d_362\">\n    <defs>\n     <path id=\"m4a100b5c86\" d=\"M 0 1.5 \nC 0.397805 1.5 0.77937 1.341951 1.06066 1.06066 \nC 1.341951 0.77937 1.5 0.397805 1.5 0 \nC 1.5 -0.397805 1.341951 -0.77937 1.06066 -1.06066 \nC 0.77937 -1.341951 0.397805 -1.5 0 -1.5 \nC -0.397805 -1.5 -0.77937 -1.341951 -1.06066 -1.06066 \nC -1.341951 -0.77937 -1.5 -0.397805 -1.5 0 \nC -1.5 0.397805 -1.341951 0.77937 -1.06066 1.06066 \nC -0.77937 1.341951 -0.397805 1.5 0 1.5 \nz\n\" style=\"stroke: #984ea3; stroke-opacity: 0.505051\"/>\n    </defs>\n    <g clip-path=\"url(#pd4cd23df7d)\">\n     <use xlink:href=\"#m4a100b5c86\" x=\"256.674197\" y=\"124.66153\" style=\"fill: #984ea3; fill-opacity: 0.505051; stroke: #984ea3; stroke-opacity: 0.505051\"/>\n    </g>\n   </g>\n   <g id=\"line2d_363\">\n    <defs>\n     <path id=\"m050be9844e\" d=\"M 0 1.5 \nC 0.397805 1.5 0.77937 1.341951 1.06066 1.06066 \nC 1.341951 0.77937 1.5 0.397805 1.5 0 \nC 1.5 -0.397805 1.341951 -0.77937 1.06066 -1.06066 \nC 0.77937 -1.341951 0.397805 -1.5 0 -1.5 \nC -0.397805 -1.5 -0.77937 -1.341951 -1.06066 -1.06066 \nC -1.341951 -0.77937 -1.5 -0.397805 -1.5 0 \nC -1.5 0.397805 -1.341951 0.77937 -1.06066 1.06066 \nC -0.77937 1.341951 -0.397805 1.5 0 1.5 \nz\n\" style=\"stroke: #984ea3; stroke-opacity: 0.494949\"/>\n    </defs>\n    <g clip-path=\"url(#pd4cd23df7d)\">\n     <use xlink:href=\"#m050be9844e\" x=\"257.93298\" y=\"125.155844\" style=\"fill: #984ea3; fill-opacity: 0.494949; stroke: #984ea3; stroke-opacity: 0.494949\"/>\n    </g>\n   </g>\n   <g id=\"line2d_364\">\n    <defs>\n     <path id=\"mc6992fcedd\" d=\"M 0 1.5 \nC 0.397805 1.5 0.77937 1.341951 1.06066 1.06066 \nC 1.341951 0.77937 1.5 0.397805 1.5 0 \nC 1.5 -0.397805 1.341951 -0.77937 1.06066 -1.06066 \nC 0.77937 -1.341951 0.397805 -1.5 0 -1.5 \nC -0.397805 -1.5 -0.77937 -1.341951 -1.06066 -1.06066 \nC -1.341951 -0.77937 -1.5 -0.397805 -1.5 0 \nC -1.5 0.397805 -1.341951 0.77937 -1.06066 1.06066 \nC -0.77937 1.341951 -0.397805 1.5 0 1.5 \nz\n\" style=\"stroke: #984ea3; stroke-opacity: 0.484848\"/>\n    </defs>\n    <g clip-path=\"url(#pd4cd23df7d)\">\n     <use xlink:href=\"#mc6992fcedd\" x=\"259.210436\" y=\"125.633008\" style=\"fill: #984ea3; fill-opacity: 0.484848; stroke: #984ea3; stroke-opacity: 0.484848\"/>\n    </g>\n   </g>\n   <g id=\"line2d_365\">\n    <defs>\n     <path id=\"mcf9ac84ff3\" d=\"M 0 1.5 \nC 0.397805 1.5 0.77937 1.341951 1.06066 1.06066 \nC 1.341951 0.77937 1.5 0.397805 1.5 0 \nC 1.5 -0.397805 1.341951 -0.77937 1.06066 -1.06066 \nC 0.77937 -1.341951 0.397805 -1.5 0 -1.5 \nC -0.397805 -1.5 -0.77937 -1.341951 -1.06066 -1.06066 \nC -1.341951 -0.77937 -1.5 -0.397805 -1.5 0 \nC -1.5 0.397805 -1.341951 0.77937 -1.06066 1.06066 \nC -0.77937 1.341951 -0.397805 1.5 0 1.5 \nz\n\" style=\"stroke: #984ea3; stroke-opacity: 0.474747\"/>\n    </defs>\n    <g clip-path=\"url(#pd4cd23df7d)\">\n     <use xlink:href=\"#mcf9ac84ff3\" x=\"260.505564\" y=\"126.089346\" style=\"fill: #984ea3; fill-opacity: 0.474747; stroke: #984ea3; stroke-opacity: 0.474747\"/>\n    </g>\n   </g>\n   <g id=\"line2d_366\">\n    <defs>\n     <path id=\"mdfb800c8c0\" d=\"M 0 1.5 \nC 0.397805 1.5 0.77937 1.341951 1.06066 1.06066 \nC 1.341951 0.77937 1.5 0.397805 1.5 0 \nC 1.5 -0.397805 1.341951 -0.77937 1.06066 -1.06066 \nC 0.77937 -1.341951 0.397805 -1.5 0 -1.5 \nC -0.397805 -1.5 -0.77937 -1.341951 -1.06066 -1.06066 \nC -1.341951 -0.77937 -1.5 -0.397805 -1.5 0 \nC -1.5 0.397805 -1.341951 0.77937 -1.06066 1.06066 \nC -0.77937 1.341951 -0.397805 1.5 0 1.5 \nz\n\" style=\"stroke: #984ea3; stroke-opacity: 0.464646\"/>\n    </defs>\n    <g clip-path=\"url(#pd4cd23df7d)\">\n     <use xlink:href=\"#mdfb800c8c0\" x=\"261.81716\" y=\"126.521279\" style=\"fill: #984ea3; fill-opacity: 0.464646; stroke: #984ea3; stroke-opacity: 0.464646\"/>\n    </g>\n   </g>\n   <g id=\"line2d_367\">\n    <defs>\n     <path id=\"mfabe174f3e\" d=\"M 0 1.5 \nC 0.397805 1.5 0.77937 1.341951 1.06066 1.06066 \nC 1.341951 0.77937 1.5 0.397805 1.5 0 \nC 1.5 -0.397805 1.341951 -0.77937 1.06066 -1.06066 \nC 0.77937 -1.341951 0.397805 -1.5 0 -1.5 \nC -0.397805 -1.5 -0.77937 -1.341951 -1.06066 -1.06066 \nC -1.341951 -0.77937 -1.5 -0.397805 -1.5 0 \nC -1.5 0.397805 -1.341951 0.77937 -1.06066 1.06066 \nC -0.77937 1.341951 -0.397805 1.5 0 1.5 \nz\n\" style=\"stroke: #984ea3; stroke-opacity: 0.454545\"/>\n    </defs>\n    <g clip-path=\"url(#pd4cd23df7d)\">\n     <use xlink:href=\"#mfabe174f3e\" x=\"263.143822\" y=\"126.92534\" style=\"fill: #984ea3; fill-opacity: 0.454545; stroke: #984ea3; stroke-opacity: 0.454545\"/>\n    </g>\n   </g>\n   <g id=\"line2d_368\">\n    <defs>\n     <path id=\"m9c16c63de6\" d=\"M 0 1.5 \nC 0.397805 1.5 0.77937 1.341951 1.06066 1.06066 \nC 1.341951 0.77937 1.5 0.397805 1.5 0 \nC 1.5 -0.397805 1.341951 -0.77937 1.06066 -1.06066 \nC 0.77937 -1.341951 0.397805 -1.5 0 -1.5 \nC -0.397805 -1.5 -0.77937 -1.341951 -1.06066 -1.06066 \nC -1.341951 -0.77937 -1.5 -0.397805 -1.5 0 \nC -1.5 0.397805 -1.341951 0.77937 -1.06066 1.06066 \nC -0.77937 1.341951 -0.397805 1.5 0 1.5 \nz\n\" style=\"stroke: #984ea3; stroke-opacity: 0.444444\"/>\n    </defs>\n    <g clip-path=\"url(#pd4cd23df7d)\">\n     <use xlink:href=\"#m9c16c63de6\" x=\"264.48396\" y=\"127.298194\" style=\"fill: #984ea3; fill-opacity: 0.444444; stroke: #984ea3; stroke-opacity: 0.444444\"/>\n    </g>\n   </g>\n   <g id=\"line2d_369\">\n    <defs>\n     <path id=\"m547ea0a16d\" d=\"M 0 1.5 \nC 0.397805 1.5 0.77937 1.341951 1.06066 1.06066 \nC 1.341951 0.77937 1.5 0.397805 1.5 0 \nC 1.5 -0.397805 1.341951 -0.77937 1.06066 -1.06066 \nC 0.77937 -1.341951 0.397805 -1.5 0 -1.5 \nC -0.397805 -1.5 -0.77937 -1.341951 -1.06066 -1.06066 \nC -1.341951 -0.77937 -1.5 -0.397805 -1.5 0 \nC -1.5 0.397805 -1.341951 0.77937 -1.06066 1.06066 \nC -0.77937 1.341951 -0.397805 1.5 0 1.5 \nz\n\" style=\"stroke: #984ea3; stroke-opacity: 0.434343\"/>\n    </defs>\n    <g clip-path=\"url(#pd4cd23df7d)\">\n     <use xlink:href=\"#m547ea0a16d\" x=\"265.8358\" y=\"127.636647\" style=\"fill: #984ea3; fill-opacity: 0.434343; stroke: #984ea3; stroke-opacity: 0.434343\"/>\n    </g>\n   </g>\n   <g id=\"line2d_370\">\n    <defs>\n     <path id=\"mff848b40b4\" d=\"M 0 1.5 \nC 0.397805 1.5 0.77937 1.341951 1.06066 1.06066 \nC 1.341951 0.77937 1.5 0.397805 1.5 0 \nC 1.5 -0.397805 1.341951 -0.77937 1.06066 -1.06066 \nC 0.77937 -1.341951 0.397805 -1.5 0 -1.5 \nC -0.397805 -1.5 -0.77937 -1.341951 -1.06066 -1.06066 \nC -1.341951 -0.77937 -1.5 -0.397805 -1.5 0 \nC -1.5 0.397805 -1.341951 0.77937 -1.06066 1.06066 \nC -0.77937 1.341951 -0.397805 1.5 0 1.5 \nz\n\" style=\"stroke: #984ea3; stroke-opacity: 0.424242\"/>\n    </defs>\n    <g clip-path=\"url(#pd4cd23df7d)\">\n     <use xlink:href=\"#mff848b40b4\" x=\"267.197395\" y=\"127.93766\" style=\"fill: #984ea3; fill-opacity: 0.424242; stroke: #984ea3; stroke-opacity: 0.424242\"/>\n    </g>\n   </g>\n   <g id=\"line2d_371\">\n    <defs>\n     <path id=\"m369db52adf\" d=\"M 0 1.5 \nC 0.397805 1.5 0.77937 1.341951 1.06066 1.06066 \nC 1.341951 0.77937 1.5 0.397805 1.5 0 \nC 1.5 -0.397805 1.341951 -0.77937 1.06066 -1.06066 \nC 0.77937 -1.341951 0.397805 -1.5 0 -1.5 \nC -0.397805 -1.5 -0.77937 -1.341951 -1.06066 -1.06066 \nC -1.341951 -0.77937 -1.5 -0.397805 -1.5 0 \nC -1.5 0.397805 -1.341951 0.77937 -1.06066 1.06066 \nC -0.77937 1.341951 -0.397805 1.5 0 1.5 \nz\n\" style=\"stroke: #984ea3; stroke-opacity: 0.414141\"/>\n    </defs>\n    <g clip-path=\"url(#pd4cd23df7d)\">\n     <use xlink:href=\"#m369db52adf\" x=\"268.566634\" y=\"128.198368\" style=\"fill: #984ea3; fill-opacity: 0.414141; stroke: #984ea3; stroke-opacity: 0.414141\"/>\n    </g>\n   </g>\n   <g id=\"line2d_372\">\n    <defs>\n     <path id=\"md9a3030e1d\" d=\"M 0 1.5 \nC 0.397805 1.5 0.77937 1.341951 1.06066 1.06066 \nC 1.341951 0.77937 1.5 0.397805 1.5 0 \nC 1.5 -0.397805 1.341951 -0.77937 1.06066 -1.06066 \nC 0.77937 -1.341951 0.397805 -1.5 0 -1.5 \nC -0.397805 -1.5 -0.77937 -1.341951 -1.06066 -1.06066 \nC -1.341951 -0.77937 -1.5 -0.397805 -1.5 0 \nC -1.5 0.397805 -1.341951 0.77937 -1.06066 1.06066 \nC -0.77937 1.341951 -0.397805 1.5 0 1.5 \nz\n\" style=\"stroke: #984ea3; stroke-opacity: 0.40404\"/>\n    </defs>\n    <g clip-path=\"url(#pd4cd23df7d)\">\n     <use xlink:href=\"#md9a3030e1d\" x=\"269.941251\" y=\"128.416088\" style=\"fill: #984ea3; fill-opacity: 0.40404; stroke: #984ea3; stroke-opacity: 0.40404\"/>\n    </g>\n   </g>\n   <g id=\"line2d_373\">\n    <defs>\n     <path id=\"m9f50ad2443\" d=\"M 0 1.5 \nC 0.397805 1.5 0.77937 1.341951 1.06066 1.06066 \nC 1.341951 0.77937 1.5 0.397805 1.5 0 \nC 1.5 -0.397805 1.341951 -0.77937 1.06066 -1.06066 \nC 0.77937 -1.341951 0.397805 -1.5 0 -1.5 \nC -0.397805 -1.5 -0.77937 -1.341951 -1.06066 -1.06066 \nC -1.341951 -0.77937 -1.5 -0.397805 -1.5 0 \nC -1.5 0.397805 -1.341951 0.77937 -1.06066 1.06066 \nC -0.77937 1.341951 -0.397805 1.5 0 1.5 \nz\n\" style=\"stroke: #984ea3; stroke-opacity: 0.393939\"/>\n    </defs>\n    <g clip-path=\"url(#pd4cd23df7d)\">\n     <use xlink:href=\"#m9f50ad2443\" x=\"271.318835\" y=\"128.58833\" style=\"fill: #984ea3; fill-opacity: 0.393939; stroke: #984ea3; stroke-opacity: 0.393939\"/>\n    </g>\n   </g>\n   <g id=\"line2d_374\">\n    <defs>\n     <path id=\"m7cc1abf7af\" d=\"M 0 1.5 \nC 0.397805 1.5 0.77937 1.341951 1.06066 1.06066 \nC 1.341951 0.77937 1.5 0.397805 1.5 0 \nC 1.5 -0.397805 1.341951 -0.77937 1.06066 -1.06066 \nC 0.77937 -1.341951 0.397805 -1.5 0 -1.5 \nC -0.397805 -1.5 -0.77937 -1.341951 -1.06066 -1.06066 \nC -1.341951 -0.77937 -1.5 -0.397805 -1.5 0 \nC -1.5 0.397805 -1.341951 0.77937 -1.06066 1.06066 \nC -0.77937 1.341951 -0.397805 1.5 0 1.5 \nz\n\" style=\"stroke: #984ea3; stroke-opacity: 0.383838\"/>\n    </defs>\n    <g clip-path=\"url(#pd4cd23df7d)\">\n     <use xlink:href=\"#m7cc1abf7af\" x=\"272.696845\" y=\"128.712813\" style=\"fill: #984ea3; fill-opacity: 0.383838; stroke: #984ea3; stroke-opacity: 0.383838\"/>\n    </g>\n   </g>\n   <g id=\"line2d_375\">\n    <defs>\n     <path id=\"m13c77cd2e0\" d=\"M 0 1.5 \nC 0.397805 1.5 0.77937 1.341951 1.06066 1.06066 \nC 1.341951 0.77937 1.5 0.397805 1.5 0 \nC 1.5 -0.397805 1.341951 -0.77937 1.06066 -1.06066 \nC 0.77937 -1.341951 0.397805 -1.5 0 -1.5 \nC -0.397805 -1.5 -0.77937 -1.341951 -1.06066 -1.06066 \nC -1.341951 -0.77937 -1.5 -0.397805 -1.5 0 \nC -1.5 0.397805 -1.341951 0.77937 -1.06066 1.06066 \nC -0.77937 1.341951 -0.397805 1.5 0 1.5 \nz\n\" style=\"stroke: #984ea3; stroke-opacity: 0.373737\"/>\n    </defs>\n    <g clip-path=\"url(#pd4cd23df7d)\">\n     <use xlink:href=\"#m13c77cd2e0\" x=\"274.072615\" y=\"128.787472\" style=\"fill: #984ea3; fill-opacity: 0.373737; stroke: #984ea3; stroke-opacity: 0.373737\"/>\n    </g>\n   </g>\n   <g id=\"line2d_376\">\n    <defs>\n     <path id=\"mf27b33668d\" d=\"M 0 1.5 \nC 0.397805 1.5 0.77937 1.341951 1.06066 1.06066 \nC 1.341951 0.77937 1.5 0.397805 1.5 0 \nC 1.5 -0.397805 1.341951 -0.77937 1.06066 -1.06066 \nC 0.77937 -1.341951 0.397805 -1.5 0 -1.5 \nC -0.397805 -1.5 -0.77937 -1.341951 -1.06066 -1.06066 \nC -1.341951 -0.77937 -1.5 -0.397805 -1.5 0 \nC -1.5 0.397805 -1.341951 0.77937 -1.06066 1.06066 \nC -0.77937 1.341951 -0.397805 1.5 0 1.5 \nz\n\" style=\"stroke: #984ea3; stroke-opacity: 0.363636\"/>\n    </defs>\n    <g clip-path=\"url(#pd4cd23df7d)\">\n     <use xlink:href=\"#mf27b33668d\" x=\"275.443374\" y=\"128.810469\" style=\"fill: #984ea3; fill-opacity: 0.363636; stroke: #984ea3; stroke-opacity: 0.363636\"/>\n    </g>\n   </g>\n   <g id=\"line2d_377\">\n    <defs>\n     <path id=\"m1bb033b9a6\" d=\"M 0 1.5 \nC 0.397805 1.5 0.77937 1.341951 1.06066 1.06066 \nC 1.341951 0.77937 1.5 0.397805 1.5 0 \nC 1.5 -0.397805 1.341951 -0.77937 1.06066 -1.06066 \nC 0.77937 -1.341951 0.397805 -1.5 0 -1.5 \nC -0.397805 -1.5 -0.77937 -1.341951 -1.06066 -1.06066 \nC -1.341951 -0.77937 -1.5 -0.397805 -1.5 0 \nC -1.5 0.397805 -1.341951 0.77937 -1.06066 1.06066 \nC -0.77937 1.341951 -0.397805 1.5 0 1.5 \nz\n\" style=\"stroke: #984ea3; stroke-opacity: 0.353535\"/>\n    </defs>\n    <g clip-path=\"url(#pd4cd23df7d)\">\n     <use xlink:href=\"#m1bb033b9a6\" x=\"276.806253\" y=\"128.780198\" style=\"fill: #984ea3; fill-opacity: 0.353535; stroke: #984ea3; stroke-opacity: 0.353535\"/>\n    </g>\n   </g>\n   <g id=\"line2d_378\">\n    <defs>\n     <path id=\"m8d3e803f2e\" d=\"M 0 1.5 \nC 0.397805 1.5 0.77937 1.341951 1.06066 1.06066 \nC 1.341951 0.77937 1.5 0.397805 1.5 0 \nC 1.5 -0.397805 1.341951 -0.77937 1.06066 -1.06066 \nC 0.77937 -1.341951 0.397805 -1.5 0 -1.5 \nC -0.397805 -1.5 -0.77937 -1.341951 -1.06066 -1.06066 \nC -1.341951 -0.77937 -1.5 -0.397805 -1.5 0 \nC -1.5 0.397805 -1.341951 0.77937 -1.06066 1.06066 \nC -0.77937 1.341951 -0.397805 1.5 0 1.5 \nz\n\" style=\"stroke: #984ea3; stroke-opacity: 0.343434\"/>\n    </defs>\n    <g clip-path=\"url(#pd4cd23df7d)\">\n     <use xlink:href=\"#m8d3e803f2e\" x=\"278.158301\" y=\"128.695301\" style=\"fill: #984ea3; fill-opacity: 0.343434; stroke: #984ea3; stroke-opacity: 0.343434\"/>\n    </g>\n   </g>\n   <g id=\"line2d_379\">\n    <defs>\n     <path id=\"mf8588ce5cc\" d=\"M 0 1.5 \nC 0.397805 1.5 0.77937 1.341951 1.06066 1.06066 \nC 1.341951 0.77937 1.5 0.397805 1.5 0 \nC 1.5 -0.397805 1.341951 -0.77937 1.06066 -1.06066 \nC 0.77937 -1.341951 0.397805 -1.5 0 -1.5 \nC -0.397805 -1.5 -0.77937 -1.341951 -1.06066 -1.06066 \nC -1.341951 -0.77937 -1.5 -0.397805 -1.5 0 \nC -1.5 0.397805 -1.341951 0.77937 -1.06066 1.06066 \nC -0.77937 1.341951 -0.397805 1.5 0 1.5 \nz\n\" style=\"stroke: #984ea3; stroke-opacity: 0.333333\"/>\n    </defs>\n    <g clip-path=\"url(#pd4cd23df7d)\">\n     <use xlink:href=\"#mf8588ce5cc\" x=\"279.4965\" y=\"128.554665\" style=\"fill: #984ea3; fill-opacity: 0.333333; stroke: #984ea3; stroke-opacity: 0.333333\"/>\n    </g>\n   </g>\n   <g id=\"line2d_380\">\n    <defs>\n     <path id=\"ma790ad4c9f\" d=\"M 0 1.5 \nC 0.397805 1.5 0.77937 1.341951 1.06066 1.06066 \nC 1.341951 0.77937 1.5 0.397805 1.5 0 \nC 1.5 -0.397805 1.341951 -0.77937 1.06066 -1.06066 \nC 0.77937 -1.341951 0.397805 -1.5 0 -1.5 \nC -0.397805 -1.5 -0.77937 -1.341951 -1.06066 -1.06066 \nC -1.341951 -0.77937 -1.5 -0.397805 -1.5 0 \nC -1.5 0.397805 -1.341951 0.77937 -1.06066 1.06066 \nC -0.77937 1.341951 -0.397805 1.5 0 1.5 \nz\n\" style=\"stroke: #984ea3; stroke-opacity: 0.323232\"/>\n    </defs>\n    <g clip-path=\"url(#pd4cd23df7d)\">\n     <use xlink:href=\"#ma790ad4c9f\" x=\"280.817775\" y=\"128.357435\" style=\"fill: #984ea3; fill-opacity: 0.323232; stroke: #984ea3; stroke-opacity: 0.323232\"/>\n    </g>\n   </g>\n   <g id=\"line2d_381\">\n    <defs>\n     <path id=\"m643e93de60\" d=\"M 0 1.5 \nC 0.397805 1.5 0.77937 1.341951 1.06066 1.06066 \nC 1.341951 0.77937 1.5 0.397805 1.5 0 \nC 1.5 -0.397805 1.341951 -0.77937 1.06066 -1.06066 \nC 0.77937 -1.341951 0.397805 -1.5 0 -1.5 \nC -0.397805 -1.5 -0.77937 -1.341951 -1.06066 -1.06066 \nC -1.341951 -0.77937 -1.5 -0.397805 -1.5 0 \nC -1.5 0.397805 -1.341951 0.77937 -1.06066 1.06066 \nC -0.77937 1.341951 -0.397805 1.5 0 1.5 \nz\n\" style=\"stroke: #984ea3; stroke-opacity: 0.313131\"/>\n    </defs>\n    <g clip-path=\"url(#pd4cd23df7d)\">\n     <use xlink:href=\"#m643e93de60\" x=\"282.119012\" y=\"128.103016\" style=\"fill: #984ea3; fill-opacity: 0.313131; stroke: #984ea3; stroke-opacity: 0.313131\"/>\n    </g>\n   </g>\n   <g id=\"line2d_382\">\n    <defs>\n     <path id=\"md8d0cd6402\" d=\"M 0 1.5 \nC 0.397805 1.5 0.77937 1.341951 1.06066 1.06066 \nC 1.341951 0.77937 1.5 0.397805 1.5 0 \nC 1.5 -0.397805 1.341951 -0.77937 1.06066 -1.06066 \nC 0.77937 -1.341951 0.397805 -1.5 0 -1.5 \nC -0.397805 -1.5 -0.77937 -1.341951 -1.06066 -1.06066 \nC -1.341951 -0.77937 -1.5 -0.397805 -1.5 0 \nC -1.5 0.397805 -1.341951 0.77937 -1.06066 1.06066 \nC -0.77937 1.341951 -0.397805 1.5 0 1.5 \nz\n\" style=\"stroke: #984ea3; stroke-opacity: 0.30303\"/>\n    </defs>\n    <g clip-path=\"url(#pd4cd23df7d)\">\n     <use xlink:href=\"#md8d0cd6402\" x=\"283.397074\" y=\"127.791076\" style=\"fill: #984ea3; fill-opacity: 0.30303; stroke: #984ea3; stroke-opacity: 0.30303\"/>\n    </g>\n   </g>\n   <g id=\"line2d_383\">\n    <defs>\n     <path id=\"m72c9fed405\" d=\"M 0 1.5 \nC 0.397805 1.5 0.77937 1.341951 1.06066 1.06066 \nC 1.341951 0.77937 1.5 0.397805 1.5 0 \nC 1.5 -0.397805 1.341951 -0.77937 1.06066 -1.06066 \nC 0.77937 -1.341951 0.397805 -1.5 0 -1.5 \nC -0.397805 -1.5 -0.77937 -1.341951 -1.06066 -1.06066 \nC -1.341951 -0.77937 -1.5 -0.397805 -1.5 0 \nC -1.5 0.397805 -1.341951 0.77937 -1.06066 1.06066 \nC -0.77937 1.341951 -0.397805 1.5 0 1.5 \nz\n\" style=\"stroke: #984ea3; stroke-opacity: 0.292929\"/>\n    </defs>\n    <g clip-path=\"url(#pd4cd23df7d)\">\n     <use xlink:href=\"#m72c9fed405\" x=\"284.648809\" y=\"127.42155\" style=\"fill: #984ea3; fill-opacity: 0.292929; stroke: #984ea3; stroke-opacity: 0.292929\"/>\n    </g>\n   </g>\n   <g id=\"line2d_384\">\n    <defs>\n     <path id=\"m5fc7997057\" d=\"M 0 1.5 \nC 0.397805 1.5 0.77937 1.341951 1.06066 1.06066 \nC 1.341951 0.77937 1.5 0.397805 1.5 0 \nC 1.5 -0.397805 1.341951 -0.77937 1.06066 -1.06066 \nC 0.77937 -1.341951 0.397805 -1.5 0 -1.5 \nC -0.397805 -1.5 -0.77937 -1.341951 -1.06066 -1.06066 \nC -1.341951 -0.77937 -1.5 -0.397805 -1.5 0 \nC -1.5 0.397805 -1.341951 0.77937 -1.06066 1.06066 \nC -0.77937 1.341951 -0.397805 1.5 0 1.5 \nz\n\" style=\"stroke: #984ea3; stroke-opacity: 0.282828\"/>\n    </defs>\n    <g clip-path=\"url(#pd4cd23df7d)\">\n     <use xlink:href=\"#m5fc7997057\" x=\"285.871073\" y=\"126.994644\" style=\"fill: #984ea3; fill-opacity: 0.282828; stroke: #984ea3; stroke-opacity: 0.282828\"/>\n    </g>\n   </g>\n   <g id=\"line2d_385\">\n    <defs>\n     <path id=\"md8925700a5\" d=\"M 0 1.5 \nC 0.397805 1.5 0.77937 1.341951 1.06066 1.06066 \nC 1.341951 0.77937 1.5 0.397805 1.5 0 \nC 1.5 -0.397805 1.341951 -0.77937 1.06066 -1.06066 \nC 0.77937 -1.341951 0.397805 -1.5 0 -1.5 \nC -0.397805 -1.5 -0.77937 -1.341951 -1.06066 -1.06066 \nC -1.341951 -0.77937 -1.5 -0.397805 -1.5 0 \nC -1.5 0.397805 -1.341951 0.77937 -1.06066 1.06066 \nC -0.77937 1.341951 -0.397805 1.5 0 1.5 \nz\n\" style=\"stroke: #984ea3; stroke-opacity: 0.272727\"/>\n    </defs>\n    <g clip-path=\"url(#pd4cd23df7d)\">\n     <use xlink:href=\"#md8925700a5\" x=\"287.06074\" y=\"126.51083\" style=\"fill: #984ea3; fill-opacity: 0.272727; stroke: #984ea3; stroke-opacity: 0.272727\"/>\n    </g>\n   </g>\n   <g id=\"line2d_386\">\n    <defs>\n     <path id=\"md34b172614\" d=\"M 0 1.5 \nC 0.397805 1.5 0.77937 1.341951 1.06066 1.06066 \nC 1.341951 0.77937 1.5 0.397805 1.5 0 \nC 1.5 -0.397805 1.341951 -0.77937 1.06066 -1.06066 \nC 0.77937 -1.341951 0.397805 -1.5 0 -1.5 \nC -0.397805 -1.5 -0.77937 -1.341951 -1.06066 -1.06066 \nC -1.341951 -0.77937 -1.5 -0.397805 -1.5 0 \nC -1.5 0.397805 -1.341951 0.77937 -1.06066 1.06066 \nC -0.77937 1.341951 -0.397805 1.5 0 1.5 \nz\n\" style=\"stroke: #984ea3; stroke-opacity: 0.262626\"/>\n    </defs>\n    <g clip-path=\"url(#pd4cd23df7d)\">\n     <use xlink:href=\"#md34b172614\" x=\"288.214717\" y=\"125.97085\" style=\"fill: #984ea3; fill-opacity: 0.262626; stroke: #984ea3; stroke-opacity: 0.262626\"/>\n    </g>\n   </g>\n   <g id=\"line2d_387\">\n    <defs>\n     <path id=\"m2c32822ca5\" d=\"M 0 1.5 \nC 0.397805 1.5 0.77937 1.341951 1.06066 1.06066 \nC 1.341951 0.77937 1.5 0.397805 1.5 0 \nC 1.5 -0.397805 1.341951 -0.77937 1.06066 -1.06066 \nC 0.77937 -1.341951 0.397805 -1.5 0 -1.5 \nC -0.397805 -1.5 -0.77937 -1.341951 -1.06066 -1.06066 \nC -1.341951 -0.77937 -1.5 -0.397805 -1.5 0 \nC -1.5 0.397805 -1.341951 0.77937 -1.06066 1.06066 \nC -0.77937 1.341951 -0.397805 1.5 0 1.5 \nz\n\" style=\"stroke: #984ea3; stroke-opacity: 0.252525\"/>\n    </defs>\n    <g clip-path=\"url(#pd4cd23df7d)\">\n     <use xlink:href=\"#m2c32822ca5\" x=\"289.329962\" y=\"125.375713\" style=\"fill: #984ea3; fill-opacity: 0.252525; stroke: #984ea3; stroke-opacity: 0.252525\"/>\n    </g>\n   </g>\n   <g id=\"line2d_388\">\n    <defs>\n     <path id=\"m35a4e06a1d\" d=\"M 0 1.5 \nC 0.397805 1.5 0.77937 1.341951 1.06066 1.06066 \nC 1.341951 0.77937 1.5 0.397805 1.5 0 \nC 1.5 -0.397805 1.341951 -0.77937 1.06066 -1.06066 \nC 0.77937 -1.341951 0.397805 -1.5 0 -1.5 \nC -0.397805 -1.5 -0.77937 -1.341951 -1.06066 -1.06066 \nC -1.341951 -0.77937 -1.5 -0.397805 -1.5 0 \nC -1.5 0.397805 -1.341951 0.77937 -1.06066 1.06066 \nC -0.77937 1.341951 -0.397805 1.5 0 1.5 \nz\n\" style=\"stroke: #984ea3; stroke-opacity: 0.242424\"/>\n    </defs>\n    <g clip-path=\"url(#pd4cd23df7d)\">\n     <use xlink:href=\"#m35a4e06a1d\" x=\"290.403499\" y=\"124.726693\" style=\"fill: #984ea3; fill-opacity: 0.242424; stroke: #984ea3; stroke-opacity: 0.242424\"/>\n    </g>\n   </g>\n   <g id=\"line2d_389\">\n    <defs>\n     <path id=\"mf93a7a0a36\" d=\"M 0 1.5 \nC 0.397805 1.5 0.77937 1.341951 1.06066 1.06066 \nC 1.341951 0.77937 1.5 0.397805 1.5 0 \nC 1.5 -0.397805 1.341951 -0.77937 1.06066 -1.06066 \nC 0.77937 -1.341951 0.397805 -1.5 0 -1.5 \nC -0.397805 -1.5 -0.77937 -1.341951 -1.06066 -1.06066 \nC -1.341951 -0.77937 -1.5 -0.397805 -1.5 0 \nC -1.5 0.397805 -1.341951 0.77937 -1.06066 1.06066 \nC -0.77937 1.341951 -0.397805 1.5 0 1.5 \nz\n\" style=\"stroke: #984ea3; stroke-opacity: 0.232323\"/>\n    </defs>\n    <g clip-path=\"url(#pd4cd23df7d)\">\n     <use xlink:href=\"#mf93a7a0a36\" x=\"291.432427\" y=\"124.025324\" style=\"fill: #984ea3; fill-opacity: 0.232323; stroke: #984ea3; stroke-opacity: 0.232323\"/>\n    </g>\n   </g>\n   <g id=\"line2d_390\">\n    <defs>\n     <path id=\"mbf61805b57\" d=\"M 0 1.5 \nC 0.397805 1.5 0.77937 1.341951 1.06066 1.06066 \nC 1.341951 0.77937 1.5 0.397805 1.5 0 \nC 1.5 -0.397805 1.341951 -0.77937 1.06066 -1.06066 \nC 0.77937 -1.341951 0.397805 -1.5 0 -1.5 \nC -0.397805 -1.5 -0.77937 -1.341951 -1.06066 -1.06066 \nC -1.341951 -0.77937 -1.5 -0.397805 -1.5 0 \nC -1.5 0.397805 -1.341951 0.77937 -1.06066 1.06066 \nC -0.77937 1.341951 -0.397805 1.5 0 1.5 \nz\n\" style=\"stroke: #984ea3; stroke-opacity: 0.222222\"/>\n    </defs>\n    <g clip-path=\"url(#pd4cd23df7d)\">\n     <use xlink:href=\"#mbf61805b57\" x=\"292.413941\" y=\"123.273399\" style=\"fill: #984ea3; fill-opacity: 0.222222; stroke: #984ea3; stroke-opacity: 0.222222\"/>\n    </g>\n   </g>\n   <g id=\"line2d_391\">\n    <defs>\n     <path id=\"m77ee073fe5\" d=\"M 0 1.5 \nC 0.397805 1.5 0.77937 1.341951 1.06066 1.06066 \nC 1.341951 0.77937 1.5 0.397805 1.5 0 \nC 1.5 -0.397805 1.341951 -0.77937 1.06066 -1.06066 \nC 0.77937 -1.341951 0.397805 -1.5 0 -1.5 \nC -0.397805 -1.5 -0.77937 -1.341951 -1.06066 -1.06066 \nC -1.341951 -0.77937 -1.5 -0.397805 -1.5 0 \nC -1.5 0.397805 -1.341951 0.77937 -1.06066 1.06066 \nC -0.77937 1.341951 -0.397805 1.5 0 1.5 \nz\n\" style=\"stroke: #984ea3; stroke-opacity: 0.212121\"/>\n    </defs>\n    <g clip-path=\"url(#pd4cd23df7d)\">\n     <use xlink:href=\"#m77ee073fe5\" x=\"293.345344\" y=\"122.472958\" style=\"fill: #984ea3; fill-opacity: 0.212121; stroke: #984ea3; stroke-opacity: 0.212121\"/>\n    </g>\n   </g>\n   <g id=\"line2d_392\">\n    <defs>\n     <path id=\"m9e24a61112\" d=\"M 0 1.5 \nC 0.397805 1.5 0.77937 1.341951 1.06066 1.06066 \nC 1.341951 0.77937 1.5 0.397805 1.5 0 \nC 1.5 -0.397805 1.341951 -0.77937 1.06066 -1.06066 \nC 0.77937 -1.341951 0.397805 -1.5 0 -1.5 \nC -0.397805 -1.5 -0.77937 -1.341951 -1.06066 -1.06066 \nC -1.341951 -0.77937 -1.5 -0.397805 -1.5 0 \nC -1.5 0.397805 -1.341951 0.77937 -1.06066 1.06066 \nC -0.77937 1.341951 -0.397805 1.5 0 1.5 \nz\n\" style=\"stroke: #984ea3; stroke-opacity: 0.20202\"/>\n    </defs>\n    <g clip-path=\"url(#pd4cd23df7d)\">\n     <use xlink:href=\"#m9e24a61112\" x=\"294.22406\" y=\"121.626286\" style=\"fill: #984ea3; fill-opacity: 0.20202; stroke: #984ea3; stroke-opacity: 0.20202\"/>\n    </g>\n   </g>\n   <g id=\"line2d_393\">\n    <defs>\n     <path id=\"m0d14e24ca2\" d=\"M 0 1.5 \nC 0.397805 1.5 0.77937 1.341951 1.06066 1.06066 \nC 1.341951 0.77937 1.5 0.397805 1.5 0 \nC 1.5 -0.397805 1.341951 -0.77937 1.06066 -1.06066 \nC 0.77937 -1.341951 0.397805 -1.5 0 -1.5 \nC -0.397805 -1.5 -0.77937 -1.341951 -1.06066 -1.06066 \nC -1.341951 -0.77937 -1.5 -0.397805 -1.5 0 \nC -1.5 0.397805 -1.341951 0.77937 -1.06066 1.06066 \nC -0.77937 1.341951 -0.397805 1.5 0 1.5 \nz\n\" style=\"stroke: #984ea3; stroke-opacity: 0.191919\"/>\n    </defs>\n    <g clip-path=\"url(#pd4cd23df7d)\">\n     <use xlink:href=\"#m0d14e24ca2\" x=\"295.047646\" y=\"120.735907\" style=\"fill: #984ea3; fill-opacity: 0.191919; stroke: #984ea3; stroke-opacity: 0.191919\"/>\n    </g>\n   </g>\n   <g id=\"line2d_394\">\n    <defs>\n     <path id=\"m321835ad2f\" d=\"M 0 1.5 \nC 0.397805 1.5 0.77937 1.341951 1.06066 1.06066 \nC 1.341951 0.77937 1.5 0.397805 1.5 0 \nC 1.5 -0.397805 1.341951 -0.77937 1.06066 -1.06066 \nC 0.77937 -1.341951 0.397805 -1.5 0 -1.5 \nC -0.397805 -1.5 -0.77937 -1.341951 -1.06066 -1.06066 \nC -1.341951 -0.77937 -1.5 -0.397805 -1.5 0 \nC -1.5 0.397805 -1.341951 0.77937 -1.06066 1.06066 \nC -0.77937 1.341951 -0.397805 1.5 0 1.5 \nz\n\" style=\"stroke: #984ea3; stroke-opacity: 0.181818\"/>\n    </defs>\n    <g clip-path=\"url(#pd4cd23df7d)\">\n     <use xlink:href=\"#m321835ad2f\" x=\"295.81381\" y=\"119.804567\" style=\"fill: #984ea3; fill-opacity: 0.181818; stroke: #984ea3; stroke-opacity: 0.181818\"/>\n    </g>\n   </g>\n   <g id=\"line2d_395\">\n    <defs>\n     <path id=\"mf3a0e4420d\" d=\"M 0 1.5 \nC 0.397805 1.5 0.77937 1.341951 1.06066 1.06066 \nC 1.341951 0.77937 1.5 0.397805 1.5 0 \nC 1.5 -0.397805 1.341951 -0.77937 1.06066 -1.06066 \nC 0.77937 -1.341951 0.397805 -1.5 0 -1.5 \nC -0.397805 -1.5 -0.77937 -1.341951 -1.06066 -1.06066 \nC -1.341951 -0.77937 -1.5 -0.397805 -1.5 0 \nC -1.5 0.397805 -1.341951 0.77937 -1.06066 1.06066 \nC -0.77937 1.341951 -0.397805 1.5 0 1.5 \nz\n\" style=\"stroke: #984ea3; stroke-opacity: 0.171717\"/>\n    </defs>\n    <g clip-path=\"url(#pd4cd23df7d)\">\n     <use xlink:href=\"#mf3a0e4420d\" x=\"296.52042\" y=\"118.835236\" style=\"fill: #984ea3; fill-opacity: 0.171717; stroke: #984ea3; stroke-opacity: 0.171717\"/>\n    </g>\n   </g>\n   <g id=\"line2d_396\">\n    <defs>\n     <path id=\"m4adc78e78d\" d=\"M 0 1.5 \nC 0.397805 1.5 0.77937 1.341951 1.06066 1.06066 \nC 1.341951 0.77937 1.5 0.397805 1.5 0 \nC 1.5 -0.397805 1.341951 -0.77937 1.06066 -1.06066 \nC 0.77937 -1.341951 0.397805 -1.5 0 -1.5 \nC -0.397805 -1.5 -0.77937 -1.341951 -1.06066 -1.06066 \nC -1.341951 -0.77937 -1.5 -0.397805 -1.5 0 \nC -1.5 0.397805 -1.341951 0.77937 -1.06066 1.06066 \nC -0.77937 1.341951 -0.397805 1.5 0 1.5 \nz\n\" style=\"stroke: #984ea3; stroke-opacity: 0.161616\"/>\n    </defs>\n    <g clip-path=\"url(#pd4cd23df7d)\">\n     <use xlink:href=\"#m4adc78e78d\" x=\"297.165515\" y=\"117.831086\" style=\"fill: #984ea3; fill-opacity: 0.161616; stroke: #984ea3; stroke-opacity: 0.161616\"/>\n    </g>\n   </g>\n   <g id=\"line2d_397\">\n    <defs>\n     <path id=\"m5a0a388919\" d=\"M 0 1.5 \nC 0.397805 1.5 0.77937 1.341951 1.06066 1.06066 \nC 1.341951 0.77937 1.5 0.397805 1.5 0 \nC 1.5 -0.397805 1.341951 -0.77937 1.06066 -1.06066 \nC 0.77937 -1.341951 0.397805 -1.5 0 -1.5 \nC -0.397805 -1.5 -0.77937 -1.341951 -1.06066 -1.06066 \nC -1.341951 -0.77937 -1.5 -0.397805 -1.5 0 \nC -1.5 0.397805 -1.341951 0.77937 -1.06066 1.06066 \nC -0.77937 1.341951 -0.397805 1.5 0 1.5 \nz\n\" style=\"stroke: #984ea3; stroke-opacity: 0.151515\"/>\n    </defs>\n    <g clip-path=\"url(#pd4cd23df7d)\">\n     <use xlink:href=\"#m5a0a388919\" x=\"297.747319\" y=\"116.795488\" style=\"fill: #984ea3; fill-opacity: 0.151515; stroke: #984ea3; stroke-opacity: 0.151515\"/>\n    </g>\n   </g>\n   <g id=\"line2d_398\">\n    <defs>\n     <path id=\"m6d0a1ef529\" d=\"M 0 1.5 \nC 0.397805 1.5 0.77937 1.341951 1.06066 1.06066 \nC 1.341951 0.77937 1.5 0.397805 1.5 0 \nC 1.5 -0.397805 1.341951 -0.77937 1.06066 -1.06066 \nC 0.77937 -1.341951 0.397805 -1.5 0 -1.5 \nC -0.397805 -1.5 -0.77937 -1.341951 -1.06066 -1.06066 \nC -1.341951 -0.77937 -1.5 -0.397805 -1.5 0 \nC -1.5 0.397805 -1.341951 0.77937 -1.06066 1.06066 \nC -0.77937 1.341951 -0.397805 1.5 0 1.5 \nz\n\" style=\"stroke: #984ea3; stroke-opacity: 0.141414\"/>\n    </defs>\n    <g clip-path=\"url(#pd4cd23df7d)\">\n     <use xlink:href=\"#m6d0a1ef529\" x=\"298.264251\" y=\"115.731996\" style=\"fill: #984ea3; fill-opacity: 0.141414; stroke: #984ea3; stroke-opacity: 0.141414\"/>\n    </g>\n   </g>\n   <g id=\"line2d_399\">\n    <defs>\n     <path id=\"m0e9db39533\" d=\"M 0 1.5 \nC 0.397805 1.5 0.77937 1.341951 1.06066 1.06066 \nC 1.341951 0.77937 1.5 0.397805 1.5 0 \nC 1.5 -0.397805 1.341951 -0.77937 1.06066 -1.06066 \nC 0.77937 -1.341951 0.397805 -1.5 0 -1.5 \nC -0.397805 -1.5 -0.77937 -1.341951 -1.06066 -1.06066 \nC -1.341951 -0.77937 -1.5 -0.397805 -1.5 0 \nC -1.5 0.397805 -1.341951 0.77937 -1.06066 1.06066 \nC -0.77937 1.341951 -0.397805 1.5 0 1.5 \nz\n\" style=\"stroke: #984ea3; stroke-opacity: 0.131313\"/>\n    </defs>\n    <g clip-path=\"url(#pd4cd23df7d)\">\n     <use xlink:href=\"#m0e9db39533\" x=\"298.714935\" y=\"114.644334\" style=\"fill: #984ea3; fill-opacity: 0.131313; stroke: #984ea3; stroke-opacity: 0.131313\"/>\n    </g>\n   </g>\n   <g id=\"line2d_400\">\n    <defs>\n     <path id=\"m97d77932fd\" d=\"M 0 1.5 \nC 0.397805 1.5 0.77937 1.341951 1.06066 1.06066 \nC 1.341951 0.77937 1.5 0.397805 1.5 0 \nC 1.5 -0.397805 1.341951 -0.77937 1.06066 -1.06066 \nC 0.77937 -1.341951 0.397805 -1.5 0 -1.5 \nC -0.397805 -1.5 -0.77937 -1.341951 -1.06066 -1.06066 \nC -1.341951 -0.77937 -1.5 -0.397805 -1.5 0 \nC -1.5 0.397805 -1.341951 0.77937 -1.06066 1.06066 \nC -0.77937 1.341951 -0.397805 1.5 0 1.5 \nz\n\" style=\"stroke: #984ea3; stroke-opacity: 0.121212\"/>\n    </defs>\n    <g clip-path=\"url(#pd4cd23df7d)\">\n     <use xlink:href=\"#m97d77932fd\" x=\"299.098207\" y=\"113.536384\" style=\"fill: #984ea3; fill-opacity: 0.121212; stroke: #984ea3; stroke-opacity: 0.121212\"/>\n    </g>\n   </g>\n   <g id=\"line2d_401\">\n    <defs>\n     <path id=\"m87ec9dc619\" d=\"M 0 1.5 \nC 0.397805 1.5 0.77937 1.341951 1.06066 1.06066 \nC 1.341951 0.77937 1.5 0.397805 1.5 0 \nC 1.5 -0.397805 1.341951 -0.77937 1.06066 -1.06066 \nC 0.77937 -1.341951 0.397805 -1.5 0 -1.5 \nC -0.397805 -1.5 -0.77937 -1.341951 -1.06066 -1.06066 \nC -1.341951 -0.77937 -1.5 -0.397805 -1.5 0 \nC -1.5 0.397805 -1.341951 0.77937 -1.06066 1.06066 \nC -0.77937 1.341951 -0.397805 1.5 0 1.5 \nz\n\" style=\"stroke: #984ea3; stroke-opacity: 0.111111\"/>\n    </defs>\n    <g clip-path=\"url(#pd4cd23df7d)\">\n     <use xlink:href=\"#m87ec9dc619\" x=\"299.413129\" y=\"112.412169\" style=\"fill: #984ea3; fill-opacity: 0.111111; stroke: #984ea3; stroke-opacity: 0.111111\"/>\n    </g>\n   </g>\n   <g id=\"line2d_402\">\n    <defs>\n     <path id=\"m2b1d9a900a\" d=\"M 0 1.5 \nC 0.397805 1.5 0.77937 1.341951 1.06066 1.06066 \nC 1.341951 0.77937 1.5 0.397805 1.5 0 \nC 1.5 -0.397805 1.341951 -0.77937 1.06066 -1.06066 \nC 0.77937 -1.341951 0.397805 -1.5 0 -1.5 \nC -0.397805 -1.5 -0.77937 -1.341951 -1.06066 -1.06066 \nC -1.341951 -0.77937 -1.5 -0.397805 -1.5 0 \nC -1.5 0.397805 -1.341951 0.77937 -1.06066 1.06066 \nC -0.77937 1.341951 -0.397805 1.5 0 1.5 \nz\n\" style=\"stroke: #984ea3; stroke-opacity: 0.10101\"/>\n    </defs>\n    <g clip-path=\"url(#pd4cd23df7d)\">\n     <use xlink:href=\"#m2b1d9a900a\" x=\"299.65899\" y=\"111.275843\" style=\"fill: #984ea3; fill-opacity: 0.10101; stroke: #984ea3; stroke-opacity: 0.10101\"/>\n    </g>\n   </g>\n   <g id=\"line2d_403\">\n    <defs>\n     <path id=\"m856e4076b8\" d=\"M 0 1.5 \nC 0.397805 1.5 0.77937 1.341951 1.06066 1.06066 \nC 1.341951 0.77937 1.5 0.397805 1.5 0 \nC 1.5 -0.397805 1.341951 -0.77937 1.06066 -1.06066 \nC 0.77937 -1.341951 0.397805 -1.5 0 -1.5 \nC -0.397805 -1.5 -0.77937 -1.341951 -1.06066 -1.06066 \nC -1.341951 -0.77937 -1.5 -0.397805 -1.5 0 \nC -1.5 0.397805 -1.341951 0.77937 -1.06066 1.06066 \nC -0.77937 1.341951 -0.397805 1.5 0 1.5 \nz\n\" style=\"stroke: #984ea3; stroke-opacity: 0.090909\"/>\n    </defs>\n    <g clip-path=\"url(#pd4cd23df7d)\">\n     <use xlink:href=\"#m856e4076b8\" x=\"299.835318\" y=\"110.131667\" style=\"fill: #984ea3; fill-opacity: 0.090909; stroke: #984ea3; stroke-opacity: 0.090909\"/>\n    </g>\n   </g>\n   <g id=\"line2d_404\">\n    <defs>\n     <path id=\"m8f8b4c79ce\" d=\"M 0 1.5 \nC 0.397805 1.5 0.77937 1.341951 1.06066 1.06066 \nC 1.341951 0.77937 1.5 0.397805 1.5 0 \nC 1.5 -0.397805 1.341951 -0.77937 1.06066 -1.06066 \nC 0.77937 -1.341951 0.397805 -1.5 0 -1.5 \nC -0.397805 -1.5 -0.77937 -1.341951 -1.06066 -1.06066 \nC -1.341951 -0.77937 -1.5 -0.397805 -1.5 0 \nC -1.5 0.397805 -1.341951 0.77937 -1.06066 1.06066 \nC -0.77937 1.341951 -0.397805 1.5 0 1.5 \nz\n\" style=\"stroke: #984ea3; stroke-opacity: 0.080808\"/>\n    </defs>\n    <g clip-path=\"url(#pd4cd23df7d)\">\n     <use xlink:href=\"#m8f8b4c79ce\" x=\"299.941885\" y=\"108.984001\" style=\"fill: #984ea3; fill-opacity: 0.080808; stroke: #984ea3; stroke-opacity: 0.080808\"/>\n    </g>\n   </g>\n   <g id=\"line2d_405\">\n    <defs>\n     <path id=\"me60b75c770\" d=\"M 0 1.5 \nC 0.397805 1.5 0.77937 1.341951 1.06066 1.06066 \nC 1.341951 0.77937 1.5 0.397805 1.5 0 \nC 1.5 -0.397805 1.341951 -0.77937 1.06066 -1.06066 \nC 0.77937 -1.341951 0.397805 -1.5 0 -1.5 \nC -0.397805 -1.5 -0.77937 -1.341951 -1.06066 -1.06066 \nC -1.341951 -0.77937 -1.5 -0.397805 -1.5 0 \nC -1.5 0.397805 -1.341951 0.77937 -1.06066 1.06066 \nC -0.77937 1.341951 -0.397805 1.5 0 1.5 \nz\n\" style=\"stroke: #984ea3; stroke-opacity: 0.070707\"/>\n    </defs>\n    <g clip-path=\"url(#pd4cd23df7d)\">\n     <use xlink:href=\"#me60b75c770\" x=\"299.978709\" y=\"107.837284\" style=\"fill: #984ea3; fill-opacity: 0.070707; stroke: #984ea3; stroke-opacity: 0.070707\"/>\n    </g>\n   </g>\n   <g id=\"line2d_406\">\n    <defs>\n     <path id=\"m447e774a53\" d=\"M 0 1.5 \nC 0.397805 1.5 0.77937 1.341951 1.06066 1.06066 \nC 1.341951 0.77937 1.5 0.397805 1.5 0 \nC 1.5 -0.397805 1.341951 -0.77937 1.06066 -1.06066 \nC 0.77937 -1.341951 0.397805 -1.5 0 -1.5 \nC -0.397805 -1.5 -0.77937 -1.341951 -1.06066 -1.06066 \nC -1.341951 -0.77937 -1.5 -0.397805 -1.5 0 \nC -1.5 0.397805 -1.341951 0.77937 -1.06066 1.06066 \nC -0.77937 1.341951 -0.397805 1.5 0 1.5 \nz\n\" style=\"stroke: #984ea3; stroke-opacity: 0.060606\"/>\n    </defs>\n    <g clip-path=\"url(#pd4cd23df7d)\">\n     <use xlink:href=\"#m447e774a53\" x=\"299.946065\" y=\"106.696016\" style=\"fill: #984ea3; fill-opacity: 0.060606; stroke: #984ea3; stroke-opacity: 0.060606\"/>\n    </g>\n   </g>\n   <g id=\"line2d_407\">\n    <defs>\n     <path id=\"m5dbc493dbf\" d=\"M 0 1.5 \nC 0.397805 1.5 0.77937 1.341951 1.06066 1.06066 \nC 1.341951 0.77937 1.5 0.397805 1.5 0 \nC 1.5 -0.397805 1.341951 -0.77937 1.06066 -1.06066 \nC 0.77937 -1.341951 0.397805 -1.5 0 -1.5 \nC -0.397805 -1.5 -0.77937 -1.341951 -1.06066 -1.06066 \nC -1.341951 -0.77937 -1.5 -0.397805 -1.5 0 \nC -1.5 0.397805 -1.341951 0.77937 -1.06066 1.06066 \nC -0.77937 1.341951 -0.397805 1.5 0 1.5 \nz\n\" style=\"stroke: #984ea3; stroke-opacity: 0.050505\"/>\n    </defs>\n    <g clip-path=\"url(#pd4cd23df7d)\">\n     <use xlink:href=\"#m5dbc493dbf\" x=\"299.844479\" y=\"105.564741\" style=\"fill: #984ea3; fill-opacity: 0.050505; stroke: #984ea3; stroke-opacity: 0.050505\"/>\n    </g>\n   </g>\n   <g id=\"line2d_408\">\n    <defs>\n     <path id=\"m13ff47e3db\" d=\"M 0 1.5 \nC 0.397805 1.5 0.77937 1.341951 1.06066 1.06066 \nC 1.341951 0.77937 1.5 0.397805 1.5 0 \nC 1.5 -0.397805 1.341951 -0.77937 1.06066 -1.06066 \nC 0.77937 -1.341951 0.397805 -1.5 0 -1.5 \nC -0.397805 -1.5 -0.77937 -1.341951 -1.06066 -1.06066 \nC -1.341951 -0.77937 -1.5 -0.397805 -1.5 0 \nC -1.5 0.397805 -1.341951 0.77937 -1.06066 1.06066 \nC -0.77937 1.341951 -0.397805 1.5 0 1.5 \nz\n\" style=\"stroke: #984ea3; stroke-opacity: 0.040404\"/>\n    </defs>\n    <g clip-path=\"url(#pd4cd23df7d)\">\n     <use xlink:href=\"#m13ff47e3db\" x=\"299.674738\" y=\"104.448033\" style=\"fill: #984ea3; fill-opacity: 0.040404; stroke: #984ea3; stroke-opacity: 0.040404\"/>\n    </g>\n   </g>\n   <g id=\"line2d_409\">\n    <defs>\n     <path id=\"mcc8318e52f\" d=\"M 0 1.5 \nC 0.397805 1.5 0.77937 1.341951 1.06066 1.06066 \nC 1.341951 0.77937 1.5 0.397805 1.5 0 \nC 1.5 -0.397805 1.341951 -0.77937 1.06066 -1.06066 \nC 0.77937 -1.341951 0.397805 -1.5 0 -1.5 \nC -0.397805 -1.5 -0.77937 -1.341951 -1.06066 -1.06066 \nC -1.341951 -0.77937 -1.5 -0.397805 -1.5 0 \nC -1.5 0.397805 -1.341951 0.77937 -1.06066 1.06066 \nC -0.77937 1.341951 -0.397805 1.5 0 1.5 \nz\n\" style=\"stroke: #984ea3; stroke-opacity: 0.030303\"/>\n    </defs>\n    <g clip-path=\"url(#pd4cd23df7d)\">\n     <use xlink:href=\"#mcc8318e52f\" x=\"299.43789\" y=\"103.350472\" style=\"fill: #984ea3; fill-opacity: 0.030303; stroke: #984ea3; stroke-opacity: 0.030303\"/>\n    </g>\n   </g>\n   <g id=\"line2d_410\">\n    <defs>\n     <path id=\"m538b9af711\" d=\"M 0 1.5 \nC 0.397805 1.5 0.77937 1.341951 1.06066 1.06066 \nC 1.341951 0.77937 1.5 0.397805 1.5 0 \nC 1.5 -0.397805 1.341951 -0.77937 1.06066 -1.06066 \nC 0.77937 -1.341951 0.397805 -1.5 0 -1.5 \nC -0.397805 -1.5 -0.77937 -1.341951 -1.06066 -1.06066 \nC -1.341951 -0.77937 -1.5 -0.397805 -1.5 0 \nC -1.5 0.397805 -1.341951 0.77937 -1.06066 1.06066 \nC -0.77937 1.341951 -0.397805 1.5 0 1.5 \nz\n\" style=\"stroke: #984ea3; stroke-opacity: 0.020202\"/>\n    </defs>\n    <g clip-path=\"url(#pd4cd23df7d)\">\n     <use xlink:href=\"#m538b9af711\" x=\"299.13524\" y=\"102.27663\" style=\"fill: #984ea3; fill-opacity: 0.020202; stroke: #984ea3; stroke-opacity: 0.020202\"/>\n    </g>\n   </g>\n   <g id=\"line2d_411\">\n    <defs>\n     <path id=\"m437587c335\" d=\"M 0 1.5 \nC 0.397805 1.5 0.77937 1.341951 1.06066 1.06066 \nC 1.341951 0.77937 1.5 0.397805 1.5 0 \nC 1.5 -0.397805 1.341951 -0.77937 1.06066 -1.06066 \nC 0.77937 -1.341951 0.397805 -1.5 0 -1.5 \nC -0.397805 -1.5 -0.77937 -1.341951 -1.06066 -1.06066 \nC -1.341951 -0.77937 -1.5 -0.397805 -1.5 0 \nC -1.5 0.397805 -1.341951 0.77937 -1.06066 1.06066 \nC -0.77937 1.341951 -0.397805 1.5 0 1.5 \nz\n\" style=\"stroke: #984ea3; stroke-opacity: 0.010101\"/>\n    </defs>\n    <g clip-path=\"url(#pd4cd23df7d)\">\n     <use xlink:href=\"#m437587c335\" x=\"298.768354\" y=\"101.231055\" style=\"fill: #984ea3; fill-opacity: 0.010101; stroke: #984ea3; stroke-opacity: 0.010101\"/>\n    </g>\n   </g>\n   <g id=\"line2d_412\">\n    <defs>\n     <path id=\"m10c3cd0d93\" d=\"M 0 3 \nC 0.795609 3 1.55874 2.683901 2.12132 2.12132 \nC 2.683901 1.55874 3 0.795609 3 0 \nC 3 -0.795609 2.683901 -1.55874 2.12132 -2.12132 \nC 1.55874 -2.683901 0.795609 -3 0 -3 \nC -0.795609 -3 -1.55874 -2.683901 -2.12132 -2.12132 \nC -2.683901 -1.55874 -3 -0.795609 -3 0 \nC -3 0.795609 -2.683901 1.55874 -2.12132 2.12132 \nC -1.55874 2.683901 -0.795609 3 0 3 \nz\n\" style=\"stroke: #984ea3\"/>\n    </defs>\n    <g clip-path=\"url(#pd4cd23df7d)\">\n     <use xlink:href=\"#m10c3cd0d93\" x=\"189.452301\" y=\"138.595537\" style=\"fill: #984ea3; stroke: #984ea3\"/>\n    </g>\n   </g>\n   <g id=\"line2d_413\">\n    <path d=\"M 193.815324 111.286109 \nL 189.452301 138.595537 \n\" clip-path=\"url(#pd4cd23df7d)\" style=\"fill: none; stroke: #808080; stroke-opacity: 0.1; stroke-width: 2; stroke-linecap: square\"/>\n   </g>\n   <g id=\"line2d_414\">\n    <path d=\"M 124.708167 87.546847 \nL 102.302866 167.917388 \n\" clip-path=\"url(#pd4cd23df7d)\" style=\"fill: none; stroke: #808080; stroke-opacity: 0.1; stroke-width: 2; stroke-linecap: square\"/>\n   </g>\n   <g id=\"line2d_415\">\n    <path d=\"M 102.302866 167.917388 \nL 124.708167 87.546847 \n\" clip-path=\"url(#pd4cd23df7d)\" style=\"fill: none; stroke: #808080; stroke-opacity: 0.1; stroke-width: 2; stroke-linecap: square\"/>\n   </g>\n   <g id=\"line2d_416\">\n    <path d=\"M 102.302866 167.917388 \nL 189.452301 138.595537 \n\" clip-path=\"url(#pd4cd23df7d)\" style=\"fill: none; stroke: #808080; stroke-opacity: 0.1; stroke-width: 2; stroke-linecap: square\"/>\n   </g>\n   <g id=\"line2d_417\">\n    <path d=\"M 189.452301 138.595537 \nL 193.815324 111.286109 \n\" clip-path=\"url(#pd4cd23df7d)\" style=\"fill: none; stroke: #808080; stroke-opacity: 0.1; stroke-width: 2; stroke-linecap: square\"/>\n   </g>\n   <g id=\"line2d_418\">\n    <path d=\"M 189.452301 138.595537 \nL 102.302866 167.917388 \n\" clip-path=\"url(#pd4cd23df7d)\" style=\"fill: none; stroke: #808080; stroke-opacity: 0.1; stroke-width: 2; stroke-linecap: square\"/>\n   </g>\n   <g id=\"patch_3\">\n    <path d=\"M 38.482813 228.439219 \nL 38.482813 10.999219 \n\" style=\"fill: none; stroke: #000000; stroke-width: 0.8; stroke-linejoin: miter; stroke-linecap: square\"/>\n   </g>\n   <g id=\"patch_4\">\n    <path d=\"M 261.682813 228.439219 \nL 261.682813 10.999219 \n\" style=\"fill: none; stroke: #000000; stroke-width: 0.8; stroke-linejoin: miter; stroke-linecap: square\"/>\n   </g>\n   <g id=\"patch_5\">\n    <path d=\"M 38.482813 228.439219 \nL 261.682813 228.439219 \n\" style=\"fill: none; stroke: #000000; stroke-width: 0.8; stroke-linejoin: miter; stroke-linecap: square\"/>\n   </g>\n   <g id=\"patch_6\">\n    <path d=\"M 38.482813 10.999219 \nL 261.682813 10.999219 \n\" style=\"fill: none; stroke: #000000; stroke-width: 0.8; stroke-linejoin: miter; stroke-linecap: square\"/>\n   </g>\n  </g>\n </g>\n <defs>\n  <clipPath id=\"pd4cd23df7d\">\n   <rect x=\"38.482813\" y=\"10.999219\" width=\"223.2\" height=\"217.44\"/>\n  </clipPath>\n </defs>\n</svg>\n",
            "text/plain": [
              "<Figure size 400x400 with 1 Axes>"
            ]
          },
          "metadata": {
            "needs_background": "light"
          },
          "output_type": "display_data"
        }
      ],
      "source": [
        "#@title Plot one of the trajectories\n",
        "\n",
        "plt.figure(figsize=(4, 4), dpi=100)\n",
        "axes = plt.gca()\n",
        "axes.set_xlim([-2, 2])\n",
        "axes.set_ylim([-1.5, 1.5])\n",
        "\n",
        "which_set =  \"test\" #@param {type:\"string\"} [\"train\", \"valid\", \"test\"]\n",
        "example_index =  2#@param {type:\"integer\"}\n",
        "\n",
        "\n",
        "if which_set == \"train\":\n",
        "  loc, vel, edges = loc_train, vel_train, edges_train\n",
        "elif which_set == \"val\":\n",
        "  loc, vel, edges = loc_valid, vel_valid, edges_valid\n",
        "else:\n",
        "  loc, vel, edges = loc_test, vel_test, edges_test\n",
        "assert example_index >= 0 and example_index < loc.shape[0], \\\n",
        "    \"Need valid dataset index!\"\n",
        "loc, vel, edges = loc[example_index], vel[example_index], edges[example_index]\n",
        "\n",
        "\n",
        "start = 0.0\n",
        "stop = 1.0\n",
        "number_of_lines= 10\n",
        "cm_subsection = linspace(start, stop, number_of_lines) \n",
        "\n",
        "colors = [ cm.Set1(x) for x in cm_subsection ]\n",
        "\n",
        "def softplus(x):\n",
        "    return np.log(1.0 + np.exp(x))\n",
        "\n",
        "for i in range(loc.shape[-1]):\n",
        "    for t in range(loc.shape[0]):\n",
        "        plt.plot(loc[t, 0, i], loc[t, 1, i], 'o', markersize=3, color=colors[i], alpha=1 -(float(t)/loc.shape[0]))\n",
        "    plt.plot(loc[0, 0, i], loc[0, 1, i], 'o', color=colors[i])\n",
        "  \n",
        "x,y = np.where(edges)\n",
        "edges_all = np.vstack((x,y)).T\n",
        "\n",
        "for i, edge in enumerate(edges_all):\n",
        "    axes.add_line(Line2D([loc[0, 0, edge[0]], \n",
        "                    loc[0, 0, edge[1]]], \n",
        "                   [loc[0, 1, edge[0]], \n",
        "                    loc[0, 1, edge[1]]], \n",
        "                   linewidth=2, color='grey', alpha=0.1))\n",
        "\n",
        "plt.savefig(\"springs.pdf\")"
      ]
    },
    {
      "cell_type": "markdown",
      "metadata": {
        "id": "UnN64MCAYg5U"
      },
      "source": [
        "📜  To sum up, we now have access to the following variables, for each `split` $\\in$ `{train, valid, test}`: \\\\\n",
        "  - `loc_{split}_inputs`: positions for the input data `(n_samples x n_timesteps x 2 x n_balls)` \\\\\n",
        "  - `loc_{split}_targets`: positions for the target data (inputs shifted by 1 position) `(n_samples x n_timesteps x 2 x n_balls)` \\\\\n",
        "  - `edges_{split}`: the ground-truth connectivity used by the simulation (constant across the entire trajectory)` (n_samples x n_balls x n_balls)`\n"
      ]
    },
    {
      "cell_type": "markdown",
      "metadata": {
        "id": "RQcej2nv60EB"
      },
      "source": [
        "# 🕸 Part 2: Representing graphs"
      ]
    },
    {
      "cell_type": "markdown",
      "metadata": {
        "id": "hraIhj4ochQB"
      },
      "source": [
        "A graph is a mathematical structure described as a tuple $\\mathcal{G} = (V, E)$, where $V$ is a set of nodes and $E \\subseteq (V \\times V$) is the set of edges in the graph. Each pair $(u,v) \\in E$ indicates that nodes $u$ and $v$ are connected.\n",
        "\n",
        "\n"
      ]
    },
    {
      "cell_type": "markdown",
      "metadata": {
        "id": "SZH8fgC1BRQh"
      },
      "source": [
        "---\n",
        "\n",
        "**Graph input.** For a graph we represent the node \n",
        "features as a matrix $X \\in \\mathbb{R}^{n \\times d}$, where \n",
        "each row $x_i \\in \\mathbb{R}^d$ represents the features for node $u_i$. \n",
        "\n",
        "To describe the graph connectivity, we can use an **adjacency matrix** $A \\in \\mathbb{R}^{n \\times n}$ where $a_{i,j} = 1$ if there is an edge between nodes $u_i$ and $u_j$, and $a_{i,j} = 0$ otherwise.\n",
        "\n",
        "Another - more compact way - of representing the connectivity is through an **adjacency list** $E \\in \\mathbb{R}^{2 \\times m}$, where $m$ represents the number of edges and $(u_i, u_j) \\in E$ indicates an edge between nodes $u_i$ and $u_j$."
      ]
    },
    {
      "cell_type": "markdown",
      "metadata": {
        "id": "8XFg8bNlnNk5"
      },
      "source": [
        "**Graph output.** Depending on the problem that we want to solve, graph tasks may be split into 3 categories:\n",
        "\n",
        "* **node-level** classification: we predict an output for each node (left);\n",
        "* **edge-level** classification: we predict an output for each edge (center).\n",
        "* **graph-level** classification: we predict a single output for the entire graph (right);\n"
      ]
    },
    {
      "cell_type": "markdown",
      "metadata": {
        "id": "kAmwhHyhoxrd"
      },
      "source": [
        "<img src=\"https://drive.google.com/uc?export=view&id=1ZGdGCzR6MmQnQZuH__I5JltannhHfjem\"  width=\"800\">"
      ]
    },
    {
      "cell_type": "markdown",
      "metadata": {
        "id": "d5RE7kZ9pR2x"
      },
      "source": [
        "<details>\n",
        "<summary> 💻 <b>Q:</b> Which category does the dynamic modeling of moving particles belong to? </summary>\n",
        "\n",
        " **A:** Our dynamic prediction task aims to output the position of each object at each time step in the future. Thus, we can model this as a **node-level classification problem**.\n",
        "</details>\n"
      ]
    },
    {
      "cell_type": "markdown",
      "metadata": {
        "id": "M69p3PMugf_t"
      },
      "source": [
        "**`Data` structure.** To process the data more easily, we will use the [`torch_geometric.data.Data`](https://pytorch-geometric.readthedocs.io/en/latest/modules/data.html#torch_geometric.data.Data) structure from [Pytorch Geometric](https://pytorch-geometric.readthedocs.io/en/latest/), designed to store graph-structured information, and [`torch_geometric.data.Dataset`](...), designed to create custom graph datasets.\n",
        "\n",
        "The code\n",
        "\n",
        "> `graph = Data(x=x, y=y, edge_index=edge_index, ...)`\n",
        "\n",
        "creates a graph with features `x`, labels `y` and the connectivity described as an _adjacency list_ `edge_index`.\n",
        "\n"
      ]
    },
    {
      "cell_type": "code",
      "execution_count": null,
      "metadata": {
        "id": "H1-At6xDC7lG"
      },
      "outputs": [],
      "source": [
        "from torch_geometric.data import Data\n",
        "\n",
        "# Use the Data structure to create a sample graph.\n",
        "graph = Data(x=torch.rand((3,32)), \n",
        "               y=torch.rand((1)), \n",
        "               edge_index=torch.tensor([[0,0,0,1,1,1,2,2,2],[0,1,2,0,1,2,0,1,2]]))\n",
        "\n",
        "print(graph)\n",
        "print(\"Number of nodes:\", graph.num_nodes)\n",
        "print(\"Shape of node features:\", graph.x.shape)\n",
        "print(\"Shape of node labels:\", graph.y.shape)"
      ]
    },
    {
      "cell_type": "markdown",
      "metadata": {
        "id": "GuD59J1pB01Z"
      },
      "source": [
        "**`SpringDataset` structure.** For our custom `SpringDataset` class, we have to implement the following functions:\n",
        "\n",
        "* the constructor, which will provide the input location, target location and the connectivity for all the trajectories in the dataset:\n",
        "\n",
        "> `__init__(self, loc_inputs, loc_targets, edges_train, f)`\n",
        "\n",
        "* a function to indicate the number of samples in the dataset:\n",
        "\n",
        "> `__len__(self)`\n",
        "\n",
        "* a getter function:\n",
        "\n",
        "> `__getitem__(self, idx)`\n",
        "\n",
        "that returns the `idx'`th trajectory of the dataset, in the form of a single graph: `Data(edge_index=edge_index, x=x, y=y, timesteps=timesteps)`, where $x \\in \\mathbb{R}^{n_{nodes}~\\times~(dim~*~n_{timesteps})}$, $y \\in \\mathbb{R}^{n_{nodes}~\\times~dim~\\times~n_{timesteps}}$ and $\\textit{edge}\\_{\\textit{index}} \\in{\\mathbb{R}^{2~\\times~n_{edges}}}$ denotes the connectivity for the entire trajectory. "
      ]
    },
    {
      "cell_type": "markdown",
      "metadata": {
        "id": "YzVs2yw9lhp3"
      },
      "source": [
        "⚠️ **Note:** The input for our model is a sequence of graphs describing the observed trajectory at each time step. However, in our `SpringDataset`, instead of having a sequence of graphs, one for each timestep, we represent the entire trajectory as a _single graph_, where the node features associated with each node $i$ store information about node $i$ along the entire sequence: $x_i \\in \\mathbb{R}^{dim~*~n_{\\textit{timesteps}}}$. This works since the graph connectivity does not change along the trajectory."
      ]
    },
    {
      "cell_type": "markdown",
      "metadata": {
        "id": "MCMFrTx-FrrK"
      },
      "source": [
        "🧪 Let's create the datasets based on the trajectories generated above:"
      ]
    },
    {
      "cell_type": "code",
      "execution_count": null,
      "metadata": {
        "id": "sJMjzLikojvp"
      },
      "outputs": [],
      "source": [
        "from torch_geometric.data import Dataset\n",
        "\n",
        "class SpringDataset(Dataset):\n",
        "    \"\"\" Dataset to store Spring trajectories. \"\"\"\n",
        "\n",
        "    def __init__(self, loc_inputs, loc_targets, edges, timesteps):\n",
        "        \"\"\"\n",
        "        Args:\n",
        "            loc_inputs: location for the input sequence n_sample x n_timesteps x dim x n_nodes\n",
        "            loc_targets: location for the target sequence n_sample x n_timesteps x dim x n_nodes\n",
        "            edges: node connectivity for each trajectory: n_sample x n_nodes x n_nodes\n",
        "            timesteps: the length of the trajectory\n",
        "        \"\"\"\n",
        "        super(SpringDataset, self).__init__()\n",
        "\n",
        "        self.dim = loc_targets.shape[2]\n",
        "        # -> n_samples x n_nodes x dim x n_timesteps\n",
        "        loc_targets = np.transpose(loc_targets,[0,3,2,1]) \n",
        "\n",
        "        # Stack the features for all timesteps, s.t. we can describe the entire\n",
        "        # trajectory as a single graph:\n",
        "        # loc_*: n_samples x n_timesteps x dim x n_nodes ->\n",
        "        #        n_samples x n_nodes x dim x n_timesteps -> \n",
        "        #        n_samples x n_nodes x (dim x n_timesteps).\n",
        "        loc_inputs = np.transpose(loc_inputs,[0,3,2,1])\n",
        "        loc_inputs = loc_inputs.reshape((loc_inputs.shape[0], loc_inputs.shape[1], -1))\n",
        "        \n",
        "        self.edges = edges\n",
        "        self.loc_inputs = loc_inputs\n",
        "        self.loc_targets = loc_targets\n",
        "        self.timesteps = timesteps\n",
        "\n",
        "    def __len__(self):\n",
        "        return self.edges.shape[0]\n",
        "\n",
        "    def __getitem__(self, idx):\n",
        "        crt_edge_adj = self.edges[idx]\n",
        "        crt_loc_inputs = self.loc_inputs[idx]\n",
        "        crt_loc_targets = self.loc_targets[idx]\n",
        "\n",
        "        # Convert the adjacency matrix to an adjacency list.\n",
        "        edge_index = torch.tensor(np.array(np.where(crt_edge_adj)))\n",
        "        x = torch.tensor(crt_loc_inputs).to(torch.float32) \n",
        "        y = torch.tensor(crt_loc_targets).to(torch.float32) \n",
        "\n",
        "        # Create a graph with `x` as features, `y` as labels and its\n",
        "        # connectivity given by `edge_index`.\n",
        "        graph = Data(edge_index=edge_index, x=x, y=y, timesteps=self.timesteps)\n",
        "        return graph"
      ]
    },
    {
      "cell_type": "code",
      "execution_count": null,
      "metadata": {
        "id": "Fd3sbc7eSXUr"
      },
      "outputs": [],
      "source": [
        "import pdb\n",
        "from torch_geometric.data import Data, DataLoader\n",
        "# Create one dataset for each split and one data loader for each dataset.\n",
        "\n",
        "BATCH_SIZE = 64#@param {type:\"integer\"}\n",
        "DEVICE = 'cuda'#@param {type:\"string\"}\n",
        "\n",
        "timesteps = loc_train_targets.shape[1]\n",
        "train_dataset = SpringDataset(loc_train_inputs, loc_train_targets, edges_train, timesteps)\n",
        "train_loader = DataLoader(train_dataset, batch_size=BATCH_SIZE, shuffle=True)\n",
        "\n",
        "valid_dataset = SpringDataset(loc_valid_inputs, loc_valid_targets, edges_valid, timesteps)\n",
        "valid_loader = DataLoader(valid_dataset, batch_size=BATCH_SIZE, shuffle=False)\n",
        "\n",
        "# The test trajectories should be at least 2 times as long as the train/val ones\n",
        "test_dataset = SpringDataset(loc_test_inputs, loc_test_targets, edges_test, 2*timesteps)\n",
        "test_loader = DataLoader(test_dataset, batch_size=BATCH_SIZE, shuffle=False)"
      ]
    },
    {
      "cell_type": "markdown",
      "metadata": {
        "id": "oer7_wF9FmU3"
      },
      "source": [
        "Let's explore what we generated:"
      ]
    },
    {
      "cell_type": "code",
      "execution_count": null,
      "metadata": {
        "id": "lTkex3neF1G9"
      },
      "outputs": [],
      "source": [
        "# This is a Data object containing the first graph in the train dataset.\n",
        "one_sample_graph = train_dataset[0] \n",
        "\n",
        "# This is a Data object containing a batch of graphs.\n",
        "_, batch_graph = next(enumerate(train_loader))\n",
        "\n",
        "print(\"Num nodes for one graph: \", one_sample_graph.num_nodes)\n",
        "print(\"Num nodes for one batch: \", batch_graph.num_nodes)\n"
      ]
    },
    {
      "cell_type": "markdown",
      "metadata": {
        "id": "rm60-1mFGNc4"
      },
      "source": [
        "<details>\n",
        "<summary> 💻 <b>Q:</b> In our setup, a single batch represents a list of `batch_size` graphs (trajectories). However, when extracting a batch using the Pytorch Geometric `DataLoader`, the output - `batch_graph` - is a single graph (stored in a `Data` object). Why do you think this is the case? </summary>\n",
        "\n",
        " **A:** The way mini-batching works in Graph Neural Networks is by creating a big, sparse graph by concatenating `batch_size` disconnected graphs. For more information please take a look at the next section 😉.\n",
        "</details>\n"
      ]
    },
    {
      "cell_type": "markdown",
      "metadata": {
        "id": "X8vFqSeKESmq"
      },
      "source": [
        "## 🔆 Optional: Graph mini-batching"
      ]
    },
    {
      "cell_type": "markdown",
      "metadata": {
        "id": "uOkvo5p4HjOn"
      },
      "source": [
        "Since we wish to process several graphs at once, we need to store them in batches, to make the computation as efficient as possible. In some cases, creating batches is easy. For example, 32×32 images are straightforward to batch because they have the same width and height - resulting in a tensor of dimension  $\\textit{batch_size}~\\times~32~\\times~32$). On the other hand, graphs have different numbers of nodes, which yields adjacency matrices with different shapes."
      ]
    },
    {
      "cell_type": "markdown",
      "metadata": {
        "id": "zRQky5jkIvef"
      },
      "source": [
        "One solution for this is to create a single sparse graph as the union of all the graphs in the mini-batch as follow:\n",
        "\n",
        "1. stack the features  𝑥  for all the nodes in all the graphs;\n",
        "\n",
        "2. stack the labels  𝑦  for all the nodes in all the graphs\n",
        "\n",
        "3. stack all the adjacency matrices  𝐴𝑖  as diagonal blocks in the new adjacency matrix;\n",
        "\n",
        "This way, we will obtain a new graph containing  $\\sum_{b=1}^{B}|V_i|$  nodes, where $B$  is the batch_size and by  $|V_i|$  we denote the number of nodes in graph $i$ . Note that since no edges connect nodes from different graphs, the information propagation will not be affected by the way we store it."
      ]
    },
    {
      "cell_type": "markdown",
      "metadata": {
        "id": "bZG7zjAQKOW4"
      },
      "source": [
        "<center>\n",
        "<img src=\"https://drive.google.com/uc?export=view&id=1RwI0CYA57S0OgLxgHgV6PBFNG9tnGvGR\" width=\"500\">\n",
        "</center>\n",
        "\n",
        "<center>\n",
        "<img src=\"https://drive.google.com/uc?export=view&id=1Ux65wTJLXCfJ4TI4Up4mCHkaSja8NgrJ\" width=\"500\">\n",
        "</center>\n"
      ]
    },
    {
      "cell_type": "markdown",
      "metadata": {
        "id": "-ecWWMnLKQRg"
      },
      "source": [
        "As you can see, the resulting matrix contains many zeros (sparse), thus storing the adjacency matrix as a sparse tensor can significantly improve the efficiency."
      ]
    },
    {
      "cell_type": "markdown",
      "metadata": {
        "id": "2ctcEgLVKUnM"
      },
      "source": [
        "Until now, we have a way to store the graphs in a mini-batch such that they could be efficiently processed. \n",
        "\n",
        "However, we need to also be able to extract information from this structure, to recover the graphs that it contains. For this, we need to remember what initial graph each node belongs to.\n",
        "\n",
        "We will do this by storing a list of indices `(self.batch)`, which map each node in the batch-graph to the initial graph it belong to. For example `batch=[0,0,0,1,1,2,2,2]` indicates that first 3 nodes belong to $G_0$, the next 2 nodes belong to $G_1$ and the last 3 nodes belong to $G_2$.\n",
        "\n",
        "> ⚠️ Luckily all of these are already implemented in Dataset class, so we don't have to implement it from scratch. Let have a look!"
      ]
    },
    {
      "cell_type": "code",
      "execution_count": null,
      "metadata": {
        "id": "IZ_IIbvJKjSE"
      },
      "outputs": [],
      "source": [
        "# Show statistics about the new graph built from this batch of graphs.\n",
        "_, batch_graph = next(enumerate(train_loader))\n",
        "\n",
        "print(f\"Batch number_of_nodes: {batch_graph.num_nodes}\")\n",
        "print(f\"Batch features shape: {batch_graph.x.shape}\")\n",
        "print(f\"Batch labels shape: {batch_graph.y.shape}\")\n",
        "\n",
        "print(f\"Batch indices for reconstruction: {batch_graph.batch.numpy()}\")"
      ]
    },
    {
      "cell_type": "markdown",
      "metadata": {
        "id": "TlBFFUXKyZHW"
      },
      "source": [
        "# 👶🏻 Part 3: Coding our first GNN - a Graph Convolutional Network!"
      ]
    },
    {
      "cell_type": "markdown",
      "metadata": {
        "id": "mAXvfoQhT095"
      },
      "source": [
        "In order to process the information about particle trajectories, we need a model that can understand and process graph-like inputs. There are multiple flavours of Graph Neural Networks in the literature. We will start with one of the simplest ones: the [Graph Convolutional Network](https://arxiv.org/abs/1609.02907)(GCN)."
      ]
    },
    {
      "cell_type": "markdown",
      "metadata": {
        "id": "GmVKm-AoVCDU"
      },
      "source": [
        "A GCN layer implements the following update rule:\n",
        "\n",
        "$\\mathbf{X_{k+1}} = MLP_k \\big( \\mathbf{\\tilde{D}}^{-\\frac{1}{2}} \\mathbf{\\tilde{A}} \\mathbf{\\tilde{D}}^{-\\frac{1}{2}} \\mathbf{X_k} \\big)$,\n",
        "\n",
        "where $\\mathbf{A}$ is the adjacency matrix, $\\mathbf{\\tilde{A}} = \\mathbf{A} + \\mathbf{I}$ and $\\mathbf{\\tilde{D}}$ is the degree matrix of $\\mathbf{\\tilde{A}}$.\n",
        "\n",
        "Under the hood, this means that:\n",
        "* messages sent by all _incoming_ neighbours are aggregated by averaging\n",
        "* an MLP projection is then applied.\n",
        "\n",
        "The degree matrix $\\mathbf{\\tilde{D}}$ is used to normalised the adjacency matrix, which helps keep the computation more stable."
      ]
    },
    {
      "cell_type": "code",
      "execution_count": null,
      "metadata": {
        "id": "sVmlNit_ucjl"
      },
      "outputs": [],
      "source": [
        "def get_adjacency_matrix(edge_index, num_nodes):\n",
        "    \"\"\" Creates an n_nodes x n_nodes adjacency matrix from the adjacency list.\n",
        "\n",
        "    Args:\n",
        "      edge_index: 2 x n_edges tensor containing the adjacency list\n",
        "      num_nodes: number of nodes\n",
        "    Return:\n",
        "      a_tilde: n_nodes x n_nodes tensor representing the adj matrix + self-loops\n",
        "    \"\"\"\n",
        "    eye_matrix = torch.eye(num_nodes).to(DEVICE)\n",
        "    a_tilde = torch.sparse.LongTensor(edge_index, \n",
        "                          # The A matrix is binary, where 1 indicates an edge.\n",
        "                          torch.ones((edge_index.shape[1])).to(DEVICE), \n",
        "                          torch.Size((num_nodes, num_nodes))\n",
        "                          ).to_dense() + eye_matrix\n",
        "    return a_tilde"
      ]
    },
    {
      "cell_type": "code",
      "execution_count": null,
      "metadata": {
        "id": "lRpd0QW6Xjis"
      },
      "outputs": [],
      "source": [
        "import torch\n",
        "import torch.nn as nn\n",
        "import torch.nn.functional as F\n",
        "\n",
        "class GCNLayer(nn.Module):\n",
        "    \"\"\"A simple GCN layer implementing the MLP(AX) update rule.\"\"\"\n",
        "\n",
        "    def __init__(self, in_feats: int, out_feats: int, hidden_dim: int):\n",
        "        super(GCNLayer, self).__init__()\n",
        "        self.in_feats = in_feats\n",
        "        self.out_feats = out_feats\n",
        "    \n",
        "        self.linear1 = nn.Linear(self.in_feats, hidden_dim)\n",
        "        self.linear2 = nn.Linear(hidden_dim, self.out_feats)\n",
        "\n",
        "    def forward(self, x, adj_matrix): \n",
        "        \"\"\" \n",
        "          x: n_timesteps x n_nodes x in_feats (feats for one mini-batch graph)\n",
        "          adj_matrix: n_nodes x n_nodes (adj for one mini-batch graph)\n",
        "        \n",
        "          out: n_timesteps x n_nodes x out_feats\n",
        "        \"\"\"\n",
        "\n",
        "        # TASK: aggregate neighbouring messages: D^{-1/2}AD^{-1/2}X\n",
        "        #  ============ YOUR CODE HERE  ============\n",
        "        # x = ...\n",
        "        # ==========================================\n",
        "\n",
        "        # TASK: update the node features using a 2-layer MLP: (MLP_k(X))\n",
        "        #  ============ YOUR CODE HERE  ============\n",
        "        # out = ...\n",
        "        # ==========================================\n",
        "        return out"
      ]
    },
    {
      "cell_type": "markdown",
      "metadata": {
        "id": "TSao_EELept5"
      },
      "source": [
        "Let's create a Neural Network that uses GCN Layers, in order to predict the change in position $\\Delta x$:"
      ]
    },
    {
      "cell_type": "code",
      "execution_count": null,
      "metadata": {
        "id": "IzhEEFjqXkp1"
      },
      "outputs": [],
      "source": [
        "from torch.nn.modules.linear import Linear\n",
        "class SimpleGCN(nn.Module):\n",
        "    \"\"\" Simple GCN network containing num_layers GCN layers. \"\"\"\n",
        "    def __init__(self, input_dim, output_dim, hidden_dim, num_layers=2, adj_type=\"gt\"):\n",
        "        super(SimpleGCN, self).__init__()\n",
        "        # Selects between ground-truth(`gt`) or fully-connected (`fully_graph`)\n",
        "        # node connectivity.\n",
        "        self.adj_type = adj_type\n",
        "        assert adj_type in ['gt', 'fully_graph']\n",
        "        \n",
        "        self.num_layers = num_layers \n",
        "        assert self.num_layers >= 2\n",
        "\n",
        "        # Projects the spatial coordinates (x,y) into a larger space.\n",
        "        self.embed_x = Linear(input_dim, hidden_dim)\n",
        "\n",
        "        # TASK: instantiate (num_layers) GCNLayer(s), each with different parameters\n",
        "        #  ============ YOUR CODE HERE  ============\n",
        "        # self.layers = [...]\n",
        "        # ==========================================\n",
        "        self.layers = nn.ModuleList(self.layers)\n",
        "\n",
        "    def forward(self, input, adj_matrix):\n",
        "        # x: n_timesteps x n_nodes x input_dim\n",
        "        x = self.embed_x(input)\n",
        "\n",
        "        for i in range(self.num_layers-1):\n",
        "          x = self.layers[i](x, adj_matrix)\n",
        "          x = F.relu(x)\n",
        "        x = self.layers[-1](x, adj_matrix)\n",
        "        \n",
        "        # We are predictring the shift in position dx, not the future position.\n",
        "        # To obtain the next prediction, we add the input position.\n",
        "        out = input + x\n",
        "\n",
        "        # out: n_timesteps x n_nodes x output_dim\n",
        "        return out"
      ]
    },
    {
      "cell_type": "markdown",
      "metadata": {
        "id": "zsu8n9pTrxe9"
      },
      "source": [
        "⚠️ Note that, since we are interested in solving a **node-level** classification problem, obtaining a prediction for each node is enough. For a **graph-level** classification task, an additional operation which aggregates the information from the entire graph (such as max or mean pooling) would have been necessary."
      ]
    },
    {
      "cell_type": "markdown",
      "metadata": {
        "id": "iSwRxIJtycxt"
      },
      "source": [
        "## 🛠 Training the network for dynamic prediction\n"
      ]
    },
    {
      "cell_type": "code",
      "execution_count": null,
      "metadata": {
        "id": "RSRUGffZ6Q2h"
      },
      "outputs": [],
      "source": [
        "INPUT_DIM = 2\n",
        "OUTPUT_DIM = 2\n",
        "TIMESTEPS = 48"
      ]
    },
    {
      "cell_type": "markdown",
      "metadata": {
        "id": "wZpxAKkrfft5"
      },
      "source": [
        "In the physics simulations used to generate our dataset, we assume that the dynamics is Markovian, meaning that we can predict the next step base solely on the last observation. \n",
        "\n",
        "During training, we will thus optimise the network to predict the node features at timestep $t+1$, given the features from timestep $t$. We achieve this by considering `input[0:t]` as input and `input[1:t+1]` as target (see `forward_step_teacher_forcing `function). "
      ]
    },
    {
      "cell_type": "code",
      "execution_count": null,
      "metadata": {
        "id": "0161flTJjsRr"
      },
      "outputs": [],
      "source": [
        "def forward_step_teacher_forcing(batch, model):\n",
        "    \"\"\" One feed-forward step with teacher-forcing (used during TRAINING).\n",
        "\n",
        "    During training, we use a teacher-forcing approach: at each time step t, we\n",
        "    feed as input the real position from the previous timestep t-1.\n",
        "\n",
        "    Output: (pred, target) tuple.\n",
        "    \"\"\"\n",
        "    if model.adj_type == 'gt':\n",
        "        # TASK: create an adjacency matrix from the ground-truth connectivity\n",
        "        # Hint: the ground truth graph is stored in `batch.edge_index` and \n",
        "        # you can use the already-implemented `get_adjacency_matrix()`.\n",
        "        #  ============ YOUR CODE HERE  ============\n",
        "        # adj_matrix = ..\n",
        "        # ==========================================\n",
        "    elif model.adj_type == 'fully_graph':\n",
        "        # TASK: create an adjacency matrix for the fully-connected graph \n",
        "        #  ============ YOUR CODE HERE  ============\n",
        "        # adj_matrix = ..\n",
        "        # ==========================================\n",
        "\n",
        "    # Separate the timesteps dimension:\n",
        "    # n_nodes x (dim * n_timesteps) ->  n_nodes x dim x n_timesteps\n",
        "    feats = batch.x.reshape(batch.x.shape[0], INPUT_DIM, -1)\n",
        "    feats = torch.permute(feats, [2,0,1])\n",
        "\n",
        "    # Run the forward pass for GNN.\n",
        "    \n",
        "    # y_hat: n_timesteps x n_nodes x output_dim\n",
        "    y_hat  = model(feats, adj_matrix)\n",
        "    # y_hat: n_nodes x output_dim x n_timesteps\n",
        "    y_hat = y_hat.permute((1,2,0))\n",
        "    return y_hat, batch.y"
      ]
    },
    {
      "cell_type": "markdown",
      "metadata": {
        "id": "PRS4veUmjvrx"
      },
      "source": [
        "For the evaluation, we only have access to the initial part of the trajectory. So we will evaluate the model step by step, by feeding as input for timestep $t$ the prediction obtained at timestep $t-1$, instead of the ground-truth position. (see `forward_step_pred` function)"
      ]
    },
    {
      "cell_type": "code",
      "execution_count": null,
      "metadata": {
        "id": "2focevEqoQxW"
      },
      "outputs": [],
      "source": [
        "def forward_step_pred(batch, model, timesteps=TIMESTEPS):\n",
        "    \"\"\" One feed-forward step using previous predictions as input (EVAL only),\n",
        "    \n",
        "    Run for the first `timesteps` positions in the input.\n",
        "\n",
        "    Output: (pred, target) tuple.\n",
        "    \"\"\"\n",
        "    if model.adj_type == 'gt':\n",
        "        # TASK: create an adjacency matrix from the ground-truth connectivity\n",
        "        # Hint: the ground truth graph is stored in `batch.edge_index` and \n",
        "        # you can use the already-implemented `get_adjacency_matrix()`.\n",
        "        #  ============ YOUR CODE HERE  ============\n",
        "        # adj_matrix = ..\n",
        "        # ==========================================\n",
        "    elif model.adj_type == 'fully_graph':\n",
        "        # TASK: create an adjacency matrix for the fully-connected graph\n",
        "        #  ============ YOUR CODE HERE  ============\n",
        "        # adj_matrix = ...\n",
        "        # ==========================================\n",
        "\n",
        "    # separate the timesteps dimension\n",
        "    # n_nodes x (dim * n_timesteps) ->  n_nodes x dim x n_timesteps\n",
        "    feats = batch.x.reshape(batch.x.shape[0], INPUT_DIM, -1)[:,:,0].unsqueeze(-1)\n",
        "    feats = torch.permute(feats, [2,0,1])\n",
        "\n",
        "    # Run forward for each timestep, using the previous prediction as input.\n",
        "    all_y_hat = []\n",
        "    for i in range(timesteps):\n",
        "      feats  = model(feats, adj_matrix)\n",
        "      all_y_hat.append(feats)\n",
        "    \n",
        "    all_y_hat = torch.cat(all_y_hat, 0)\n",
        "    all_y_hat = all_y_hat.permute((1,2,0))\n",
        "\n",
        "    # all_y_hat: n_nodes x output_dim x n_timesteps\n",
        "    # If the target sequence is longer, only select first `timesteps` elements.\n",
        "    return all_y_hat, batch.y[:,:,:timesteps]"
      ]
    },
    {
      "cell_type": "code",
      "execution_count": null,
      "metadata": {
        "id": "vaTj597EoWa-"
      },
      "outputs": [],
      "source": [
        "import torch.optim as optim\n",
        "\n",
        "def train_epoch(data_loader, model, optimiser, epoch, loss_fct):\n",
        "    \"\"\" Train the model for one epoch. \"\"\"\n",
        "    model.train()\n",
        "    num_iter = len(data_loader)\n",
        "\n",
        "    for i, batch in enumerate(data_loader):\n",
        "        batch = batch.to(DEVICE)\n",
        "        optimiser.zero_grad()\n",
        "        # For training, we always use teacher forcing.\n",
        "        y_hat, y = forward_step_teacher_forcing(batch, model)\n",
        "        loss = loss_fct(y_hat, y)\n",
        "        loss.backward()\n",
        "        optimiser.step()\n",
        "\n",
        "    return loss.data\n",
        "\n",
        "def eval_epoch(data_loader, model, loss_fct, forward_fct):\n",
        "    \"\"\" Evaluate the model. \"\"\"\n",
        "    model.eval()\n",
        "    num_iter = len(data_loader)\n",
        "    loss_eval = 0\n",
        "\n",
        "    for i, batch in enumerate(data_loader):\n",
        "        # For evaluation, we switch between teacher forcing for validation and\n",
        "        # using previous predictions at test-time.\n",
        "        batch = batch.to(DEVICE)\n",
        "        y_hat, y = forward_fct(batch, model)\n",
        "        loss = loss_fct(y_hat, y)\n",
        "        loss_eval += loss.data\n",
        "\n",
        "    loss_eval /= num_iter\n",
        "    return loss_eval\n",
        "\n",
        "\n",
        "\n",
        "def train_eval_loop(model, train_loader, val_loader, test_loader, \n",
        "               loss_fct, num_epochs=100, lr=0.0005):\n",
        "    \"\"\" Train/evaluate the model for `num_epochs` epochs. \"\"\"\n",
        "    # Instantiate our optimiser.\n",
        "    optimiser = optim.Adam(model.parameters(), lr=lr)\n",
        "    training_stats = None\n",
        "\n",
        "    # Initial evaluation (before training).\n",
        "    val_loss = eval_epoch(\n",
        "        val_loader, model, loss_fct, forward_step_teacher_forcing)\n",
        "    train_loss = eval_epoch(\n",
        "        train_loader, model,loss_fct, forward_step_teacher_forcing)\n",
        "\n",
        "    epoch_stats = {\n",
        "        'train_loss': train_loss.cpu(), 'val_loss': val_loss.cpu(), 'epoch': 0\n",
        "    }\n",
        "    training_stats = update_stats(training_stats, epoch_stats)\n",
        "    print(f\"[Epoch 0]\",\n",
        "          f\"train loss: {train_loss:.5f} val loss: {val_loss:.5f}\")\n",
        "    \n",
        "    for epoch in range(num_epochs):\n",
        "      train_loss  = train_epoch(\n",
        "          train_loader, model, optimiser, epoch, loss_fct)\n",
        "      val_loss = eval_epoch(\n",
        "          val_loader, model, loss_fct, forward_step_teacher_forcing)\n",
        "\n",
        "      if epoch % 10 == 0:\n",
        "        print(f\"[Epoch {epoch+1}]\",\n",
        "              f\"train loss: {train_loss:.5f} val loss: {val_loss:.5f}\")\n",
        "      # Store the loss and the computed metric for the final plot.\n",
        "      epoch_stats = {\n",
        "          'train_loss': train_loss.cpu(), 'val_loss': val_loss.cpu(), 'epoch':epoch+1\n",
        "      }\n",
        "      training_stats = update_stats(training_stats, epoch_stats)\n",
        "\n",
        "    # Only after training has finished, evaluate the model on the test set.\n",
        "    test_loss_long_term = eval_epoch(\n",
        "        test_loader, model,  loss_fct, forward_step_pred)\n",
        "    print(f\"Test metric long-term: {test_loss_long_term:.3f}\")\n",
        "    return training_stats"
      ]
    },
    {
      "cell_type": "markdown",
      "metadata": {
        "id": "J_BagNLT7l7p"
      },
      "source": [
        "## 💎 Train using the **ground-truth graph**"
      ]
    },
    {
      "cell_type": "markdown",
      "metadata": {
        "id": "stfwErgNoUoa"
      },
      "source": [
        "Let's train the model using the connectivity provided by the dataset. This model only needs to learn the way in which two connected particles influence each other."
      ]
    },
    {
      "cell_type": "code",
      "execution_count": null,
      "metadata": {
        "cellView": "form",
        "id": "6iE9BrZC9zLy"
      },
      "outputs": [],
      "source": [
        "gcn_hidden_dim = 16#@param {type:\"integer\"}\n",
        "gcn_num_layers = 2#@param {type:\"integer\"}\n",
        "LR = 0.0005#@param {type:\"number\"}"
      ]
    },
    {
      "cell_type": "code",
      "execution_count": null,
      "metadata": {
        "id": "-woaSx8QnXqK"
      },
      "outputs": [],
      "source": [
        "# Instantiate a model with ground-truth connectivity.\n",
        "\n",
        "# TASK: Instantatie a GNN with ground-truth adjacency connectivity.\n",
        "#  ============ YOUR CODE HERE  ============\n",
        "# model_gnn_gt = ...\n",
        "# ==========================================\n",
        "model_gnn_gt = model_gnn_gt.to(DEVICE)\n",
        "\n",
        "# Train the model.\n",
        "train_stats = train_eval_loop(model_gnn_gt, train_loader, valid_loader, \n",
        "                                  test_loader, loss_fct=F.mse_loss, num_epochs=20,lr=LR)\n",
        "# Visualise the training curve.\n",
        "plot_stats(train_stats, name='GNN_gt', figsize=(5, 10))"
      ]
    },
    {
      "cell_type": "markdown",
      "metadata": {
        "id": "FXEG6QztgnSW"
      },
      "source": [
        "## 🔭 Visualising predictions"
      ]
    },
    {
      "cell_type": "markdown",
      "metadata": {
        "id": "yJc-Flg3oou3"
      },
      "source": [
        "Let's visualise what the learned trajectories look like, when compared to the ground-truth ones."
      ]
    },
    {
      "cell_type": "code",
      "execution_count": null,
      "metadata": {
        "cellView": "form",
        "id": "vZP24A6kRiP3"
      },
      "outputs": [],
      "source": [
        "#@title [RUN] Helper to visualise trajectories\n",
        "def visualise_trajectory(trajectory, name=\"\"):\n",
        "    #trajectory: n_nodes x 2 x n_timesteps\n",
        "    plt.figure(figsize=(4, 4), dpi=100)\n",
        "    axes = plt.gca()\n",
        "    axes.set_xlim([-4, 4])\n",
        "    axes.set_ylim([-3, 3])\n",
        "\n",
        "    start = 0.0\n",
        "    stop = 1.0\n",
        "    number_of_lines= 10\n",
        "    cm_subsection = linspace(start, stop, number_of_lines) \n",
        "\n",
        "    colors = [ cm.Set1(x) for x in cm_subsection ]\n",
        "    for i in range(test_sample.num_nodes):\n",
        "        for t in range(num_steps):\n",
        "            plt.plot(trajectory[i, 0, t], trajectory[i, 1, t], 'o', markersize=3, color=colors[i], alpha=1 -(float(t)/trajectory.shape[-1]))\n",
        "        plt.plot(trajectory[i, 0, 0], trajectory[i, 1, 0], 'o', color=colors[i])\n",
        "    plt.title(name)"
      ]
    },
    {
      "cell_type": "code",
      "execution_count": null,
      "metadata": {
        "cellView": "form",
        "id": "CeTJxXQ0GBnh"
      },
      "outputs": [],
      "source": [
        "#@title Plot one of the trajectories\n",
        "\n",
        "example_index = 20#@param {type:\"integer\"}\n",
        "num_steps = 30#@param {type:\"integer\"}\n",
        "\n",
        "assert example_index >= 0 and example_index < len(test_dataset), \\\n",
        "    \"Need valid dataset index!\"\n",
        "\n",
        "test_sample= test_dataset[example_index].to(DEVICE)\n",
        "all_preds_tensor, _ = forward_step_pred(test_sample, model_gnn_gt, num_steps)\n",
        "all_preds = all_preds_tensor.cpu().detach().numpy()\n",
        "all_targets = test_sample.y.cpu()\n",
        "\n",
        "visualise_trajectory(all_preds, name=\"prediction\")\n",
        "visualise_trajectory(all_targets, name=\"ground-truth\")"
      ]
    },
    {
      "cell_type": "markdown",
      "metadata": {
        "id": "LYhRbJOs76q3"
      },
      "source": [
        "## ⛏ Train using the **fully-connected** graph"
      ]
    },
    {
      "cell_type": "markdown",
      "metadata": {
        "id": "LR3tXNbRo0XM"
      },
      "source": [
        "The model provided above aligned well with how the simulation is generated. However, we do not always have access to the real connectivity (i.e. we do not always know the rules that underlie the evolution of the particle system). Most of the time, we only get to observe each node _individually_ (that is, the position of the each particle along the trajectory). But without the graph structure provided, we will not be able to apply a graph neural network! The usual workaround in this case is to assume a fully-connected graph, where each pair of particles _might_ influence each other. \n",
        "\n",
        "This translates to having an adjacency matrix full of ones. Let's train such a model:"
      ]
    },
    {
      "cell_type": "code",
      "execution_count": null,
      "metadata": {
        "cellView": "form",
        "id": "N0IBYkHBiOtV"
      },
      "outputs": [],
      "source": [
        "gcn_fc_hidden_dim = 17#@param {type:\"integer\"}\n",
        "gcn_fc_num_layers = 2#@param {type:\"integer\"}\n",
        "LR = 0.0005#@param {type:\"number\"}"
      ]
    },
    {
      "cell_type": "code",
      "execution_count": null,
      "metadata": {
        "id": "bcc2TZYJytug"
      },
      "outputs": [],
      "source": [
        "# TASK: Instantiate a model with fully-connected connectivity.\n",
        "# ============ YOUR CODE HERE  ============\n",
        "# model_gnn_fully_graph =\n",
        "# =========================================\n",
        "model_gnn_fully_graph = model_gnn_fully_graph.to(DEVICE)\n",
        "\n",
        "# Train the model.\n",
        "train_stats_fully_graph = train_eval_loop(model_gnn_fully_graph, train_loader, valid_loader, \n",
        "                                  test_loader, loss_fct=F.mse_loss, num_epochs=20,lr=LR)\n",
        "\n",
        "# Visualise the training curve.\n",
        "plot_stats(train_stats_fully_graph, name='GNN_fc', figsize=(5, 10))"
      ]
    },
    {
      "cell_type": "code",
      "execution_count": null,
      "metadata": {
        "cellView": "form",
        "id": "F8tqVmOkGNqz"
      },
      "outputs": [],
      "source": [
        "#@title Plot one of the trajectories\n",
        "example_index = 2#@param {type:\"integer\"}\n",
        "num_steps = 30#@param {type:\"integer\"}\n",
        "\n",
        "assert example_index >= 0 and example_index < len(test_dataset), \\\n",
        "    \"Need valid dataset index!\"\n",
        "\n",
        "test_sample= test_dataset[example_index].to(DEVICE)\n",
        "# all_preds: num_steps x num_nodes x dim\n",
        "all_preds_tensor, _ = forward_step_pred(test_sample, model_gnn_fully_graph, num_steps)\n",
        "all_preds = all_preds_tensor.cpu().detach().numpy()\n",
        "all_targets = test_sample.y.cpu()\n",
        "\n",
        "visualise_trajectory(all_preds, name=\"prediction\")\n",
        "visualise_trajectory(all_targets, name=\"ground-truth\")"
      ]
    },
    {
      "cell_type": "markdown",
      "metadata": {
        "id": "iPALOoM4ysQY"
      },
      "source": [
        "# 💡 Part 4: Coding a Message Passing Neural Network\n"
      ]
    },
    {
      "cell_type": "markdown",
      "metadata": {
        "id": "vk6xh0FmqSk9"
      },
      "source": [
        "Until now, we trained GCN models to predict particle trajectories, based on previous observations. One way to improve on this is by using a more powerful Graph Neural Network architecture.\n",
        "\n",
        "One of the most general such architectures is the Message Passing Neural Network. This framework is based on 3 steps:\n",
        "1. for each pair of 2 connected nodes, create a **message**;\n",
        "2. for each node, **aggregate** the messages from its neighbourhood; \n",
        "3. **update** each node's representation using the corresponding aggregated messages.\n",
        "\n",
        "The steps above are summarised by the following equation:\n",
        "\n",
        "\\begin{equation}\n",
        "X_{k+1} = MLP_{upd}(\\frac{1}{n_{edges}} \\sum_j{MLP_{msg}({X_k}_i, {X_k}_j)})\n",
        "\\end{equation}\n",
        "\n",
        "\n"
      ]
    },
    {
      "cell_type": "code",
      "execution_count": null,
      "metadata": {
        "id": "4on0LuifKone"
      },
      "outputs": [],
      "source": [
        "class MPNNLayer(nn.Module):\n",
        "    \"\"\" A Message Passing Layer. \"\"\"\n",
        "    def __init__(self, in_feats: int, out_feats: int, hidden_dim: int):\n",
        "        super(MPNNLayer, self).__init__()\n",
        "        self.in_feats = in_feats\n",
        "        self.out_feats = out_feats\n",
        "    \n",
        "        # Params for the nodes->edges function.\n",
        "        self.linear1 = nn.Linear(self.in_feats, hidden_dim)\n",
        "        self.linear2 = nn.Linear(hidden_dim, hidden_dim)\n",
        "\n",
        "        # Params for the edges->nodes function.\n",
        "        self.linear3 = nn.Linear(hidden_dim, hidden_dim)\n",
        "        self.linear4 = nn.Linear(hidden_dim, self.out_feats)\n",
        "\n",
        "    def forward(self, x, adj_matrix): \n",
        "        # x: n_timesteps x n_nodes (for the whole batch) x dim\n",
        "        # adj_matrix: n_nodes x n_nodes\n",
        "        \n",
        "        adj_matrix = adj_matrix.unsqueeze(0).unsqueeze(-1)\n",
        "\n",
        "        # Create messages for each pair of connected nodes.\n",
        "        # We achieve all pairs of nodes (i,j) via broadcasting, by concatenating\n",
        "        # (n_nodes x 1 x dim) || (1 x n_nodes x dim) -> (n_nodes x n_nodes x dim)\n",
        "        feats_source = x.unsqueeze(2).tile((1,1,x.shape[1],1)) # n_timesteps x n_nodes x 1 x dim\n",
        "        feats_dest =  x.unsqueeze(1).tile((1,x.shape[1],1,1)) # n_timesteps x 1 x n_nodes x dim\n",
        "        feats_msg = torch.concat((feats_source, feats_dest), dim=-1) # n_timesteps x n_nodes x n_nodes x 2*dim\n",
        "\n",
        "        # TASK: update the messages for each pair of nodes using a 2 layer MLP\n",
        "        #  ============ YOUR CODE HERE  ============\n",
        "        # feats_msg = ..\n",
        "        #  =========================================\n",
        "\n",
        "        # To take into account the provided connectivity, mask the resulting\n",
        "        # tensor with the adjacency matrix.\n",
        "        feats_msg = feats_msg * adj_matrix  # n_timesteps x n_nodes x n_nodes x 2*dim \n",
        "\n",
        "        # Aggregate incoming messages via average pooling.\n",
        "        feats_node = feats_msg.sum(axis=1) \n",
        "        feats_node = feats_node / adj_matrix.sum(1)\n",
        "\n",
        "        # TASK: Update the node representation using a 2 layers MLP.\n",
        "        #  ============ YOUR CODE HERE  ============\n",
        "        # feats_node = ..\n",
        "        feats_node = F.relu(self.linear3(feats_node))\n",
        "        feats_node = self.linear4(feats_node)\n",
        "        #  =========================================\n",
        "\n",
        "        return feats_node"
      ]
    },
    {
      "cell_type": "markdown",
      "metadata": {
        "id": "iat9OUTDs-fL"
      },
      "source": [
        "Let's create a Neural Network that uses MPNN Layers, in order to predict the change in position  Δ𝑥 :"
      ]
    },
    {
      "cell_type": "code",
      "execution_count": null,
      "metadata": {
        "id": "DTyt0fTHQCgn"
      },
      "outputs": [],
      "source": [
        "class SimpleMPNN(nn.Module):\n",
        "    \"\"\" Simple MPNN network containing num_layers MPNN layers. \"\"\"\n",
        "    def __init__(self, input_dim, output_dim, hidden_dim, num_layers=2, adj_type=\"gt\"):\n",
        "        super(SimpleMPNN, self).__init__()\n",
        "        # Selects between ground-truth(gt) or fully-connected (fully_graph) node\n",
        "        # connectivity.\n",
        "        self.adj_type = adj_type\n",
        "        assert adj_type in ['gt', 'fully_graph', '?']\n",
        "        \n",
        "        # NOTE: please select num_layers >= 2!\n",
        "        self.num_layers = num_layers \n",
        "\n",
        "        # Project the spatial coordinates (x,y) into a larger space .\n",
        "        self.embed_x = Linear(input_dim, hidden_dim)\n",
        "\n",
        "        # TASK: instantiate `num_layers` MPNNLayer(s), each having a different set of parameters\n",
        "        # ============ YOUR CODE HERE  ============\n",
        "        # self.layers = nn.ModuleList(...)\n",
        "        # =========================================\n",
        "\n",
        "    def forward(self, input, adj_matrix):\n",
        "        # x: n_timesteps x n_nodes x dim\n",
        "        x = self.embed_x(input)\n",
        "\n",
        "        for i in range(self.num_layers-1):\n",
        "          x = self.layers[i](x, adj_matrix)\n",
        "          x = F.relu(x)\n",
        "        x = self.layers[-1](x, adj_matrix)\n",
        "        \n",
        "        # We are predicting the shift dx, not the future position. To obtain the\n",
        "        # next prediction, add the input position.\n",
        "        out = input + x\n",
        "\n",
        "        # out: n_timesteps x n_nodes x dim\n",
        "        return out"
      ]
    },
    {
      "cell_type": "markdown",
      "metadata": {
        "id": "rHYHwBcp8O6-"
      },
      "source": [
        "## 🛠 Train an MPNN for dynamic prediction"
      ]
    },
    {
      "cell_type": "markdown",
      "metadata": {
        "id": "IkkYwKfqtQDs"
      },
      "source": [
        "Let's train the model using the fully-connected graph. Despite our assumption about the structure, note that the MPNN is able to filter the neighbouring messages via `MLP_msg`, thus improving on the original connectivity. Unlike the MPNN, the GCN always aggregates messages from _all_ neighbours, which might lead to problems in the fully-connected setup!"
      ]
    },
    {
      "cell_type": "code",
      "execution_count": null,
      "metadata": {
        "cellView": "form",
        "id": "BWIUsQIh-T82"
      },
      "outputs": [],
      "source": [
        "mpnn_hidden_dim = 17#@param {type:\"integer\"}\n",
        "mpnn_num_layers =  2#@param {type:\"integer\"}\n",
        "LR = 0.0005#@param {type:\"number\"}"
      ]
    },
    {
      "cell_type": "code",
      "execution_count": null,
      "metadata": {
        "id": "U9sLO8y6QacW"
      },
      "outputs": [],
      "source": [
        "# TASK: Instantiate an MPNN model with fully-connected structure.\n",
        "# ============ YOUR CODE HERE  ============\n",
        "# model_mpnn_gt = \n",
        "# =========================================\n",
        "model_mpnn_gt = model_mpnn_gt.to(DEVICE)\n",
        "\n",
        "# Train the model.\n",
        "train_stats = train_eval_loop(model_mpnn_gt, train_loader, valid_loader, \n",
        "                                  test_loader, loss_fct=F.mse_loss, num_epochs=20,lr=LR)\n",
        "\n",
        "# Visualise the training curve.\n",
        "plot_stats(train_stats, name='MPNN_fc', figsize=(5, 10))"
      ]
    },
    {
      "cell_type": "markdown",
      "metadata": {
        "id": "A4bfF-B3DC7_"
      },
      "source": [
        "## 🔭 Visualise the predicted trajectories"
      ]
    },
    {
      "cell_type": "code",
      "execution_count": null,
      "metadata": {
        "cellView": "form",
        "id": "UGF7KIU5y6Tf"
      },
      "outputs": [],
      "source": [
        "#@title Plot one of the trajectories\n",
        "example_index = 2#@param {type:\"integer\"}\n",
        "num_steps = 30#@param {type:\"integer\"}\n",
        "\n",
        "assert example_index >= 0 and example_index < len(test_dataset), \\\n",
        "    \"Need valid dataset index!\"\n",
        "\n",
        "test_sample= test_dataset[example_index].to(DEVICE)\n",
        "all_preds_tensor, _ = forward_step_pred(test_sample, model_mpnn_gt, num_steps)\n",
        "all_preds = all_preds_tensor.cpu().detach().numpy()\n",
        "all_targets = test_sample.y.cpu()\n",
        "\n",
        "visualise_trajectory(all_preds, name=\"prediction\")\n",
        "visualise_trajectory(all_targets, name=\"ground-truth\")"
      ]
    },
    {
      "cell_type": "markdown",
      "metadata": {
        "id": "4EhFLeXNp6v1"
      },
      "source": [
        "# 🆒 BONUS: Predict the connectivity with an NRI-like model"
      ]
    },
    {
      "cell_type": "markdown",
      "metadata": {
        "id": "KHwvDC36vnXD"
      },
      "source": [
        "Without knowing the graph structure, assuming fully-connected interaction is a simple but _very weak_ prior. A different approach is learning to _predict_ the connectivity and use this predicted structure during graph processing. \n",
        "\n",
        "However, if the ground-truth connectivity is not available, we need to design an end-to-end differentiable graph predictor such that the graph connectivity is learned using only the final, node-level supervision.\n",
        "\n",
        "\n"
      ]
    },
    {
      "cell_type": "markdown",
      "metadata": {
        "id": "xOBHFVm_y53W"
      },
      "source": [
        "**Architecture.** One of the most popular approaches for this task is the Neural Relation Inference (NRI) model, which contains 2 parts:\n",
        "\n",
        "1) An **encoder**, to predict the graph connectivity;\n",
        "\n",
        "2) A **decoder**, which uses the connectivity predicted by the encoder to predict the trajectory (similar to the models used before)."
      ]
    },
    {
      "cell_type": "markdown",
      "metadata": {
        "id": "3iNnbKrEAja-"
      },
      "source": [
        "<center>\n",
        "<img src=\"https://drive.google.com/uc?export=view&id=1t0AKZOzv43NhfBx4gbIMPhTuO2dRuPN3\" width=\"800\">\n",
        "</center>"
      ]
    },
    {
      "cell_type": "markdown",
      "metadata": {
        "id": "Z5p7ZlNBy1yZ"
      },
      "source": [
        "For the encoder architecture we will adopt an MPNN architecture that tries to predict the graph structure based on a sequence of observations.\n",
        "\n",
        "The model receives as input a single fully-connected graph. The features for each particle / node are obtained by concatenating the features for that particle along the trajectory $x_i \\in \\mathbb{R}^{2~\\times~n_{timesteps}} $. Instead of predicting the features for each node, the encoder uses the representation of each pair of nodes to predict a score. This score, given by the equation below, is then used to _sample_ the graph structure.\n",
        "\n",
        "\\begin{equation}\n",
        "h_{i,j} = \\text{softmax}(\\text{MLP}_{edge}(h_i, h_j))\n",
        "\\end{equation}\n"
      ]
    },
    {
      "cell_type": "markdown",
      "metadata": {
        "id": "T7e1yEVzA_Ma"
      },
      "source": [
        "\n",
        "For each edge, scores obtained by the encoder are used to sample the graph structure (0/1 denoting the absence/presence of the edge). However, the classical operation of sampling from a distribution is not differentiable. To be able to backpropagate the gradient through the model, we will used [Gumble Softmax](https://en.wikipedia.org/wiki/Gumbel_distribution) as a sampler (a relaxed version of the categorical distribution):\n",
        "\n",
        "\\begin{equation}\n",
        "  g_k = \\text{Gumble}(0,1) \\\\\n",
        "  z_{i,j} = \\text{softmax}((h_{i,j} + g) / \\tau) \n",
        "\\end{equation}"
      ]
    },
    {
      "cell_type": "code",
      "execution_count": null,
      "metadata": {
        "id": "XZoQfH7quSkI"
      },
      "outputs": [],
      "source": [
        "class EdgeMPNNLayer(nn.Module):\n",
        "    \"\"\" An MPNN layer producing a representation for each edge h_{i,j}. \"\"\"\n",
        "    def __init__(self, in_feats: int, out_feats: int, hidden_dim: int):\n",
        "        super(EdgeMPNNLayer, self).__init__()\n",
        "        self.in_feats = in_feats\n",
        "        self.out_feats = out_feats\n",
        "    \n",
        "        self.linear1 = nn.Linear(self.in_feats, hidden_dim)\n",
        "        self.linear2 = nn.Linear(hidden_dim, 2) # edge or no edge\n",
        "\n",
        "    def forward(self, x, adj_matrix): \n",
        "        # x: n_nodes (for the whole batch) x dim\n",
        "        # adj_matrix: n_nodes x n_nodes\n",
        "        adj_matrix = adj_matrix.unsqueeze(-1)\n",
        "        \n",
        "        # Create messages for each pair of connected nodes\n",
        "        # we achieve all pairs of nodes (i,j) via broadcasting by concatenating\n",
        "        # (n_nodes x 1 x dim) || (1 x n_nodes x dim) -> (n_nodes x n_nodes x dim)\n",
        "        feats_source = x.unsqueeze(1).tile((1,x.shape[0],1)) # n_nodes x 1 x dim\n",
        "        feats_dest =  x.unsqueeze(0).tile((x.shape[0],1,1)) # 1 x n_nodes x dim\n",
        "        feats_msg = torch.concat((feats_source, feats_dest), dim=-1) # n_nodes x n_nodes x 2*dim\n",
        "\n",
        "        # TASK: update the messages for each pair of nodes using a 2 layer MLP\n",
        "        # ============ YOUR CODE HERE  ============\n",
        "        # feats_msg = ..\n",
        "        # =========================================\n",
        "\n",
        "        # To account for the provided connectivity, we masked the resulting\n",
        "        # tensor with the adjacency matrix. The 2 outputs (logits) correspond to\n",
        "        # probabilities of (not) having an edge between (i,j).\n",
        "\n",
        "        # By default, `adj_matrix` is a matrix full of ones.\n",
        "        feats_msg = feats_msg * adj_matrix  # n_nodes x n_nodes x 2\n",
        "\n",
        "        return feats_msg"
      ]
    },
    {
      "cell_type": "code",
      "execution_count": null,
      "metadata": {
        "id": "RdcNZpGuy6Vv"
      },
      "outputs": [],
      "source": [
        "class SimpleMPNNEncoder(nn.Module):\n",
        "    \"\"\" The MPNN Encoder predicting the graph structure. \"\"\"\n",
        "    def __init__(self, input_dim, output_dim, hidden_dim, num_layers=2):\n",
        "        super(SimpleMPNNEncoder, self).__init__()\n",
        "        \n",
        "        self.num_layers = num_layers  \n",
        "        assert self.num_layers >= 2\n",
        "\n",
        "        self.embed_x = Linear(input_dim, hidden_dim)\n",
        "\n",
        "        # TASK: instantiate `num_layers-1` MPNNLayer(s), each having a different set of parameters\n",
        "        # ============ YOUR CODE HERE  ============\n",
        "        # self.layers = ..\n",
        "        # =========================================\n",
        "\n",
        "        # TASK: The last layer is an EdgeMPNNLayer for edge-level predictions.\n",
        "        # ============ YOUR CODE HERE  ============\n",
        "        # self.layers += ..\n",
        "        # =========================================\n",
        "        self.layers = nn.ModuleList(self.layers)\n",
        "\n",
        "    def forward(self, input):\n",
        "        adj_matrix = torch.ones((input.shape[1], input.shape[1])).to(DEVICE)\n",
        "        # x: n_timesteps x n_nodes x dim ->  n_nodes x dim x n_timesteps\n",
        "        x = torch.permute(input, (1,2,0)).contiguous()\n",
        "        \n",
        "        # Merge the last 2 dimension. The graph prediction should be made based\n",
        "        # on the entire sequence.\n",
        "        x = x.view((x.shape[0],-1))\n",
        "        x = self.embed_x(x).unsqueeze(0)\n",
        "\n",
        "        for i in range(self.num_layers-1):\n",
        "          x = self.layers[i](x, adj_matrix)\n",
        "          x = F.relu(x)\n",
        "        \n",
        "        # x: 1 x n_nodes x dim\n",
        "        x = x.squeeze(0)\n",
        "        out = self.layers[-1](x, adj_matrix)\n",
        "        # out: n_nodes x n_nodes x 2\n",
        "        return out"
      ]
    },
    {
      "cell_type": "markdown",
      "metadata": {
        "id": "1g9LWRUuHqoM"
      },
      "source": [
        "We provide the code for the Gumble softmax sampling:"
      ]
    },
    {
      "cell_type": "code",
      "execution_count": null,
      "metadata": {
        "cellView": "form",
        "id": "5Ch2QSHa12Cd"
      },
      "outputs": [],
      "source": [
        "#@title [RUN] helper functions for sampling the adjacency\n",
        "\n",
        "from torch.autograd import Variable\n",
        "\n",
        "def my_softmax(input, axis=1):\n",
        "    soft_max_1d = F.softmax(input, axis)\n",
        "    return soft_max_1d \n",
        "    \n",
        "def sample_gumbel(shape, eps=1e-10):\n",
        "    \"\"\"\n",
        "    NOTE: Taken from https://github.com/pytorch/pytorch/pull/3341/commits/327fcfed4c44c62b208f750058d14d4dc1b9a9d3\n",
        "    Sample from Gumbel(0, 1)\n",
        "    based on\n",
        "    https://github.com/ericjang/gumbel-softmax/blob/3c8584924603869e90ca74ac20a6a03d99a91ef9/Categorical%20VAE.ipynb ,\n",
        "    (MIT license)\n",
        "    \"\"\"\n",
        "    U = torch.rand(shape).float()\n",
        "    gumbels = - torch.log(eps - torch.log(U + eps))\n",
        "    return gumbels\n",
        "\n",
        "\n",
        "def gumbel_softmax_sample(logits, tau=1, eps=1e-10):\n",
        "    \"\"\"\n",
        "    NOTE: Taken from https://github.com/pytorch/pytorch/pull/3341/commits/327fcfed4c44c62b208f750058d14d4dc1b9a9d3\n",
        "    Draw a sample from the Gumbel-Softmax distribution\n",
        "    based on\n",
        "    https://github.com/ericjang/gumbel-softmax/blob/3c8584924603869e90ca74ac20a6a03d99a91ef9/Categorical%20VAE.ipynb\n",
        "    (MIT license)\n",
        "    \"\"\"\n",
        "    gumbel_noise = sample_gumbel(logits.size(), eps=eps)\n",
        "    y = logits + Variable(gumbel_noise).to(DEVICE)\n",
        "    return my_softmax(y / tau, axis=-1)\n",
        "\n",
        "\n",
        "def gumbel_softmax(logits, tau=1, hard=False, eps=1e-10):\n",
        "    \"\"\"\n",
        "    NOTE: Taken from https://github.com/pytorch/pytorch/pull/3341/commits/327fcfed4c44c62b208f750058d14d4dc1b9a9d3\n",
        "    Sample from the Gumbel-Softmax distribution and optionally discretize.\n",
        "    Args:\n",
        "      logits: [batch_size, n_class] unnormalized log-probs\n",
        "      logits: [num_timesteps, n_nodes, n_nodes, 2] unnormalized log-probs\n",
        "      tau: non-negative scalar temperature\n",
        "      hard: if True, take argmax, but differentiate w.r.t. soft sample y\n",
        "    Returns:\n",
        "      [batch_size, n_class] sample from the Gumbel-Softmax distribution.\n",
        "      If hard=True, then the returned sample will be one-hot, otherwise it will\n",
        "      be a probability distribution that sums to 1 across classes\n",
        "    Constraints:\n",
        "    - this implementation only works on batch_size x num_features tensor for now\n",
        "    based on\n",
        "    https://github.com/ericjang/gumbel-softmax/blob/3c8584924603869e90ca74ac20a6a03d99a91ef9/Categorical%20VAE.ipynb ,\n",
        "    (MIT license)\n",
        "    \"\"\"\n",
        "    y_soft = gumbel_softmax_sample(logits, tau=tau, eps=eps)\n",
        "    if hard:\n",
        "        shape = logits.size()\n",
        "        _, k = y_soft.data.max(-1)\n",
        "        # this bit is based on\n",
        "        # https://discuss.pytorch.org/t/stop-gradients-for-st-gumbel-softmax/530/5\n",
        "        y_hard = torch.zeros(*shape).to(DEVICE)\n",
        "        y_hard = y_hard.zero_().scatter_(-1, k.view(shape[:-1] + (1,)), 1.0).to(DEVICE)\n",
        "        # this cool bit of code achieves two things:\n",
        "        # - makes the output value exactly one-hot (since we add then\n",
        "        #   subtract y_soft value)\n",
        "        # - makes the gradient equal to y_soft gradient (since we strip\n",
        "        #   all other gradients)\n",
        "        y = Variable(y_hard - y_soft.data).to(DEVICE) + y_soft\n",
        "    else:\n",
        "        y = y_soft\n",
        "    return y\n"
      ]
    },
    {
      "cell_type": "markdown",
      "metadata": {
        "id": "Bz8ZsZQaHvIy"
      },
      "source": [
        "Let's use the encoder-decoder architecture to predict the trajectories. We will modify the forward pass such that it first predicts the adjacency matrix and then uses it to indicate the connectivity, instead of what `adj_type` suggests.\n",
        "\n",
        "**Training procedure.** Following the approach used in the original paper, during *training*, both the encoder and the decoder receive as input the entire trajectory. For the final *evaluation* to be applicable in practice, the encoder receives only the first half of the trajectory, while the decoder predicts the other half."
      ]
    },
    {
      "cell_type": "code",
      "execution_count": null,
      "metadata": {
        "id": "xyZSITA2y6Xr"
      },
      "outputs": [],
      "source": [
        "import torch.optim as optim\n",
        "\n",
        "def forward_step_teacher_forcing_nri(batch, model_adj, model):\n",
        "    \"\"\" One feed-forward step using teacher-forcing (TRAIN only).\n",
        "\n",
        "    During training, we use a teacher-forcing approach, where at each time step\n",
        "    t, we feed as input the real position from the previous timestep t-1.\n",
        "\n",
        "    The model is an encoder-decoder architecture: \n",
        "    - first, the encoder predicts the structure probabilities;\n",
        "    - then, the Gumbel Softmax is used to sample the structure;\n",
        "    - finally, the predicted structure is used to predict the trajectory.\n",
        "\n",
        "    Output: (pred, target) tuple.\n",
        "    \"\"\"\n",
        "\n",
        "    # During training, the encoder receives the whole trajectory.\n",
        "    feats = batch.x.reshape(batch.x.shape[0], INPUT_DIM, -1)\n",
        "    feats = torch.permute(feats, [2,0,1])\n",
        "\n",
        "    # Encoder: predict the graph structure.\n",
        "    adj_matrix = model_adj(feats) #n_nodes x n_nodes x 2\n",
        "    adj_matrix = gumbel_softmax(adj_matrix, tau=1, hard=True)\n",
        "    # Since we only have one type of edge, we can do this.\n",
        "    adj_matrix = adj_matrix[:,:,0] + torch.eye(batch.num_nodes).to(DEVICE) #n_nodes x n_nodes\n",
        "\n",
        "    # Decoder: uses the predicted structure to predict the trajectory.\n",
        "    y_hat  = model(feats, adj_matrix)\n",
        "    y_hat = y_hat.permute((1,2,0))\n",
        "    return y_hat, batch.y\n",
        "\n",
        "def forward_step_pred_nri(batch, model_adj, model, timesteps=TIMESTEPS):\n",
        "    \"\"\" One feed-forward step using previous predictions as inputs (EVAL only);\n",
        "   `run for the first `timesteps` position in the input.\n",
        "\n",
        "    During training, we use a teacher-forcing approach, where at each time step\n",
        "    t, we feed as input the real position from the previous timestep t-1.\n",
        "\n",
        "    The model is an encoder-decoder architecture: \n",
        "    - first, the encoder predicts the structure probabilities;\n",
        "    - then, the Gumbel Softmax is used to sample the structure;\n",
        "    - finally, the predicted structure is used to predict the trajectory.\n",
        "\n",
        "    Output: (pred, target) tuple.\n",
        "    \"\"\"\n",
        "\n",
        "    feats = batch.x.reshape(batch.x.shape[0], INPUT_DIM, -1)\n",
        "    # feats: n_nodes x dim x n_timesteps\n",
        "    assert(feats.shape[-1] >= 2*timesteps)\n",
        "\n",
        "    # During testing, the encoder receives the first half of the trajectory.\n",
        "    feats_enc = feats[:,:,:timesteps]\n",
        "    # The decoder predicts the second half of the trajectory.\n",
        "    feats_dec = feats[:,:,-timesteps:]\n",
        "  \n",
        "    feats_enc = torch.permute(feats_enc, [2,0,1])\n",
        "    feats_dec = torch.permute(feats_dec, [2,0,1])[0,:,:].unsqueeze(0)\n",
        "    \n",
        "    # Encoder: predict the graph structure.\n",
        "    adj_matrix = model_adj(feats_enc)\n",
        "    adj_matrix = gumbel_softmax(adj_matrix, tau=1, hard=True)\n",
        "    # Since we only have one type of edge, we can extract the probability of\n",
        "    # existence from the first position.\n",
        "    adj_matrix = adj_matrix[:,:,0] + torch.eye(batch.num_nodes).to(DEVICE)\n",
        "\n",
        "    # Decoder: uses the predicted structure to predict the trajectory.\n",
        "    all_y_hat = []\n",
        "    for i in range(timesteps):\n",
        "      feats_dec  = model(feats_dec, adj_matrix)\n",
        "      all_y_hat.append(feats_dec)\n",
        "    \n",
        "    all_y_hat = torch.cat(all_y_hat, 0)\n",
        "    all_y_hat = all_y_hat.permute((1,2,0))\n",
        "\n",
        "    # n_nodes x dim x n_timesteps\n",
        "    return all_y_hat, batch.y[:,:,-timesteps:]\n",
        "\n",
        "def train_epoch_nri(data_loader, model_adj, model, optimiser, epoch, loss_fct):\n",
        "    \"\"\" Train the model for one epoch. \"\"\"\n",
        "    model.train()\n",
        "    num_iter = len(data_loader)\n",
        "\n",
        "    for i, batch in enumerate(data_loader):\n",
        "        batch = batch.to(DEVICE)\n",
        "        optimiser.zero_grad()\n",
        "        # For training, we are always using teacher forcing.\n",
        "        y_hat,y = forward_step_teacher_forcing_nri(batch, model_adj, model)\n",
        "        loss = loss_fct(y_hat, y)\n",
        "        loss.backward()\n",
        "        optimiser.step()\n",
        "\n",
        "    return loss.data\n",
        "\n",
        "def eval_epoch_nri(data_loader, model_adj, model, loss_fct, forward_fct):\n",
        "    \"\"\" Evaluate the model on the dataset. \"\"\"\n",
        "    model.eval()\n",
        "    num_iter = len(data_loader)\n",
        "    loss_eval = 0\n",
        "\n",
        "    for i, batch in enumerate(data_loader):\n",
        "        # For evaluation, we can switch between using the gt (teacher forcing)\n",
        "        # or the prediction as an input to the next state.\n",
        "        batch = batch.to(DEVICE)\n",
        "        y_hat,y = forward_fct(batch, model_adj, model)\n",
        "        loss = loss_fct(y_hat, y)\n",
        "        loss_eval += loss.data\n",
        "\n",
        "    loss_eval /= num_iter\n",
        "    return loss_eval\n",
        "\n",
        "def train_eval_loop_nri(model_adj, model, train_loader, val_loader, test_loader, \n",
        "               loss_fct, num_epochs=100,lr=0.0005):\n",
        "    \"\"\" Train the model for num_epochs epochs. \"\"\"\n",
        "    # Instantiatie our optimiser.\n",
        "    optimiser = optim.Adam(\n",
        "        list(model.parameters()) + list(model_adj.parameters()), lr=lr)\n",
        "    training_stats = None\n",
        "\n",
        "    # Initial evaluation (before training).\n",
        "    val_loss = eval_epoch_nri(val_loader,\n",
        "                              model_adj,\n",
        "                              model,\n",
        "                              loss_fct,\n",
        "                              forward_step_teacher_forcing_nri)\n",
        "    train_loss = eval_epoch_nri(train_loader,\n",
        "                                model_adj,\n",
        "                                model,\n",
        "                                loss_fct,\n",
        "                                forward_step_teacher_forcing_nri)\n",
        "\n",
        "    \n",
        "    epoch_stats = {\n",
        "        'train_loss': train_loss.cpu(), 'val_loss': val_loss.cpu(), 'epoch': 0\n",
        "    }\n",
        "    training_stats = update_stats(training_stats, epoch_stats)\n",
        "    print(f\"[Epoch 0]\",\n",
        "          f\"train loss: {train_loss:.5f} val loss: {val_loss:.5f}\")\n",
        "\n",
        "    for epoch in range(num_epochs):\n",
        "        train_loss  = train_epoch_nri(train_loader,\n",
        "                                      model_adj,\n",
        "                                      model,\n",
        "                                      optimiser,\n",
        "                                      epoch, \n",
        "                                      loss_fct)\n",
        "        \n",
        "        val_loss = eval_epoch_nri(val_loader,\n",
        "                                  model_adj,\n",
        "                                  model,\n",
        "                                  loss_fct,\n",
        "                                  forward_step_teacher_forcing_nri)\n",
        "\n",
        "        if epoch % 10 == 0:\n",
        "          print(f\"[Epoch {epoch+1}]\",\n",
        "                f\"train loss: {train_loss:.5f} val loss: {val_loss:.5f}\")\n",
        "        # Store the loss and the computed metric for the final plot.\n",
        "        epoch_stats = {\n",
        "            'train_loss': train_loss.cpu(), 'val_loss': val_loss.cpu(), 'epoch': epoch + 1\n",
        "        }\n",
        "        training_stats = update_stats(training_stats, epoch_stats)\n",
        "    \n",
        "    # Evaluate the model on the test split\n",
        "    test_loss_long_term = eval_epoch_nri(\n",
        "        test_loader, model_adj, model,  loss_fct, forward_step_pred_nri)\n",
        "    print(f\"Test metric long term: {test_loss_long_term:.3f}\")\n",
        "    return training_stats"
      ]
    },
    {
      "cell_type": "markdown",
      "metadata": {
        "id": "8e8pLE7R87Kr"
      },
      "source": [
        "## 🛠 Train the NRI model with simple MSE loss"
      ]
    },
    {
      "cell_type": "markdown",
      "metadata": {
        "id": "YLxj7r21y_LM"
      },
      "source": [
        "Let's train the model:"
      ]
    },
    {
      "cell_type": "code",
      "execution_count": null,
      "metadata": {
        "cellView": "form",
        "id": "ejYgYCN_-jvK"
      },
      "outputs": [],
      "source": [
        "nri_simple_hidden_dim = 16#@param {type:\"integer\"}\n",
        "nri_simple_num_layers = 2#@param {type:\"integer\"}\n",
        "LR = 0.0005#@param {type:\"number\"}"
      ]
    },
    {
      "cell_type": "code",
      "execution_count": null,
      "metadata": {
        "id": "oge3cNlsy6Z0"
      },
      "outputs": [],
      "source": [
        "# TASK: Instantiate the MPNN Decoder (same as the one used before) and the MPNN Encoder. ; `adj_type` is\n",
        "# ignored since we are using the predicted one.\n",
        "# ============ YOUR CODE HERE  ============\n",
        "# model_nri = ..\n",
        "# model_adj_nri = ..\n",
        "# ==========================================\n",
        "model_nri = model_nri.to(DEVICE)\n",
        "model_adj_nri = model_adj_nri.to(DEVICE)\n",
        "\n",
        "# Train the model.\n",
        "train_stats = train_eval_loop_nri(model_adj_nri, model_nri, train_loader, valid_loader, \n",
        "                                  test_loader, loss_fct=F.mse_loss, num_epochs=20,lr=LR)\n",
        "\n",
        "# Plot the training curve.\n",
        "plot_stats(train_stats, name='MPNN_nri', figsize=(5, 10))"
      ]
    },
    {
      "cell_type": "markdown",
      "metadata": {
        "id": "ZUr-urit9DDE"
      },
      "source": [
        "## 🔭 Visualise the trajectories"
      ]
    },
    {
      "cell_type": "code",
      "execution_count": null,
      "metadata": {
        "cellView": "form",
        "id": "B8JyaYQoy6br"
      },
      "outputs": [],
      "source": [
        "#@title Plot one of the trajectories\n",
        "example_index = 13#@param {type:\"integer\"}\n",
        "\n",
        "assert example_index >= 0 and example_index < len(test_dataset), \\\n",
        "    \"Need valid dataset index!\"\n",
        "\n",
        "test_sample= test_dataset[example_index].to(DEVICE)\n",
        "# all_preds: n_timesteps x n_nodes x dim\n",
        "all_preds_tensor, all_targets_tensor = forward_step_pred_nri(test_sample, model_adj_nri, model_nri)\n",
        "all_preds = all_preds_tensor.cpu().detach().numpy()\n",
        "\n",
        "all_targets = all_targets_tensor.cpu().detach().numpy()\n",
        "\n",
        "visualise_trajectory(all_preds, name=\"prediction\")\n",
        "visualise_trajectory(all_targets, name=\"ground-truth\")"
      ]
    },
    {
      "cell_type": "markdown",
      "metadata": {
        "id": "JtbKIq-ayes-"
      },
      "source": [
        "## 🛠 Train NRI with ELBO loss"
      ]
    },
    {
      "cell_type": "markdown",
      "metadata": {
        "id": "4yeNvoyPzJEt"
      },
      "source": [
        "**ELBO loss function.** The original NRI model formalises the training as a variational autoencoder (VAE), using ELBO as an objective:\n",
        "\n",
        "<center>\n",
        "<img src=\"https://drive.google.com/uc?export=view&id=1n7VDaebgX2EOSl_KtKYgEtjgTA7NjwTt\" width=\"500\">\n",
        "</center>\n",
        "\n",
        "The first term is a **reconstruction** term, ensuring that the prediction is accurate, while the second term is a **regularisation** term, ensuring that the distribution of the graph is close to the prior.\n",
        "\n",
        "The reconstruction term could be estimated by\n",
        "<center>\n",
        "<img src=\"https://drive.google.com/uc?export=view&id=1CJYp5sjvp2LmX33OSxlYkQfQHpJWNscs\" width=\"250\">\n",
        "</center>\n",
        "\n",
        "For an uniform prior, the second term becomes the sum of the entropies:\n",
        "\n",
        "<center>\n",
        "<img src=\"https://drive.google.com/uc?export=view&id=1_f6AKWpmrmrS88PGEjdxUZHsjzKtFT3m\" width=\"250\">\n",
        "</center>\n",
        "\n",
        "\n",
        "\n"
      ]
    },
    {
      "cell_type": "markdown",
      "metadata": {
        "id": "Aeuzc2pW0BNW"
      },
      "source": [
        "<details>\n",
        "<summary> 💻 <b>Q:</b> Try to prove that the KL loss for the uniform prior leads to the sum of entropies (plus a constant). </summary>\n",
        "\n",
        " **A:** \n",
        " \n",
        " \\begin{align}\n",
        " KL(q(z|x)||u(z)) &= \\sum_z q(z|x) log(\\frac{q(z|x)}{u(z)}) \\\\\n",
        "  &= \\sum_z q(z|x) log(q(z|x))-\\sum_z q(z|x)log({u(z)}) \\\\ \n",
        "  &=\\sum_z q(z|x) log(q(z|x))-\\sum_z q(z|x)log(\\frac{1}{2})) \\\\\n",
        "  &=\\sum_z q(z|x) log(q(z|x))+\\sum_z q(z|x)log(2) \\\\\n",
        "  &=\\sum_z q(z|x) log(q(z|x))+log(2) \\\\\n",
        "  &=-H(q(z|x))+log(2) \\\\\n",
        " \\end{align}\n",
        "\n",
        "</details>\n"
      ]
    },
    {
      "cell_type": "code",
      "execution_count": null,
      "metadata": {
        "id": "M9czFJaY4BZK"
      },
      "outputs": [],
      "source": [
        "def kl_categorical_uniform(preds, num_nodes, eps=1e-16):\n",
        "    preds = preds.view(-1, preds.shape[-1])\n",
        "    kl_div = preds * torch.log(preds + eps)\n",
        "    return kl_div.sum() / (num_nodes * preds.size(0))"
      ]
    },
    {
      "cell_type": "code",
      "execution_count": null,
      "metadata": {
        "id": "IpXxC4C3y6dq"
      },
      "outputs": [],
      "source": [
        "import torch.optim as optim\n",
        "\n",
        "def forward_step_teacher_forcing_nri_elbo(batch, model_adj, model):\n",
        "    # For training, use the whole sequence to predict the graph structure.\n",
        "    feats = batch.x.reshape(batch.x.shape[0], INPUT_DIM, -1)\n",
        "    feats = torch.permute(feats, [2,0,1])\n",
        "\n",
        "    # Encoder: predict the graph structure.\n",
        "    adj_matrix_logits = model_adj(feats) # n_nodes x n_nodes x 2\n",
        "    adj_matrix = gumbel_softmax(adj_matrix_logits, tau=1, hard=True)\n",
        "    adj_matrix_prob = my_softmax(adj_matrix_logits, -1) # n_nodes x n_nodes x 2\n",
        "\n",
        "    \n",
        "    # Since we only have one type of edge, we can extract the probability of\n",
        "    # an edge from the first position.\n",
        "    adj_matrix = adj_matrix[:,:,0]\n",
        "\n",
        "    # Decoder: uses the predicted structure to predict the trajectory.\n",
        "    y_hat  = model(feats, adj_matrix)\n",
        "    y_hat = y_hat.permute((1,2,0))\n",
        "    return y_hat, batch.y[:,:,-timesteps:], adj_matrix_prob\n",
        "\n",
        "def forward_step_pred_nri_elbo(batch, model_adj, model, timesteps=TIMESTEPS):\n",
        "    feats = batch.x.reshape(batch.x.shape[0], INPUT_DIM, -1)\n",
        "    # feats: n_nodes x dim x n_timesteps\n",
        "    assert(feats.shape[-1] >= 2*timesteps)\n",
        "\n",
        "    # For final evaluation, the encoder receives the 1st half of the trajectory.\n",
        "    feats_enc = feats[:,:,:timesteps]\n",
        "    # The decoder predicts the 2nd half of the trajectory.\n",
        "    feats_dec = feats[:,:,-timesteps:]\n",
        "    \n",
        "    feats_enc = torch.permute(feats_enc, [2,0,1]) \n",
        "    feats_dec = torch.permute(feats_dec, [2,0,1])[0,:,:].unsqueeze(0)\n",
        "    \n",
        "    # Encoder: predict the graph structure.\n",
        "    adj_matrix_logits = model_adj(feats_enc) \n",
        "    adj_matrix = gumbel_softmax(adj_matrix_logits, tau=1, hard=True)\n",
        "    adj_matrix_prob = my_softmax(adj_matrix_logits, -1) # n_nodes x n_nodes x 2\n",
        "\n",
        "    # Since we only have one type of edge, we can do this.\n",
        "    adj_matrix = adj_matrix[:,:,0]\n",
        "\n",
        "    # Decoder: use the predicted structure to predict the trajectory.\n",
        "    all_y_hat = []\n",
        "    for i in range(timesteps):\n",
        "      feats_dec  = model(feats_dec, adj_matrix)\n",
        "      all_y_hat.append(feats_dec)\n",
        "    \n",
        "    all_y_hat = torch.cat(all_y_hat, 0)\n",
        "    all_y_hat = all_y_hat.permute((1,2,0))\n",
        "\n",
        "    # n_nodes x dim x n_timesteps\n",
        "    return all_y_hat, batch.y[:,:,-timesteps:], adj_matrix_prob\n",
        "\n",
        "def train_epoch_nri_elbo(data_loader, model_adj, model, optimiser, epoch, loss_fct):\n",
        "    \"\"\" Train model for one epoch. \"\"\"\n",
        "    model.train()\n",
        "    num_iter = len(data_loader)\n",
        "\n",
        "    for i, batch in enumerate(data_loader):\n",
        "        batch = batch.to(DEVICE)\n",
        "        optimiser.zero_grad()\n",
        "        # During training we alwways use teacher forcing.\n",
        "        y_hat, y, adj_matrix_prob = forward_step_teacher_forcing_nri_elbo(batch, model_adj, model)\n",
        "        loss_rec = loss_fct(y_hat, y)\n",
        "        # TASK: compute the kl regularisation loss\n",
        "        # ============ YOUR CODE HERE  ============\n",
        "        # loss_kl = ..\n",
        "        # =========================================\n",
        "        loss = loss_rec + loss_kl\n",
        "\n",
        "        loss.backward()\n",
        "        optimiser.step()\n",
        "\n",
        "    return loss.data\n",
        "\n",
        "def eval_epoch_nri_elbo(data_loader, model_adj, model, loss_fct, forward_fct):\n",
        "    \"\"\" Evaluate model on dataset. \"\"\"\n",
        "    model.eval()\n",
        "    num_iter = len(data_loader)\n",
        "    loss_eval = 0\n",
        "\n",
        "    for i, batch in enumerate(data_loader):\n",
        "        # During evaluation we can switch between using the gt (teacher forcing)\n",
        "        # or the prediction as input for the next step.\n",
        "        batch = batch.to(DEVICE)\n",
        "        y_hat, y, _ = forward_fct(batch, model_adj, model)\n",
        "        loss = loss_fct(y_hat, y)\n",
        "        loss_eval += loss.data\n",
        "\n",
        "    loss_eval /= num_iter\n",
        "    return loss_eval\n",
        "\n",
        "def train_eval_loop_nri_elbo(model_adj, model, train_loader, val_loader, test_loader, \n",
        "               loss_fct, num_epochs=100,lr=0.0005):\n",
        "    \"\"\" Train the model for num_epochs epochs. \"\"\"\n",
        "    # Instantiate our optimiser.\n",
        "    optimiser = optim.Adam(list(model.parameters()) + list(model_adj.parameters()), lr=lr)\n",
        "    training_stats = None\n",
        "\n",
        "    # Initial evaluation (before training).\n",
        "    val_loss = eval_epoch_nri_elbo(val_loader,\n",
        "                                   model_adj,\n",
        "                                   model,\n",
        "                                   loss_fct,\n",
        "                                   forward_step_teacher_forcing_nri_elbo)\n",
        "    train_loss = eval_epoch_nri_elbo(train_loader,\n",
        "                                     model_adj,\n",
        "                                     model,\n",
        "                                     loss_fct,\n",
        "                                     forward_step_teacher_forcing_nri_elbo)\n",
        "    \n",
        "    epoch_stats = {\n",
        "        'train_loss': train_loss.cpu(), 'val_loss': val_loss.cpu(), 'epoch': 0\n",
        "    }\n",
        "    training_stats = update_stats(training_stats, epoch_stats)\n",
        "    print(f\"[Epoch 0]\",\n",
        "          f\"train loss: {train_loss:.5f} val loss: {val_loss:.5f}\")\n",
        "\n",
        "    for epoch in range(num_epochs):\n",
        "        train_loss  = train_epoch_nri_elbo(train_loader,\n",
        "                                           model_adj,\n",
        "                                           model,\n",
        "                                           optimiser,\n",
        "                                           epoch, \n",
        "                                           loss_fct)\n",
        "        \n",
        "        val_loss = eval_epoch_nri_elbo(val_loader,\n",
        "                                       model_adj,\n",
        "                                       model,\n",
        "                                       loss_fct,\n",
        "                                       forward_step_teacher_forcing_nri_elbo)\n",
        "\n",
        "        if epoch % 10 == 0:\n",
        "          print(f\"[Epoch {epoch+1}]\",\n",
        "                f\"train loss: {train_loss:.5f} val loss: {val_loss:.5f}\")\n",
        "        # store the loss and the computed metric for the final plot\n",
        "        epoch_stats = {\n",
        "            'train_loss': train_loss.cpu(), 'val_loss': val_loss.cpu(), 'epoch': epoch+1\n",
        "        }\n",
        "        training_stats = update_stats(training_stats, epoch_stats)\n",
        "    \n",
        "    test_loss_long_term = eval_epoch_nri_elbo(test_loader,\n",
        "                                              model_adj,\n",
        "                                              model,\n",
        "                                              loss_fct,\n",
        "                                              forward_step_pred_nri_elbo)\n",
        "\n",
        "    print(f\"Test metric long term: {test_loss_long_term:.3f}\")\n",
        "    return training_stats"
      ]
    },
    {
      "cell_type": "markdown",
      "metadata": {
        "id": "JEQcRDewzOhv"
      },
      "source": [
        "Let's train the model:"
      ]
    },
    {
      "cell_type": "code",
      "execution_count": null,
      "metadata": {
        "cellView": "form",
        "id": "hySgSPMk-zzO"
      },
      "outputs": [],
      "source": [
        "nri_hidden_dim = 16#@param {type:\"integer\"}\n",
        "nri_num_layers = 2#@param {type:\"integer\"}\n",
        "LR = 0.0005#@param {type:\"number\"}"
      ]
    },
    {
      "cell_type": "code",
      "execution_count": null,
      "metadata": {
        "collapsed": true,
        "id": "TBCCZ142y6fb"
      },
      "outputs": [],
      "source": [
        "# TASK: Instantiate the MPNN Decoder (same as the one used before) and the MPNN Encoder. ; `adj_type` is\n",
        "# ignored since we are using the predicted one.\n",
        "# ============ YOUR CODE HERE  ============\n",
        "# model_nri_elbo = ..\n",
        "# model_adj_nri_elbo = ..\n",
        "# ===========================================\n",
        "model_nri_elbo = model_nri_elbo.to(DEVICE)\n",
        "model_adj_nri_elbo = model_adj_nri_elbo.to(DEVICE)\n",
        "                                        \n",
        "# Train the model\n",
        "train_stats = train_eval_loop_nri_elbo(model_adj_nri_elbo,\n",
        "                                       model_nri_elbo,\n",
        "                                       train_loader,\n",
        "                                       valid_loader,\n",
        "                                       test_loader,\n",
        "                                       loss_fct=F.mse_loss,\n",
        "                                       num_epochs=20,lr=LR)\n",
        "\n",
        "# Plot the training curve\n",
        "plot_stats(train_stats, name='MPNN_nri_elbo', figsize=(5, 10))"
      ]
    },
    {
      "cell_type": "markdown",
      "metadata": {
        "id": "qRMHMvkO9Qmp"
      },
      "source": [
        "## 🔭 Visualise the trajectories"
      ]
    },
    {
      "cell_type": "code",
      "execution_count": null,
      "metadata": {
        "id": "XTVCu-bL3dDD"
      },
      "outputs": [],
      "source": [
        "#@title Plot one of the trajectories\n",
        "example_index =  2#@param {type:\"integer\"}\n",
        "num_steps =  30#@param {type:\"integer\"}\n",
        "\n",
        "assert example_index >= 0 and example_index < len(test_dataset), \\\n",
        "    \"Need valid dataset index!\"\n",
        "\n",
        "test_sample= test_dataset[example_index].to(DEVICE)\n",
        "all_preds_tensor, all_targets_tensor, _ = forward_step_pred_nri_elbo(test_sample, model_adj_nri_elbo, model_nri_elbo)\n",
        "all_preds = all_preds_tensor.cpu().detach().numpy()\n",
        "\n",
        "all_targets = all_targets_tensor.cpu().detach().numpy()\n",
        "\n",
        "visualise_trajectory(all_preds, name=\"prediction\")\n",
        "visualise_trajectory(all_targets, name=\"ground-truth\")"
      ]
    },
    {
      "cell_type": "markdown",
      "metadata": {
        "id": "gPApyUVuzV07"
      },
      "source": [
        "## Additional resources (this is, of course, a non-exhaustive list!)\n",
        "\n",
        "1. Chaitanya Joshi's [blog post](https://graphdeeplearning.github.io/post/transformers-are-gnns/) on the link between GNNs and Transformers (2020).\n",
        "2. Xavier Bresson's [slide deck](https://www.dropbox.com/s/u82gcg3aath39hp/GNN_applications_Jun21.pdf?dl=0) on GNN applications (2021).\n",
        "3. Michael Bronstein's [TDS post](https://towardsdatascience.com/do-we-need-deep-graph-neural-networks-be62d3ec5c59) on whether we should 'stack more layers' in GNNs."
      ]
    },
    {
      "cell_type": "markdown",
      "metadata": {
        "id": "Sy8RLgPZzbEv"
      },
      "source": [
        "## Acknowledgements"
      ]
    },
    {
      "cell_type": "markdown",
      "metadata": {
        "id": "6TA_8CGEzcyo"
      },
      "source": [
        "We would like to thank [Thomas Kipf](https://tkipf.github.io/) for discussing the structure of this tutorial and for offering feedback and access to the original NRI codebase."
      ]
    }
  ],
  "metadata": {
    "accelerator": "GPU",
    "colab": {
      "collapsed_sections": [],
      "include_colab_link": true,
      "name": "[unsolved official]  EEML Graph Nets tutorial 13/07",
      "provenance": []
    },
    "gpuClass": "standard",
    "kernelspec": {
      "display_name": "Python 3.9.12 ('gnn')",
      "language": "python",
      "name": "python3"
    },
    "language_info": {
      "codemirror_mode": {
        "name": "ipython",
        "version": 3
      },
      "file_extension": ".py",
      "mimetype": "text/x-python",
      "name": "python",
      "nbconvert_exporter": "python",
      "pygments_lexer": "ipython3",
      "version": "3.9.12"
    },
    "vscode": {
      "interpreter": {
        "hash": "9acc8092890562459a3432bab5a926199028202ccf9f42832d49d5a5cd60054a"
      }
    }
  },
  "nbformat": 4,
  "nbformat_minor": 0
}
